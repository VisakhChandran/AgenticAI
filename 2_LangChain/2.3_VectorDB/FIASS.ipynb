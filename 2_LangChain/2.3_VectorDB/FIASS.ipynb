{
 "cells": [
  {
   "cell_type": "markdown",
   "metadata": {},
   "source": [
    "VectorDB  - FIASS"
   ]
  },
  {
   "cell_type": "code",
   "execution_count": 1,
   "metadata": {},
   "outputs": [],
   "source": [
    "#Loading the environment variables \n",
    "from dotenv import load_dotenv\n",
    "load_dotenv(override=True)\n",
    "\n",
    "#Loading the variables (HuggingFace Token)\n",
    "import os \n",
    "os.environ['HF_TOKEN']=os.getenv(\"HF_TOKEN\")\n"
   ]
  },
  {
   "cell_type": "code",
   "execution_count": 2,
   "metadata": {},
   "outputs": [
    {
     "name": "stderr",
     "output_type": "stream",
     "text": [
      "c:\\Users\\emelvis\\10.VS_Code\\04_AgenticAI\\agenticenv\\Lib\\site-packages\\tqdm\\auto.py:21: TqdmWarning: IProgress not found. Please update jupyter and ipywidgets. See https://ipywidgets.readthedocs.io/en/stable/user_install.html\n",
      "  from .autonotebook import tqdm as notebook_tqdm\n"
     ]
    },
    {
     "ename": "KeyboardInterrupt",
     "evalue": "",
     "output_type": "error",
     "traceback": [
      "\u001b[31m---------------------------------------------------------------------------\u001b[39m",
      "\u001b[31mKeyboardInterrupt\u001b[39m                         Traceback (most recent call last)",
      "\u001b[36mCell\u001b[39m\u001b[36m \u001b[39m\u001b[32mIn[2]\u001b[39m\u001b[32m, line 3\u001b[39m\n\u001b[32m      1\u001b[39m \u001b[38;5;66;03m#Use Sentence Transfromer \u001b[39;00m\n\u001b[32m      2\u001b[39m \u001b[38;5;28;01mfrom\u001b[39;00m\u001b[38;5;250m \u001b[39m\u001b[34;01mlangchain_huggingface\u001b[39;00m\u001b[38;5;250m \u001b[39m\u001b[38;5;28;01mimport\u001b[39;00m HuggingFaceEmbeddings\n\u001b[32m----> \u001b[39m\u001b[32m3\u001b[39m embeddings=\u001b[43mHuggingFaceEmbeddings\u001b[49m\u001b[43m(\u001b[49m\u001b[43mmodel_name\u001b[49m\u001b[43m=\u001b[49m\u001b[33;43m\"\u001b[39;49m\u001b[33;43mall-MiniLM-L6-v2\u001b[39;49m\u001b[33;43m\"\u001b[39;49m\u001b[43m)\u001b[49m\n",
      "\u001b[36mFile \u001b[39m\u001b[32mc:\\Users\\emelvis\\10.VS_Code\\04_AgenticAI\\agenticenv\\Lib\\site-packages\\langchain_huggingface\\embeddings\\huggingface.py:66\u001b[39m, in \u001b[36mHuggingFaceEmbeddings.__init__\u001b[39m\u001b[34m(self, **kwargs)\u001b[39m\n\u001b[32m     64\u001b[39m \u001b[38;5;28msuper\u001b[39m().\u001b[34m__init__\u001b[39m(**kwargs)\n\u001b[32m     65\u001b[39m \u001b[38;5;28;01mtry\u001b[39;00m:\n\u001b[32m---> \u001b[39m\u001b[32m66\u001b[39m     \u001b[38;5;28;01mimport\u001b[39;00m\u001b[38;5;250m \u001b[39m\u001b[34;01msentence_transformers\u001b[39;00m  \u001b[38;5;66;03m# type: ignore[import]\u001b[39;00m\n\u001b[32m     67\u001b[39m \u001b[38;5;28;01mexcept\u001b[39;00m \u001b[38;5;167;01mImportError\u001b[39;00m \u001b[38;5;28;01mas\u001b[39;00m exc:\n\u001b[32m     68\u001b[39m     \u001b[38;5;28;01mraise\u001b[39;00m \u001b[38;5;167;01mImportError\u001b[39;00m(\n\u001b[32m     69\u001b[39m         \u001b[33m\"\u001b[39m\u001b[33mCould not import sentence_transformers python package. \u001b[39m\u001b[33m\"\u001b[39m\n\u001b[32m     70\u001b[39m         \u001b[33m\"\u001b[39m\u001b[33mPlease install it with `pip install sentence-transformers`.\u001b[39m\u001b[33m\"\u001b[39m\n\u001b[32m     71\u001b[39m     ) \u001b[38;5;28;01mfrom\u001b[39;00m\u001b[38;5;250m \u001b[39m\u001b[34;01mexc\u001b[39;00m\n",
      "\u001b[36mFile \u001b[39m\u001b[32mc:\\Users\\emelvis\\10.VS_Code\\04_AgenticAI\\agenticenv\\Lib\\site-packages\\sentence_transformers\\__init__.py:10\u001b[39m\n\u001b[32m      7\u001b[39m \u001b[38;5;28;01mimport\u001b[39;00m\u001b[38;5;250m \u001b[39m\u001b[34;01mos\u001b[39;00m\n\u001b[32m      8\u001b[39m \u001b[38;5;28;01mimport\u001b[39;00m\u001b[38;5;250m \u001b[39m\u001b[34;01mwarnings\u001b[39;00m\n\u001b[32m---> \u001b[39m\u001b[32m10\u001b[39m \u001b[38;5;28;01mfrom\u001b[39;00m\u001b[38;5;250m \u001b[39m\u001b[34;01msentence_transformers\u001b[39;00m\u001b[34;01m.\u001b[39;00m\u001b[34;01mbackend\u001b[39;00m\u001b[38;5;250m \u001b[39m\u001b[38;5;28;01mimport\u001b[39;00m (\n\u001b[32m     11\u001b[39m     export_dynamic_quantized_onnx_model,\n\u001b[32m     12\u001b[39m     export_optimized_onnx_model,\n\u001b[32m     13\u001b[39m     export_static_quantized_openvino_model,\n\u001b[32m     14\u001b[39m )\n\u001b[32m     15\u001b[39m \u001b[38;5;28;01mfrom\u001b[39;00m\u001b[38;5;250m \u001b[39m\u001b[34;01msentence_transformers\u001b[39;00m\u001b[34;01m.\u001b[39;00m\u001b[34;01mcross_encoder\u001b[39;00m\u001b[38;5;250m \u001b[39m\u001b[38;5;28;01mimport\u001b[39;00m (\n\u001b[32m     16\u001b[39m     CrossEncoder,\n\u001b[32m     17\u001b[39m     CrossEncoderModelCardData,\n\u001b[32m     18\u001b[39m     CrossEncoderTrainer,\n\u001b[32m     19\u001b[39m     CrossEncoderTrainingArguments,\n\u001b[32m     20\u001b[39m )\n\u001b[32m     21\u001b[39m \u001b[38;5;28;01mfrom\u001b[39;00m\u001b[38;5;250m \u001b[39m\u001b[34;01msentence_transformers\u001b[39;00m\u001b[34;01m.\u001b[39;00m\u001b[34;01mdatasets\u001b[39;00m\u001b[38;5;250m \u001b[39m\u001b[38;5;28;01mimport\u001b[39;00m ParallelSentencesDataset, SentencesDataset\n",
      "\u001b[36mFile \u001b[39m\u001b[32mc:\\Users\\emelvis\\10.VS_Code\\04_AgenticAI\\agenticenv\\Lib\\site-packages\\sentence_transformers\\backend.py:11\u001b[39m\n\u001b[32m      7\u001b[39m \u001b[38;5;28;01mfrom\u001b[39;00m\u001b[38;5;250m \u001b[39m\u001b[34;01mtyping\u001b[39;00m\u001b[38;5;250m \u001b[39m\u001b[38;5;28;01mimport\u001b[39;00m TYPE_CHECKING, Callable, Literal\n\u001b[32m      9\u001b[39m \u001b[38;5;28;01mimport\u001b[39;00m\u001b[38;5;250m \u001b[39m\u001b[34;01mhuggingface_hub\u001b[39;00m\n\u001b[32m---> \u001b[39m\u001b[32m11\u001b[39m \u001b[38;5;28;01mfrom\u001b[39;00m\u001b[38;5;250m \u001b[39m\u001b[34;01msentence_transformers\u001b[39;00m\u001b[34;01m.\u001b[39;00m\u001b[34;01mutil\u001b[39;00m\u001b[38;5;250m \u001b[39m\u001b[38;5;28;01mimport\u001b[39;00m disable_datasets_caching, is_datasets_available\n\u001b[32m     13\u001b[39m logger = logging.getLogger(\u001b[34m__name__\u001b[39m)\n\u001b[32m     15\u001b[39m \u001b[38;5;28;01mif\u001b[39;00m TYPE_CHECKING:\n",
      "\u001b[36mFile \u001b[39m\u001b[32mc:\\Users\\emelvis\\10.VS_Code\\04_AgenticAI\\agenticenv\\Lib\\site-packages\\sentence_transformers\\util.py:27\u001b[39m\n\u001b[32m     25\u001b[39m \u001b[38;5;28;01mfrom\u001b[39;00m\u001b[38;5;250m \u001b[39m\u001b[34;01mtqdm\u001b[39;00m\u001b[38;5;250m \u001b[39m\u001b[38;5;28;01mimport\u001b[39;00m trange\n\u001b[32m     26\u001b[39m \u001b[38;5;28;01mfrom\u001b[39;00m\u001b[38;5;250m \u001b[39m\u001b[34;01mtqdm\u001b[39;00m\u001b[34;01m.\u001b[39;00m\u001b[34;01mautonotebook\u001b[39;00m\u001b[38;5;250m \u001b[39m\u001b[38;5;28;01mimport\u001b[39;00m tqdm\n\u001b[32m---> \u001b[39m\u001b[32m27\u001b[39m \u001b[38;5;28;01mfrom\u001b[39;00m\u001b[38;5;250m \u001b[39m\u001b[34;01mtransformers\u001b[39;00m\u001b[38;5;250m \u001b[39m\u001b[38;5;28;01mimport\u001b[39;00m is_torch_npu_available\n\u001b[32m     29\u001b[39m logger = logging.getLogger(\u001b[34m__name__\u001b[39m)\n\u001b[32m     31\u001b[39m \u001b[38;5;28;01mif\u001b[39;00m TYPE_CHECKING:\n",
      "\u001b[36mFile \u001b[39m\u001b[32mc:\\Users\\emelvis\\10.VS_Code\\04_AgenticAI\\agenticenv\\Lib\\site-packages\\transformers\\__init__.py:1022\u001b[39m\n\u001b[32m   1018\u001b[39m \u001b[38;5;28;01mimport\u001b[39;00m\u001b[38;5;250m \u001b[39m\u001b[34;01msys\u001b[39;00m\n\u001b[32m   1020\u001b[39m _import_structure = {k: \u001b[38;5;28mset\u001b[39m(v) \u001b[38;5;28;01mfor\u001b[39;00m k, v \u001b[38;5;129;01min\u001b[39;00m _import_structure.items()}\n\u001b[32m-> \u001b[39m\u001b[32m1022\u001b[39m import_structure = \u001b[43mdefine_import_structure\u001b[49m\u001b[43m(\u001b[49m\u001b[43mPath\u001b[49m\u001b[43m(\u001b[49m\u001b[34;43m__file__\u001b[39;49m\u001b[43m)\u001b[49m\u001b[43m.\u001b[49m\u001b[43mparent\u001b[49m\u001b[43m \u001b[49m\u001b[43m/\u001b[49m\u001b[43m \u001b[49m\u001b[33;43m\"\u001b[39;49m\u001b[33;43mmodels\u001b[39;49m\u001b[33;43m\"\u001b[39;49m\u001b[43m,\u001b[49m\u001b[43m \u001b[49m\u001b[43mprefix\u001b[49m\u001b[43m=\u001b[49m\u001b[33;43m\"\u001b[39;49m\u001b[33;43mmodels\u001b[39;49m\u001b[33;43m\"\u001b[39;49m\u001b[43m)\u001b[49m\n\u001b[32m   1023\u001b[39m import_structure[\u001b[38;5;28mfrozenset\u001b[39m({})].update(_import_structure)\n\u001b[32m   1025\u001b[39m sys.modules[\u001b[34m__name__\u001b[39m] = _LazyModule(\n\u001b[32m   1026\u001b[39m     \u001b[34m__name__\u001b[39m,\n\u001b[32m   1027\u001b[39m     \u001b[38;5;28mglobals\u001b[39m()[\u001b[33m\"\u001b[39m\u001b[33m__file__\u001b[39m\u001b[33m\"\u001b[39m],\n\u001b[32m   (...)\u001b[39m\u001b[32m   1030\u001b[39m     extra_objects={\u001b[33m\"\u001b[39m\u001b[33m__version__\u001b[39m\u001b[33m\"\u001b[39m: __version__},\n\u001b[32m   1031\u001b[39m )\n",
      "\u001b[36mFile \u001b[39m\u001b[32mc:\\Users\\emelvis\\10.VS_Code\\04_AgenticAI\\agenticenv\\Lib\\site-packages\\transformers\\utils\\import_utils.py:2703\u001b[39m, in \u001b[36mdefine_import_structure\u001b[39m\u001b[34m(module_path, prefix)\u001b[39m\n\u001b[32m   2679\u001b[39m \u001b[38;5;129m@lru_cache\u001b[39m\n\u001b[32m   2680\u001b[39m \u001b[38;5;28;01mdef\u001b[39;00m\u001b[38;5;250m \u001b[39m\u001b[34mdefine_import_structure\u001b[39m(module_path: \u001b[38;5;28mstr\u001b[39m, prefix: Optional[\u001b[38;5;28mstr\u001b[39m] = \u001b[38;5;28;01mNone\u001b[39;00m) -> IMPORT_STRUCTURE_T:\n\u001b[32m   2681\u001b[39m \u001b[38;5;250m    \u001b[39m\u001b[33;03m\"\"\"\u001b[39;00m\n\u001b[32m   2682\u001b[39m \u001b[33;03m    This method takes a module_path as input and creates an import structure digestible by a _LazyModule.\u001b[39;00m\n\u001b[32m   2683\u001b[39m \n\u001b[32m   (...)\u001b[39m\u001b[32m   2701\u001b[39m \u001b[33;03m    If `prefix` is not None, it will add that prefix to all keys in the returned dict.\u001b[39;00m\n\u001b[32m   2702\u001b[39m \u001b[33;03m    \"\"\"\u001b[39;00m\n\u001b[32m-> \u001b[39m\u001b[32m2703\u001b[39m     import_structure = \u001b[43mcreate_import_structure_from_path\u001b[49m\u001b[43m(\u001b[49m\u001b[43mmodule_path\u001b[49m\u001b[43m)\u001b[49m\n\u001b[32m   2704\u001b[39m     spread_dict = spread_import_structure(import_structure)\n\u001b[32m   2706\u001b[39m     \u001b[38;5;28;01mif\u001b[39;00m prefix \u001b[38;5;129;01mis\u001b[39;00m \u001b[38;5;28;01mNone\u001b[39;00m:\n",
      "\u001b[36mFile \u001b[39m\u001b[32mc:\\Users\\emelvis\\10.VS_Code\\04_AgenticAI\\agenticenv\\Lib\\site-packages\\transformers\\utils\\import_utils.py:2416\u001b[39m, in \u001b[36mcreate_import_structure_from_path\u001b[39m\u001b[34m(module_path)\u001b[39m\n\u001b[32m   2414\u001b[39m \u001b[38;5;28;01mfor\u001b[39;00m f \u001b[38;5;129;01min\u001b[39;00m os.listdir(module_path):\n\u001b[32m   2415\u001b[39m     \u001b[38;5;28;01mif\u001b[39;00m f != \u001b[33m\"\u001b[39m\u001b[33m__pycache__\u001b[39m\u001b[33m\"\u001b[39m \u001b[38;5;129;01mand\u001b[39;00m os.path.isdir(os.path.join(module_path, f)):\n\u001b[32m-> \u001b[39m\u001b[32m2416\u001b[39m         import_structure[f] = \u001b[43mcreate_import_structure_from_path\u001b[49m\u001b[43m(\u001b[49m\u001b[43mos\u001b[49m\u001b[43m.\u001b[49m\u001b[43mpath\u001b[49m\u001b[43m.\u001b[49m\u001b[43mjoin\u001b[49m\u001b[43m(\u001b[49m\u001b[43mmodule_path\u001b[49m\u001b[43m,\u001b[49m\u001b[43m \u001b[49m\u001b[43mf\u001b[49m\u001b[43m)\u001b[49m\u001b[43m)\u001b[49m\n\u001b[32m   2418\u001b[39m     \u001b[38;5;28;01melif\u001b[39;00m \u001b[38;5;129;01mnot\u001b[39;00m os.path.isdir(os.path.join(directory, f)):\n\u001b[32m   2419\u001b[39m         adjacent_modules.append(f)\n",
      "\u001b[36mFile \u001b[39m\u001b[32mc:\\Users\\emelvis\\10.VS_Code\\04_AgenticAI\\agenticenv\\Lib\\site-packages\\transformers\\utils\\import_utils.py:2440\u001b[39m, in \u001b[36mcreate_import_structure_from_path\u001b[39m\u001b[34m(module_path)\u001b[39m\n\u001b[32m   2437\u001b[39m \u001b[38;5;28;01mif\u001b[39;00m \u001b[38;5;129;01mnot\u001b[39;00m module_name.endswith(\u001b[33m\"\u001b[39m\u001b[33m.py\u001b[39m\u001b[33m\"\u001b[39m):\n\u001b[32m   2438\u001b[39m     \u001b[38;5;28;01mcontinue\u001b[39;00m\n\u001b[32m-> \u001b[39m\u001b[32m2440\u001b[39m \u001b[38;5;28;01mwith\u001b[39;00m \u001b[38;5;28mopen\u001b[39m(os.path.join(directory, module_name), encoding=\u001b[33m\"\u001b[39m\u001b[33mutf-8\u001b[39m\u001b[33m\"\u001b[39m) \u001b[38;5;28;01mas\u001b[39;00m f:\n\u001b[32m   2441\u001b[39m     file_content = f.read()\n\u001b[32m   2443\u001b[39m \u001b[38;5;66;03m# Remove the .py suffix\u001b[39;00m\n",
      "\u001b[36mFile \u001b[39m\u001b[32m<frozen codecs>:309\u001b[39m, in \u001b[36m__init__\u001b[39m\u001b[34m(self, errors)\u001b[39m\n",
      "\u001b[31mKeyboardInterrupt\u001b[39m: "
     ]
    }
   ],
   "source": [
    "#Use Sentence Transfromer \n",
    "from langchain_huggingface import HuggingFaceEmbeddings\n",
    "embeddings=HuggingFaceEmbeddings(model_name=\"all-MiniLM-L6-v2\")"
   ]
  },
  {
   "cell_type": "code",
   "execution_count": 3,
   "metadata": {},
   "outputs": [
    {
     "data": {
      "text/plain": [
       "[-0.033388182520866394,\n",
       " 0.03453972190618515,\n",
       " 0.059474531561136246,\n",
       " 0.05928609147667885,\n",
       " -0.0635354220867157,\n",
       " -0.06819586455821991,\n",
       " 0.08823323994874954,\n",
       " 0.03444080427289009,\n",
       " -0.03278516232967377,\n",
       " -0.015814989805221558,\n",
       " 0.02098178118467331,\n",
       " -0.01834029331803322,\n",
       " -0.03983215242624283,\n",
       " -0.0804707482457161,\n",
       " -0.014469144865870476,\n",
       " 0.0332648828625679,\n",
       " 0.014259284362196922,\n",
       " -0.03404996916651726,\n",
       " -0.142915740609169,\n",
       " -0.023083344101905823,\n",
       " -0.021380102261900902,\n",
       " 0.002633501309901476,\n",
       " -0.047292742878198624,\n",
       " -0.010752756148576736,\n",
       " -0.06866798549890518,\n",
       " 0.031125057488679886,\n",
       " 0.0759458914399147,\n",
       " 0.0011283254716545343,\n",
       " 0.011631987057626247,\n",
       " -0.03603919595479965,\n",
       " 0.04483763128519058,\n",
       " 0.018390750512480736,\n",
       " 0.12672801315784454,\n",
       " -0.0013597895158454776,\n",
       " 0.008206663653254509,\n",
       " 0.06909968703985214,\n",
       " -0.08076353371143341,\n",
       " -0.05841314047574997,\n",
       " 0.053754497319459915,\n",
       " 0.026227595284581184,\n",
       " -0.006828607991337776,\n",
       " -0.056358352303504944,\n",
       " 0.0032930178567767143,\n",
       " -0.0725017860531807,\n",
       " 0.06960923224687576,\n",
       " 0.03167439252138138,\n",
       " -0.012384781613945961,\n",
       " 0.023199191316962242,\n",
       " 0.08131051808595657,\n",
       " 0.0002782986266538501,\n",
       " -0.12659239768981934,\n",
       " -0.04998627305030823,\n",
       " -0.03565250337123871,\n",
       " 0.048560675233602524,\n",
       " 0.09733071178197861,\n",
       " 0.062244169414043427,\n",
       " -0.03750475123524666,\n",
       " 0.008118408732116222,\n",
       " 0.02765134535729885,\n",
       " -0.04321667551994324,\n",
       " 0.016248490661382675,\n",
       " 0.002286782255396247,\n",
       " 0.003097104374319315,\n",
       " -0.015322064980864525,\n",
       " 0.03742995485663414,\n",
       " -0.010506645776331425,\n",
       " -0.05321492627263069,\n",
       " -0.03969471529126167,\n",
       " -0.05287756025791168,\n",
       " -0.030448202043771744,\n",
       " -0.011697022244334221,\n",
       " 0.07245178520679474,\n",
       " -0.07213431596755981,\n",
       " 0.03910218924283981,\n",
       " -0.03716369718313217,\n",
       " 0.026422226801514626,\n",
       " 0.026734257116913795,\n",
       " -0.03114689700305462,\n",
       " 0.06340930610895157,\n",
       " -0.01694675162434578,\n",
       " 0.006343594286590815,\n",
       " -0.025483090430498123,\n",
       " -0.01599896140396595,\n",
       " 0.01468465756624937,\n",
       " -0.04103191941976547,\n",
       " 0.056689392775297165,\n",
       " 0.051890779286623,\n",
       " 0.012766438536345959,\n",
       " 0.010396641679108143,\n",
       " 0.03603467345237732,\n",
       " -0.07487247884273529,\n",
       " 0.022285493090748787,\n",
       " 0.05366939678788185,\n",
       " 0.021017177030444145,\n",
       " 0.010703198611736298,\n",
       " 0.011209441348910332,\n",
       " 0.022165238857269287,\n",
       " -0.03350187838077545,\n",
       " -0.13790263235569,\n",
       " 0.17661647498607635,\n",
       " 0.032913580536842346,\n",
       " 0.07648536562919617,\n",
       " -0.05645773187279701,\n",
       " 0.03820188716053963,\n",
       " -0.05886794999241829,\n",
       " 0.016183646395802498,\n",
       " -0.0029855123721063137,\n",
       " 0.008209950290620327,\n",
       " 0.026603657752275467,\n",
       " 0.03410134091973305,\n",
       " -0.0033712659496814013,\n",
       " -0.04683651030063629,\n",
       " 0.029342347756028175,\n",
       " -0.01816543936729431,\n",
       " 0.09393950551748276,\n",
       " 0.016673743724822998,\n",
       " -0.01623217761516571,\n",
       " 0.071003258228302,\n",
       " 0.041898347437381744,\n",
       " -0.012874962761998177,\n",
       " 0.02733326517045498,\n",
       " -0.03769178315997124,\n",
       " -0.01056569255888462,\n",
       " 0.08810011297464371,\n",
       " 0.03338450565934181,\n",
       " -0.0023000268265604973,\n",
       " -0.020081715658307076,\n",
       " -3.4389641919702815e-33,\n",
       " 0.00388541747815907,\n",
       " -0.04569804668426514,\n",
       " 0.03672381490468979,\n",
       " 0.10973253101110458,\n",
       " 0.0052942801266908646,\n",
       " -0.03384026512503624,\n",
       " -0.05718807131052017,\n",
       " -0.0309864804148674,\n",
       " 0.02820853516459465,\n",
       " 0.014682847075164318,\n",
       " -0.005613868124783039,\n",
       " 0.02814442850649357,\n",
       " -0.06591308116912842,\n",
       " 0.016082217916846275,\n",
       " 0.048449140042066574,\n",
       " 0.07509640604257584,\n",
       " -0.004293232224881649,\n",
       " 0.026304595172405243,\n",
       " -0.028514456003904343,\n",
       " 0.02287396416068077,\n",
       " -0.052803438156843185,\n",
       " -0.06066504865884781,\n",
       " 0.01952851377427578,\n",
       " 0.0541018582880497,\n",
       " 0.02175351046025753,\n",
       " -0.025309881195425987,\n",
       " 0.031614743173122406,\n",
       " -0.12111617624759674,\n",
       " 0.049283310770988464,\n",
       " 0.0027340934611856937,\n",
       " -0.03895929083228111,\n",
       " -0.02350742556154728,\n",
       " 0.010390667244791985,\n",
       " 0.026675894856452942,\n",
       " -0.020386094227433205,\n",
       " 0.013104453682899475,\n",
       " 0.012831252999603748,\n",
       " -0.027721215039491653,\n",
       " -0.07600448280572891,\n",
       " 0.039699096232652664,\n",
       " -0.06335609406232834,\n",
       " 0.06014362350106239,\n",
       " 0.052485134452581406,\n",
       " 0.008374596014618874,\n",
       " 0.015201508067548275,\n",
       " -0.018722591921687126,\n",
       " 0.01212178822606802,\n",
       " -0.01437518559396267,\n",
       " 0.03359777852892876,\n",
       " -0.01308045070618391,\n",
       " -0.06113581359386444,\n",
       " 0.029406405985355377,\n",
       " -0.09374044835567474,\n",
       " -0.002057659672573209,\n",
       " 0.02402631565928459,\n",
       " -0.04306025058031082,\n",
       " -0.03385310620069504,\n",
       " -0.0036304595414549112,\n",
       " 0.00576019985601306,\n",
       " 0.019234400242567062,\n",
       " 0.024349475279450417,\n",
       " 0.0710911825299263,\n",
       " -0.044835008680820465,\n",
       " 0.07316724210977554,\n",
       " -0.08264458179473877,\n",
       " 0.005427949130535126,\n",
       " 0.023218736052513123,\n",
       " 0.060967545956373215,\n",
       " 0.09460736811161041,\n",
       " -0.014135177247226238,\n",
       " -0.041771091520786285,\n",
       " -0.027401844039559364,\n",
       " 0.03853406384587288,\n",
       " -0.0073499674908816814,\n",
       " -0.007266188506036997,\n",
       " 0.048032645136117935,\n",
       " -0.01142663974314928,\n",
       " -0.06901125609874725,\n",
       " 0.0371512770652771,\n",
       " -0.06476707756519318,\n",
       " -0.06643088161945343,\n",
       " -0.0011766892857849598,\n",
       " -0.02179594896733761,\n",
       " -0.007523776963353157,\n",
       " 0.06725426018238068,\n",
       " 0.00809473730623722,\n",
       " -0.03811290115118027,\n",
       " -0.08759457617998123,\n",
       " 0.030362332239747047,\n",
       " -0.04203790798783302,\n",
       " -0.06107683852314949,\n",
       " 0.012958238832652569,\n",
       " 0.005050858482718468,\n",
       " 0.018419789150357246,\n",
       " -0.12826375663280487,\n",
       " 2.624874844624337e-33,\n",
       " 0.08888931572437286,\n",
       " 0.032136209309101105,\n",
       " -0.10708094388246536,\n",
       " -0.016275133937597275,\n",
       " -0.04150315746665001,\n",
       " 0.002086902502924204,\n",
       " -0.06067203730344772,\n",
       " 0.12048251181840897,\n",
       " -0.08354715257883072,\n",
       " 0.050116825848817825,\n",
       " 0.0011806325055658817,\n",
       " -0.05077023431658745,\n",
       " 0.05996881425380707,\n",
       " 0.054858800023794174,\n",
       " 0.06972206383943558,\n",
       " 0.004157152492552996,\n",
       " 0.12240331619977951,\n",
       " 0.038177911192178726,\n",
       " -0.018991993740200996,\n",
       " 0.012684158980846405,\n",
       " -0.032571226358413696,\n",
       " 0.026601171121001244,\n",
       " -0.05980314686894417,\n",
       " -0.024400899186730385,\n",
       " -0.016547149047255516,\n",
       " 0.020274391397833824,\n",
       " -0.0235400702804327,\n",
       " 0.08794981986284256,\n",
       " -0.09462466835975647,\n",
       " -0.05664946138858795,\n",
       " 0.07793813198804855,\n",
       " -0.014540212228894234,\n",
       " -0.04598593711853027,\n",
       " 0.03597735986113548,\n",
       " 0.017227422446012497,\n",
       " 0.10854928195476532,\n",
       " 0.0239954125136137,\n",
       " -0.09443830698728561,\n",
       " 0.021734826266765594,\n",
       " -0.03514188528060913,\n",
       " -0.015563013032078743,\n",
       " -0.00905606895685196,\n",
       " -0.026420556008815765,\n",
       " 0.09819947928190231,\n",
       " -0.05173283815383911,\n",
       " -0.05118061229586601,\n",
       " -0.04413073882460594,\n",
       " 0.060778893530368805,\n",
       " -0.01092182844877243,\n",
       " -0.0016202690312638879,\n",
       " -0.12291137129068375,\n",
       " -0.08137031644582748,\n",
       " -0.02304576151072979,\n",
       " -0.050796691328287125,\n",
       " -0.1166769489645958,\n",
       " 0.025221578776836395,\n",
       " -0.019859880208969116,\n",
       " 0.049684543162584305,\n",
       " -0.013690224848687649,\n",
       " 0.004341150168329477,\n",
       " -0.014368350617587566,\n",
       " 0.04770710691809654,\n",
       " 0.03718509152531624,\n",
       " 0.022829849272966385,\n",
       " -0.04654858633875847,\n",
       " 0.0693684071302414,\n",
       " -0.02132509835064411,\n",
       " 0.02957007847726345,\n",
       " 0.0009863259037956595,\n",
       " -0.033218443393707275,\n",
       " 0.04180170223116875,\n",
       " -0.005182818975299597,\n",
       " -0.020640283823013306,\n",
       " 0.048608046025037766,\n",
       " -0.04133274778723717,\n",
       " -0.005364623386412859,\n",
       " -0.021894976496696472,\n",
       " 0.021270232275128365,\n",
       " 0.01846093125641346,\n",
       " -0.036591045558452606,\n",
       " -0.057284705340862274,\n",
       " -0.0034459782764315605,\n",
       " -0.04625880345702171,\n",
       " 0.05134569853544235,\n",
       " 0.025934085249900818,\n",
       " 0.03859257698059082,\n",
       " 0.06607185304164886,\n",
       " -0.017302462831139565,\n",
       " -0.01059807650744915,\n",
       " 0.02265203557908535,\n",
       " 0.036723792552948,\n",
       " 0.03584650158882141,\n",
       " 0.012036577798426151,\n",
       " 0.031785935163497925,\n",
       " -0.12105195224285126,\n",
       " -1.5130833475041072e-08,\n",
       " 0.006866040639579296,\n",
       " -0.027710257098078728,\n",
       " 0.08934704959392548,\n",
       " 0.07790020108222961,\n",
       " 0.06404799222946167,\n",
       " 0.03166109696030617,\n",
       " -0.07114408910274506,\n",
       " -0.043268363922834396,\n",
       " -0.03240786865353584,\n",
       " -0.02145577408373356,\n",
       " -0.00830535776913166,\n",
       " 0.0380602702498436,\n",
       " -0.0001136258797487244,\n",
       " 0.012233691290020943,\n",
       " 0.12013918161392212,\n",
       " 0.030236663296818733,\n",
       " -0.05191421881318092,\n",
       " -0.011444020085036755,\n",
       " -0.047843098640441895,\n",
       " -0.07834552228450775,\n",
       " 0.03221028298139572,\n",
       " -0.02586168795824051,\n",
       " -0.0020645149052143097,\n",
       " -0.029230767861008644,\n",
       " -0.01997465081512928,\n",
       " -0.03496573865413666,\n",
       " -0.014112595468759537,\n",
       " 0.03993980586528778,\n",
       " -0.06896215677261353,\n",
       " 0.05589042976498604,\n",
       " -0.012570559047162533,\n",
       " 0.1819690614938736,\n",
       " -0.012776440940797329,\n",
       " -0.001151281176134944,\n",
       " 0.028124773874878883,\n",
       " 0.011322916485369205,\n",
       " 0.04628046602010727,\n",
       " 0.016169793903827667,\n",
       " 0.02629891224205494,\n",
       " -0.05404873937368393,\n",
       " -0.026807203888893127,\n",
       " 0.06764835864305496,\n",
       " 0.01065937802195549,\n",
       " -0.1292618066072464,\n",
       " 0.06938319653272629,\n",
       " 0.030720505863428116,\n",
       " 0.03887757286429405,\n",
       " -0.14078202843666077,\n",
       " 0.05191187933087349,\n",
       " -0.06790675222873688,\n",
       " -0.02985665202140808,\n",
       " 0.017362026497721672,\n",
       " 0.08236218988895416,\n",
       " 0.11180814355611801,\n",
       " 0.09893383085727692,\n",
       " 0.05719546228647232,\n",
       " 0.015903133898973465,\n",
       " -0.04091331735253334,\n",
       " -0.012436377815902233,\n",
       " 0.02024916745722294,\n",
       " 0.06743752211332321,\n",
       " 0.03933350741863251,\n",
       " 0.05208093672990799,\n",
       " -0.019405053928494453]"
      ]
     },
     "execution_count": 3,
     "metadata": {},
     "output_type": "execute_result"
    }
   ],
   "source": [
    "#Converting a given sentence into a embedding\n",
    "embeddings.embed_query(\"Hello AI\")"
   ]
  },
  {
   "cell_type": "code",
   "execution_count": 4,
   "metadata": {},
   "outputs": [],
   "source": [
    "#Determining Cosine Simillarity \n",
    "from sklearn.metrics.pairwise import cosine_similarity"
   ]
  },
  {
   "cell_type": "code",
   "execution_count": 5,
   "metadata": {},
   "outputs": [],
   "source": [
    "#Building Documents\n",
    "documents=[\n",
    "    \"What is the capital of USA?\", \n",
    "    \"Who is the president of USA?\",\n",
    "    \"Who is the prime minister of india?\"\n",
    "]\n",
    "\n"
   ]
  },
  {
   "cell_type": "code",
   "execution_count": 6,
   "metadata": {},
   "outputs": [],
   "source": [
    "my_query=\"Narendra Modi\""
   ]
  },
  {
   "cell_type": "code",
   "execution_count": 7,
   "metadata": {},
   "outputs": [
    {
     "data": {
      "text/plain": [
       "3"
      ]
     },
     "execution_count": 7,
     "metadata": {},
     "output_type": "execute_result"
    }
   ],
   "source": [
    "#Embed the document \n",
    "document_embedding=embeddings.embed_documents(documents)\n",
    "len(document_embedding)"
   ]
  },
  {
   "cell_type": "code",
   "execution_count": 8,
   "metadata": {},
   "outputs": [],
   "source": [
    "query_embedding=embeddings.embed_query(my_query)"
   ]
  },
  {
   "cell_type": "code",
   "execution_count": 9,
   "metadata": {},
   "outputs": [
    {
     "data": {
      "text/plain": [
       "array([[0.06368394, 0.27326598, 0.50869447]])"
      ]
     },
     "execution_count": 9,
     "metadata": {},
     "output_type": "execute_result"
    }
   ],
   "source": [
    "#Performing Cosine Simillarity\n",
    "cosine_similarity([query_embedding], document_embedding)"
   ]
  },
  {
   "cell_type": "code",
   "execution_count": 10,
   "metadata": {},
   "outputs": [
    {
     "data": {
      "text/plain": [
       "array([[1.36844148, 1.20559864, 0.99126742]])"
      ]
     },
     "execution_count": 10,
     "metadata": {},
     "output_type": "execute_result"
    }
   ],
   "source": [
    "#Euclidian Distance\n",
    "from sklearn.metrics.pairwise import euclidean_distances\n",
    "\n",
    "#Perform euclidian distance \n",
    "euclidean_distances([query_embedding], document_embedding)"
   ]
  },
  {
   "cell_type": "markdown",
   "metadata": {},
   "source": [
    "VectorDB"
   ]
  },
  {
   "cell_type": "code",
   "execution_count": 11,
   "metadata": {},
   "outputs": [],
   "source": [
    "import faiss \n",
    "from langchain_community.vectorstores import FAISS\n",
    "from langchain_community.docstore.in_memory import InMemoryDocstore "
   ]
  },
  {
   "cell_type": "code",
   "execution_count": 12,
   "metadata": {},
   "outputs": [],
   "source": [
    "#Creating index using Faiss \n",
    "index=faiss.IndexFlatL2(384)"
   ]
  },
  {
   "cell_type": "code",
   "execution_count": 13,
   "metadata": {},
   "outputs": [
    {
     "data": {
      "text/plain": [
       "<faiss.swigfaiss_avx2.IndexFlatL2; proxy of <Swig Object of type 'faiss::IndexFlatL2 *' at 0x00000261D5CE1F20> >"
      ]
     },
     "execution_count": 13,
     "metadata": {},
     "output_type": "execute_result"
    }
   ],
   "source": [
    "index"
   ]
  },
  {
   "cell_type": "code",
   "execution_count": 14,
   "metadata": {},
   "outputs": [],
   "source": [
    "#Creating vector store \n",
    "vector_store = FAISS(\n",
    "    embedding_function=embeddings, \n",
    "    index=index, \n",
    "    docstore=InMemoryDocstore(), \n",
    "    index_to_docstore_id={}\n",
    ")"
   ]
  },
  {
   "cell_type": "code",
   "execution_count": 15,
   "metadata": {},
   "outputs": [
    {
     "data": {
      "text/plain": [
       "['4c49790c-7767-464d-9bb9-c44b74655c49',\n",
       " '20f81f1a-a9fc-4ba9-af87-e9ceeff85c77']"
      ]
     },
     "execution_count": 15,
     "metadata": {},
     "output_type": "execute_result"
    }
   ],
   "source": [
    "vector_store.add_texts([\"AI is future\", \"AI is Powerful\"])"
   ]
  },
  {
   "cell_type": "code",
   "execution_count": 16,
   "metadata": {},
   "outputs": [
    {
     "data": {
      "text/plain": [
       "{0: '4c49790c-7767-464d-9bb9-c44b74655c49',\n",
       " 1: '20f81f1a-a9fc-4ba9-af87-e9ceeff85c77'}"
      ]
     },
     "execution_count": 16,
     "metadata": {},
     "output_type": "execute_result"
    }
   ],
   "source": [
    "vector_store.index_to_docstore_id"
   ]
  },
  {
   "cell_type": "code",
   "execution_count": 19,
   "metadata": {},
   "outputs": [],
   "source": [
    "results = vector_store.similarity_search(\"Tell me about AI\", k=1)"
   ]
  },
  {
   "cell_type": "code",
   "execution_count": 20,
   "metadata": {},
   "outputs": [
    {
     "data": {
      "text/plain": [
       "[Document(id='20f81f1a-a9fc-4ba9-af87-e9ceeff85c77', metadata={}, page_content='AI is Powerful')]"
      ]
     },
     "execution_count": 20,
     "metadata": {},
     "output_type": "execute_result"
    }
   ],
   "source": [
    "results"
   ]
  },
  {
   "cell_type": "code",
   "execution_count": 21,
   "metadata": {},
   "outputs": [
    {
     "data": {
      "text/plain": [
       "{0: '4c49790c-7767-464d-9bb9-c44b74655c49',\n",
       " 1: '20f81f1a-a9fc-4ba9-af87-e9ceeff85c77',\n",
       " 2: '64f49249-75c6-4f17-818a-7a9b0ab2c225',\n",
       " 3: 'c7ba6c99-7121-4c0a-8730-fe554b781de9'}"
      ]
     },
     "execution_count": 21,
     "metadata": {},
     "output_type": "execute_result"
    }
   ],
   "source": [
    "vector_store.add_texts([\"Thanvi is a good girl\", \"Tara is a good girl\"])\n",
    "vector_store.index_to_docstore_id"
   ]
  },
  {
   "cell_type": "code",
   "execution_count": 23,
   "metadata": {},
   "outputs": [
    {
     "data": {
      "text/plain": [
       "[Document(id='20f81f1a-a9fc-4ba9-af87-e9ceeff85c77', metadata={}, page_content='AI is Powerful'),\n",
       " Document(id='4c49790c-7767-464d-9bb9-c44b74655c49', metadata={}, page_content='AI is future'),\n",
       " Document(id='c7ba6c99-7121-4c0a-8730-fe554b781de9', metadata={}, page_content='Tara is a good girl'),\n",
       " Document(id='64f49249-75c6-4f17-818a-7a9b0ab2c225', metadata={}, page_content='Thanvi is a good girl')]"
      ]
     },
     "execution_count": 23,
     "metadata": {},
     "output_type": "execute_result"
    }
   ],
   "source": [
    "\n",
    "results = vector_store.similarity_search(\"Tell me about AI\")\n",
    "results"
   ]
  },
  {
   "cell_type": "code",
   "execution_count": 24,
   "metadata": {},
   "outputs": [
    {
     "data": {
      "text/plain": [
       "[Document(id='20f81f1a-a9fc-4ba9-af87-e9ceeff85c77', metadata={}, page_content='AI is Powerful'),\n",
       " Document(id='4c49790c-7767-464d-9bb9-c44b74655c49', metadata={}, page_content='AI is future')]"
      ]
     },
     "execution_count": 24,
     "metadata": {},
     "output_type": "execute_result"
    }
   ],
   "source": [
    "results = vector_store.similarity_search(\"Tell me about AI\", k=2)\n",
    "results"
   ]
  },
  {
   "cell_type": "code",
   "execution_count": 25,
   "metadata": {},
   "outputs": [],
   "source": [
    "# from uuid import uuid4\n",
    "from langchain_core.documents import Document\n",
    "\n",
    "document_1 = Document(\n",
    "    page_content=\"I had chocolate chip pancakes and scrambled eggs for breakfast this morning.\",\n",
    "    metadata={\"source\": \"tweet\"},\n",
    ")\n",
    "\n",
    "document_2 = Document(\n",
    "    page_content=\"The weather forecast for tomorrow is cloudy and overcast, with a high of 62 degrees.\",\n",
    "    metadata={\"source\": \"news\"},\n",
    ")\n",
    "\n",
    "document_3 = Document(\n",
    "    page_content=\"Building an exciting new project with LangChain - come check it out!\",\n",
    "    metadata={\"source\": \"tweet\"},\n",
    ")\n",
    "\n",
    "document_4 = Document(\n",
    "    page_content=\"Robbers broke into the city bank and stole $1 million in cash.\",\n",
    "    metadata={\"source\": \"news\"},\n",
    ")\n",
    "\n",
    "document_5 = Document(\n",
    "    page_content=\"Wow! That was an amazing movie. I can't wait to see it again.\",\n",
    "    metadata={\"source\": \"tweet\"},\n",
    ")\n",
    "\n",
    "document_6 = Document(\n",
    "    page_content=\"Is the new iPhone worth the price? Read this review to find out.\",\n",
    "    metadata={\"source\": \"website\"},\n",
    ")\n",
    "\n",
    "document_7 = Document(\n",
    "    page_content=\"The top 10 soccer players in the world right now.\",\n",
    "    metadata={\"source\": \"website\"},\n",
    ")\n",
    "\n",
    "document_8 = Document(\n",
    "    page_content=\"LangGraph is the best framework for building stateful, agentic applications!\",\n",
    "    metadata={\"source\": \"tweet\"},\n",
    ")\n",
    "\n",
    "document_9 = Document(\n",
    "    page_content=\"The stock market is down 500 points today due to fears of a recession.\",\n",
    "    metadata={\"source\": \"news\"},\n",
    ")\n",
    "\n",
    "document_10 = Document(\n",
    "    page_content=\"I have a bad feeling I am going to get deleted :(\",\n",
    "    metadata={\"source\": \"tweet\"},\n",
    ")\n",
    "\n",
    "documents = [\n",
    "    document_1,\n",
    "    document_2,\n",
    "    document_3,\n",
    "    document_4,\n",
    "    document_5,\n",
    "    document_6,\n",
    "    document_7,\n",
    "    document_8,\n",
    "    document_9,\n",
    "    document_10,\n",
    "]"
   ]
  },
  {
   "cell_type": "code",
   "execution_count": null,
   "metadata": {},
   "outputs": [],
   "source": [
    "#Importing the required libary \n",
    "import faiss \n",
    "from langchain_community.vectorstores import FAISS\n",
    "from langchain_community.docstore.in_memory import InMemoryDocstore \n",
    "\n",
    "#Creating the embedding object\n",
    "#Use Sentence Transfromer \n",
    "from langchain_huggingface import HuggingFaceEmbeddings\n",
    "embeddings=HuggingFaceEmbeddings(model_name=\"all-MiniLM-L6-v2\")\n"
   ]
  },
  {
   "cell_type": "code",
   "execution_count": 26,
   "metadata": {},
   "outputs": [],
   "source": [
    "#Initialising the Vector Store\n",
    "index=faiss.IndexFlatIP(384)\n",
    "\n",
    "vector_store=FAISS(\n",
    "    embedding_function=embeddings, \n",
    "    index=index, \n",
    "    docstore=InMemoryDocstore(), \n",
    "    index_to_docstore_id={}\n",
    ")"
   ]
  },
  {
   "cell_type": "code",
   "execution_count": 27,
   "metadata": {},
   "outputs": [
    {
     "data": {
      "text/plain": [
       "['9a6138e8-fc2e-466c-b6f4-60039df56db6',\n",
       " '37ffdc5c-e03a-4fee-be57-27c946566030',\n",
       " '09526b56-fe07-4b19-bfaa-e365a55779ad',\n",
       " '312edf1b-9ef7-4b32-b504-b1acad7a6cc2',\n",
       " '01f2cefa-ea29-47e9-a599-95bb424f66a0',\n",
       " '3db48931-f28c-40c4-9dc5-594fdc294608',\n",
       " '9812b286-b07f-4ad1-be9d-e53bdbf198a0',\n",
       " 'a823b817-630f-49cd-958c-6672098a8714',\n",
       " '46d79f74-b37e-4b25-953a-403b42ea3562',\n",
       " '156ca1cd-2c92-4258-9716-dd5d7a5ec011']"
      ]
     },
     "execution_count": 27,
     "metadata": {},
     "output_type": "execute_result"
    }
   ],
   "source": [
    "#Adding Documents\n",
    "vector_store.add_documents(documents=documents)"
   ]
  },
  {
   "cell_type": "code",
   "execution_count": 28,
   "metadata": {},
   "outputs": [
    {
     "data": {
      "text/plain": [
       "[Document(id='09526b56-fe07-4b19-bfaa-e365a55779ad', metadata={'source': 'tweet'}, page_content='Building an exciting new project with LangChain - come check it out!'),\n",
       " Document(id='a823b817-630f-49cd-958c-6672098a8714', metadata={'source': 'tweet'}, page_content='LangGraph is the best framework for building stateful, agentic applications!')]"
      ]
     },
     "execution_count": 28,
     "metadata": {},
     "output_type": "execute_result"
    }
   ],
   "source": [
    "#Performing Simillarity search \n",
    "vector_store.similarity_search(\n",
    "    \"Langchain Provides Abstractions to make working with LLM easy\", \n",
    "    k=2\n",
    ")"
   ]
  },
  {
   "cell_type": "code",
   "execution_count": 32,
   "metadata": {},
   "outputs": [
    {
     "data": {
      "text/plain": [
       "[Document(id='01f2cefa-ea29-47e9-a599-95bb424f66a0', metadata={'source': 'tweet'}, page_content=\"Wow! That was an amazing movie. I can't wait to see it again.\"),\n",
       " Document(id='156ca1cd-2c92-4258-9716-dd5d7a5ec011', metadata={'source': 'tweet'}, page_content='I have a bad feeling I am going to get deleted :(')]"
      ]
     },
     "execution_count": 32,
     "metadata": {},
     "output_type": "execute_result"
    }
   ],
   "source": [
    "#Performing Simillarity search \n",
    "vector_store.similarity_search(\n",
    "    \"Tell me about Steve Jobs\", \n",
    "    k=2\n",
    ")"
   ]
  },
  {
   "cell_type": "code",
   "execution_count": 33,
   "metadata": {},
   "outputs": [
    {
     "data": {
      "text/plain": [
       "[Document(id='09526b56-fe07-4b19-bfaa-e365a55779ad', metadata={'source': 'tweet'}, page_content='Building an exciting new project with LangChain - come check it out!'),\n",
       " Document(id='a823b817-630f-49cd-958c-6672098a8714', metadata={'source': 'tweet'}, page_content='LangGraph is the best framework for building stateful, agentic applications!'),\n",
       " Document(id='156ca1cd-2c92-4258-9716-dd5d7a5ec011', metadata={'source': 'tweet'}, page_content='I have a bad feeling I am going to get deleted :('),\n",
       " Document(id='312edf1b-9ef7-4b32-b504-b1acad7a6cc2', metadata={'source': 'news'}, page_content='Robbers broke into the city bank and stole $1 million in cash.')]"
      ]
     },
     "execution_count": 33,
     "metadata": {},
     "output_type": "execute_result"
    }
   ],
   "source": [
    "#Performing Simillarity search \n",
    "vector_store.similarity_search(\n",
    "    \"Langchain Provides Abstractions to make working with LLM easy\" \n",
    "    #k=2\n",
    ")"
   ]
  },
  {
   "cell_type": "code",
   "execution_count": 35,
   "metadata": {},
   "outputs": [
    {
     "data": {
      "text/plain": [
       "[Document(id='09526b56-fe07-4b19-bfaa-e365a55779ad', metadata={'source': 'tweet'}, page_content='Building an exciting new project with LangChain - come check it out!'),\n",
       " Document(id='a823b817-630f-49cd-958c-6672098a8714', metadata={'source': 'tweet'}, page_content='LangGraph is the best framework for building stateful, agentic applications!')]"
      ]
     },
     "execution_count": 35,
     "metadata": {},
     "output_type": "execute_result"
    }
   ],
   "source": [
    "vector_store.similarity_search(\n",
    "    \"Langchain provides abstractions to make working with LLM easy\", \n",
    "    k=2, \n",
    "    filter={\"source\":{\"$eq\":\"tweet\"}}\n",
    ")"
   ]
  },
  {
   "cell_type": "code",
   "execution_count": 37,
   "metadata": {},
   "outputs": [],
   "source": [
    "result=vector_store.similarity_search(\n",
    "    \"Langchain provides abstractions to make working with LLM easy\",\n",
    "    filter={\"source\":\"news\"}     \n",
    ")"
   ]
  },
  {
   "cell_type": "code",
   "execution_count": 38,
   "metadata": {},
   "outputs": [
    {
     "data": {
      "text/plain": [
       "'Robbers broke into the city bank and stole $1 million in cash.'"
      ]
     },
     "execution_count": 38,
     "metadata": {},
     "output_type": "execute_result"
    }
   ],
   "source": [
    "result[0].page_content"
   ]
  },
  {
   "cell_type": "code",
   "execution_count": 39,
   "metadata": {},
   "outputs": [
    {
     "data": {
      "text/plain": [
       "{'source': 'news'}"
      ]
     },
     "execution_count": 39,
     "metadata": {},
     "output_type": "execute_result"
    }
   ],
   "source": [
    "result[0].metadata"
   ]
  },
  {
   "cell_type": "code",
   "execution_count": 40,
   "metadata": {},
   "outputs": [],
   "source": [
    "#Performing retrival operation \n",
    "retriever=vector_store.as_retriever(search_kwargs={\"k\":3})"
   ]
  },
  {
   "cell_type": "code",
   "execution_count": 42,
   "metadata": {},
   "outputs": [
    {
     "data": {
      "text/plain": [
       "[Document(id='09526b56-fe07-4b19-bfaa-e365a55779ad', metadata={'source': 'tweet'}, page_content='Building an exciting new project with LangChain - come check it out!'),\n",
       " Document(id='a823b817-630f-49cd-958c-6672098a8714', metadata={'source': 'tweet'}, page_content='LangGraph is the best framework for building stateful, agentic applications!'),\n",
       " Document(id='156ca1cd-2c92-4258-9716-dd5d7a5ec011', metadata={'source': 'tweet'}, page_content='I have a bad feeling I am going to get deleted :(')]"
      ]
     },
     "execution_count": 42,
     "metadata": {},
     "output_type": "execute_result"
    }
   ],
   "source": [
    "#Retriving data using retriever object\n",
    "retriever.invoke(\"Langchain provides abstractions to make working with LLM easy\")\n"
   ]
  },
  {
   "cell_type": "code",
   "execution_count": 43,
   "metadata": {},
   "outputs": [],
   "source": [
    "vector_store.save_local(\"First FIASS Index\")"
   ]
  },
  {
   "cell_type": "code",
   "execution_count": null,
   "metadata": {},
   "outputs": [],
   "source": [
    "new_vector_store=FAISS.load_local(\n",
    "    \"First FAISS Index\",\n",
    "    embeddings,\n",
    "    allow_dangerous_deserialization=True\n",
    ")"
   ]
  },
  {
   "cell_type": "markdown",
   "metadata": {},
   "source": [
    "# Building First RAG "
   ]
  },
  {
   "cell_type": "code",
   "execution_count": 3,
   "metadata": {},
   "outputs": [],
   "source": [
    "#Importing libraries \n",
    "from langchain_community.document_loaders import PyPDFLoader\n"
   ]
  },
  {
   "cell_type": "code",
   "execution_count": 4,
   "metadata": {},
   "outputs": [],
   "source": [
    "#Capturing the location of the document\n",
    "FILE_PATH=\"llama2.pdf\""
   ]
  },
  {
   "cell_type": "code",
   "execution_count": 5,
   "metadata": {},
   "outputs": [],
   "source": [
    "#Creating the loader object\n",
    "loader=PyPDFLoader(FILE_PATH)\n",
    "\n",
    "#Perform the load operation \n",
    "pages=loader.load()"
   ]
  },
  {
   "cell_type": "markdown",
   "metadata": {},
   "source": [
    "async data loading can also be done as follows:"
   ]
  },
  {
   "cell_type": "code",
   "execution_count": null,
   "metadata": {},
   "outputs": [],
   "source": [
    "pages = []\n",
    "async for page in loader.alazy_load():\n",
    "    pages.append(page)"
   ]
  },
  {
   "cell_type": "code",
   "execution_count": 6,
   "metadata": {},
   "outputs": [
    {
     "data": {
      "text/plain": [
       "77"
      ]
     },
     "execution_count": 6,
     "metadata": {},
     "output_type": "execute_result"
    }
   ],
   "source": [
    "len(loader.load())"
   ]
  },
  {
   "cell_type": "markdown",
   "metadata": {},
   "source": [
    "There are 77 pages within the given document. "
   ]
  },
  {
   "cell_type": "code",
   "execution_count": 7,
   "metadata": {},
   "outputs": [],
   "source": [
    "#Perform Chunking using RecursiveCharacterTextSplitter\n",
    "from langchain_text_splitters import RecursiveCharacterTextSplitter\n",
    "\n",
    "#Creating the instance of Charac Splitter\n",
    "splitter=RecursiveCharacterTextSplitter(\n",
    "    chunk_size=500, #Hyper Parameter \n",
    "    chunk_overlap=50 #Hyper Parameter \n",
    ")"
   ]
  },
  {
   "cell_type": "code",
   "execution_count": 8,
   "metadata": {},
   "outputs": [],
   "source": [
    "#Splitting the documents \n",
    "split_docs=splitter.split_documents(pages)"
   ]
  },
  {
   "cell_type": "code",
   "execution_count": 9,
   "metadata": {},
   "outputs": [
    {
     "data": {
      "text/plain": [
       "615"
      ]
     },
     "execution_count": 9,
     "metadata": {},
     "output_type": "execute_result"
    }
   ],
   "source": [
    "#Checking the splitted documents\n",
    "len(split_docs)"
   ]
  },
  {
   "cell_type": "markdown",
   "metadata": {},
   "source": [
    "\n",
    "we can see that our 77 documents got further split into 615"
   ]
  },
  {
   "cell_type": "code",
   "execution_count": 12,
   "metadata": {},
   "outputs": [],
   "source": [
    "import faiss \n",
    "from langchain_community.vectorstores import FAISS\n",
    "from langchain_community.docstore.in_memory import InMemoryDocstore "
   ]
  },
  {
   "cell_type": "code",
   "execution_count": 13,
   "metadata": {},
   "outputs": [],
   "source": [
    "#Use Sentence Transfromer \n",
    "from langchain_huggingface import HuggingFaceEmbeddings\n",
    "embeddings=HuggingFaceEmbeddings(model_name=\"all-MiniLM-L6-v2\")"
   ]
  },
  {
   "cell_type": "code",
   "execution_count": 14,
   "metadata": {},
   "outputs": [],
   "source": [
    "\n",
    "#Storing the splitted document into Vector Store\n",
    "index=faiss.IndexFlatIP(384)\n",
    "\n",
    "#Create vector store object\n",
    "vector_store=FAISS(\n",
    "    embedding_function=embeddings, \n",
    "    index=index, \n",
    "    docstore=InMemoryDocstore(),\n",
    "    index_to_docstore_id={}\n",
    ")"
   ]
  },
  {
   "cell_type": "code",
   "execution_count": 15,
   "metadata": {},
   "outputs": [
    {
     "data": {
      "text/plain": [
       "['83df6fe6-faa4-4ada-a401-9ed89f04ed62',\n",
       " 'bef6db34-24dc-4d98-9602-428a45cccabb',\n",
       " 'a9d1c510-f8fd-4fe7-ac55-4be4627d965b',\n",
       " 'b2aba2a5-3ab3-4e5f-9a2a-a7c6dd55825e',\n",
       " 'f4156da5-48c8-4048-a048-5c9491f0b3bb',\n",
       " '63e45c4a-6664-46d2-8809-baf57686d304',\n",
       " '5f1c19a7-ed8a-4686-b7b3-61c879e9a613',\n",
       " '21282fc3-15fd-4009-bfbf-5821f5dbad91',\n",
       " '703c4343-e9d9-46c9-bc89-46782665c809',\n",
       " 'b7ca7423-fac0-4cbb-912f-6e13e864fc5a',\n",
       " '4c8c36d4-5190-44c0-8aaa-6674a14d8bdb',\n",
       " '6119b302-d40f-482f-8971-e9f10e142412',\n",
       " '712f9c1e-0dc4-432a-bcd1-f63667ab4391',\n",
       " '5838b08e-a688-4d08-81fe-12c3b10c53ce',\n",
       " 'b8907660-9202-4d44-acf1-a206cb023691',\n",
       " '90b1e93a-2c63-477b-8f4b-f118aeeb1bca',\n",
       " 'd786aad4-bea3-473c-9ce7-e0bca995cb77',\n",
       " 'a3af306c-a940-480f-9f13-6c01d750c085',\n",
       " '8469f18e-dd0c-4a04-bae0-4c1844dfb8ba',\n",
       " '97405fdc-b941-4ba3-bf09-66f031a65836',\n",
       " '3068a2df-3911-4c61-b155-20ae8cc41dd8',\n",
       " '557fca1c-0467-4acd-b46e-6a3ca7ae03ae',\n",
       " 'db12b41b-941d-46be-a37e-c1d4aa1c612f',\n",
       " '951fb711-2aab-4cd2-a517-f6adc1836e63',\n",
       " 'ca6204f9-df36-4600-a367-259b7930a6c6',\n",
       " '705701cf-df03-468c-8daa-8c64870976ba',\n",
       " 'f551b378-06ac-42a1-9444-3781f4d7172a',\n",
       " '605969d9-4ccc-4821-8fda-c3f822e90e58',\n",
       " '4c4353d8-e3a9-45d5-b338-fdfb8990f9ac',\n",
       " '6cdc1f3f-9179-466d-91cb-94747256f147',\n",
       " '2d4540b8-5e97-4fee-91f7-aa85cde38af4',\n",
       " '3ba2cc8e-4b7a-4e25-8e4e-ef4d6184ba88',\n",
       " '37589f68-13e0-4aa2-851a-ee4864f2fd1e',\n",
       " 'c901d93f-30ac-4db3-aa48-f1e1bbad0871',\n",
       " 'a550e660-8b04-4671-ba98-8bb994f7c985',\n",
       " 'b71af7bb-f7a6-4370-b4c1-fba119fc7a53',\n",
       " 'ab170975-a65a-4224-b0ed-08b2c40cdec1',\n",
       " '34007746-2073-4ac1-ba29-040271a1d15a',\n",
       " 'a5102a7c-1ed2-4d01-af6d-b90ad8659ec8',\n",
       " 'f9d4772e-0dba-4fad-99a6-5a01ba64f2a9',\n",
       " '376761da-6340-4ca7-9ef9-195168556c62',\n",
       " '79e628c1-58fd-447e-b10e-4e66610533f9',\n",
       " '1d3222e0-5729-4f49-8d07-b4276bef1acc',\n",
       " 'ed2ca88c-5109-4f94-9fa1-ab879e0bb30b',\n",
       " '67918ea1-5e79-4fab-9951-cf09089f8f31',\n",
       " 'fbefb853-f643-40d2-ac22-389abbd59079',\n",
       " '591a0a8e-9be1-4d4b-a1e9-47a2c1c17503',\n",
       " 'e4963f8b-f749-4f85-809e-f4d8d11d4b78',\n",
       " '9198f005-e404-4e85-af20-7756b3cfe3ac',\n",
       " '155fc4c0-d035-4716-9eb1-1e530ef76888',\n",
       " 'acfa6399-4fc0-4dda-a446-6bd13ee401e3',\n",
       " '6eac479f-22a2-4069-811e-a51100b849c8',\n",
       " '8d69f103-7885-4e06-a72d-8c85a7e9f6b0',\n",
       " '700ac358-a4b1-4725-babe-d8778b2a953d',\n",
       " '183116fb-88e3-419b-9e81-908977e7a6ab',\n",
       " '20b62ef4-5321-4b2c-869b-268f57e7018b',\n",
       " '287f6e03-8dea-49c7-b419-45d105e7c68e',\n",
       " '51f2410c-f603-4c79-84f8-d3024d0af631',\n",
       " 'dbc8624a-15ba-4ebc-97ba-8ede7053c398',\n",
       " 'cc05e673-719a-4e50-bbcd-f5e9e1737d1b',\n",
       " '894a74c4-514c-42e3-ad37-6d98af9217ef',\n",
       " '60f9551b-64ea-4848-b30a-66d49ec2999f',\n",
       " '6ecd367a-841e-40fd-b873-938728b1f47c',\n",
       " 'c8320541-eb88-43bc-ab3b-b3c66d927856',\n",
       " '9377ffef-962f-42d0-8732-f2b6d81d15b0',\n",
       " '8988b711-cab9-4394-b531-1e1cb975a0eb',\n",
       " 'bc1a57b9-bd03-423a-899f-ab775f50e075',\n",
       " 'a677dfe3-6213-46fe-a650-3970446335a6',\n",
       " 'ab6a8c30-2617-4adf-b3e8-5865679462b6',\n",
       " '85e783a3-13b4-4b6f-8f3e-cc009c02c5b4',\n",
       " '925e423d-b8e5-4dfa-9d26-9e622c47a3c9',\n",
       " '5cfa4be3-e90a-4736-b2ac-4fa246bc2146',\n",
       " '01a4fac3-35c2-43ef-9a70-58521ae29df0',\n",
       " '87d550c7-c5e1-4c9c-a2db-2482c7618da2',\n",
       " '71d880bc-7a4b-4056-ac04-a3cbf0ec9c4d',\n",
       " 'dae1ea7c-e850-45ed-9c4a-487c2344acd5',\n",
       " 'd3dd2f22-53af-4b6d-aa96-f9103342ae3c',\n",
       " 'c7040b6e-4cd6-4d48-a149-d08a9d8ed7c2',\n",
       " '0b219b07-9b78-4dcd-b18a-05fa1ad27b5e',\n",
       " 'f54ac666-c303-4601-98bb-312094cbcf33',\n",
       " 'c6b94056-9098-4f69-a26d-22103262d3c3',\n",
       " '061c8324-95b4-4ca1-866d-0da0e59b3835',\n",
       " '34fc8e46-fb79-4a9b-abdb-6c668b812148',\n",
       " '6ec9aed3-2598-495a-b91d-4c2b753fd35c',\n",
       " '79cbd6b9-b546-430f-a563-1aea275817d2',\n",
       " 'b3467efc-2c0a-44ec-95d9-9140dc4f6b1f',\n",
       " '6ada5ccb-1300-4606-a8f9-651756fb8029',\n",
       " '3e9f1ee6-a27a-4720-a358-bf113eaccc02',\n",
       " 'bfeeea36-754e-4dbf-b99d-71de12ea3503',\n",
       " '282e83b7-466c-4099-bea9-28b299886d36',\n",
       " '2d037535-7e49-4bb8-b1fc-82e56795ced8',\n",
       " 'c51166bc-32e1-4257-b46e-046924398bf3',\n",
       " 'ec6f9c3d-d615-4e8a-a323-2719dcf05baa',\n",
       " '4f1995e4-20bf-4763-b054-5d15ca3230e5',\n",
       " '0372d21a-bded-49c2-9765-27c47a5472f4',\n",
       " 'b9c0ec65-5582-4f52-ae99-bda120ac0cc8',\n",
       " '1d4efa4a-40a8-4f9e-bfda-907b0eda20a7',\n",
       " 'ff46eebe-a0de-447c-b40f-cc8f46cc4ff5',\n",
       " '46d209d5-a174-48f5-904e-377c1e9ad125',\n",
       " '9f92e227-5cbb-47bb-94b0-270231dc8b03',\n",
       " 'bd3868aa-9bf7-4348-8c5d-3dfa00b74461',\n",
       " '420696e4-341e-482f-825d-d0ce1d2cb16f',\n",
       " '6a47dad0-5019-4db3-9b9d-94744b651852',\n",
       " 'facaa0d6-306d-4501-852f-2df28852994d',\n",
       " '58af8652-b663-402f-9cde-0097497ac650',\n",
       " '65c69836-3aef-4afa-8c2a-48a1c21fdeff',\n",
       " '46dc4171-aea6-452d-818f-6b6bf293905d',\n",
       " '7384463c-01bd-4146-bdf7-20c027ad8502',\n",
       " 'b9aa3021-b5ad-4205-9e2d-8a633ff2d41b',\n",
       " 'e3fc5b1d-5e1d-431d-8053-748cd6b2f3f0',\n",
       " 'a976b5f2-1957-4997-9145-a410fc1286e4',\n",
       " 'c7115d3d-d2cb-4891-a7c7-8c85cf6a68b6',\n",
       " '9d14d129-74e8-452c-98f1-3b1a1a6b3f44',\n",
       " '9274f134-169e-487f-adee-671efd25f9fd',\n",
       " 'fda181e7-f1e9-499b-af08-680a4c205bca',\n",
       " 'ad513bbc-f0f8-4410-adaa-098913d84f77',\n",
       " 'b2dd8b58-ed7a-4eb0-80c3-ac9e1b2d91c1',\n",
       " 'ffbe1093-8a9f-439e-b8a2-f887aeb62573',\n",
       " 'edb0d30c-4a20-4107-9f69-1cac5f30634f',\n",
       " '3e456967-a973-48c6-afc7-cec0ffe75eab',\n",
       " 'a1b544c2-6f18-4397-bee0-f7b9e66073c5',\n",
       " 'da2dd91a-aa85-483d-8dbd-a4904cd13390',\n",
       " 'c46fbd3c-8e86-479a-95c9-c9054f4b6c49',\n",
       " '40ecd5de-46fd-4ed7-aa51-73cfa9205ff8',\n",
       " '71c1f9e7-a51c-4b71-98e1-2cf967c4d0b6',\n",
       " '2dd763d1-ac08-4d3f-bc2f-e33fc93d15e9',\n",
       " 'b3d4ea56-997e-4879-9ac4-f724ff606572',\n",
       " '2f206ede-329e-432f-ab6e-d98565c23711',\n",
       " '867740ff-a20e-4dc2-9e98-363e8ca6b406',\n",
       " 'a6bcce5e-9710-4ead-8e43-8131d859c365',\n",
       " 'fcf70e8e-6684-42d0-95dd-3d808517b77e',\n",
       " 'af2434bc-d5c2-432f-a3b4-e8f776f11e1c',\n",
       " 'd04ab10c-3c85-430d-a214-dd3437bc049e',\n",
       " 'b1d84211-c204-422a-b810-f42abc45fe5d',\n",
       " 'b1e9b2a1-4138-42a2-b9ca-86de8b9adeeb',\n",
       " 'f154e6f3-9a0b-4498-b4d5-85143ca32430',\n",
       " '6c73dc28-fe62-46a0-8d59-dc84f9ccdc70',\n",
       " 'e8949604-1df1-439e-beb8-1efdcb02379d',\n",
       " '80b3104a-5135-48c1-932d-d1fbb02d5f81',\n",
       " '75077623-59c4-4bcb-9c2a-4bb54fab40d4',\n",
       " 'c651b5db-474a-47ca-94eb-06e86efccc9d',\n",
       " '99144d35-c2e9-411c-bdad-e5ccefcdce87',\n",
       " 'b2f85682-ad5a-4791-8243-ad0cf86dc78a',\n",
       " 'bc099372-713b-48b1-bac3-2874a6c020a0',\n",
       " '170b7786-1736-41fd-bb17-fee92cd9df91',\n",
       " '93a9b647-ea52-436f-9916-c2d7e2b4154e',\n",
       " 'a0b616f8-5fef-495b-bbec-5726114c09bd',\n",
       " '86a17e02-0690-4e1f-b205-15567524bd0a',\n",
       " '6d5b5de6-0fea-4bab-90b3-583027bbe72c',\n",
       " '1188f470-24d4-4288-8bb6-424ebe672af5',\n",
       " 'd64ea364-c5f6-4d37-9899-f8f5bbeb2531',\n",
       " '3bc51910-2e1e-4878-8249-a6fc19cd3023',\n",
       " '93ea264a-5a22-42c7-a638-2e2b5d2b2e54',\n",
       " '3d8b1995-c63f-459e-8541-325d0a94c957',\n",
       " '34f71e03-b45f-4781-957e-d98924b66f98',\n",
       " '9f8ee9a6-cf06-4606-ad9f-8e64043bb585',\n",
       " '43d36ac1-9721-4a3f-b20c-dd502fb7efa1',\n",
       " '3be4e051-45af-4b97-9cd7-fd7fd5f68a86',\n",
       " '9b23ef50-ec17-4ae9-9d16-b6f104663631',\n",
       " 'a2e01955-a221-4775-ae59-a1bb0df2fe87',\n",
       " 'f12eec63-6150-4cde-8da4-c6b3d97b1bae',\n",
       " '304beb3f-db99-4ea4-83d8-4cfc03c06785',\n",
       " 'd4bc6d10-64e5-4512-8104-23c1ca70f9b8',\n",
       " '06f4ee63-a84c-48de-bf65-fdf0b9fa39db',\n",
       " 'a9cc3bff-b276-4677-b9fb-850f98437dcd',\n",
       " 'eeb11d09-d30a-42d3-b2cf-c91cf12eb40d',\n",
       " 'da6381d5-751c-4337-b7f2-4570939fd34a',\n",
       " '36f8ccdb-f478-4e79-b759-e35bf1c1ce6c',\n",
       " 'd171dd3c-e148-4515-bbe0-5d75b05d5d04',\n",
       " '9fbcb29f-7e43-4942-a5f1-003298cd294d',\n",
       " '23d83523-97f2-4050-80a4-fa458a0ccd9d',\n",
       " '04b6e365-327b-4bc5-86a0-77889b530634',\n",
       " '7ce67557-6763-4fa2-a947-e5784a588827',\n",
       " '10f07ca0-5ffe-489f-9719-cbf036112744',\n",
       " '73cfe77f-3263-440b-a6ad-413d3e72d53c',\n",
       " '32339c26-614a-4f86-b9ee-7de42e4b3b77',\n",
       " 'f0ba9df5-80ce-4c54-9f9e-a57bca9ac7f7',\n",
       " 'e1929b34-3439-4084-a96e-8dea7a93973b',\n",
       " '3f192383-213d-464f-9df7-44ac080f69d7',\n",
       " '128d7da8-13eb-4a25-b680-4bddc673353b',\n",
       " '27e6a937-64bd-4bbf-ad32-5358b9d11161',\n",
       " '0c2695a2-4735-4321-b52d-1460c5c54628',\n",
       " '52d3795c-8601-4cf4-ba2e-3618930f0a07',\n",
       " 'ac118b9a-e668-40f1-95f4-43ee5f4a950a',\n",
       " 'd394bcb8-c5cd-4c0d-8bfc-d7d3098b2b66',\n",
       " 'cc3f8e36-7a6b-4e41-9e10-e86f0951db4d',\n",
       " '0d4d2a11-f47f-44de-964c-3f5fbbad994b',\n",
       " 'c7b04168-c04a-4295-aa6f-98ccbd875a76',\n",
       " '468e98b3-1092-4333-ad02-ac5d3971bda1',\n",
       " '566db106-2755-4e48-9437-0329925ec273',\n",
       " '80bb976f-7b91-4000-8a02-59423706d1b1',\n",
       " '6566b7d6-023c-4e4f-9173-6d3fd66df68f',\n",
       " 'be936c70-dd6a-47e8-9bf3-43623d47c5ff',\n",
       " '3bea28e4-2945-4096-be45-8b42cdbe3545',\n",
       " 'dd75e583-5ffb-45b9-86dd-225edf9f4bf6',\n",
       " 'cede1857-1513-456a-9900-b19ff41bbd70',\n",
       " '8be64b3b-076b-4e0d-ae1a-aafc9c2cb900',\n",
       " '36430b46-c6fb-4a49-9c26-7db4f3f0f789',\n",
       " 'bd5a714f-afa8-4686-aaeb-e2f44083deb1',\n",
       " 'e2b4209c-6348-4f5e-82fc-ac2ceaecc63a',\n",
       " '6bf9d385-f4cb-4055-858f-a131a864cd7e',\n",
       " 'bffaeb6f-0676-47d5-b2c3-62afd526822b',\n",
       " '51628ca6-8c6b-4489-b6c6-3c5a448e0d18',\n",
       " '78539989-a622-4b9d-9f3f-f6061a7995ea',\n",
       " '863d25f6-0e67-4c9c-ba4a-81280b10b38d',\n",
       " 'e92c9152-6f46-44d0-966b-9baabbb23ca0',\n",
       " '8bbd67e4-5c04-4e7c-8e40-3272e88d1060',\n",
       " 'b37b3b00-f8b6-4b92-9df7-666c16d6825d',\n",
       " 'c14a7c50-2f58-4696-ba06-49ff2b143af9',\n",
       " 'c95237f5-fb78-4ca6-8e4c-6201617163b3',\n",
       " '269fd2f0-8587-48de-b5f4-a64f883d419e',\n",
       " 'f0c7572c-f297-41aa-988e-f5128c649f3d',\n",
       " '24a45d76-d95b-451b-bcbc-bf7d113067d3',\n",
       " '1743c2f1-6ee2-49b8-b705-ecb53b794dfb',\n",
       " '2c5ff3c5-2327-4873-915d-ca6cbeddaefd',\n",
       " '597616f6-3558-45ae-87d1-412be0686fd9',\n",
       " '35a5a96f-7dfe-4507-b680-97b54b9304f0',\n",
       " '831135c3-238b-4cad-b032-eca5f14b769d',\n",
       " 'a6b23606-dcf3-4d15-bbc8-8bc1b93a9f03',\n",
       " '7c99ab72-2b35-474e-af75-5e1efabb0745',\n",
       " '63ef6ca5-27ba-4ce1-9456-6bd3d88f5637',\n",
       " '8a9e7dc1-1846-4e54-b4d2-60f2ed94e3b1',\n",
       " '19ebf5a8-6ed4-4305-b085-d98e14c5711e',\n",
       " '23da6d05-d399-41bf-83d7-0ff7b29fff59',\n",
       " '42a72235-ea95-414f-a265-6d8f9aab848e',\n",
       " '426b6e73-c90f-4938-acab-6ac29421839b',\n",
       " '7d1336d6-8435-46ce-93c0-b56805f1ee7a',\n",
       " 'fa5ccb10-e041-4d97-a472-8dc5593e446b',\n",
       " '9565e6e4-30c1-4bb4-b432-2a2bb79fe245',\n",
       " 'fc968a7d-75ff-48e6-bcc5-f8db5aff9a8d',\n",
       " '3c87a657-f9fc-434b-8c6b-eea35068bcb6',\n",
       " '5632d86b-fcc5-4ff1-aee7-218bd6d5407d',\n",
       " '986f049a-3580-485a-bae4-e56ac1b0e7fe',\n",
       " '6486087a-cd27-4a4b-91de-3c21218a7251',\n",
       " 'd822df61-356a-4c33-a9b6-5b203082fa9a',\n",
       " 'f6d7ddf3-ab40-4b52-9cca-17225d614b6f',\n",
       " '04d1273e-427f-4b3d-9fdf-4925ac8cdfbf',\n",
       " '6fc7d9fe-bbd9-4353-a09b-4b2355491075',\n",
       " '6e01ed74-f99e-40c0-93e2-a41fade3d30c',\n",
       " '24300839-63c3-4e40-b03f-e0aa4be79aed',\n",
       " '4368a8d0-e629-435c-9f23-d85e59f6546f',\n",
       " 'c7c7d1e3-c028-416d-992a-75869b2b9233',\n",
       " '9643983c-4a73-4142-9ab6-003a5591b13e',\n",
       " 'f0c0a0eb-54da-482d-a2fe-e49e3e19a2fe',\n",
       " 'e3dd0084-a5cf-4563-a2f1-00e89e9861bd',\n",
       " '7f648692-9169-4eb2-8d25-1b5c13051eb1',\n",
       " 'a0965e70-5be7-4325-86a4-966e741e795e',\n",
       " '21887424-2c77-485b-baec-453f8d1d030d',\n",
       " '99068c5c-e694-4068-961d-bb2c880acdac',\n",
       " 'ace699f7-c4d9-4651-902d-997c3c42de8d',\n",
       " '7c97d6fb-543b-4f24-bf70-6f8b33056060',\n",
       " 'ecfc7668-d38b-40a2-85b1-32728907f287',\n",
       " '272cd356-81fc-432d-90b5-dc239c719ca7',\n",
       " '6f7837b3-2abe-47da-a17e-13908b5154d5',\n",
       " 'f83e22a2-4217-4621-a642-5f832b714b16',\n",
       " '10ecc45e-01f8-4418-ac66-713d3f412cb0',\n",
       " '66d8974b-8e3d-46e5-829d-3e255246b33f',\n",
       " 'f0374dba-fb99-4c4e-a4bb-7c13f35c405b',\n",
       " '86b26962-10a3-469e-a7f7-657e9fcd9374',\n",
       " 'd1ff3a04-f06d-414e-8460-e1c249b8880b',\n",
       " '8df60223-b43e-48d6-b2e3-7772579e102f',\n",
       " 'a234d571-c16a-4cba-bb56-6b67bcfb7515',\n",
       " 'e793734d-befd-476b-8fc6-50e2ac2cbeef',\n",
       " 'f6c4f13b-bfc4-48f5-92ca-385d3ae9b922',\n",
       " '36ea499f-9593-4fe5-8626-ffe9c11f32f6',\n",
       " 'a6f18d30-17c9-4a87-b96a-accc3c671be5',\n",
       " '00c44a3a-1820-40d3-be54-547b3f6cd941',\n",
       " 'e36c2949-c349-4dde-bb25-613fb785cacf',\n",
       " '6cff8e88-0858-493a-9d8c-3c421be11f87',\n",
       " '44ec6552-8833-4b19-bd03-95e9a1afcc4c',\n",
       " 'b37f7b18-e665-421f-ba4a-bebad616ebc8',\n",
       " '935a2065-4e62-42a1-b910-2dda89073eb5',\n",
       " 'ffab8cb5-0115-44c4-ac62-afe3282cc4a6',\n",
       " 'e04c205f-9a75-4f21-bd1e-e54573c59040',\n",
       " '2b19d241-c1d6-4c29-8ef3-b75d58943a12',\n",
       " '4c9adc19-4a4b-4553-a0f1-038623eaeb2b',\n",
       " 'f64458f5-b0fa-4a07-91d5-6189dbca2074',\n",
       " '3c9b14fb-df20-45e5-a5ac-91f487d30117',\n",
       " 'b81785f4-ee74-4808-b504-ae9794a4953b',\n",
       " '744605dc-9cf9-4233-8385-2f326a3550ce',\n",
       " 'b70d55b1-a84a-4e86-9c43-9e3410b9042b',\n",
       " '5e57b2a7-a8b0-4c21-98f2-5b22abd2a2f5',\n",
       " '2f9d199b-afe6-4851-a191-d211ab1fed83',\n",
       " '67e43531-8145-451b-a475-1aa8fd9357a2',\n",
       " '961c8e0a-8c0f-4331-a159-399caab0e5e6',\n",
       " 'f48f68c8-29b8-4648-aab6-aac4b21d0b2a',\n",
       " 'b59ac9b3-6949-49b1-a3ec-bf08f639f3d9',\n",
       " '4a846fbd-f990-4614-99dc-a1e67492e88d',\n",
       " '75f15022-ac18-471f-b8dc-2ee39dfa1182',\n",
       " 'a438f257-d3d9-450b-9d22-fda290e193d2',\n",
       " 'abf70b90-deef-4a06-a2b2-558e9bc5d7d8',\n",
       " '400b4ee0-9485-4cb7-83ac-fe37c9b1e6ae',\n",
       " '0907fc02-a5cb-4c6f-a9ee-2c9e7aa30759',\n",
       " 'b7544393-9d12-4b48-8fa7-bf46c2023c39',\n",
       " 'da2a701a-0388-4c2e-8dbc-ee243df7122a',\n",
       " '4d181629-880c-4b44-85f1-dbd8acdcb085',\n",
       " '077b9f23-6090-4829-83dd-75b9cf06998b',\n",
       " '5cdb0ba3-efee-4a30-a487-5fb5f875a501',\n",
       " '8f23927d-ed6c-48b3-bd81-c4d9a9f5a27f',\n",
       " 'ac985dba-0873-4fc2-ab9e-df0fb9856892',\n",
       " '156b39b8-584d-49df-a630-c9bc4839000c',\n",
       " '60d8ab3f-5be5-468f-9e8d-9a90efa30092',\n",
       " '7dabd824-bf76-49fe-9fc6-53add6371781',\n",
       " '6fd82e4e-268e-4402-9c33-ad64a1779fe5',\n",
       " '21efae62-0cc7-4188-90d3-e4b617d9021c',\n",
       " '6902eadc-b8f0-445b-906b-918f0bff8bef',\n",
       " 'f0038af0-5868-44ca-a8cb-678b0731c1cb',\n",
       " 'daa6105b-8986-4038-bf1f-2a4f2553b4d2',\n",
       " '56bd6154-3f55-45d6-9461-5daeeead95f0',\n",
       " '37340631-99de-4e74-bab1-e2041ebd057e',\n",
       " '717841bf-c098-445b-9365-90e25fecacf2',\n",
       " '8c1d43cf-282a-4bc3-b92e-8257c261f02b',\n",
       " 'fd08bf7b-2ec8-44f4-98fd-6dec586c3a93',\n",
       " '0e1d74c5-e761-4dd3-8586-3336169697db',\n",
       " '3288067b-3044-4af2-be8f-225bdebfd408',\n",
       " '11849c2a-1640-4e71-8301-95c83b8b2566',\n",
       " '4769346a-3b8c-4684-b9c3-4e8c7394766c',\n",
       " 'fb976c53-92e2-46fb-bbc9-60b14c424f3c',\n",
       " '89f57463-1843-4cc5-8b12-4214cd0c1d7f',\n",
       " 'a1072e26-79b3-4526-8ed4-75d401ed5f0b',\n",
       " '672ffca4-061a-43bb-bdb9-0be8c3925af5',\n",
       " 'e72e3297-fcd3-45b4-b4f9-505c6b561d9d',\n",
       " 'f31547a5-71fc-4734-918f-f40d5f942615',\n",
       " 'a6785690-5acc-4ed3-a9ee-86afe21af5d4',\n",
       " '5d22c312-627e-421c-9a5d-25d2d8d2ea00',\n",
       " 'bf0e4db7-b72c-43b8-935c-ee46d29dcdf4',\n",
       " '60ac85ec-b33c-43db-9a33-34ca5a385a05',\n",
       " '0eef150b-b596-4c36-a184-3e8b6c940927',\n",
       " 'f319be89-84fc-47ea-9fea-586fd9f2232a',\n",
       " '078de640-6ee3-4bf2-8da0-b1dca485df64',\n",
       " '793c9603-2e4c-426b-9518-89ed356ccf54',\n",
       " 'a36f7835-6995-4b2f-a678-6ff688799cb1',\n",
       " 'fe4611f1-c0bc-440a-b605-e49083f4715d',\n",
       " 'fb355a71-e780-4448-b173-2324c0e12633',\n",
       " '3029ef33-ba68-429c-9254-a6f0802d2a36',\n",
       " 'c11e38d5-e1e2-490d-a878-75ddbfe69ddc',\n",
       " '107cd309-6603-41ff-b2bf-d2ac580dedca',\n",
       " 'b6cd0ae7-0512-4918-b2e3-10e9cb7e3c54',\n",
       " '950d5070-45dd-4d15-ab84-f19767971960',\n",
       " 'c224c767-e5fe-44bb-a5c3-5254e843178e',\n",
       " 'e6d9d7f5-ee47-41ee-b055-3445646d87e0',\n",
       " '4a7cd44f-58eb-4c51-990f-0fb9fbbddd7e',\n",
       " 'e802d371-1dc3-455b-9dd1-bfa3ab5c29ca',\n",
       " '796dd99d-380c-4517-afbc-5392f420c7f5',\n",
       " '5fd17cb4-60f2-4d1e-a440-91a3a8bfd624',\n",
       " 'b24d147f-6a31-4f0e-af72-dbb656334269',\n",
       " '1b7c881a-6562-4da6-9457-e7d3dfb57d2c',\n",
       " 'cd1d89d9-f451-4eff-b8f8-789e568a52ac',\n",
       " '9eabde69-316b-4c7e-bf9e-21ea1c3401b2',\n",
       " 'ca3129f9-930a-4362-8aa8-a7e639696a46',\n",
       " 'f247bdd6-9860-4e6f-a8b7-e03c9ddf3e9c',\n",
       " 'fd3d856c-c5a2-4284-848a-78da76131783',\n",
       " '1bc03533-6f69-49a4-bc5f-1c6945f5362a',\n",
       " 'bc095973-3ed0-4a68-b4c4-1f9ebe52e579',\n",
       " '46b4fb50-e2fb-4050-ac15-7510f5f1ba2a',\n",
       " 'ae8bbe40-445f-4c05-aff5-d5fee2babeaf',\n",
       " 'd8200550-3c57-487d-b7c3-6757b0e57110',\n",
       " '6f073bab-3ac6-4153-a1bb-bf381b3eb6fc',\n",
       " 'c0d0df1a-b51f-4d2d-b7f8-c6561bb7c504',\n",
       " 'e37d1440-a732-4cc4-883a-1f6f8f7c4d7d',\n",
       " '95629223-6c8e-4449-aec9-d420cb668015',\n",
       " '7d517df5-5737-4f1b-9a24-e7a47009976e',\n",
       " '893d0e02-8ee0-4f54-8698-96bbe4a88364',\n",
       " 'f3d22e70-91d3-481e-8378-755564fa8954',\n",
       " '299bba9b-2093-47f1-a03e-527ffb2bebf0',\n",
       " '8b9391ca-6085-4de1-aa3d-53327976378b',\n",
       " '0e2788e9-43aa-4fe2-a1b3-ab14d04af70c',\n",
       " '87f6a9cf-d2df-49a5-a037-c828d432aa39',\n",
       " 'ce060ce6-a536-487d-9d29-ef46b5020b4b',\n",
       " 'dd802dac-daf2-49ed-9a6b-a816294d3fc5',\n",
       " '848f29e3-ae49-4c49-8a78-dcf83316bdf6',\n",
       " '90e74881-860d-426d-9628-06840cee5eca',\n",
       " 'a8ac1397-0afc-4e51-b918-d8570eaeb625',\n",
       " '163fc31b-9f0f-4639-adb1-be9afb705b4d',\n",
       " '9de0a48f-2da7-411a-85a6-3a31ed1d861d',\n",
       " 'c6e210d2-a1be-4883-b758-22fe8926ad7a',\n",
       " 'b62504f8-8079-4603-a516-1b5c9ab08876',\n",
       " 'debb6a7e-6b72-4723-b82f-702116cf1694',\n",
       " 'ebcc7b51-d96c-4dd4-8c66-9c1c376abe88',\n",
       " '9b05416f-a2b6-42ac-9128-6033ea96d9dc',\n",
       " '05a8d08e-966d-4a3c-a220-1a8035298f6c',\n",
       " 'e5ca2832-615f-4420-913a-487dc4ecb06d',\n",
       " '9d71c5dc-1b6c-4834-a674-95a604b1fead',\n",
       " '99679d36-df25-4b76-bd84-bfac1fa6abd8',\n",
       " '1a772a03-15b0-4a34-8895-d088d9209001',\n",
       " '09ff20b7-d61c-444b-b9cb-eb0d5f2b73f7',\n",
       " '0b3f072a-c324-4f22-afdd-568de0a5c98c',\n",
       " '7d75833b-eb24-4eee-8724-bff93f6d8b6d',\n",
       " 'cf6e9c35-07ef-4fec-97ec-abd12b288774',\n",
       " '54aa4ff6-751c-4b66-ac85-45d422fa28fc',\n",
       " 'd9e6522f-cb47-4a4f-b54a-09ba0ff347f8',\n",
       " 'e0ae7506-2caa-47e0-bc6a-336eff576b6f',\n",
       " '542dc65c-1a0d-4821-b1fe-effbb4c5d2ca',\n",
       " '47f71c72-0210-4305-80d0-3d3eb0294cdb',\n",
       " '44d4aaf5-2a84-46b2-a768-6548e99c907a',\n",
       " 'bb638b62-eef2-43e8-ba6b-57bb5e51e47f',\n",
       " 'fe6508be-4d07-4833-8558-ab1eb3d422ad',\n",
       " '4854e224-f212-409d-afd3-0bc401d68337',\n",
       " '4a8be5e0-cfd2-4706-a67f-af11108434db',\n",
       " 'b2b0d649-5ab9-4b1c-a14e-8b19d51db41e',\n",
       " 'd5e4e908-ec8c-4d35-9620-ab57733be238',\n",
       " 'bb079a70-d961-40a0-b9a0-c5b78b9d6907',\n",
       " 'ff0a4e83-63e3-4cbc-bd01-b84f24efed9d',\n",
       " '389c81c7-dd28-4ef8-b34b-a9d3215a7301',\n",
       " 'f1508146-47c4-440a-886f-7f77147440ae',\n",
       " '7e97b872-713d-400d-9472-f8987a9ed219',\n",
       " '913fd6f0-8512-4a75-91ab-b1430086bf37',\n",
       " 'b2125672-b2a6-477c-bd2b-8007594ddf74',\n",
       " '1ed7033b-8793-4529-898f-0f4339dccf2e',\n",
       " '374fa1bf-8c97-47e7-922a-446ba99c1a73',\n",
       " '3420ca60-38b8-4a21-b0a0-7b1903639bb4',\n",
       " '13e77326-3823-436b-89c0-0f26b662a01a',\n",
       " '979f6fc6-3fd5-405c-a385-4d428f03a33e',\n",
       " '2d8e66a5-98bb-4cbd-a84b-fd6f5a0b9c50',\n",
       " '37b8cbfe-e1b8-4a3f-90ff-ace07c6a8d6c',\n",
       " '53a82964-b0e1-4be0-bdf1-08aa264f4542',\n",
       " '93e3e249-00aa-4f5f-9e56-558a93a92f2f',\n",
       " '99862b5a-5194-4fb2-beb7-a6c2110183b1',\n",
       " '9b27485b-f5b4-42f1-9ad2-ee390c68d57f',\n",
       " 'e2599450-ccf5-46c1-bc89-73a1c186bda0',\n",
       " 'a912ce21-7667-42dd-9197-0bd41e4b4f25',\n",
       " '97a9bc28-d9a0-49a4-9c74-d4d86f4aec58',\n",
       " 'e3cf65fd-50a8-4331-a840-65ffb1fdb46e',\n",
       " '6ad27097-3b4a-4e73-98c1-a5b267ee0658',\n",
       " '2891553f-bff3-4826-b140-6189131ead4f',\n",
       " 'ebc257dc-04ac-470f-bf71-fc49fa4f2906',\n",
       " '94f33691-0667-4ed5-b145-f5bb8c2c0eed',\n",
       " '6f0cd5b8-3cd8-4e9b-a811-4ec8b53d806f',\n",
       " '3cf7ed1e-bd72-4fb0-98ac-363f43299416',\n",
       " '1b88f32d-022e-4082-8574-c7b0263e7445',\n",
       " '64de5c38-3fa4-466c-a869-49433ef43381',\n",
       " 'c1c5141c-7ec9-441b-adcf-bbb4c3284530',\n",
       " '0212d1d9-cecf-4728-80e2-8d5036940d6a',\n",
       " '650cc3f6-ea37-4958-abaa-c5ad04f426ab',\n",
       " 'c0fcb8f5-a197-4254-a2da-756aab247373',\n",
       " '60bc870d-724b-412d-a173-8c8507461e7e',\n",
       " '26ad0eb2-e77b-445a-ad76-6b82c86a4166',\n",
       " '7a442f7f-8de5-4263-b198-71e11ddb931b',\n",
       " '48d0c13e-9686-4fb0-8fb8-86f2590ec864',\n",
       " 'b6b6e711-15ba-40ef-9086-1c0bddc111e6',\n",
       " 'fe18e31d-b843-49fb-aded-8500af4fe231',\n",
       " '51093fd7-8613-41c6-ba5d-5a3776723d73',\n",
       " '36619f11-561f-49b6-b053-c082e6975402',\n",
       " '4a12582c-830a-4a6c-93c9-718b7604abd0',\n",
       " '97110d50-82c8-4c3b-acdd-a51d64af1f29',\n",
       " '4b7b4714-d2d4-4f73-b744-6eaf6e0be4a3',\n",
       " '5d6c8a05-464b-480b-ba22-3f8c87f7946e',\n",
       " '420e2b2c-9dd9-4ca4-b06b-3eb53f36b7f8',\n",
       " 'a3802d09-2f36-4112-a66f-14c67160f583',\n",
       " 'ce6e636f-e74d-434d-b1be-ac4191ea00c9',\n",
       " '413aa411-82cb-4617-900f-18a7c36fe4fe',\n",
       " '5ecd3e7c-9d6b-440b-bcf1-7bc79ba79345',\n",
       " '05d21e26-c619-4b10-8b7c-a44730a095ee',\n",
       " 'e48c07bb-58fc-4e39-b11e-122e1732b1d5',\n",
       " '571e704e-67a2-4e11-a9d2-42702d993bdc',\n",
       " '6c4ba527-362e-46e7-86de-c472fe41f76a',\n",
       " '8c9b1094-f171-4535-99bf-d1a487ec9757',\n",
       " '8632cca1-8480-4b59-beb3-8bb4d86c9449',\n",
       " 'cc30dffa-dbe0-4eb8-8d06-d845a2afdf2a',\n",
       " '97ecd25f-5206-4511-ba23-ddae01504a56',\n",
       " 'fb4265f7-ed99-4f7b-a03f-6c5fb16803a7',\n",
       " '73126b97-6264-424f-aa59-3e5426e1fc26',\n",
       " 'b915b6c4-0db0-4fdc-9069-d89775416f6b',\n",
       " 'fffdfd73-a0cc-43b4-a5d5-5e8912678001',\n",
       " 'd01432e2-5d11-459f-ba25-3f6fe0d50eb8',\n",
       " 'b6dccdc5-f909-479f-9b2d-3231de9dfd21',\n",
       " '76da6120-3502-4f00-b82b-442ad081c529',\n",
       " '4ae89120-1f95-44e0-8c37-aab5facfd9b4',\n",
       " '486e121a-ba0e-47fd-8523-ee33d43526a9',\n",
       " 'e6684de8-56d4-4235-b1ed-90b1ee7747fb',\n",
       " 'c84b3343-0563-4db1-afbc-292283bebdb9',\n",
       " 'ab59fd96-bb46-4399-8969-7b8b26d49cab',\n",
       " 'e2d7068e-d1ac-4207-8430-e3645f6807c0',\n",
       " '1c168342-3e2a-4829-a6e0-66c65d0242a1',\n",
       " 'a650cc37-2888-4c94-bf95-cc5fa1a909a4',\n",
       " '9042cb41-d483-48ed-8ee1-51c70553b8cf',\n",
       " 'a76fbea5-b65b-468e-81c3-9fe76e7a8926',\n",
       " '0fee0c13-4098-4ab0-aaea-7bc4c2390c7b',\n",
       " 'dde335bf-4105-4c10-ac4c-f2f3cd22c176',\n",
       " 'd95c6112-8007-4714-a4cc-9588e197ca4d',\n",
       " 'aa8e46d1-5148-4e8d-9846-7abf600cd623',\n",
       " '982762c1-1fc6-4825-ba1c-870d08cb8fd1',\n",
       " '075dc356-25d0-4ec6-aeff-8c8eee39bc96',\n",
       " '9df7b0fe-1a0a-4f72-a023-30bc9c71b916',\n",
       " 'be72b118-dce1-43e0-8f30-dfce74c53207',\n",
       " 'e5c26b90-36d6-4751-9e7a-fa81fa261be7',\n",
       " '96793e0f-3be7-4460-b2e3-32bc9c5408eb',\n",
       " 'ea9ff35c-497a-464c-89af-8b14f94926fc',\n",
       " '486a6f70-f4d2-4da6-84f3-e3cf39edf0df',\n",
       " '34df4de8-b1a9-4e04-8c76-f22cefbc8eaa',\n",
       " '6ee43c18-74c9-4777-a399-56723a68811e',\n",
       " 'c077b340-183e-4f77-b9f8-09bd9b91dcc0',\n",
       " 'edf16ed6-ae74-4ebc-9b1a-8f102559030d',\n",
       " '782a9a44-ef1e-4fa3-8cbc-4242506cb52f',\n",
       " 'e2907129-b098-4915-bdeb-aa9ff45c223f',\n",
       " '72f4ab3d-4432-4940-80e7-935976e99ab1',\n",
       " 'c753b76d-559f-445e-816a-93ce96353a25',\n",
       " 'd260c992-45e7-4de7-812b-0d0bd3a11f50',\n",
       " '0cdd03c0-af8b-4ed9-84d0-ca35bd9ab87d',\n",
       " 'f84361e7-9ebd-48dc-89e9-3bb1f80c0023',\n",
       " 'a42bbf2c-8410-4363-aa6d-0f2b7b1f16a9',\n",
       " 'b5812158-cfb6-4fde-a73d-8e284cc13cc8',\n",
       " 'b3dd66a0-c708-405c-a014-c26e7b309dc9',\n",
       " '055d761c-0747-45c0-8723-3bebb05d56f6',\n",
       " 'a82acac2-69e5-41b3-8514-36a3b36db962',\n",
       " '0c1308b0-9e25-4612-b9da-69242cb75c43',\n",
       " '68da0725-5c0e-448e-9f27-e7b4a75e84a8',\n",
       " '65ce4ce1-6788-4622-b679-69d81e8824b2',\n",
       " 'd88917f9-6251-4f47-8ab0-c92dbbdc8218',\n",
       " '1a5bb208-f396-45de-b5d4-b5d537396896',\n",
       " 'c9bfde61-7a85-485f-83ba-245b296a1785',\n",
       " '8ee1eb82-2968-4d75-9210-6c12bf6ffca2',\n",
       " '6a44351e-6619-4433-bef2-bddd18fb1095',\n",
       " '249142db-5667-4688-931a-13f9ccdbdae3',\n",
       " '354e974a-851c-4502-b9a0-560384280ffb',\n",
       " 'aa469a56-ce87-4072-a668-7f828a87d8d3',\n",
       " '4803f71b-7584-4cf2-974c-8049b6155819',\n",
       " '8bb3dd1b-1cf6-4049-b7ce-2e1692196326',\n",
       " 'e0833936-2987-43c6-badb-dfb9850e0b9f',\n",
       " '00c376e4-4dfa-4aa0-8337-04626ce98475',\n",
       " '3960456e-3836-4dd7-95f8-247fa9da4963',\n",
       " '962e8715-e109-4ca8-86cc-d70a0e4e538d',\n",
       " '801d85b4-a9f1-43df-9582-bb7e7bb47541',\n",
       " 'cf030cea-4a8e-4b70-bff4-0f3778a2ef1b',\n",
       " '6b08fd23-6657-4de8-bc32-ed21b2031aa4',\n",
       " 'ce00005d-ed95-4530-a7f6-f1a11b30141e',\n",
       " '18669033-6783-4be5-9b50-a467b728245e',\n",
       " '21ad3b29-ad18-4f1c-a242-d1b88c3f9cbd',\n",
       " 'ec610ae5-fa7d-4c83-8d9b-895b6ecc4b2f',\n",
       " '004b3c84-48c3-4574-853b-da08a112867b',\n",
       " 'c9d62aaa-890f-4e07-873f-be84073abf15',\n",
       " '0268616c-4c66-4f0c-9c8a-7af2e0a59357',\n",
       " 'a6bb6833-de95-4a14-ab25-a9260802c48d',\n",
       " '8739039c-dcda-40e8-acd7-5b4bd029bbae',\n",
       " '322c9675-ed03-41fd-ba8f-fa862abf2911',\n",
       " '528c1a09-12db-4baf-807e-2f0010e918ee',\n",
       " 'b2e5ea96-bb45-4e2e-acc9-c13befe2c122',\n",
       " 'da1961f8-0638-4316-9355-2328736eb3a4',\n",
       " 'f8e70045-6ecf-42c8-99fd-25a771055727',\n",
       " '22cfabad-53df-4834-9ed2-24e492ea6982',\n",
       " 'a2f3f2b2-42d7-4d2b-a0b4-9fddf9bf25bd',\n",
       " '8304babb-64d0-4dc5-85fa-335b8826f7bb',\n",
       " 'a5b4c88d-1640-40ef-af98-9152f2c3d47b',\n",
       " '19d06fe2-fb04-411c-812a-a425e589448e',\n",
       " '6dee130f-b727-4879-a2c4-7aaea146ebf1',\n",
       " '17864b38-f3ec-40f7-b58d-64ff5373fd69',\n",
       " '922bda71-f85e-465c-89df-97f493f07090',\n",
       " '54cf492c-42ec-4724-b000-39eb89becba8',\n",
       " 'e7744870-67c3-4b45-adbb-bfaaace6b9be',\n",
       " 'bf8f9842-b756-4ecc-83da-17cac7a851cb',\n",
       " '60a9be02-6542-4d36-bcc0-7f966a24caa3',\n",
       " '5896f5d5-23e4-4a93-a28e-b12ddf02cb21',\n",
       " 'f580b93f-c95d-47e8-b034-0c29d97825ba',\n",
       " 'd3a0259a-ca18-4328-8852-aff6a9517ecc',\n",
       " 'a95391d3-d884-40cf-b67d-5e14cf0ddaf4',\n",
       " '08a5fdce-e815-427f-b60c-a744732de7ba',\n",
       " '7cc1ee89-4e9c-4bf7-afb4-9936288f4f43',\n",
       " 'ce738888-9367-44ba-9fd3-53a22918e3f0',\n",
       " '0ac21303-f354-4b40-9fce-e082ef2e6225',\n",
       " '01947a78-974f-41bf-965e-439eb55962fe',\n",
       " 'da53959e-23a9-4a06-8269-fc34f59932e1',\n",
       " '888093aa-a81a-4fca-a69c-dbb54c59a71d',\n",
       " 'e863bc2e-93eb-4ca0-b3af-5412c0ba0759',\n",
       " '8e0f04a2-3367-4b20-a93b-7021a9137b28',\n",
       " '2b8e20b8-ebc2-4f5f-b162-4fa3f04eef93',\n",
       " '0d7ac41b-1f01-4085-aef0-b6f88e03b814',\n",
       " '0b2dabd2-2ebe-4b30-908d-adbef70079c7',\n",
       " '61bad1f0-4399-4526-895c-90595c3d909c',\n",
       " 'c22e1e20-8f22-4266-8231-463c98e030ef',\n",
       " 'fed85a79-c957-4001-be09-f3fcb15025a5',\n",
       " 'd3a2b278-d90a-4918-a26c-03254c32e64f',\n",
       " 'cd016e8b-8c48-49c3-83a5-bb0438216a0d',\n",
       " '6a79f4d6-2622-48e9-b1da-f8ca073d6962',\n",
       " 'd494cd70-8dee-484d-8a3a-7f7ef7911720',\n",
       " '546c0154-32b7-4de1-9fdd-e8177331bc91',\n",
       " 'a8db3fdf-af97-4d17-97d5-4a49c010936b',\n",
       " 'e5506312-bb7f-4645-9358-ceb8a2b43659',\n",
       " 'f9ce5b92-9c04-4398-8c9f-9b4e8d279bae',\n",
       " 'b461932d-62cb-4006-833f-02e0b9833938',\n",
       " 'fffb6888-829f-4c18-bf94-e2890e696de4',\n",
       " '1d57e745-af15-40f9-98f8-a91d2eaa5792',\n",
       " '942a7a65-4815-436d-aa5b-c1ba3e8050ee',\n",
       " '0f2e7d5c-1aa2-434f-84d6-ac77859c1530',\n",
       " 'df2e1a5d-511e-4609-915b-aa9b239c7944',\n",
       " '964d983d-6e8e-4680-b3fe-4de01bd73325',\n",
       " '3e08503a-b0f4-49ae-8ba6-4428e7c47a1a',\n",
       " '5b231645-35f0-45bd-9a6e-02f35e922b99',\n",
       " '6e63ca42-d22f-44d6-9025-3b2fb9f8bb2d',\n",
       " '1e29fe89-c7ff-4fdd-9072-c9cc73d8a83e',\n",
       " '108dc221-55b1-4993-8b66-b9a43862a50e',\n",
       " 'ff4b6fe5-f7c6-4366-9a98-d3d00f006de7',\n",
       " '5c1429aa-88e4-47f2-a6b4-15960ffa664a',\n",
       " 'faefed9c-9f9c-4baa-b06e-c28c53ff39ec',\n",
       " '1d09ef1f-d246-429e-9c74-fa67348b4618',\n",
       " 'e739341a-6870-4034-909f-7f3ef8ab9ad6',\n",
       " '9a4e6aec-331c-488c-a2ea-8aabf4051385',\n",
       " 'b7c597ed-5c75-4e44-a0bd-b187e52cc5cf',\n",
       " 'c82c9691-c0ad-4d1a-9694-d2443f3a244e',\n",
       " 'f7f08739-290c-4a6e-99c4-19c374db0096',\n",
       " 'f890a8b6-006d-4a47-9578-855c2bfd2153',\n",
       " 'ce256677-1caa-4839-8542-4c41ec9267b7',\n",
       " '4206c2f5-f234-43bb-bd06-30463531d405',\n",
       " '636ea219-d15c-4228-b280-1001c92b0f3d',\n",
       " '1004524b-67e0-4620-80dc-863c1edfbaf1',\n",
       " '9b4c2c94-ec3c-4684-b109-87bb31018c20',\n",
       " 'd6fa7cab-edf8-4a8c-86b9-62bba1942536',\n",
       " '0aa881b3-8c09-4e93-8e19-d5fe7d39df87',\n",
       " '4866f916-5811-4dc3-9330-65d445264721',\n",
       " 'aff03aa7-c934-4e36-b474-410affd25191',\n",
       " '498d75a6-415f-4370-b700-5731fde3b677',\n",
       " 'e4fc27ac-f4aa-4f13-928c-396359257ce3',\n",
       " 'e6b26dec-4187-4bc8-a2b4-7e414056877d',\n",
       " 'e418b3ef-52cf-48d8-a547-07d85424c77f',\n",
       " '379d10e4-c078-4c0a-a9cb-8674753efb4c',\n",
       " '73de3862-90d5-4cb9-894a-83bd332d71db']"
      ]
     },
     "execution_count": 15,
     "metadata": {},
     "output_type": "execute_result"
    }
   ],
   "source": [
    "#Loading the dataonto Vector DB\n",
    "vector_store.add_documents(documents=split_docs)"
   ]
  },
  {
   "cell_type": "code",
   "execution_count": 16,
   "metadata": {},
   "outputs": [],
   "source": [
    "#Creating a retriver object\n",
    "retriever=vector_store.as_retriever(\n",
    "    search_kwargs={\"k\":10} #HyperPArameter, specify the number of records\n",
    ")"
   ]
  },
  {
   "cell_type": "code",
   "execution_count": 17,
   "metadata": {},
   "outputs": [
    {
     "data": {
      "text/plain": [
       "[Document(id='ca6204f9-df36-4600-a367-259b7930a6c6', metadata={'producer': 'pdfTeX-1.40.25', 'creator': 'LaTeX with hyperref', 'creationdate': '2023-07-20T00:30:36+00:00', 'author': '', 'keywords': '', 'moddate': '2023-07-20T00:30:36+00:00', 'ptex.fullbanner': 'This is pdfTeX, Version 3.141592653-2.6-1.40.25 (TeX Live 2023) kpathsea version 6.3.5', 'subject': '', 'title': '', 'trapped': '/False', 'source': 'llama2.pdf', 'total_pages': 77, 'page': 3, 'page_label': '4'}, page_content='work (Section 6), and conclusions (Section 7).\\n‡https://ai.meta.com/resources/models-and-libraries/llama/\\n§We are delaying the release of the 34B model due to a lack of time to sufficiently red team.\\n¶https://ai.meta.com/llama\\n‖https://github.com/facebookresearch/llama\\n4'),\n",
       " Document(id='8b9391ca-6085-4de1-aa3d-53327976378b', metadata={'producer': 'pdfTeX-1.40.25', 'creator': 'LaTeX with hyperref', 'creationdate': '2023-07-20T00:30:36+00:00', 'author': '', 'keywords': '', 'moddate': '2023-07-20T00:30:36+00:00', 'ptex.fullbanner': 'This is pdfTeX, Version 3.141592653-2.6-1.40.25 (TeX Live 2023) kpathsea version 6.3.5', 'subject': '', 'title': '', 'trapped': '/False', 'source': 'llama2.pdf', 'total_pages': 77, 'page': 42, 'page_label': '43'}, page_content='10.18653/v1/2022.gebnlp-1.13. URLhttps://aclanthology.org/2022.gebnlp-1.13.\\nAlonTalmor,JonathanHerzig,NicholasLourie,andJonathanBerant.Commonsenseqa: Aquestionanswering\\nchallenge targeting commonsense knowledge.arXiv preprint arXiv:1811.00937, 2018.\\nRohan Taori, Ishaan Gulrajani, Tianyi Zhang, Yann Dubois, Xuechen Li, Carlos Guestrin, Percy Liang, and\\nTatsunori B. Hashimoto. Stanford alpaca: An instruction-following llama model.https://github.com/\\ntatsu-lab/stanford_alpaca, 2023.'),\n",
       " Document(id='498d75a6-415f-4370-b700-5731fde3b677', metadata={'producer': 'pdfTeX-1.40.25', 'creator': 'LaTeX with hyperref', 'creationdate': '2023-07-20T00:30:36+00:00', 'author': '', 'keywords': '', 'moddate': '2023-07-20T00:30:36+00:00', 'ptex.fullbanner': 'This is pdfTeX, Version 3.141592653-2.6-1.40.25 (TeX Live 2023) kpathsea version 6.3.5', 'subject': '', 'title': '', 'trapped': '/False', 'source': 'llama2.pdf', 'total_pages': 77, 'page': 76, 'page_label': '77'}, page_content='models-and-libraries/llama-downloads/\\nWhere to send com-\\nments\\nInstructions on how to provide feedback or comments on the model can be\\nfound in the model README, or by opening an issue in the GitHub repository\\n(https://github.com/facebookresearch/llama/).\\nIntended Use\\nIntended Use CasesLlama 2is intended for commercial and research use in English. Tuned models\\nare intended for assistant-like chat, whereas pretrained models can be adapted\\nfor a variety of natural language generation tasks.'),\n",
       " Document(id='0b3f072a-c324-4f22-afdd-568de0a5c98c', metadata={'producer': 'pdfTeX-1.40.25', 'creator': 'LaTeX with hyperref', 'creationdate': '2023-07-20T00:30:36+00:00', 'author': '', 'keywords': '', 'moddate': '2023-07-20T00:30:36+00:00', 'ptex.fullbanner': 'This is pdfTeX, Version 3.141592653-2.6-1.40.25 (TeX Live 2023) kpathsea version 6.3.5', 'subject': '', 'title': '', 'trapped': '/False', 'source': 'llama2.pdf', 'total_pages': 77, 'page': 46, 'page_label': '47'}, page_content='• Armand Joulin, Edouard Grave, Guillaume Lample, and Timothee Lacroix, members of the original\\nLlama team who helped get this work started.\\n• Drew Hamlin, Chantal Mora, and Aran Mun, who gave us some design input on the figures in the\\npaper.\\n• Vijai Mohan for the discussions about RLHF that inspired our Figure 20, and his contribution to the\\ninternal demo.\\n• Earlyreviewersofthispaper,whohelpedusimproveitsquality,includingMikeLewis,JoellePineau,'),\n",
       " Document(id='9198f005-e404-4e85-af20-7756b3cfe3ac', metadata={'producer': 'pdfTeX-1.40.25', 'creator': 'LaTeX with hyperref', 'creationdate': '2023-07-20T00:30:36+00:00', 'author': '', 'keywords': '', 'moddate': '2023-07-20T00:30:36+00:00', 'ptex.fullbanner': 'This is pdfTeX, Version 3.141592653-2.6-1.40.25 (TeX Live 2023) kpathsea version 6.3.5', 'subject': '', 'title': '', 'trapped': '/False', 'source': 'llama2.pdf', 'total_pages': 77, 'page': 7, 'page_label': '8'}, page_content='et al., 2023). For AGI Eval, we only evaluate on the English tasks and report the average.\\nAs shown in Table 3,Llama 2models outperformLlama 1models. In particular,Llama 270B improves the\\nresultsonMMLUandBBHby ≈5and ≈8points, respectively, comparedtoLlama 165B.Llama 27Band30B\\nmodelsoutperformMPTmodelsofthecorrespondingsizeonallcategoriesbesidescodebenchmarks. Forthe\\nFalcon models,Llama 27B and 34B outperform Falcon 7B and 40B models on all categories of benchmarks.'),\n",
       " Document(id='d786aad4-bea3-473c-9ce7-e0bca995cb77', metadata={'producer': 'pdfTeX-1.40.25', 'creator': 'LaTeX with hyperref', 'creationdate': '2023-07-20T00:30:36+00:00', 'author': '', 'keywords': '', 'moddate': '2023-07-20T00:30:36+00:00', 'ptex.fullbanner': 'This is pdfTeX, Version 3.141592653-2.6-1.40.25 (TeX Live 2023) kpathsea version 6.3.5', 'subject': '', 'title': '', 'trapped': '/False', 'source': 'llama2.pdf', 'total_pages': 77, 'page': 2, 'page_label': '3'}, page_content='Llama 2-Chat, at scales up to 70B parameters. On the series of helpfulness and safety benchmarks we tested,\\nLlama 2-Chatmodels generally perform better than existing open-source models. They also appear to\\nbe on par with some of the closed-source models, at least on the human evaluations we performed (see\\nFigures 1 and 3). We have taken measures to increase the safety of these models, using safety-specific data'),\n",
       " Document(id='aff03aa7-c934-4e36-b474-410affd25191', metadata={'producer': 'pdfTeX-1.40.25', 'creator': 'LaTeX with hyperref', 'creationdate': '2023-07-20T00:30:36+00:00', 'author': '', 'keywords': '', 'moddate': '2023-07-20T00:30:36+00:00', 'ptex.fullbanner': 'This is pdfTeX, Version 3.141592653-2.6-1.40.25 (TeX Live 2023) kpathsea version 6.3.5', 'subject': '', 'title': '', 'trapped': '/False', 'source': 'llama2.pdf', 'total_pages': 77, 'page': 76, 'page_label': '77'}, page_content='architecture. The tuned versions use supervised fine-tuning (SFT) and reinforce-\\nment learning with human feedback (RLHF) to align to human preferences for\\nhelpfulness and safety.\\nModel Dates Llama 2was trained between January 2023 and July 2023.\\nStatus This is a static model trained on an offline dataset. Future versions of the tuned\\nmodels will be released as we improve model safety with community feedback.\\nLicense A custom commercial license is available at:ai.meta.com/resources/'),\n",
       " Document(id='01947a78-974f-41bf-965e-439eb55962fe', metadata={'producer': 'pdfTeX-1.40.25', 'creator': 'LaTeX with hyperref', 'creationdate': '2023-07-20T00:30:36+00:00', 'author': '', 'keywords': '', 'moddate': '2023-07-20T00:30:36+00:00', 'ptex.fullbanner': 'This is pdfTeX, Version 3.141592653-2.6-1.40.25 (TeX Live 2023) kpathsea version 6.3.5', 'subject': '', 'title': '', 'trapped': '/False', 'source': 'llama2.pdf', 'total_pages': 77, 'page': 70, 'page_label': '71'}, page_content='Llama 1\\n7B 16.65 30.72 26.82 16.58 26.49 22.27 17.16 19.71 28.67 21.71 29.80 23.01 19.37\\n13B 18.80 32.03 25.18 14.72 28.54 21.11 18.76 15.71 30.42 20.52 27.15 25.21 21.85\\n33B 16.87 32.24 21.53 16.24 28.54 22.04 19.91 18.27 29.88 18.13 25.90 24.53 19.37\\n65B 14.27 31.59 21.90 14.89 23.51 22.27 17.16 18.91 28.40 19.32 28.71 22.00 20.03\\nLlama 2\\n7B 16.53 31.15 22.63 15.74 26.87 19.95 15.79 19.55 25.03 18.92 21.53 22.34 20.20'),\n",
       " Document(id='99144d35-c2e9-411c-bdad-e5ccefcdce87', metadata={'producer': 'pdfTeX-1.40.25', 'creator': 'LaTeX with hyperref', 'creationdate': '2023-07-20T00:30:36+00:00', 'author': '', 'keywords': '', 'moddate': '2023-07-20T00:30:36+00:00', 'ptex.fullbanner': 'This is pdfTeX, Version 3.141592653-2.6-1.40.25 (TeX Live 2023) kpathsea version 6.3.5', 'subject': '', 'title': '', 'trapped': '/False', 'source': 'llama2.pdf', 'total_pages': 77, 'page': 17, 'page_label': '18'}, page_content='we usegpt-3.5-turbo-0301 model in all generations. For PaLM, we use thechat-bison-001 model in all\\ngenerations. The final prompt count for human evaluations for each model is shown in Table 32. See more\\nmethodology details in Appendix, Section A.3.7. The following section shows helpfulness results; safety\\nresults are presented in Section 4.4.\\nResults. As shown in Figure 12,Llama 2-Chatmodels outperform open-source models by a significant'),\n",
       " Document(id='379d10e4-c078-4c0a-a9cb-8674753efb4c', metadata={'producer': 'pdfTeX-1.40.25', 'creator': 'LaTeX with hyperref', 'creationdate': '2023-07-20T00:30:36+00:00', 'author': '', 'keywords': '', 'moddate': '2023-07-20T00:30:36+00:00', 'ptex.fullbanner': 'This is pdfTeX, Version 3.141592653-2.6-1.40.25 (TeX Live 2023) kpathsea version 6.3.5', 'subject': '', 'title': '', 'trapped': '/False', 'source': 'llama2.pdf', 'total_pages': 77, 'page': 76, 'page_label': '77'}, page_content='Llama 2is a new technology that carries risks with use. Testing conducted to date has been in\\nEnglish, and has not covered, nor could it cover all scenarios. For these reasons, as with all LLMs,\\nLlama 2’s potential outputs cannot be predicted in advance, and the model may in some instances\\nproduce inaccurate or objectionable responses to user prompts. Therefore, before deploying any\\napplications ofLlama 2, developers should perform safety testing and tuning tailored to their')]"
      ]
     },
     "execution_count": 17,
     "metadata": {},
     "output_type": "execute_result"
    }
   ],
   "source": [
    "#Ask Retriver a question \n",
    "retriever.invoke(\"What is a llama model?\")"
   ]
  },
  {
   "cell_type": "code",
   "execution_count": 22,
   "metadata": {},
   "outputs": [],
   "source": [
    "#Creating the model instance \n",
    "from langchain_google_genai import ChatGoogleGenerativeAI\n",
    "model=ChatGoogleGenerativeAI(model='gemini-1.5-flash')"
   ]
  },
  {
   "cell_type": "code",
   "execution_count": 23,
   "metadata": {},
   "outputs": [],
   "source": [
    "#Building a RAG Prompt \n",
    "from langchain import hub \n",
    "prompt=hub.pull(\"rlm/rag-prompt\")"
   ]
  },
  {
   "cell_type": "code",
   "execution_count": 24,
   "metadata": {},
   "outputs": [
    {
     "name": "stdout",
     "output_type": "stream",
     "text": [
      "[HumanMessagePromptTemplate(prompt=PromptTemplate(input_variables=['context', 'question'], input_types={}, partial_variables={}, template=\"You are an assistant for question-answering tasks. Use the following pieces of retrieved context to answer the question. If you don't know the answer, just say that you don't know. Use three sentences maximum and keep the answer concise.\\nQuestion: {question} \\nContext: {context} \\nAnswer:\"), additional_kwargs={})]\n"
     ]
    }
   ],
   "source": [
    "#Display the prompt output \n",
    "import pprint\n",
    "pprint.pprint(prompt.messages)\n"
   ]
  },
  {
   "cell_type": "code",
   "execution_count": 25,
   "metadata": {},
   "outputs": [],
   "source": [
    "#Defining String output pharser \n",
    "from langchain_core.output_parsers import StrOutputParser\n",
    "from langchain_core.runnables import RunnablePassthrough"
   ]
  },
  {
   "cell_type": "markdown",
   "metadata": {},
   "source": [
    "Create Chain"
   ]
  },
  {
   "cell_type": "code",
   "execution_count": 28,
   "metadata": {},
   "outputs": [],
   "source": [
    "#Creating format document \n",
    "def format_docs(docs):\n",
    "    return\"\\n \\n\".join(doc.page_content for doc in docs)"
   ]
  },
  {
   "cell_type": "code",
   "execution_count": 29,
   "metadata": {},
   "outputs": [],
   "source": [
    "#Building the model \n",
    "rag_chain = (\n",
    "    {\"context\": retriever | format_docs, \"question\": RunnablePassthrough()}\n",
    "    |   prompt \n",
    "    |   model \n",
    "    |   StrOutputParser()\n",
    ")"
   ]
  },
  {
   "cell_type": "code",
   "execution_count": 30,
   "metadata": {},
   "outputs": [
    {
     "data": {
      "text/plain": [
       "'Llama is a large language model developed by Meta.  There are different versions, including Llama 1 and Llama 2, with varying parameter sizes.  Llama 2 models are intended for commercial and research use.'"
      ]
     },
     "execution_count": 30,
     "metadata": {},
     "output_type": "execute_result"
    }
   ],
   "source": [
    "#Executing the pipeline \n",
    "rag_chain.invoke(\"What is llama model?\")"
   ]
  },
  {
   "cell_type": "code",
   "execution_count": 31,
   "metadata": {},
   "outputs": [
    {
     "name": "stdout",
     "output_type": "stream",
     "text": [
      "('Llama is a large language model developed by Meta.  It has various versions, '\n",
      " 'including tuned models for chat and pretrained models adaptable to different '\n",
      " 'natural language tasks.  Llama 2, a newer version, is intended for '\n",
      " 'commercial and research use.')\n"
     ]
    }
   ],
   "source": [
    "pprint.pprint(rag_chain.invoke(\"What is llama model?\"))"
   ]
  },
  {
   "cell_type": "code",
   "execution_count": null,
   "metadata": {},
   "outputs": [],
   "source": []
  }
 ],
 "metadata": {
  "kernelspec": {
   "display_name": "agenticenv",
   "language": "python",
   "name": "python3"
  },
  "language_info": {
   "codemirror_mode": {
    "name": "ipython",
    "version": 3
   },
   "file_extension": ".py",
   "mimetype": "text/x-python",
   "name": "python",
   "nbconvert_exporter": "python",
   "pygments_lexer": "ipython3",
   "version": "3.11.9"
  }
 },
 "nbformat": 4,
 "nbformat_minor": 2
}
