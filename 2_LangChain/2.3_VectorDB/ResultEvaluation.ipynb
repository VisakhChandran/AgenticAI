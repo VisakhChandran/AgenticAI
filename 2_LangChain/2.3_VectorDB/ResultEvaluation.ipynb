{
 "cells": [
  {
   "cell_type": "code",
   "execution_count": 2,
   "id": "3262900c",
   "metadata": {},
   "outputs": [
    {
     "name": "stderr",
     "output_type": "stream",
     "text": [
      "c:\\Users\\emelvis\\10.VS_Code\\04_AgenticAI\\agenticenv\\Lib\\site-packages\\tqdm\\auto.py:21: TqdmWarning: IProgress not found. Please update jupyter and ipywidgets. See https://ipywidgets.readthedocs.io/en/stable/user_install.html\n",
      "  from .autonotebook import tqdm as notebook_tqdm\n"
     ]
    },
    {
     "data": {
      "text/plain": [
       "[Document(id='5800de3c-e47c-4db8-86f1-0d2603dd6098', metadata={'producer': 'pdfTeX-1.40.25', 'creator': 'LaTeX with hyperref', 'creationdate': '2023-07-20T00:30:36+00:00', 'author': '', 'keywords': '', 'moddate': '2023-07-20T00:30:36+00:00', 'ptex.fullbanner': 'This is pdfTeX, Version 3.141592653-2.6-1.40.25 (TeX Live 2023) kpathsea version 6.3.5', 'subject': '', 'title': '', 'trapped': '/False', 'source': 'llama2.pdf', 'total_pages': 77, 'page': 3, 'page_label': '4'}, page_content='work (Section 6), and conclusions (Section 7).\\n‡https://ai.meta.com/resources/models-and-libraries/llama/\\n§We are delaying the release of the 34B model due to a lack of time to sufficiently red team.\\n¶https://ai.meta.com/llama\\n‖https://github.com/facebookresearch/llama\\n4'),\n",
       " Document(id='34da8abf-5677-4518-bf1c-9f0571ea25db', metadata={'producer': 'pdfTeX-1.40.25', 'creator': 'LaTeX with hyperref', 'creationdate': '2023-07-20T00:30:36+00:00', 'author': '', 'keywords': '', 'moddate': '2023-07-20T00:30:36+00:00', 'ptex.fullbanner': 'This is pdfTeX, Version 3.141592653-2.6-1.40.25 (TeX Live 2023) kpathsea version 6.3.5', 'subject': '', 'title': '', 'trapped': '/False', 'source': 'llama2.pdf', 'total_pages': 77, 'page': 42, 'page_label': '43'}, page_content='10.18653/v1/2022.gebnlp-1.13. URLhttps://aclanthology.org/2022.gebnlp-1.13.\\nAlonTalmor,JonathanHerzig,NicholasLourie,andJonathanBerant.Commonsenseqa: Aquestionanswering\\nchallenge targeting commonsense knowledge.arXiv preprint arXiv:1811.00937, 2018.\\nRohan Taori, Ishaan Gulrajani, Tianyi Zhang, Yann Dubois, Xuechen Li, Carlos Guestrin, Percy Liang, and\\nTatsunori B. Hashimoto. Stanford alpaca: An instruction-following llama model.https://github.com/\\ntatsu-lab/stanford_alpaca, 2023.'),\n",
       " Document(id='5909eaa3-b573-4900-aac1-43f3df91c6ac', metadata={'producer': 'pdfTeX-1.40.25', 'creator': 'LaTeX with hyperref', 'creationdate': '2023-07-20T00:30:36+00:00', 'author': '', 'keywords': '', 'moddate': '2023-07-20T00:30:36+00:00', 'ptex.fullbanner': 'This is pdfTeX, Version 3.141592653-2.6-1.40.25 (TeX Live 2023) kpathsea version 6.3.5', 'subject': '', 'title': '', 'trapped': '/False', 'source': 'llama2.pdf', 'total_pages': 77, 'page': 76, 'page_label': '77'}, page_content='models-and-libraries/llama-downloads/\\nWhere to send com-\\nments\\nInstructions on how to provide feedback or comments on the model can be\\nfound in the model README, or by opening an issue in the GitHub repository\\n(https://github.com/facebookresearch/llama/).\\nIntended Use\\nIntended Use CasesLlama 2is intended for commercial and research use in English. Tuned models\\nare intended for assistant-like chat, whereas pretrained models can be adapted\\nfor a variety of natural language generation tasks.'),\n",
       " Document(id='da30857d-e106-416b-90c0-e49bbc32eb14', metadata={'producer': 'pdfTeX-1.40.25', 'creator': 'LaTeX with hyperref', 'creationdate': '2023-07-20T00:30:36+00:00', 'author': '', 'keywords': '', 'moddate': '2023-07-20T00:30:36+00:00', 'ptex.fullbanner': 'This is pdfTeX, Version 3.141592653-2.6-1.40.25 (TeX Live 2023) kpathsea version 6.3.5', 'subject': '', 'title': '', 'trapped': '/False', 'source': 'llama2.pdf', 'total_pages': 77, 'page': 46, 'page_label': '47'}, page_content='• Armand Joulin, Edouard Grave, Guillaume Lample, and Timothee Lacroix, members of the original\\nLlama team who helped get this work started.\\n• Drew Hamlin, Chantal Mora, and Aran Mun, who gave us some design input on the figures in the\\npaper.\\n• Vijai Mohan for the discussions about RLHF that inspired our Figure 20, and his contribution to the\\ninternal demo.\\n• Earlyreviewersofthispaper,whohelpedusimproveitsquality,includingMikeLewis,JoellePineau,'),\n",
       " Document(id='b22a3134-a723-4b6f-ac17-4cf9f013143d', metadata={'producer': 'pdfTeX-1.40.25', 'creator': 'LaTeX with hyperref', 'creationdate': '2023-07-20T00:30:36+00:00', 'author': '', 'keywords': '', 'moddate': '2023-07-20T00:30:36+00:00', 'ptex.fullbanner': 'This is pdfTeX, Version 3.141592653-2.6-1.40.25 (TeX Live 2023) kpathsea version 6.3.5', 'subject': '', 'title': '', 'trapped': '/False', 'source': 'llama2.pdf', 'total_pages': 77, 'page': 7, 'page_label': '8'}, page_content='et al., 2023). For AGI Eval, we only evaluate on the English tasks and report the average.\\nAs shown in Table 3,Llama 2models outperformLlama 1models. In particular,Llama 270B improves the\\nresultsonMMLUandBBHby ≈5and ≈8points, respectively, comparedtoLlama 165B.Llama 27Band30B\\nmodelsoutperformMPTmodelsofthecorrespondingsizeonallcategoriesbesidescodebenchmarks. Forthe\\nFalcon models,Llama 27B and 34B outperform Falcon 7B and 40B models on all categories of benchmarks.')]"
      ]
     },
     "execution_count": 2,
     "metadata": {},
     "output_type": "execute_result"
    }
   ],
   "source": [
    "#Importing libraries \n",
    "from langchain_community.document_loaders import PyPDFLoader\n",
    "\n",
    "#Capturing the location of the document\n",
    "FILE_PATH=\"llama2.pdf\"\n",
    "\n",
    "#Creating the loader object\n",
    "loader=PyPDFLoader(FILE_PATH)\n",
    "\n",
    "#Perform the load operation \n",
    "pages=loader.load()\n",
    "\n",
    "#Perform Chunking using RecursiveCharacterTextSplitter\n",
    "from langchain_text_splitters import RecursiveCharacterTextSplitter\n",
    "\n",
    "#Creating the instance of Charac Splitter\n",
    "splitter=RecursiveCharacterTextSplitter(\n",
    "    chunk_size=500, #Hyper Parameter \n",
    "    chunk_overlap=50 #Hyper Parameter \n",
    ")\n",
    "#Splitting the documents \n",
    "split_docs=splitter.split_documents(pages)\n",
    "\n",
    "import faiss \n",
    "from langchain_community.vectorstores import FAISS\n",
    "from langchain_community.docstore.in_memory import InMemoryDocstore \n",
    "\n",
    "#Use Sentence Transfromer \n",
    "from langchain_huggingface import HuggingFaceEmbeddings\n",
    "embeddings=HuggingFaceEmbeddings(model_name=\"all-MiniLM-L6-v2\")\n",
    "\n",
    "\n",
    "\n",
    "#Storing the splitted document into Vector Store\n",
    "index=faiss.IndexFlatIP(384)\n",
    "\n",
    "#Create vector store object\n",
    "vector_store=FAISS(\n",
    "    embedding_function=embeddings, \n",
    "    index=index, \n",
    "    docstore=InMemoryDocstore(),\n",
    "    index_to_docstore_id={}\n",
    ")\n",
    "\n",
    "#Loading the dataonto Vector DB\n",
    "vector_store.add_documents(documents=split_docs)\n",
    "\n",
    "\n",
    "#Creating a retriver object\n",
    "retriever=vector_store.as_retriever(\n",
    "    search_kwargs={\"k\":5} #HyperPArameter, specify the number of records\n",
    ")\n",
    "\n"
   ]
  },
  {
   "cell_type": "code",
   "execution_count": null,
   "id": "ac9a8e59",
   "metadata": {},
   "outputs": [],
   "source": [
    "\n",
    "#Ask Retriver a question \n",
    "retriever.invoke(\"What is a llama model?\")"
   ]
  },
  {
   "cell_type": "code",
   "execution_count": 3,
   "id": "c128801a",
   "metadata": {},
   "outputs": [
    {
     "data": {
      "text/plain": [
       "[(Document(id='5800de3c-e47c-4db8-86f1-0d2603dd6098', metadata={'producer': 'pdfTeX-1.40.25', 'creator': 'LaTeX with hyperref', 'creationdate': '2023-07-20T00:30:36+00:00', 'author': '', 'keywords': '', 'moddate': '2023-07-20T00:30:36+00:00', 'ptex.fullbanner': 'This is pdfTeX, Version 3.141592653-2.6-1.40.25 (TeX Live 2023) kpathsea version 6.3.5', 'subject': '', 'title': '', 'trapped': '/False', 'source': 'llama2.pdf', 'total_pages': 77, 'page': 3, 'page_label': '4'}, page_content='work (Section 6), and conclusions (Section 7).\\n‡https://ai.meta.com/resources/models-and-libraries/llama/\\n§We are delaying the release of the 34B model due to a lack of time to sufficiently red team.\\n¶https://ai.meta.com/llama\\n‖https://github.com/facebookresearch/llama\\n4'),\n",
       "  np.float32(0.61339283)),\n",
       " (Document(id='34da8abf-5677-4518-bf1c-9f0571ea25db', metadata={'producer': 'pdfTeX-1.40.25', 'creator': 'LaTeX with hyperref', 'creationdate': '2023-07-20T00:30:36+00:00', 'author': '', 'keywords': '', 'moddate': '2023-07-20T00:30:36+00:00', 'ptex.fullbanner': 'This is pdfTeX, Version 3.141592653-2.6-1.40.25 (TeX Live 2023) kpathsea version 6.3.5', 'subject': '', 'title': '', 'trapped': '/False', 'source': 'llama2.pdf', 'total_pages': 77, 'page': 42, 'page_label': '43'}, page_content='10.18653/v1/2022.gebnlp-1.13. URLhttps://aclanthology.org/2022.gebnlp-1.13.\\nAlonTalmor,JonathanHerzig,NicholasLourie,andJonathanBerant.Commonsenseqa: Aquestionanswering\\nchallenge targeting commonsense knowledge.arXiv preprint arXiv:1811.00937, 2018.\\nRohan Taori, Ishaan Gulrajani, Tianyi Zhang, Yann Dubois, Xuechen Li, Carlos Guestrin, Percy Liang, and\\nTatsunori B. Hashimoto. Stanford alpaca: An instruction-following llama model.https://github.com/\\ntatsu-lab/stanford_alpaca, 2023.'),\n",
       "  np.float32(0.59648657)),\n",
       " (Document(id='5909eaa3-b573-4900-aac1-43f3df91c6ac', metadata={'producer': 'pdfTeX-1.40.25', 'creator': 'LaTeX with hyperref', 'creationdate': '2023-07-20T00:30:36+00:00', 'author': '', 'keywords': '', 'moddate': '2023-07-20T00:30:36+00:00', 'ptex.fullbanner': 'This is pdfTeX, Version 3.141592653-2.6-1.40.25 (TeX Live 2023) kpathsea version 6.3.5', 'subject': '', 'title': '', 'trapped': '/False', 'source': 'llama2.pdf', 'total_pages': 77, 'page': 76, 'page_label': '77'}, page_content='models-and-libraries/llama-downloads/\\nWhere to send com-\\nments\\nInstructions on how to provide feedback or comments on the model can be\\nfound in the model README, or by opening an issue in the GitHub repository\\n(https://github.com/facebookresearch/llama/).\\nIntended Use\\nIntended Use CasesLlama 2is intended for commercial and research use in English. Tuned models\\nare intended for assistant-like chat, whereas pretrained models can be adapted\\nfor a variety of natural language generation tasks.'),\n",
       "  np.float32(0.5680316))]"
      ]
     },
     "execution_count": 3,
     "metadata": {},
     "output_type": "execute_result"
    }
   ],
   "source": [
    "vector_store.similarity_search_with_score(\"What is a llama model?\", k=3)"
   ]
  },
  {
   "cell_type": "code",
   "execution_count": null,
   "id": "9bbc285a",
   "metadata": {},
   "outputs": [],
   "source": []
  }
 ],
 "metadata": {
  "kernelspec": {
   "display_name": "agenticenv",
   "language": "python",
   "name": "python3"
  },
  "language_info": {
   "codemirror_mode": {
    "name": "ipython",
    "version": 3
   },
   "file_extension": ".py",
   "mimetype": "text/x-python",
   "name": "python",
   "nbconvert_exporter": "python",
   "pygments_lexer": "ipython3",
   "version": "3.11.9"
  }
 },
 "nbformat": 4,
 "nbformat_minor": 5
}
