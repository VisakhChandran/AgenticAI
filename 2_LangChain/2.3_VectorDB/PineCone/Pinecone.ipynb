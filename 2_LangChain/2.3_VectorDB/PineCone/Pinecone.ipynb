{
 "cells": [
  {
   "cell_type": "markdown",
   "metadata": {},
   "source": [
    "# Pinecone"
   ]
  },
  {
   "cell_type": "code",
   "execution_count": 1,
   "metadata": {},
   "outputs": [
    {
     "data": {
      "text/plain": [
       "True"
      ]
     },
     "execution_count": 1,
     "metadata": {},
     "output_type": "execute_result"
    }
   ],
   "source": [
    "#Importing libraries and environment variables\n",
    "from dotenv import load_dotenv\n",
    "load_dotenv(override=True)"
   ]
  },
  {
   "cell_type": "code",
   "execution_count": 2,
   "metadata": {},
   "outputs": [],
   "source": [
    "#Importing HuggingFace token\n",
    "import os\n",
    "os.environ['HF_TOKEN']=os.getenv(\"HF_TOKEN\")"
   ]
  },
  {
   "cell_type": "code",
   "execution_count": 3,
   "metadata": {},
   "outputs": [
    {
     "name": "stderr",
     "output_type": "stream",
     "text": [
      "c:\\Users\\emelvis\\10.VS_Code\\04_AgenticAI\\agenticenv\\Lib\\site-packages\\tqdm\\auto.py:21: TqdmWarning: IProgress not found. Please update jupyter and ipywidgets. See https://ipywidgets.readthedocs.io/en/stable/user_install.html\n",
      "  from .autonotebook import tqdm as notebook_tqdm\n"
     ]
    }
   ],
   "source": [
    "#Defining an Embedding Model\n",
    "from langchain_huggingface import HuggingFaceEmbeddings\n",
    "embeddings=HuggingFaceEmbeddings(model_name=\"all-MiniLM-L6-v2\")\n"
   ]
  },
  {
   "cell_type": "code",
   "execution_count": 4,
   "metadata": {},
   "outputs": [
    {
     "data": {
      "text/plain": [
       "384"
      ]
     },
     "execution_count": 4,
     "metadata": {},
     "output_type": "execute_result"
    }
   ],
   "source": [
    "#Checking the working of embeddings\n",
    "visakh=embeddings.embed_query(\"Hi This is Visakh\")\n",
    "len(visakh)"
   ]
  },
  {
   "cell_type": "code",
   "execution_count": 5,
   "metadata": {},
   "outputs": [],
   "source": [
    "#Configuring Google Gemini API Key\n",
    "from langchain_google_genai import GoogleGenerativeAIEmbeddings\n",
    "embeddings=GoogleGenerativeAIEmbeddings(model=\"models/embedding-001\")"
   ]
  },
  {
   "cell_type": "code",
   "execution_count": 6,
   "metadata": {},
   "outputs": [
    {
     "data": {
      "text/plain": [
       "768"
      ]
     },
     "execution_count": 6,
     "metadata": {},
     "output_type": "execute_result"
    }
   ],
   "source": [
    "#Checking the dimension of the google embdding model\n",
    "len(embeddings.embed_query(\"Hello World\"))"
   ]
  },
  {
   "cell_type": "code",
   "execution_count": 7,
   "metadata": {},
   "outputs": [],
   "source": [
    "#importing pinecone \n",
    "from pinecone import Pinecone\n"
   ]
  },
  {
   "cell_type": "code",
   "execution_count": 8,
   "metadata": {},
   "outputs": [
    {
     "data": {
      "text/plain": [
       "True"
      ]
     },
     "execution_count": 8,
     "metadata": {},
     "output_type": "execute_result"
    }
   ],
   "source": [
    "#Loading the API key from .env \n",
    "from dotenv import load_dotenv\n",
    "load_dotenv(override=True)"
   ]
  },
  {
   "cell_type": "code",
   "execution_count": 9,
   "metadata": {},
   "outputs": [],
   "source": [
    "#Importing Pinecone API Key \n",
    "import os \n",
    "pinecone_api_key=os.getenv(\"PINECONE_API_KEY\")\n"
   ]
  },
  {
   "cell_type": "code",
   "execution_count": 10,
   "metadata": {},
   "outputs": [],
   "source": [
    "#Creating pinecone instance \n",
    "pc = Pinecone(api_key=pinecone_api_key)"
   ]
  },
  {
   "cell_type": "code",
   "execution_count": 11,
   "metadata": {},
   "outputs": [],
   "source": [
    "#Import Serverless from Pinecone\n",
    "from pinecone import ServerlessSpec"
   ]
  },
  {
   "cell_type": "code",
   "execution_count": 12,
   "metadata": {},
   "outputs": [],
   "source": [
    "#Index Name\n",
    "index_name=\"agenticai2\"\n"
   ]
  },
  {
   "cell_type": "code",
   "execution_count": 13,
   "metadata": {},
   "outputs": [
    {
     "data": {
      "text/plain": [
       "True"
      ]
     },
     "execution_count": 13,
     "metadata": {},
     "output_type": "execute_result"
    }
   ],
   "source": [
    "pc.has_index(index_name)"
   ]
  },
  {
   "cell_type": "code",
   "execution_count": 14,
   "metadata": {},
   "outputs": [],
   "source": [
    "#Creating pinecone index \n",
    "if not pc.has_index(index_name):\n",
    "    pc.create_index(\n",
    "        name=index_name, \n",
    "        dimension=768, \n",
    "        metric=\"cosine\", \n",
    "        spec=ServerlessSpec(cloud=\"aws\", region=\"us-east-1\")\n",
    "    )"
   ]
  },
  {
   "cell_type": "code",
   "execution_count": 15,
   "metadata": {},
   "outputs": [],
   "source": [
    "#load the index \n",
    "index=pc.Index(index_name)"
   ]
  },
  {
   "cell_type": "code",
   "execution_count": 16,
   "metadata": {},
   "outputs": [],
   "source": [
    "#Loading data using Langchain\n",
    "from langchain_pinecone import PineconeVectorStore\n",
    "vector_store=PineconeVectorStore(index=index, embedding=embeddings)"
   ]
  },
  {
   "cell_type": "code",
   "execution_count": 17,
   "metadata": {},
   "outputs": [],
   "source": [
    "#Creating documents to be loaded onto Pinecone \n",
    "from uuid import uuid4\n",
    "from langchain_core.documents import Document\n",
    "\n",
    "document_1 = Document(\n",
    "    page_content=\"I had chocolate chip pancakes and scrambled eggs for breakfast this morning.\",\n",
    "    metadata={\"source\": \"tweet\"},#additional info\n",
    ")\n",
    "\n",
    "document_2 = Document(\n",
    "    page_content=\"The weather forecast for tomorrow is cloudy and overcast, with a high of 62 degrees.\",\n",
    "    metadata={\"source\": \"news\"},\n",
    ")\n",
    "\n",
    "document_3 = Document(\n",
    "    page_content=\"Building an exciting new project with LangChain - come check it out!\",\n",
    "    metadata={\"source\": \"tweet\"},\n",
    ")\n",
    "\n",
    "document_4 = Document(\n",
    "    page_content=\"Robbers broke into the city bank and stole $1 million in cash.\",\n",
    "    metadata={\"source\": \"news\"},\n",
    ")\n",
    "\n",
    "document_5 = Document(\n",
    "    page_content=\"Wow! That was an amazing movie. I can't wait to see it again.\",\n",
    "    metadata={\"source\": \"tweet\"},\n",
    ")\n",
    "\n",
    "document_6 = Document(\n",
    "    page_content=\"Is the new iPhone worth the price? Read this review to find out.\",\n",
    "    metadata={\"source\": \"website\"},\n",
    ")\n",
    "\n",
    "document_7 = Document(\n",
    "    page_content=\"The top 10 soccer players in the world right now.\",\n",
    "    metadata={\"source\": \"website\"},\n",
    ")\n",
    "\n",
    "document_8 = Document(\n",
    "    page_content=\"LangGraph is the best framework for building stateful, agentic applications!\",\n",
    "    metadata={\"source\": \"tweet\"},\n",
    ")\n",
    "\n",
    "document_9 = Document(\n",
    "    page_content=\"The stock market is down 500 points today due to fears of a recession.\",\n",
    "    metadata={\"source\": \"news\"},\n",
    ")\n",
    "\n",
    "document_10 = Document(\n",
    "    page_content=\"I have a bad feeling I am going to get deleted :(\",\n",
    "    metadata={\"source\": \"tweet\"},\n",
    ")"
   ]
  },
  {
   "cell_type": "code",
   "execution_count": 18,
   "metadata": {},
   "outputs": [],
   "source": [
    "documents = [\n",
    "    document_1,\n",
    "    document_2,\n",
    "    document_3,\n",
    "    document_4,\n",
    "    document_5,\n",
    "    document_6,\n",
    "    document_7,\n",
    "    document_8,\n",
    "    document_9,\n",
    "    document_10,\n",
    "]"
   ]
  },
  {
   "cell_type": "code",
   "execution_count": 19,
   "metadata": {},
   "outputs": [],
   "source": [
    "#Universal identification number\n",
    "uuids = [str(uuid4()) for _ in range(len(documents))]"
   ]
  },
  {
   "cell_type": "code",
   "execution_count": 20,
   "metadata": {},
   "outputs": [
    {
     "data": {
      "text/plain": [
       "['b85feeb5-112b-4163-b453-444bf5c5d8c7',\n",
       " 'c947753e-9435-4aa6-a0a9-f4398a3f7eb6',\n",
       " '26a9926e-e99a-4340-b026-6d51dfceb843',\n",
       " 'aa8b1cf8-3d8e-4056-874d-480db7a67a97',\n",
       " '69845d7e-7d89-4ecf-b981-ca332d404b80',\n",
       " '60cd2af4-29ae-4736-9175-01f0c8614299',\n",
       " '21cdca96-48f5-42b6-88bc-069b28aee147',\n",
       " 'a2cdfb5c-23d0-41fc-b6bd-1d660e09124b',\n",
       " '194dc02b-8802-4923-a2ba-4dc900983391',\n",
       " '5d996854-5775-40a0-802c-60389b1dbc8a']"
      ]
     },
     "execution_count": 20,
     "metadata": {},
     "output_type": "execute_result"
    }
   ],
   "source": [
    "uuids"
   ]
  },
  {
   "cell_type": "code",
   "execution_count": 21,
   "metadata": {},
   "outputs": [
    {
     "data": {
      "text/plain": [
       "['b85feeb5-112b-4163-b453-444bf5c5d8c7',\n",
       " 'c947753e-9435-4aa6-a0a9-f4398a3f7eb6',\n",
       " '26a9926e-e99a-4340-b026-6d51dfceb843',\n",
       " 'aa8b1cf8-3d8e-4056-874d-480db7a67a97',\n",
       " '69845d7e-7d89-4ecf-b981-ca332d404b80',\n",
       " '60cd2af4-29ae-4736-9175-01f0c8614299',\n",
       " '21cdca96-48f5-42b6-88bc-069b28aee147',\n",
       " 'a2cdfb5c-23d0-41fc-b6bd-1d660e09124b',\n",
       " '194dc02b-8802-4923-a2ba-4dc900983391',\n",
       " '5d996854-5775-40a0-802c-60389b1dbc8a']"
      ]
     },
     "execution_count": 21,
     "metadata": {},
     "output_type": "execute_result"
    }
   ],
   "source": [
    "#Add documents using vector store \n",
    "vector_store.add_documents(documents=documents, ids=uuids)"
   ]
  },
  {
   "cell_type": "code",
   "execution_count": 22,
   "metadata": {},
   "outputs": [
    {
     "data": {
      "text/plain": [
       "[Document(id='81d91226-ddb1-4a9f-9c1b-cd5926aab248', metadata={'source': 'tweet'}, page_content='Building an exciting new project with LangChain - come check it out!')]"
      ]
     },
     "execution_count": 22,
     "metadata": {},
     "output_type": "execute_result"
    }
   ],
   "source": [
    "#Asking question to vector store\n",
    "\n",
    "results=vector_store.similarity_search(\"What is langchain?\", k=1)\n",
    "results"
   ]
  },
  {
   "cell_type": "code",
   "execution_count": 23,
   "metadata": {},
   "outputs": [
    {
     "data": {
      "text/plain": [
       "[Document(id='81d91226-ddb1-4a9f-9c1b-cd5926aab248', metadata={'source': 'tweet'}, page_content='Building an exciting new project with LangChain - come check it out!'),\n",
       " Document(id='fa7a9257-5907-41f6-b9ef-50dd17416e93', metadata={'source': 'tweet'}, page_content='LangGraph is the best framework for building stateful, agentic applications!'),\n",
       " Document(id='892f1847-0678-4316-b7d0-7154fd6c7559', metadata={'source': 'tweet'}, page_content='I have a bad feeling I am going to get deleted :('),\n",
       " Document(id='d7097758-37fc-4701-912b-abcb3d5ac1d3', metadata={'source': 'tweet'}, page_content=\"Wow! That was an amazing movie. I can't wait to see it again.\")]"
      ]
     },
     "execution_count": 23,
     "metadata": {},
     "output_type": "execute_result"
    }
   ],
   "source": [
    "#Asking question to vector store\n",
    "\n",
    "results=vector_store.similarity_search(\"What is langchain?\", \n",
    "                                       filter={\"source\":\"tweet\"})\n",
    "results"
   ]
  },
  {
   "cell_type": "code",
   "execution_count": 24,
   "metadata": {},
   "outputs": [],
   "source": [
    "#Creating a retriver \n",
    "retriver=vector_store.as_retriever(\n",
    "    search_type=\"similarity_score_threshold\",\n",
    "    search_kwargs={\"score_threshold\": 0.7}\n",
    ")"
   ]
  },
  {
   "cell_type": "code",
   "execution_count": 25,
   "metadata": {},
   "outputs": [
    {
     "data": {
      "text/plain": [
       "[Document(id='81d91226-ddb1-4a9f-9c1b-cd5926aab248', metadata={'source': 'tweet'}, page_content='Building an exciting new project with LangChain - come check it out!'),\n",
       " Document(id='fa7a9257-5907-41f6-b9ef-50dd17416e93', metadata={'source': 'tweet'}, page_content='LangGraph is the best framework for building stateful, agentic applications!'),\n",
       " Document(id='892f1847-0678-4316-b7d0-7154fd6c7559', metadata={'source': 'tweet'}, page_content='I have a bad feeling I am going to get deleted :('),\n",
       " Document(id='d7097758-37fc-4701-912b-abcb3d5ac1d3', metadata={'source': 'tweet'}, page_content=\"Wow! That was an amazing movie. I can't wait to see it again.\")]"
      ]
     },
     "execution_count": 25,
     "metadata": {},
     "output_type": "execute_result"
    }
   ],
   "source": [
    "retriver.invoke(\"Langchain\")"
   ]
  },
  {
   "cell_type": "code",
   "execution_count": 26,
   "metadata": {},
   "outputs": [],
   "source": [
    "#Building the model \n",
    "from langchain_google_genai import ChatGoogleGenerativeAI\n",
    "model=ChatGoogleGenerativeAI(model=\"gemini-1.5-flash\")"
   ]
  },
  {
   "cell_type": "code",
   "execution_count": 27,
   "metadata": {},
   "outputs": [
    {
     "name": "stdout",
     "output_type": "stream",
     "text": [
      "[HumanMessagePromptTemplate(prompt=PromptTemplate(input_variables=['context', 'question'], input_types={}, partial_variables={}, template=\"You are an assistant for question-answering tasks. Use the following pieces of retrieved context to answer the question. If you don't know the answer, just say that you don't know. Use three sentences maximum and keep the answer concise.\\nQuestion: {question} \\nContext: {context} \\nAnswer:\"), additional_kwargs={})]\n"
     ]
    }
   ],
   "source": [
    "#Building Prompt \n",
    "from langchain import hub \n",
    "prompt = hub.pull(\"rlm/rag-prompt\")\n",
    "\n",
    "#display the prompt \n",
    "import pprint\n",
    "pprint.pprint(prompt.messages)\n"
   ]
  },
  {
   "cell_type": "code",
   "execution_count": 28,
   "metadata": {},
   "outputs": [],
   "source": [
    "#String Output Parser \n",
    "from langchain_core.output_parsers import StrOutputParser\n",
    "from langchain_core.runnables import RunnablePassthrough\n"
   ]
  },
  {
   "cell_type": "code",
   "execution_count": 29,
   "metadata": {},
   "outputs": [],
   "source": [
    "#Create function to combine the contextual data retrived from vector \n",
    "def format_docs(docs):\n",
    "    return \"\\n \\n\".join(doc.page_content for doc in docs)"
   ]
  },
  {
   "cell_type": "code",
   "execution_count": 30,
   "metadata": {},
   "outputs": [],
   "source": [
    "rag_chain=(\n",
    "    {\"context\":retriver | format_docs, \"question\":RunnablePassthrough()}\n",
    "    |   prompt\n",
    "    |   model \n",
    "    |   StrOutputParser()\n",
    ")"
   ]
  },
  {
   "cell_type": "code",
   "execution_count": 31,
   "metadata": {},
   "outputs": [
    {
     "data": {
      "text/plain": [
       "\"I don't know.  The provided text does not contain information about Llama models.\""
      ]
     },
     "execution_count": 31,
     "metadata": {},
     "output_type": "execute_result"
    }
   ],
   "source": [
    "rag_chain.invoke(\"what is llama model?\")"
   ]
  },
  {
   "cell_type": "code",
   "execution_count": 32,
   "metadata": {},
   "outputs": [
    {
     "data": {
      "text/plain": [
       "PromptTemplate(input_variables=['context', 'question'], input_types={}, partial_variables={}, template=\"You are an assistant for question-answering tasks. Use the following pieces of retrieved context to answer the question. If you don't know the answer, just say that you don't know. Use three sentences maximum and keep the answer concise.\\nQuestion: {question} \\nContext: {context} \\nAnswer:\")"
      ]
     },
     "execution_count": 32,
     "metadata": {},
     "output_type": "execute_result"
    }
   ],
   "source": [
    "#Building a prompt template as part of RAG \n",
    "from langchain_core.prompts import PromptTemplate\n",
    "\n",
    "#Building prompt \n",
    "prompt=PromptTemplate(\n",
    "    template=\"\"\"You are an assistant for question-answering tasks. Use the following pieces of retrieved context to answer the question. If you don't know the answer, just say that you don't know. Use three sentences maximum and keep the answer concise.\\nQuestion: {question} \\nContext: {context} \\nAnswer:\"\"\",\n",
    "    input_variables=['context', 'question']\n",
    ")\n",
    "\n",
    "#Display prompt \n",
    "prompt "
   ]
  },
  {
   "cell_type": "code",
   "execution_count": 33,
   "metadata": {},
   "outputs": [
    {
     "data": {
      "text/plain": [
       "StringPromptValue(text=\"You are an assistant for question-answering tasks. Use the following pieces of retrieved context to answer the question. If you don't know the answer, just say that you don't know. Use three sentences maximum and keep the answer concise.\\nQuestion: what is a langchain? \\nContext: langchain is very super framework for LLM. \\nAnswer:\")"
      ]
     },
     "execution_count": 33,
     "metadata": {},
     "output_type": "execute_result"
    }
   ],
   "source": [
    "prompt.invoke({\"question\":\"what is a langchain?\",\n",
    "               \"context\":\"langchain is very super framework for LLM.\"})"
   ]
  },
  {
   "cell_type": "markdown",
   "metadata": {},
   "source": [
    "# Creating RAG Using PDF Reader"
   ]
  },
  {
   "cell_type": "code",
   "execution_count": null,
   "metadata": {},
   "outputs": [],
   "source": [
    "#Importing libraries and environment variables\n",
    "from dotenv import load_dotenv\n",
    "load_dotenv(override=True)"
   ]
  },
  {
   "cell_type": "code",
   "execution_count": null,
   "metadata": {},
   "outputs": [],
   "source": [
    "#Configuring Google Gemini Embedding model  \n",
    "from langchain_google_genai import GoogleGenerativeAIEmbeddings\n",
    "embeddings=GoogleGenerativeAIEmbeddings(model=\"models/embedding-001\")"
   ]
  },
  {
   "cell_type": "code",
   "execution_count": 34,
   "metadata": {},
   "outputs": [],
   "source": [
    "#Reading input pdf \n",
    "from langchain_community.document_loaders import PyPDFLoader\n",
    "\n",
    "#File Path \n",
    "FILE_PATH=\"llama2.pdf\"\n",
    "\n",
    "#Defining the loader \n",
    "loader=PyPDFLoader(FILE_PATH)\n",
    "\n",
    "#Performing the load \n",
    "pages=loader.load()\n"
   ]
  },
  {
   "cell_type": "code",
   "execution_count": 36,
   "metadata": {},
   "outputs": [
    {
     "data": {
      "text/plain": [
       "77"
      ]
     },
     "execution_count": 36,
     "metadata": {},
     "output_type": "execute_result"
    }
   ],
   "source": [
    "#thenumber of documents\n",
    "len(pages)"
   ]
  },
  {
   "cell_type": "code",
   "execution_count": 37,
   "metadata": {},
   "outputs": [
    {
     "data": {
      "text/plain": [
       "615"
      ]
     },
     "execution_count": 37,
     "metadata": {},
     "output_type": "execute_result"
    }
   ],
   "source": [
    "#Perform Chucnking Operation\n",
    "from langchain_text_splitters import RecursiveCharacterTextSplitter\n",
    "\n",
    "#Create Chunks \n",
    "splitter=RecursiveCharacterTextSplitter(\n",
    "    chunk_size=500, \n",
    "    chunk_overlap=50\n",
    ")\n",
    "\n",
    "#Splitting the document \n",
    "split_docs = splitter.split_documents(pages)\n",
    "\n",
    "#Checking the count or resultant documents\n",
    "len(split_docs)"
   ]
  },
  {
   "cell_type": "code",
   "execution_count": 38,
   "metadata": {},
   "outputs": [],
   "source": [
    "#Loading the data onto VectorDB (PineCone)\n",
    "\n",
    "#Importing libraries\n",
    "from pinecone import Pinecone\n",
    "\n",
    "#Loading API Keys onto local variable\n",
    "pinecone_api_key=os.getenv(\"PINECONE_API_KEY\")\n",
    "\n",
    "#Creating Pinecone instance \n",
    "pc = Pinecone(api_key=pinecone_api_key)\n",
    "\n",
    "#Importing Serverless\n",
    "from pinecone import ServerlessSpec\n",
    "\n",
    "#Create Pinecone index \n",
    "index_name=\"agenticaipinecone\"\n",
    "\n",
    "if not pc.has_index(index_name):\n",
    "    pc.create_index(\n",
    "        name=index_name,\n",
    "        dimension=768, \n",
    "        metric=\"cosine\",\n",
    "        spec=ServerlessSpec(cloud=\"aws\", region=\"us-east-1\")\n",
    "    )\n"
   ]
  },
  {
   "cell_type": "code",
   "execution_count": 42,
   "metadata": {},
   "outputs": [],
   "source": [
    "#Capturing address infor of Pinecone to be used for Vector Loading \n",
    "index=pc.Index(index_name)"
   ]
  },
  {
   "cell_type": "code",
   "execution_count": 43,
   "metadata": {},
   "outputs": [],
   "source": [
    "#Create Pinecone VectorStore\n",
    "from langchain_pinecone import PineconeVectorStore\n",
    "vector_store=PineconeVectorStore(\n",
    "    index=index, \n",
    "    embedding=embeddings )"
   ]
  },
  {
   "cell_type": "code",
   "execution_count": 44,
   "metadata": {},
   "outputs": [
    {
     "data": {
      "text/plain": [
       "['6aed5ae5-2983-489d-b6a2-32a303e99914',\n",
       " 'd30d5eb7-71bd-463e-87a4-e7b3ded1b88d',\n",
       " '426f6b4f-c378-4136-8857-953d92082466',\n",
       " '2c908a16-317c-4245-89fc-7f7e65f53264',\n",
       " 'f3d1fa2f-596c-44bf-9be0-d715a62efc77',\n",
       " 'a276fc35-15a4-490b-bd0a-1dea51df419d',\n",
       " '3921c173-1c0b-4ecc-baa0-5959246a2562',\n",
       " '4c706d4f-4cda-4d98-a8a8-d9d57cba1562',\n",
       " 'edaf5d89-3d8d-4679-9383-c39f90bdc8d8',\n",
       " '3a3d76e4-f8a6-4471-9475-8bb3973e3fe1',\n",
       " '2d5aa95f-77ca-4321-92c5-764a3c1da23e',\n",
       " 'd276ec16-802d-4c66-a343-da5f4def34c5',\n",
       " '7c052e26-dbbb-419f-b9b0-563d58734f93',\n",
       " '98e45054-4d03-41d5-a4ed-fca6aeeef1a0',\n",
       " '2b4dcd4f-75da-4392-9c02-558ad1c2574d',\n",
       " 'b173b5ed-6ca6-405e-8845-dd3e989fd1bf',\n",
       " '4dead6ff-5a2a-4f2f-9ee2-2e3171f65788',\n",
       " '9d434519-5152-40cb-ad48-a141b2ada02b',\n",
       " '650ba337-324b-4e6a-bed5-6572f97a5676',\n",
       " '90c268ff-7d06-4532-80bf-29a036cb5c34',\n",
       " 'ead8f006-7170-4d2d-8c90-6b24327e8b61',\n",
       " 'a046fe39-e63c-48b4-b48d-75154ac3ab7c',\n",
       " '0f697ac6-2543-4e7c-bf9b-60ed938097c2',\n",
       " '6b4a14ee-1de4-439e-968c-20f69d3f596a',\n",
       " '2d73d2a3-ea49-41a4-9145-98f5680755e2',\n",
       " '5dba18ee-8c68-4646-b7cc-27e6341500ed',\n",
       " '26394c21-a6e6-4060-9a40-0e208e2ec7d9',\n",
       " '3af8045b-f786-47c2-b74f-426e80e3b910',\n",
       " 'b8f48431-ae8e-476a-8998-afe0cae9338c',\n",
       " '0b1780a3-638a-43f1-90c9-173423be2197',\n",
       " '40edf295-446d-4244-8612-89bf4f136ad4',\n",
       " '6da90255-3b97-40a5-bc41-90ab65c5ddd3',\n",
       " 'a1444e22-fa87-4ff1-818c-e4b3942eeccb',\n",
       " 'de0176e4-d24a-4701-9de3-e9b4f4687e9e',\n",
       " '515a64e4-f0ff-453e-a153-77fa52319524',\n",
       " '30626cf2-fd4c-41b2-af36-13c6a0a4d88c',\n",
       " '1baaa41a-72ba-4e73-9522-297998498e54',\n",
       " '3850df2b-1a60-4910-b502-ba0e18e3b2b3',\n",
       " '447f12bd-76dc-46aa-bff9-5bb61a6ad183',\n",
       " '29a2c71e-c099-4e1b-884a-c66d990b6098',\n",
       " '3d9b5d74-0498-40e3-a6a9-ffe13e09c898',\n",
       " '0f7485a5-9579-4aee-8ca0-79e569747099',\n",
       " '1f365998-6abc-4522-bd21-56694101fb10',\n",
       " '1bd7d052-0e1c-4033-9d8e-b397bde9396d',\n",
       " '02285ac9-ca25-4905-8f40-e5c2e3f5ed57',\n",
       " 'bf5c6dee-d11f-4fd2-a78f-d38401e522e6',\n",
       " 'f15221f7-0263-4e43-b704-136f875a5bd8',\n",
       " 'f27e5775-1b66-4e5d-954d-710a011b03f3',\n",
       " '4984c435-cd94-490d-b77e-0c3636e3d3ce',\n",
       " '2f2211cd-5ef8-41bd-9d2c-4a100804d6b5',\n",
       " '058e0663-7571-4316-9b9e-832e0c59600f',\n",
       " 'fda6d31e-ea73-425a-878b-e326d987ebb9',\n",
       " '959ca5f3-c39d-4705-af77-47c9e7883879',\n",
       " 'b4f534a3-f5e2-4cd8-8438-28e6ef8edc76',\n",
       " 'ac17a6a8-4205-44e6-83f7-876e7f202c74',\n",
       " '649d4a66-b046-4784-85c4-ac401a945143',\n",
       " '484d7124-c31a-4318-958f-f371079b9b6c',\n",
       " 'a99687fe-2c6e-49dc-ac97-2a691e2348bf',\n",
       " 'e07b7609-a3ab-4a63-bbff-e201f8d25689',\n",
       " '7e96b1e7-96c5-48b1-92f9-125a848a5ce7',\n",
       " 'ba483bcc-155c-42f9-88f6-47c387bf223a',\n",
       " '952b8ec9-a0b3-4fad-8939-e3a747a3174c',\n",
       " '9b84d390-5f40-4382-81d5-f3e5402f2c82',\n",
       " '7896ce32-906a-4417-ba56-6bd53ccf0f7f',\n",
       " '724389a8-d69f-4241-9c09-aeed1cc26cfd',\n",
       " '3382554b-f6ac-4501-9e00-1b61f6f22d20',\n",
       " '6fd3c844-dd8c-425f-a159-e2afb0d253b3',\n",
       " '98c2453c-c1a8-4eae-aceb-48ab74aa196b',\n",
       " 'bda6ebc0-0e92-4bb7-b0d8-69b7906daef8',\n",
       " '415ffbca-1800-4a5d-ad81-7b83b45fea68',\n",
       " '2e49dcd9-7f5d-4e5c-996a-6e6f6a9baec4',\n",
       " '8a080c78-aebf-42b6-a80e-4ea7b17deaf8',\n",
       " '93434c9b-1da0-43e0-b825-176f481b6eb6',\n",
       " 'c55e1003-4a58-4335-a9dc-bfeb1b28ab4a',\n",
       " 'f8b3005a-1a19-4a51-9ffa-24535c5dda3b',\n",
       " '86873a36-8382-4322-83a6-1914ab421416',\n",
       " '96d8faca-86de-42a4-873c-203bf2973cdf',\n",
       " '265d4de6-b654-4a36-8489-d50297a0b716',\n",
       " '5cdc341a-adc2-42d8-b48a-a4e192a85a36',\n",
       " 'be208398-b87a-4445-a963-2f13abebcdf2',\n",
       " 'b65dd17f-0934-462b-a246-4b881dee8681',\n",
       " '564a3fcc-b9f3-40fe-9a46-502e161c28ff',\n",
       " 'b055e6d7-22d4-4916-aabc-b6cd2540f1a4',\n",
       " '63fc03fa-8a6b-487b-90af-1d30d3f7e8e7',\n",
       " '037c2e5c-24a9-4f67-8e24-70c10e3237f1',\n",
       " '6ccc9d3b-5016-40e0-af7e-d9ea87dd9145',\n",
       " '211870ad-1a92-4402-ba60-0dcff4066d1b',\n",
       " 'aef1501b-3b40-4bd3-ae1c-26c8e082cd0b',\n",
       " '00bcc44d-b7cf-4211-946e-e00e11e6e36d',\n",
       " '785b39a1-b9ff-4370-9419-676811116842',\n",
       " 'fd70abd7-03cf-4f61-ba03-95ac82482ab8',\n",
       " 'c96b8c2d-ea44-48dc-ae79-4fd63557e321',\n",
       " '7cd5ebe9-71f1-4d79-b987-249efcec8842',\n",
       " '7e45d573-63a9-4a4b-95e0-2b1754de9b12',\n",
       " 'a2f87d64-7d82-4d8f-8359-3074c0f3d04e',\n",
       " '57d7cca7-01cf-4f82-b49f-4258a228e3f2',\n",
       " 'c007bc7a-6260-47c6-bca8-b17872e31c3e',\n",
       " 'c5a05f5d-0925-4212-82b3-655bff13cab7',\n",
       " '74a0d1aa-71a9-47d8-a9af-9da7afb825f9',\n",
       " 'd5fac318-cc81-4c5a-9824-d772d737c6a8',\n",
       " '3e815ec6-9bdd-47c0-8e79-ff045819919e',\n",
       " 'e76ec559-63a1-4d08-92fb-0d26eecd590e',\n",
       " '04b86290-3b45-49ef-a648-addcf69f3f7f',\n",
       " 'f1049b66-4b22-430b-8d98-282dc55cd7b8',\n",
       " 'bd2b78c8-255d-46dd-87ee-6d1ec7269446',\n",
       " 'fb2628fe-da4c-4b8a-a5b3-cad27ccbfdf8',\n",
       " '295de506-317f-4c7c-b5f7-08d067a71669',\n",
       " '74a0a652-59fd-44c7-8ab2-fb2b4622ac16',\n",
       " 'abd4d9cd-5117-4b14-b784-97857784eeaf',\n",
       " '007a2c3d-1f52-496b-946a-815e853860bb',\n",
       " '4950a23f-bd73-48dd-a33a-ef991f34be93',\n",
       " 'd6bfe5e6-5a4b-49c0-8669-5ddf388907b2',\n",
       " '0225c48b-b6d5-4022-9bc4-56384831783e',\n",
       " 'f72aa096-2803-4c54-851f-3c4c5fc66bfd',\n",
       " 'b20806db-2f4a-445f-a3f5-047a30c4981e',\n",
       " 'd5d14e51-d844-4433-b455-3c5e0a6b0c57',\n",
       " 'f430516c-0fc0-482f-8958-4911cc71b801',\n",
       " '8b4c24a4-1910-4e55-ab07-57e13f20ad2e',\n",
       " '3258307b-5a53-4070-9326-cfd9a07dca61',\n",
       " '999e0548-daae-499a-b9cd-80021b94f4b0',\n",
       " 'e23a63cf-4591-4c34-90d1-cc7581986e5e',\n",
       " 'c178db0b-e7a0-42c5-848b-0809dd0265c2',\n",
       " '1df6ac86-28a2-40bc-a359-cb15dbd561bf',\n",
       " '6fe91d99-8994-4cb8-9928-8a1170817205',\n",
       " '461e2289-bf99-4c45-a696-cca5560f3588',\n",
       " '2ca0e381-66e5-424c-8a01-adecb2d44e7d',\n",
       " '045f6222-7905-4db8-a2bb-ab93f8df16fe',\n",
       " '23aedd61-f775-49d8-87ea-1589f3771cd0',\n",
       " 'ad7e6385-e202-4faa-acf3-b202fff4acdb',\n",
       " '7cc7157c-8e13-4987-9ff1-c5842969e466',\n",
       " 'e6a0555e-d290-4cdb-be85-b1c4c59e2725',\n",
       " 'a14fa315-2e8b-4006-aa69-100c6f05e42e',\n",
       " '82811a21-d81d-450e-82b0-ae1919c2b2b1',\n",
       " '3337cf84-ad1e-49a9-907f-5a94d9a401f0',\n",
       " '811253ea-c6b9-406f-bdf7-c75fad44053e',\n",
       " 'b343f81a-20b9-4b8f-b1c6-4393f4952c0f',\n",
       " '0329b4a5-7bb6-44e3-b0e5-af197fc5eaed',\n",
       " '5081021d-87d4-4774-ba8d-14751eb7a5a2',\n",
       " 'a7f24845-3b8b-4246-9a25-8d1228b9d631',\n",
       " '2b670826-bdd2-4b92-8acf-22df300d5a20',\n",
       " 'b38431a2-ecf2-4513-99e2-b7546fa19f98',\n",
       " '00655671-380d-4c40-9055-da77f2cec7e8',\n",
       " '3789dd7f-0342-4ce3-911a-21f22eb49310',\n",
       " 'aa8b66ba-cee7-4063-8eaf-f4c9b34423f8',\n",
       " 'dcf32bf9-dab7-4fda-b62a-2067d8709ef8',\n",
       " 'f5c59385-419e-4b9a-9246-e7b34412be13',\n",
       " '68a1cd7a-543f-478c-9eda-90f89146e9bd',\n",
       " 'f8e31ca9-66d1-4438-be04-dae5954d1019',\n",
       " 'bccb5d1e-3035-4063-bb80-bdec956d14d4',\n",
       " '304106f6-136d-40a7-bef9-c2f3ea5d954d',\n",
       " 'cf50dbdc-a3d3-4829-bdad-4f743e8675ae',\n",
       " 'b2dd4769-5f41-42d2-a60a-13541936ce19',\n",
       " '23662e7b-42e1-444e-885c-dba6deb24e4a',\n",
       " 'b7023091-3a01-4022-b580-9df384c7606f',\n",
       " '9fa7df83-e44f-48d4-82a1-45ae452ed7d6',\n",
       " '94dbf85b-f485-4cc8-b33f-5a5545a195d5',\n",
       " '58ef01e5-7b47-4266-a92b-243dc32390e5',\n",
       " 'ab0f4139-b6e8-4922-a1b8-0c5fd58d56af',\n",
       " '1da067c7-e5c7-4b4a-847f-806d6736b2f2',\n",
       " 'dc481303-dbc7-44ec-b3d0-4f2e563c6f83',\n",
       " '135db048-44c9-4691-b12c-ecba4b2acd80',\n",
       " 'a629facb-8a57-40b0-ba9f-79d5e9fd6805',\n",
       " '336ed859-872e-481a-b916-842d99cab005',\n",
       " '31ad3e8e-a5b3-401f-9107-0bba7b0d8038',\n",
       " 'bff1c03c-4898-4a1d-8524-db638e35efae',\n",
       " '87b931b4-606b-4dcb-a176-9033289e86e4',\n",
       " '08b2463e-5003-43dc-a853-5fb64040f035',\n",
       " '62e063d8-fcb6-48f9-a622-c738b4803841',\n",
       " 'f92d2e38-ac0f-4d02-ba11-239dafeb3f33',\n",
       " '3313aad3-0e68-4356-8549-5e303785f124',\n",
       " '83a7f5b6-daaf-4e2a-b752-5976451508cc',\n",
       " '91dcc8c5-ea3f-4caf-925f-d930ee278792',\n",
       " '4e973986-4955-458c-88a9-a5293b595c97',\n",
       " '0e73758a-b2eb-4273-9a09-3b238cbccebd',\n",
       " 'a6ccbffd-064e-468c-bac2-667f6591400c',\n",
       " '965f127e-190f-412e-a73f-75435520857e',\n",
       " '85e025ec-c150-4c4c-96df-969773294d46',\n",
       " '5626331f-8c89-4b18-9b27-dd5ff3b29ea2',\n",
       " 'c14d497b-1524-4577-b30f-fa5da561fbe0',\n",
       " '27db83b9-3a76-449a-960e-243de0a66b0a',\n",
       " '243fa265-2842-42ca-8e6a-f501cf240556',\n",
       " 'da4a3813-c90d-43e1-a7ef-4392ad19b31f',\n",
       " 'ca393615-bf09-4940-9e77-0236bbfd26dc',\n",
       " 'da8ade4e-5af4-43a3-a160-bdbe33bc035a',\n",
       " '8ab07de3-81bf-41c3-ad56-473cefacc0ee',\n",
       " '7ed74e3b-9d43-45c2-80d3-442f4bafefc1',\n",
       " '7fc0cce1-bb64-4abf-b3ec-54f9c16e84ed',\n",
       " 'c2a28ab8-3876-423e-b3d4-50930e4e031f',\n",
       " 'be292f0b-6877-4084-a549-cf4603403b80',\n",
       " 'e7a1479a-d7ad-43b9-9aad-bfd1be496112',\n",
       " '3121535a-da14-478c-bf6d-8ec52202dfb2',\n",
       " 'b0c9af6f-f1f7-4bc8-85e3-e8de7a795c7f',\n",
       " 'af1d17f6-9a22-45ab-ad5e-2f2c40c9f8ce',\n",
       " '56c06566-7399-4815-8631-e0a8287c5b81',\n",
       " 'fb36aeb4-d7af-4260-b4fe-13c56ab54000',\n",
       " 'a0f24538-fc71-4767-941c-3a88949588a1',\n",
       " '20b28dfc-547f-4633-b3f9-6709507080f0',\n",
       " 'b1ae967a-1745-4fc1-8d34-01e24b9ef867',\n",
       " '6d9e34c9-3ffa-42a0-933f-c3765da4240a',\n",
       " '13642fdb-5f45-4325-9869-bd24c832c8c3',\n",
       " '3f2fe1a7-cd02-4d70-bf01-8c77d00e88d6',\n",
       " '39ebabec-626c-4f21-a312-8587e4326087',\n",
       " '8a4dc083-cf59-4e89-8098-5b9cef53ed51',\n",
       " 'ae2e2c10-ca5e-4fd9-98ba-c69a9ac9d7b5',\n",
       " '867933f4-3cbf-41dc-81f3-ad0dc80de44e',\n",
       " '08aed8c2-eeab-419c-9eb4-284cec5feed8',\n",
       " 'ae7adfca-cce5-47b4-8c90-a8a5c7e9971f',\n",
       " 'c0c3a747-378a-41c8-ac0f-81b16d667de0',\n",
       " 'f507bd03-4ca5-416e-bd42-dbb6cc670237',\n",
       " 'c74d3195-91da-4323-8214-245dd411e821',\n",
       " '1b3665b9-a525-401d-a83e-12d79e4db955',\n",
       " '29164f4e-3148-40db-ae71-0c36fc4ddd0d',\n",
       " '6581db99-1d61-4ec3-be44-6fe1e3122c48',\n",
       " 'bf88f3ae-972a-428b-980a-a52a6998cf71',\n",
       " 'd783fdeb-3315-4233-8a37-34ade009df96',\n",
       " 'eaad7de0-c14c-4b3a-a95a-b2207e546de5',\n",
       " 'ee06c6f3-b357-4783-80f1-644a4cf8d86e',\n",
       " '52d222e2-c742-4eda-bbcf-213fed523c3b',\n",
       " 'b06ce09a-ba21-4f48-a89b-f6efaa2b89bc',\n",
       " '57f4d8a9-72ab-4fae-82c6-8a8e061bf246',\n",
       " '40d7af0e-22b3-4c7f-903d-a9e42dd26abd',\n",
       " 'd484c4cd-de65-46d7-8144-0228a6494e89',\n",
       " 'c9f63941-6b91-47f0-9634-4ff143f9c823',\n",
       " 'b68519b0-fec2-4371-9c5a-1b0853f24700',\n",
       " '3a2bf2a2-8e35-440b-ad7a-6d32d5ca7b5c',\n",
       " '114d6042-be36-438d-9b0b-1ed69f512ff1',\n",
       " '90fde89d-4b68-44c4-86c1-2e9ccbdcb41c',\n",
       " 'd0c412c2-0614-40a5-b738-9427f3559853',\n",
       " '1bee6c6e-1a6f-4076-a6f8-38c4cb367fdb',\n",
       " '32612a14-d234-47ec-868b-b72f15a4912f',\n",
       " '9fcf4755-2101-4d38-980f-7fcdc8c47580',\n",
       " 'f6f70dd0-5ebb-4ec7-969b-dffed6ddff3f',\n",
       " '580a8981-ed2d-4904-9fa5-31560f524466',\n",
       " '4cf6962e-a456-42a2-8624-f0e0f4564315',\n",
       " '047d8abf-f8a3-4cf5-a89b-5aa6e9199cd0',\n",
       " '84de2db4-8068-42d8-a0aa-fe385591ed98',\n",
       " '987d2f11-0307-47b6-bb83-9c73cd7427ce',\n",
       " '14a5faa6-0263-4a0b-91b6-dbef7b3abb60',\n",
       " 'bbd7aeff-052e-4433-858f-1f87c433b609',\n",
       " '69696694-0029-4125-b476-8ca44d950aab',\n",
       " '143846f4-7064-419f-91db-7ff2a4553fb8',\n",
       " 'e14e1515-f2e8-4407-9af8-48e679fb65d2',\n",
       " 'ccce9c7c-75d1-4570-b47d-b032d0607d7a',\n",
       " '1db5f9f1-1440-405f-967f-c0b14bbcfdc1',\n",
       " 'df6e39e2-ae6b-4f48-9529-499ba3e57d72',\n",
       " '1f7f82a7-26c4-48a8-a79d-595e1eb50eb4',\n",
       " '01245401-2b38-4c1a-b4f9-5bff26a0fc76',\n",
       " '6b4c38a2-d096-4d0f-97e5-fd7c506a3620',\n",
       " '5c98e310-b0be-474c-939a-bdbe0b9d8d28',\n",
       " '5100b268-17d3-4111-94fb-f6d096fcc7bc',\n",
       " '3ef32f8a-5f58-45a1-99cf-7935c7361110',\n",
       " '9dc7ec65-a949-47ef-a529-1907657ea278',\n",
       " '1f297ae0-3458-40ef-bfed-e5656aa1086f',\n",
       " 'b3a79d14-e207-4e80-9f1f-da4a5d7ce524',\n",
       " '8e9b1552-aad8-4503-8799-8b0a10a7c6f8',\n",
       " '9e579d37-f053-44c5-bacd-597b638b686b',\n",
       " '98cfe403-acca-45d5-b44c-7d45cb496bd4',\n",
       " '9c0d28d0-f476-4e3c-83bf-bbdc14ef58e0',\n",
       " '25a4e000-741b-4a55-9f6e-198633f62f9d',\n",
       " 'd0a8ad92-f53f-4dc6-9bd3-56f258d30a9a',\n",
       " '26b620ac-5f79-47bc-ae0a-b405b7f1a67d',\n",
       " '1777b0cf-bfc9-4aa4-a261-21ffe06b9b28',\n",
       " 'f8546693-3142-491c-9ee3-29d59775db84',\n",
       " '1ce53bc5-92b4-48c0-9524-079cbf3f3b43',\n",
       " '92b917b6-2b62-4758-a9fc-02c444e09ea8',\n",
       " 'e9f5df3e-caaa-4d07-82e3-400711e03e77',\n",
       " '0ad3b11d-8fad-4a4d-bbf0-458d8b66143b',\n",
       " '98870d5b-d8f0-4fe8-b8da-89bb82e26e10',\n",
       " 'e9cdb708-6d33-420e-b192-e03c078fcc8d',\n",
       " '727543b9-e11b-4a15-b03d-ee7840961a02',\n",
       " '236a2bae-b686-4dac-b520-f02f279dc66b',\n",
       " '72f8231e-4c67-4fe8-9007-79219f5073e9',\n",
       " '7026e964-eb79-43d5-b13e-afc81f6a28a6',\n",
       " 'cbc99bd1-da44-4342-9d7c-8eedf0e8580b',\n",
       " '22f321bf-518b-406f-8f0c-4d9296452fe9',\n",
       " '6e5b5fe3-626e-4f84-baaa-2bc4036f4265',\n",
       " '6d38ee16-3be6-4003-bb3b-84da83a485b9',\n",
       " '155c395d-a66a-482b-8c8b-adf0fb5b3d78',\n",
       " 'c093ef31-3b03-46b8-90bd-6844a2448ccd',\n",
       " '04c49c3b-d7cc-459b-a6de-ff04ae8459e3',\n",
       " 'b2e94f89-10fe-44ab-bd6f-e9352156f49c',\n",
       " 'd6e9b3d2-2586-4b15-b7f8-fe0eebeb5619',\n",
       " 'f66b3711-6fc3-420f-b336-303baeffa005',\n",
       " '73b9617f-625d-41c7-a298-a6bebd2c07bf',\n",
       " '57bae533-ad0f-41fd-afa3-952522c94e0e',\n",
       " '6b1580bf-3789-4b3e-ab71-8f421a4aef06',\n",
       " '77da649a-ffbc-4667-9d96-d573cbbad13d',\n",
       " '6326b18a-ccc3-45f9-93d8-cff9bcd0fe9b',\n",
       " '8064d387-258e-4333-81c6-ad6b5f73602a',\n",
       " '366b86ed-1093-4a4d-ab01-4933fc9eb172',\n",
       " '9c8083c0-e229-4aa6-a6fd-22fc1fd5694c',\n",
       " 'b1d01311-7c7e-4a47-9fd6-00f167210083',\n",
       " 'f919e7d9-0a27-4f27-b688-44901260eab8',\n",
       " '805d507e-c305-41cf-a6bd-c525266dc6ab',\n",
       " 'e78305bd-d90e-488d-a9c7-4dc323dfadd8',\n",
       " '68244863-463c-485f-8b88-c4b71cc97a11',\n",
       " 'a2be75a4-2d5d-4639-bd65-30418d539565',\n",
       " '601ada4a-ede2-4e20-b3e5-d10504dcbeff',\n",
       " '4c7e3bdd-1cdf-47dd-8023-1eafa4971be6',\n",
       " '79a84915-be03-4467-8c08-dbc87b4e371b',\n",
       " '7c01eccc-bc99-466b-894e-c52f1250ad60',\n",
       " 'a3fdcc70-229c-4ad7-b335-82d42e6b9e17',\n",
       " '58944829-3462-4436-940c-df38c0ecc134',\n",
       " '15573a5c-6582-4b90-acfb-b1c52ce4c28d',\n",
       " 'c279ef0d-cc4b-4b0d-b26f-bfeda6eec935',\n",
       " '458f3d20-c367-47fa-8ec7-322681aa3cba',\n",
       " 'a5af05a0-6f62-4349-8265-43175a6d826e',\n",
       " '96f9596c-b6f9-4950-b05d-c5047b466392',\n",
       " '6d2a81fb-0ced-4157-88fe-cbef1d763599',\n",
       " 'e85507ba-c914-4716-813c-bac90990ca5a',\n",
       " '83083287-a03d-4fea-b139-f93f1ca1112f',\n",
       " 'a66295df-6cd7-49d3-9e6c-b30e56b0946b',\n",
       " '77c8c043-02e5-481b-bebd-21d53c2e0266',\n",
       " '8665ef74-83d7-439d-a781-4cde0896595b',\n",
       " '030c076f-2eaa-4b76-9fae-69450a1ea484',\n",
       " 'd2a08e2f-8702-4d5c-8cdf-bb999473bce4',\n",
       " '4d3ede8c-4441-4fca-a3c1-12cdf8cfc201',\n",
       " '42fa27ca-9b40-4da7-932a-c9394ae9c8e3',\n",
       " '68a880cb-c736-48f8-ac41-75e833f81a81',\n",
       " '2812b6b2-cc47-4e8f-a036-cae7a637fab5',\n",
       " '95368c92-9881-4deb-b5d6-4bf6be40dfe9',\n",
       " '07e282cf-fedf-434e-87cf-1f7acd19eeda',\n",
       " 'ccd9d3cf-f44a-487c-9509-21e854d8500d',\n",
       " '89a4b484-f76e-4add-9abb-50466512a0ff',\n",
       " 'd15730f5-27eb-4895-8a18-faea224b2716',\n",
       " 'a78ec389-10b8-41c3-8142-459bbf05bf49',\n",
       " 'dbdcf949-5940-447b-93a4-f51fc31295e3',\n",
       " '158d8959-1be8-4a92-bf9b-5caa9afe0149',\n",
       " '1b911a26-e304-457e-9619-7d9b12d94065',\n",
       " '2995e8c3-c94a-4d29-87e5-db0204448a76',\n",
       " '419d8750-7106-4456-b1c8-b27a84b45b0c',\n",
       " '86218aaa-f70a-475e-bdf8-b11bdcfe2175',\n",
       " '633ed525-cd81-4c53-9e7a-badd8685e702',\n",
       " 'c48ed379-68b7-409d-8d71-38cd50c94ece',\n",
       " '42cae5f4-3556-4a34-ac58-e4698d877ba6',\n",
       " '9af152b5-08c0-4989-97fd-8dbc2f63237b',\n",
       " '300bb25c-1be7-4d2d-aa37-5c548fd2a6a4',\n",
       " '9f1738e0-051e-4c8c-b03c-c3ae8600d24b',\n",
       " '579ec4d4-1937-4071-8685-8030c2ae1352',\n",
       " 'afc2ba7b-fc79-49db-926c-dd0bb3d8cf64',\n",
       " '419c3160-8b3f-4400-b92e-20fe982c4c48',\n",
       " 'baac93c5-e234-4bf7-8f37-74c39496e05a',\n",
       " '25764c98-cce5-4eff-871a-b23565e2575d',\n",
       " 'a118e070-8b77-45c6-92a0-445e839a2065',\n",
       " '4763d4c4-a587-424e-a3da-8018651829d1',\n",
       " '9e46c348-4565-48b1-9183-c47f52af4bc1',\n",
       " '29e82a66-f8a2-4ade-b529-0ce504d028f4',\n",
       " '1b07704c-b28c-4811-b0e7-c8e9cc2a9ad5',\n",
       " 'b37829ce-c031-476b-92b2-6c49ed770543',\n",
       " 'cf0e9829-7949-425a-92c4-b327413f15d9',\n",
       " 'a5bb3b4d-7943-4283-9795-dd55df6e1d52',\n",
       " 'da4feae6-ff5e-4c64-b9ab-9cf50eeacd65',\n",
       " '20d891e2-a42b-4e2f-b2bf-53463feedad7',\n",
       " 'c3523951-d636-4886-9562-ad6252410fa5',\n",
       " '32a1716e-3ba7-4bb1-a0f6-80d9e494cb03',\n",
       " 'eedc2405-c5e9-44e4-860f-140070e88608',\n",
       " 'dd2c50e4-5450-4ad3-b5fe-e5ac5d20cf3b',\n",
       " '1d92003c-a05a-40d9-9c49-5ea0ea5b1659',\n",
       " '50320df8-c93b-45c1-a0a7-b9aefed148fb',\n",
       " 'b5fd202f-1d4b-4673-8df9-c2c7b3313fec',\n",
       " 'e00fc90b-0ea0-4238-a584-1889491c261c',\n",
       " 'b12e986d-5e0c-4a00-bf12-6a9267b848ef',\n",
       " 'fa83d672-2e7d-439b-9dac-ceab75aa9122',\n",
       " '1b784194-fa8f-4e22-8890-9b62b382837d',\n",
       " '95893a77-e9a8-41c2-8b40-8973eeed4bed',\n",
       " 'c9f5681b-49e9-41c2-b3b3-863cf7e62716',\n",
       " '68362397-1d47-40e2-b855-a5695943f745',\n",
       " '75dd538d-b0ee-474c-9917-209be6a24e88',\n",
       " 'b1a0aeaa-804d-4906-8810-a7210f83adf8',\n",
       " 'a38e3456-3d6b-4287-b7d9-f5d0949df48a',\n",
       " 'bfa66c92-6e8b-4df0-8317-f8da26286d0e',\n",
       " 'a1c912da-d49b-4a45-8f14-32e100e5fb14',\n",
       " '59f92f4a-acb3-4494-b897-4c994afb4876',\n",
       " '9a81ce23-6f03-4225-b46b-48c69e5177ed',\n",
       " 'f632b0c2-5ad7-490c-be9a-fecb01996c4a',\n",
       " '4af9d04d-e2ee-4258-9470-73614a8d5b5b',\n",
       " 'c337b2d0-19e9-473f-8118-589471c55f30',\n",
       " 'd71b238c-c906-41b4-bf2a-7decf5527c08',\n",
       " 'bd8e38a7-2c38-4247-acd5-1db0c723a32a',\n",
       " '14ce8a6e-b6ee-416a-aa43-e9ceb25debd1',\n",
       " '4efbd7e5-6d3e-4e72-9f89-f551967b3100',\n",
       " 'fcf5c627-d057-4cbd-b2ae-6e0a9f624ded',\n",
       " '60123073-115e-4108-b6b1-4553c9fe96d1',\n",
       " '7d5778ff-4157-4a6f-8212-109ade3a52d4',\n",
       " 'a2101fa3-c78f-475a-af93-bb06a9438f7a',\n",
       " '3ea932ec-c4a5-4a9a-9013-c7f6c4cbf39d',\n",
       " '265119cf-a314-47cf-a870-c65b6539561f',\n",
       " '41fa4e97-b1b7-494c-938b-b1248dfd8a19',\n",
       " '3c6b2fd2-f002-49d8-94db-8a5ca3bce368',\n",
       " '720be716-4cfc-45f2-a3ce-8468b75f00f7',\n",
       " 'b967b004-a598-47e2-9092-0e8770b285ff',\n",
       " 'a41b46a7-671a-4d4a-8fe5-f80933c7d0c6',\n",
       " '7348c0aa-20a5-47f0-947e-76b415dcbcc7',\n",
       " '8dac1394-6d24-43cd-9c69-1a3393fff73a',\n",
       " '34f9fdcb-3e94-4d09-b8db-b3d9a8035d1d',\n",
       " '98277c71-53c6-465a-a684-abceebe20c22',\n",
       " 'c82a7fb2-d60f-485a-adbf-c4ae88fc9b5d',\n",
       " 'd4902f36-3680-4785-8782-490f4521db23',\n",
       " 'cc3fc8f3-1796-48bc-9419-1436532364b8',\n",
       " '21776217-54bd-4076-a8d9-73ad1757e7b7',\n",
       " '409d7be1-3092-4df7-bd9f-2afb6bd7b0df',\n",
       " '7b91fb8c-f0e7-434a-b831-95aceecdd9e0',\n",
       " 'f6ee9b8e-0194-4e8f-8e07-b5cd7ff67fa1',\n",
       " '5ef1c71d-eda9-4db9-9dd4-b60e0b852cd9',\n",
       " '49b3564a-3d9c-436f-94b1-0b6da4115e5e',\n",
       " '33167b21-1030-4a95-8110-ab9a993ac346',\n",
       " 'e2bc9a64-f74a-4638-b6fa-894ed59925d6',\n",
       " '98dc8ea6-dcad-49ae-8bca-10c655a5fb72',\n",
       " '75608529-560c-4471-abaa-6d2cd88019fc',\n",
       " '31d532b3-504a-40c6-80db-9e46ed41cd9a',\n",
       " '5c8fa4b2-8a4e-4614-8475-89ce9b97d700',\n",
       " '42cb8401-9287-4e54-b102-deee4f1f856d',\n",
       " 'f701b41e-a4d3-47fe-89f3-2490f1c0f292',\n",
       " 'e6a96cea-8e08-4e73-9b54-84adceb60b51',\n",
       " '4f000365-f9f3-4e6d-8135-0ed6579d1a5b',\n",
       " '096d7ccf-365b-46c5-8202-929ddcfad19d',\n",
       " 'eecb6523-d097-4ba4-adfc-f7e0844d5302',\n",
       " 'e9cd2871-fd0d-45d9-8d35-ead19e658755',\n",
       " 'c3051108-1403-42dc-ae9c-1ef7e5579103',\n",
       " '609c99d1-fb6f-475d-b0f4-99fc9a9cd98c',\n",
       " '2771b7b7-d5a4-444f-93f5-82cd3545fd5a',\n",
       " 'e189a845-88d3-4e74-a693-093da3666c97',\n",
       " '55772768-f7a6-4363-8902-8737243fd81c',\n",
       " 'c5f5f485-b16e-48f8-af99-a0bd93c6aed8',\n",
       " 'ae8f5aff-34e0-4668-9725-ad431041ca04',\n",
       " '595b5bcd-3f38-4f7a-9496-e01a07729a21',\n",
       " 'c4560f6e-f5e7-4ca1-8835-53690433a8e4',\n",
       " 'e1aa4e12-b6e9-42c8-a15e-7cdab9671200',\n",
       " '6b11fffc-8c54-421e-b658-3923f81674d8',\n",
       " 'c15d20d6-47bd-4608-a795-7248649fa615',\n",
       " '1a0f3d29-2d54-431b-b862-100dbd46a812',\n",
       " 'b43011b6-6c67-4d49-8189-5db950469fa2',\n",
       " 'eb7d4c29-cbb5-440f-a3b9-3496006f5f38',\n",
       " 'da13cb69-ba1e-477f-b817-92e90f099528',\n",
       " 'c263b9c8-b200-477f-8a6e-0b9a442a27db',\n",
       " '1324cc27-0421-4f09-bd0c-70dbbf74abc3',\n",
       " '03f76e53-df9e-4106-9a54-7d60da2e29d1',\n",
       " 'bd7ef042-8df9-4d7f-afdd-b19cee389eee',\n",
       " '9bbc94e2-dfca-41e7-91d0-da942f5b8512',\n",
       " '50cc106d-faea-426a-97f7-1eeccdfe6c06',\n",
       " '7c9466c3-0a02-44bd-92f7-cd3f90b62c38',\n",
       " '73f832c3-1298-43c4-8a15-55512a93a9ec',\n",
       " '1401f2e3-f25a-448a-8855-fd6988c225f4',\n",
       " '95e34ffa-afb8-41ee-8813-285b0eecbef4',\n",
       " 'c9859e86-cf77-4d51-905c-f190c96775e8',\n",
       " 'c209a2a3-2d4e-4c54-ba46-602244c958df',\n",
       " 'd7e6dab5-81e7-4a53-ad19-dfd28e293592',\n",
       " '80490a24-046e-4b3b-92a6-599b8cb67284',\n",
       " 'f48d3aa5-1402-47ff-8ae5-71246f31eeab',\n",
       " 'bbb13fd2-e7aa-49eb-856a-555c61e18bdd',\n",
       " '43d380e2-cd28-49f7-92f5-5c6eab80a57d',\n",
       " '2b4141e4-b7b1-45e8-a4b1-f3ecf321ff05',\n",
       " 'b79c68fe-8b33-4ad4-9acb-dd187e006926',\n",
       " 'f0f9ee6a-51b8-40e9-a1c6-e4082e9e1025',\n",
       " '49fb6dfb-7d47-42dc-ad27-d4f92c21ad7a',\n",
       " '4518a042-a0e1-4135-903f-c01a65560d29',\n",
       " 'f5813025-5d20-4791-80c0-1c779fb24217',\n",
       " 'baf37c96-6462-4524-9fda-c4ad49c27667',\n",
       " '896284e3-4c84-4359-b0c9-4abc060f5a04',\n",
       " 'efcfa991-cabb-4d93-9681-94745245e501',\n",
       " '81614021-0466-48dd-bce8-f4361ef0d355',\n",
       " '286ae3b5-5ec8-401f-a31d-7cbdb9a0bc1d',\n",
       " '9f6fef8a-9778-480b-b475-6b2fcc954594',\n",
       " '8bda91cd-5040-4083-af8b-19d73b69bbc4',\n",
       " '3c51ba8d-002b-456f-ab95-6886b896ee4d',\n",
       " '11e523ca-5922-4a91-b03c-bbeaca25087d',\n",
       " 'af0082f9-c6c8-4e4d-a533-7a81d2d223b3',\n",
       " 'df56c70c-b57f-45de-9266-eadf29a97fb7',\n",
       " '893a0ca8-e37d-4afa-ab32-c5fc5f686b51',\n",
       " '23f9823f-cb4e-4436-a874-d496d327f99a',\n",
       " '3207e3b4-117b-40c9-8a5b-b8a2d97d0bf0',\n",
       " '4045d159-5e4d-4eaf-81a2-66e7eb304d0b',\n",
       " 'f3ca4c3e-4757-44a6-bd7a-0c7e09388728',\n",
       " '8dd9461b-97bb-463e-bb26-fbcdd5037141',\n",
       " 'f7ac5dd0-a053-48f2-badf-140932df40a0',\n",
       " '7ce60162-e4e9-4f25-be20-0e057ed3a9ce',\n",
       " '5b46e214-f772-4660-a80b-d27634926af0',\n",
       " 'be2f69ae-be1f-43df-8450-1e5906b2f157',\n",
       " '02a87ef2-029a-4893-a83a-14936f4b14ce',\n",
       " 'dd5e07ef-5bbc-437c-9d47-7137772bdb78',\n",
       " '35b3cb52-0861-4089-9b6d-dd2ba5ba7006',\n",
       " '7863d8fa-7bf3-448a-bed1-293455024fcc',\n",
       " 'e8d0c42d-4d26-41c3-a385-51da8340ae53',\n",
       " 'deac3087-24bc-49c9-afc6-d287a1801996',\n",
       " 'be44ac76-1d4d-4478-ae56-3322c31374e7',\n",
       " 'c19b9491-c671-4b1d-8506-8f6996340e52',\n",
       " '13fa968a-2620-4ae4-9fa0-df816df8c256',\n",
       " 'f9ff39bd-271c-45f8-b98a-a5ab2c3d8755',\n",
       " '424b9dfc-918f-41b7-a753-2df015ca0461',\n",
       " '9c916ac7-458e-4645-83e0-bd3ccc50b87e',\n",
       " '059b648a-e281-413c-a149-498225fe3e66',\n",
       " '41a780e5-2074-4238-82ab-e3abeb1a53e4',\n",
       " '73b4f8e2-db1d-4d2b-8580-1639a54521e7',\n",
       " '5776907b-e99c-4b47-a023-acb778b9c1bd',\n",
       " 'c0a67960-ceb6-42ab-bdea-755da9a7bc33',\n",
       " '0bbcfbc1-7a7b-4ebe-b56f-4a3403b38bdb',\n",
       " 'ac2c6ab8-ea03-40dc-985b-7cb4ff6f5890',\n",
       " 'fef38aba-44cc-4109-9442-76e04181a828',\n",
       " '5988678c-d7c7-458c-abe6-1f3769e7b83b',\n",
       " '9b74ebda-562a-48c5-b29c-bf5725c7daa6',\n",
       " 'd2384bd3-483f-42d9-9f9c-22370238f218',\n",
       " 'd2f2cd21-c37f-407a-8680-7a60ef9e24cb',\n",
       " '5dfb6b8f-6e75-40d7-b500-79274f2f4636',\n",
       " '3db8658e-034a-41c0-9dfe-9791264eac27',\n",
       " '83cf4f97-1fbf-4192-9905-d9b4ef066309',\n",
       " '6734879f-1a57-4825-8cdb-9bc147067c45',\n",
       " '7f8505cc-40fb-488b-9523-e1984b3678e5',\n",
       " '1201f85c-e5be-40b2-8821-e61d3ebe9cf7',\n",
       " 'bb4711a3-9382-4dff-b41a-79347fa7af4d',\n",
       " 'af6c1d90-e631-4829-94f3-757229aaf221',\n",
       " '68aaacb6-a5d1-4fef-aa9e-580866833c59',\n",
       " 'c8b51281-13eb-474c-9216-0fb128da0f4b',\n",
       " 'cead128e-4e0e-4484-84e8-1d12988d247e',\n",
       " '69982e82-f626-42ae-9c5b-76238cc9fc3c',\n",
       " '64a8f2a4-3d23-44ae-8b30-b5a700bff9ab',\n",
       " 'c16fb811-3447-4697-8dfd-041810388f3d',\n",
       " 'bd6bd7e9-715f-423e-a456-7962b4b6905c',\n",
       " '97973933-386e-4a26-b41e-662398df5342',\n",
       " 'acff9d05-de29-4f2b-a3cc-51f38c5e6b80',\n",
       " '5d3d985d-14a2-4eec-8d45-c969abb93e26',\n",
       " 'c6093e1d-1c39-4af3-822d-0f3ac2a34681',\n",
       " '77450992-6ea5-4c3d-ab5f-7ed0401c9440',\n",
       " 'b5515dce-a93c-4a16-9cda-43662acb97fe',\n",
       " '51465aaf-1b5e-494e-89db-23c802b56eaa',\n",
       " '55cd4a1d-8ac7-4bfd-8cac-4efbb327f322',\n",
       " '95d86d88-e002-449b-ae98-a7e0290541ae',\n",
       " '09b69242-7dc0-45f4-9888-8eebd7d4bf70',\n",
       " 'b0b5d8f9-2df7-411a-9c87-6d88bdd65364',\n",
       " '273114d8-1cfc-40ac-976a-4f99114ba643',\n",
       " 'db7c0708-9cb2-4f9a-a95d-0708c5a9ca8f',\n",
       " '4a99fca0-e33f-4c9a-bdb3-909235843c49',\n",
       " 'cae736b3-c54c-4a1f-a0f1-97b18492fc6a',\n",
       " 'a7d963af-08ae-4a22-93d7-0dbadf77f441',\n",
       " '851db642-43a9-4f7f-abb2-d749432f4edc',\n",
       " '255f2c39-20fb-441c-8900-1825a8b544e2',\n",
       " '6b2082e2-22c4-430c-b91f-bdbe851a7456',\n",
       " '2705d67b-eb78-4863-9e98-07ab8874b569',\n",
       " '2b20fa31-e95d-4302-9a8b-ef9ae4ab9f03',\n",
       " '7718cdac-5cc0-41a2-82b0-b975c52e7f72',\n",
       " '98769f86-1b90-401d-a08a-98467a60eb77',\n",
       " '2cba8fd5-9d23-4dcf-99e1-29628b7ee98b',\n",
       " 'e2b75eae-d8ef-47ac-a552-0805a26c237a',\n",
       " '0b36ed18-92b7-4de8-a1e2-13881aad13dc',\n",
       " '051f3bc9-c7e1-4995-bab7-69af7bafda51',\n",
       " 'c0ff72d0-bf20-405b-8a59-b615b2c5d0d2',\n",
       " '10a82bcb-9544-4dbb-be08-11dd7f6dae38',\n",
       " '4dca5c45-8997-43b2-ba82-4c93199678b3',\n",
       " 'f3da967e-f14f-46cb-9ffe-125199172970',\n",
       " '7e15e913-ba0e-49dd-9c71-9e0b217969d1',\n",
       " 'fa04f379-d62b-40e8-8790-d0f044a75b4e',\n",
       " 'ac1210aa-8ff3-4729-b0dd-425fa685b121',\n",
       " '164ef505-40d3-498e-8ba5-430451bbcc0e',\n",
       " '5d27ed9c-2e57-42a1-930e-2a2ea3b623a4',\n",
       " 'c97d0d8b-b9a1-4808-bf51-6383845e463b',\n",
       " '6a520233-100b-410a-9d24-3e6e1b94ed14',\n",
       " 'b3b39cf5-a1b1-4f1e-b432-7da77ac96073',\n",
       " 'c6b9c076-9191-4ba5-b560-77cf82b1b10e',\n",
       " 'e6401173-3fb4-4979-a571-e7a7107919a2',\n",
       " '7a605876-a753-4d71-b7e8-c7dfe733124c',\n",
       " '8328c2e4-bb31-4939-8e9f-d7d3dc5c82f9',\n",
       " 'd5c24efb-b5f0-484e-b8ed-a60368612a13',\n",
       " 'c4e530f7-f04c-4187-a751-9d7925471f63',\n",
       " 'd2f9c68b-2018-447a-afa3-a0b41bc28fe3',\n",
       " 'aec0f229-9c12-4492-a706-207e88eddec8',\n",
       " 'fbfaa6d6-9b7c-45ba-b415-c76542e824e1',\n",
       " '4e0f2f14-439e-4e55-8aab-060f953de857',\n",
       " '8765f9b3-9ab1-4e1e-91d8-c4bbed8ec600',\n",
       " '00dd14be-a221-4dc2-94eb-574263650f61',\n",
       " 'ef8f8474-621e-4a3d-b123-1dfc3774c0d9',\n",
       " '0de6abf9-6065-4c65-b739-65a3c49771e8',\n",
       " '14bde669-0837-48b8-b542-b935db0a998b',\n",
       " '73057157-4039-45ca-a53c-08d5007da41d',\n",
       " 'f1676988-a7a9-4ca1-a907-e177be397bbf',\n",
       " '2c0225ba-c62b-4fc7-a5c1-083412e456e4',\n",
       " '9a2fcfea-328a-433f-8456-6094be9f1016',\n",
       " '9b2e4fe8-b05b-449b-a7fc-a765f107aa79',\n",
       " '2d1276db-4a63-4f8f-9f37-6f0ec49c89d1',\n",
       " '66e02953-71ba-46a0-bb76-6114c6151b70',\n",
       " '252089c4-71a8-497b-a701-a761dc13698c',\n",
       " '1ac92374-4a8e-480c-8c87-8c080c773969',\n",
       " 'a89775c1-4f1d-48c6-821c-02ae4b196103',\n",
       " '54fc5e16-90db-454c-ae82-5aac06634864',\n",
       " '989a381b-88b5-49ca-8c33-f509294b7aca',\n",
       " 'f6e1e974-458d-4cb6-96af-f9fa272c225c',\n",
       " '71239566-0197-4b5f-82a2-626de02acf5a',\n",
       " 'c4f9d5b8-e7f8-4b36-b669-968e560f1023',\n",
       " '9bbc1e3a-7457-4184-8bd5-e96818395b99',\n",
       " '2a5c4f83-fa62-4285-9e13-73ddcc33e3d0',\n",
       " '385e81e8-eeea-42b5-9335-99939b02b590',\n",
       " '7fd075e1-42ea-43fa-9080-fa0fe680dfd5',\n",
       " '2b8c6401-175f-414a-b46d-052b6833ad78',\n",
       " 'b2373e62-1252-4c4b-afaf-f84a4d63ecc0',\n",
       " '6a1800a4-810b-4e8f-8587-f53afa487cd4',\n",
       " 'f3879d96-c95c-4d6e-9c09-f29b749985ce',\n",
       " '979b931d-c6f3-4d1d-afbf-bf2e2c90d8f6',\n",
       " '7939ff7b-919f-4f93-8c79-44952c5720af',\n",
       " 'b7b6315f-2c06-4994-8036-2a408e448a46',\n",
       " '21f31755-a01d-45b0-8c33-669cbb5da939',\n",
       " '0fbdcccc-8f5d-4a36-a472-cb89ba8b0c36',\n",
       " '09bf0870-4ace-4e4b-aa0b-f9afaae13ef0',\n",
       " 'f287ccc3-d6ae-454f-8c0b-6849139b2f0b',\n",
       " 'eec35e96-bc49-47ee-914e-7f2c64e0278a',\n",
       " 'a1a35328-f1da-4049-aa2a-be679c09f99d',\n",
       " '2638e43d-91a2-46d4-9179-771c6b9c8349',\n",
       " '61121fcf-c5fa-42aa-b463-d53b8472dcfb',\n",
       " 'b25bfafd-58d5-4423-83f5-93110706c811',\n",
       " 'b4190ec7-dff3-469b-b0a9-9cf67208b4ca',\n",
       " 'cffe94b5-9bb6-4360-ac69-d282c41179e4',\n",
       " 'ffd6966e-0bf9-48e3-8c70-e6ea7851bcbf',\n",
       " 'ee84798f-41f8-4987-bfd4-948c8adc0219',\n",
       " 'e4340728-c2be-4974-b9e4-ee244cbcb1b4',\n",
       " '8b9bbece-90fa-4d78-a439-2f17b8031506',\n",
       " '12de8e2f-22a3-487d-8811-71c3b6b4d91d',\n",
       " '88bdb426-e142-423f-a937-6bcf1bfc55a1',\n",
       " 'b9650cb5-727b-48d2-83b7-7273a4769b06']"
      ]
     },
     "execution_count": 44,
     "metadata": {},
     "output_type": "execute_result"
    }
   ],
   "source": [
    "#Adding documents onto vectordb\n",
    "vector_store.add_documents(documents=split_docs)"
   ]
  },
  {
   "cell_type": "code",
   "execution_count": 45,
   "metadata": {},
   "outputs": [
    {
     "name": "stdout",
     "output_type": "stream",
     "text": [
      "{'dimension': 768,\n",
      " 'index_fullness': 0.0,\n",
      " 'metric': 'cosine',\n",
      " 'namespaces': {'': {'vector_count': 615}},\n",
      " 'total_vector_count': 615,\n",
      " 'vector_type': 'dense'}\n"
     ]
    }
   ],
   "source": [
    "#Understand the statistics of loaded data \n",
    "stats = index.describe_index_stats()\n",
    "print(stats)"
   ]
  },
  {
   "cell_type": "code",
   "execution_count": 47,
   "metadata": {},
   "outputs": [],
   "source": [
    "#Create a retriver object for RAG\n",
    "retriver=vector_store.as_retriever(\n",
    "    search_type=\"similarity_score_threshold\",\n",
    "    search_kwargs={\"score_threshold\": 0.7}\n",
    ")"
   ]
  },
  {
   "cell_type": "code",
   "execution_count": 48,
   "metadata": {},
   "outputs": [],
   "source": [
    "#Building the model \n",
    "from langchain_google_genai import ChatGoogleGenerativeAI\n",
    "model=ChatGoogleGenerativeAI(model=\"gemini-1.5-flash\")"
   ]
  },
  {
   "cell_type": "code",
   "execution_count": 49,
   "metadata": {},
   "outputs": [
    {
     "name": "stdout",
     "output_type": "stream",
     "text": [
      "ChatPromptTemplate(input_variables=['context', 'question'], input_types={}, partial_variables={}, metadata={'lc_hub_owner': 'rlm', 'lc_hub_repo': 'rag-prompt', 'lc_hub_commit_hash': '50442af133e61576e74536c6556cefe1fac147cad032f4377b60c436e6cdcb6e'}, messages=[HumanMessagePromptTemplate(prompt=PromptTemplate(input_variables=['context', 'question'], input_types={}, partial_variables={}, template=\"You are an assistant for question-answering tasks. Use the following pieces of retrieved context to answer the question. If you don't know the answer, just say that you don't know. Use three sentences maximum and keep the answer concise.\\nQuestion: {question} \\nContext: {context} \\nAnswer:\"), additional_kwargs={})])\n"
     ]
    }
   ],
   "source": [
    "#BUilding a prompt \n",
    "from langchain import hub\n",
    "prompt = hub.pull(\"rlm/rag-prompt\")\n",
    "\n",
    "#display the prompt \n",
    "import pprint \n",
    "pprint.pprint(prompt)"
   ]
  },
  {
   "cell_type": "code",
   "execution_count": 50,
   "metadata": {},
   "outputs": [],
   "source": [
    "#Creating output pharser \n",
    "from langchain_core.output_parsers import StrOutputParser\n",
    "from langchain_core.runnables import RunnablePassthrough\n",
    "\n",
    "#Function to combine all contextual documents\n",
    "def format_docs(docs):\n",
    "    return \" \\n \\n\".join(doc.page_content for doc in docs)"
   ]
  },
  {
   "cell_type": "code",
   "execution_count": 55,
   "metadata": {},
   "outputs": [],
   "source": [
    "#Creating a Rag Chain\n",
    "rag_chain = (\n",
    "    {\"context\":retriver | format_docs, \"question\":RunnablePassthrough()}\n",
    "    |   prompt \n",
    "    |   model \n",
    "    |   StrOutputParser()\n",
    ")"
   ]
  },
  {
   "cell_type": "code",
   "execution_count": 56,
   "metadata": {},
   "outputs": [
    {
     "data": {
      "text/plain": [
       "'Based on the provided text, Llama is a large language model.  There are different versions, including Llama 1 and Llama 2, with varying sizes (e.g., 7B, 13B parameters).  More information can be found in the linked Responsible Use Guide.'"
      ]
     },
     "execution_count": 56,
     "metadata": {},
     "output_type": "execute_result"
    }
   ],
   "source": [
    "rag_chain.invoke(\"what is llama model?\")"
   ]
  },
  {
   "cell_type": "code",
   "execution_count": null,
   "metadata": {},
   "outputs": [],
   "source": []
  }
 ],
 "metadata": {
  "kernelspec": {
   "display_name": "agenticenv",
   "language": "python",
   "name": "python3"
  },
  "language_info": {
   "codemirror_mode": {
    "name": "ipython",
    "version": 3
   },
   "file_extension": ".py",
   "mimetype": "text/x-python",
   "name": "python",
   "nbconvert_exporter": "python",
   "pygments_lexer": "ipython3",
   "version": "3.11.9"
  }
 },
 "nbformat": 4,
 "nbformat_minor": 2
}
