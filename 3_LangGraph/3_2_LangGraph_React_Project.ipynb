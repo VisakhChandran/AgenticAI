{
 "cells": [
  {
   "cell_type": "markdown",
   "id": "45a102dd",
   "metadata": {},
   "source": [
    "# Project workflow is as follows"
   ]
  },
  {
   "cell_type": "markdown",
   "id": "410a99dd",
   "metadata": {},
   "source": [
    "![title](First_Agent2.jpg))\n"
   ]
  },
  {
   "cell_type": "markdown",
   "id": "fcb4c016",
   "metadata": {},
   "source": [
    "- If the user question is about \"US\" then the answer should use the Context loaded within VectorDB\n",
    "- If the user question is about \"India\" then the answer should be using WebCrawler. \n",
    "- For rest of the questions we should use LLM Calls."
   ]
  },
  {
   "cell_type": "markdown",
   "id": "be661ed4",
   "metadata": {},
   "source": [
    "## Importing the required libraries"
   ]
  },
  {
   "cell_type": "code",
   "execution_count": 125,
   "id": "4dfeb05b",
   "metadata": {},
   "outputs": [],
   "source": [
    "#Importing libraries\n",
    "import operator\n",
    "from typing import List\n",
    "from pydantic import BaseModel , Field\n",
    "from langchain.prompts import PromptTemplate\n",
    "from typing import TypedDict, Annotated, Sequence\n",
    "from langchain_core.messages import BaseMessage\n",
    "from langchain_core.output_parsers import StrOutputParser\n",
    "from langchain_core.prompts import ChatPromptTemplate, PromptTemplate\n",
    "from langchain_core.runnables import RunnablePassthrough\n",
    "from langchain_core.messages import HumanMessage, AIMessage\n",
    "from langgraph.graph import StateGraph,END\n",
    "from langchain_community.document_loaders import TextLoader, DirectoryLoader\n",
    "from langchain_community.vectorstores import Chroma \n",
    "from langchain.text_splitter import RecursiveCharacterTextSplitter\n",
    "from langchain_tavily import TavilySearch, TavilyExtract\n",
    "import os \n",
    "import numpy as np \n",
    "from sentence_transformers import SentenceTransformer, util\n",
    "from sklearn.metrics.pairwise import cosine_similarity\n",
    "import numpy as np \n"
   ]
  },
  {
   "cell_type": "markdown",
   "id": "29121f1b",
   "metadata": {},
   "source": [
    "# Loading the VectorDB "
   ]
  },
  {
   "cell_type": "code",
   "execution_count": 78,
   "id": "e7c5b323",
   "metadata": {},
   "outputs": [],
   "source": [
    "#Define the Embedding model \n",
    "from langchain_huggingface import HuggingFaceEmbeddings\n",
    "\n",
    "#Create the embedding model \n",
    "embeddings = HuggingFaceEmbeddings(model_name=\"BAAI/bge-small-en\")"
   ]
  },
  {
   "cell_type": "code",
   "execution_count": 79,
   "id": "af68a8f0",
   "metadata": {},
   "outputs": [
    {
     "name": "stderr",
     "output_type": "stream",
     "text": [
      "  0%|          | 0/1 [00:00<?, ?it/s]"
     ]
    },
    {
     "name": "stderr",
     "output_type": "stream",
     "text": [
      "100%|██████████| 1/1 [00:00<00:00, 251.85it/s]\n"
     ]
    }
   ],
   "source": [
    "\n",
    "#Read the input file onto loader object (Directory Loader + Text loader)\n",
    "loader = DirectoryLoader(\"../data\", glob=\"./*.txt\", loader_cls=TextLoader, show_progress=True)\n",
    "\n",
    "#Perform Load operation\n",
    "docs = loader.load()\n",
    "\n",
    "#Splitting the document into chunks \n",
    "text_splitter = RecursiveCharacterTextSplitter(\n",
    "    chunk_size=200, \n",
    "    chunk_overlap=50\n",
    ")\n",
    "\n",
    "#Perform Splitting operation \n",
    "new_docs = text_splitter.split_documents(documents=docs)\n",
    "\n",
    "#Creating DB Instance (Chroma)\n",
    "db = Chroma.from_documents(new_docs, embeddings)\n",
    "\n",
    "#Creating a retriver object\n",
    "retriver = db.as_retriever(search_kwargs={\"k\":3})\n",
    "\n"
   ]
  },
  {
   "cell_type": "code",
   "execution_count": 80,
   "id": "e5a72f76",
   "metadata": {},
   "outputs": [],
   "source": [
    "#Function to collect the text from the document retrived from retriver so that \n",
    "def format_docs(docs):\n",
    "    return \"\\n \\n\".join(doc.page_content for doc in docs)"
   ]
  },
  {
   "cell_type": "markdown",
   "id": "169ecbb5",
   "metadata": {},
   "source": [
    "# Pydantic Model and AgenticState"
   ]
  },
  {
   "cell_type": "code",
   "execution_count": 81,
   "id": "144467af",
   "metadata": {},
   "outputs": [],
   "source": [
    "#Import Pydantic library\n",
    "from pydantic import BaseModel, Field \n",
    "\n",
    "#Defining the Pydantic class \n",
    "class TopicSelectionParser(BaseModel):\n",
    "    Topic : str = Field(description=\"Identified Topic from user input\")\n",
    "    Reasoning : str = Field(description= \"Rationale or Reason for selecting the topic from the user input\")"
   ]
  },
  {
   "cell_type": "code",
   "execution_count": 82,
   "id": "047cabc6",
   "metadata": {},
   "outputs": [],
   "source": [
    "#Attaching the Pydantic Class to Parser output \n",
    "from langchain.output_parsers import PydanticOutputParser\n",
    "parser = PydanticOutputParser(pydantic_object=TopicSelectionParser)"
   ]
  },
  {
   "cell_type": "code",
   "execution_count": 83,
   "id": "16ba7f98",
   "metadata": {},
   "outputs": [],
   "source": [
    "#Defining Agent State\n",
    "class AgentState(TypedDict): \n",
    "    messages : Annotated[Sequence[BaseMessage], operator.add]"
   ]
  },
  {
   "cell_type": "markdown",
   "id": "a31e11e3",
   "metadata": {},
   "source": [
    "# Defining the model "
   ]
  },
  {
   "cell_type": "code",
   "execution_count": 84,
   "id": "fd56c7eb",
   "metadata": {},
   "outputs": [],
   "source": [
    "#Building the model \n",
    "from langchain_google_genai import ChatGoogleGenerativeAI\n",
    "model = ChatGoogleGenerativeAI(model=\"gemini-1.5-flash\")"
   ]
  },
  {
   "cell_type": "markdown",
   "id": "98858639",
   "metadata": {},
   "source": [
    "# Define the Supervisor Model "
   ]
  },
  {
   "cell_type": "code",
   "execution_count": 85,
   "id": "fa6cd2ce",
   "metadata": {},
   "outputs": [],
   "source": [
    "#Defining the function (Supervisor) \n",
    "\n",
    "def function_1(state: AgentState):\n",
    "    \n",
    "    #Identify the node that executes the task \n",
    "    print(\"------> Supervisor <-----------\")\n",
    "    \n",
    "    #Capturing the user question \n",
    "    #Taking the last message as the recent user question \n",
    "    question = state[\"messages\"][-1] \n",
    "    \n",
    "    #Display the question \n",
    "    print(\"Question is : \", question)\n",
    "    \n",
    "    #Next is to define the input to the LLM. \n",
    "    template = \"\"\" \n",
    "    Your task is to clarify if the given user query into the following categories : [USA, INDIA, Not Related].\n",
    "    Only respond with the Category Name and Nothing else. \n",
    "    \n",
    "    User question : {question}\n",
    "    \n",
    "    {format_instructions}\n",
    "     \n",
    "    \"\"\"\n",
    "    \n",
    "    #Creating Prompt for LLM \n",
    "    prompt = PromptTemplate(\n",
    "        template=template, \n",
    "        input_variables=[\"question\"],\n",
    "        partial_variables={\"format_instructions\":parser.get_format_instructions()}\n",
    "    )\n",
    "    \n",
    "    #Creating the chain \n",
    "    chain = prompt | model | parser \n",
    "    \n",
    "    #Executing the Chain \n",
    "    response = chain.invoke({\"question : \", question })\n",
    "    \n",
    "    #Display the response \n",
    "    print(\"Parsed response from Supervisor : \", response)\n",
    "    \n",
    "    #Returning state \n",
    "    return{\"messages\" : [response.Topic]}  \n"
   ]
  },
  {
   "cell_type": "markdown",
   "id": "a7db8f90",
   "metadata": {},
   "source": [
    "# Defining RAG"
   ]
  },
  {
   "cell_type": "markdown",
   "id": "9dab2c7d",
   "metadata": {},
   "source": [
    "- This module will be trigged if the Question is about USA \n",
    "- We will retrive the answer from the Vector DB."
   ]
  },
  {
   "cell_type": "code",
   "execution_count": 86,
   "id": "6b978264",
   "metadata": {},
   "outputs": [],
   "source": [
    "#RAG Function : Function 2 \n",
    "def function_2(state: AgentState):\n",
    "    \n",
    "    #Identify the node that performs the execution \n",
    "    print(\"============> RAG Node <======================\")\n",
    "    \n",
    "    #Identifying the user question as the fist message\n",
    "    question = state[\"messages\"][0]\n",
    "    \n",
    "    #Defining the Prompt to execute \n",
    "    prompt = PromptTemplate(\n",
    "        \n",
    "        #Defining a RAG Template\n",
    "        template= \"\"\" \n",
    "        You are an assistant for answering the given question and provide accurate answers. \n",
    "        Use the following pieces retrieved from the context to answer the question. \n",
    "        If you dont know the answer, then you just say that you dont know the answer. \n",
    "        Use a maximum of three sentences to answer the question.\n",
    "        \n",
    "        \\n \n",
    "        Question : {question} \n",
    "        \n",
    "        \\n\n",
    "        Context : {context}\n",
    "        \n",
    "        \\n\n",
    "        Answer : \n",
    "        \"\"\" ,\n",
    "        input_variables=['context', 'question']\n",
    "    )\n",
    "    \n",
    "    #Building the RAG Chain \n",
    "    rag_chain = (\n",
    "        {\"context\": retriver | format_docs, \"question\": RunnablePassthrough()}\n",
    "        |   prompt \n",
    "        |   model \n",
    "        |   StrOutputParser()     \n",
    "    )\n",
    "\n",
    "    #Generating Result \n",
    "    result = rag_chain.invoke(question)\n",
    "\n",
    "    #Return message\n",
    "    return {\"messages\": [result]}\n",
    "    "
   ]
  },
  {
   "cell_type": "markdown",
   "id": "c2109ab3",
   "metadata": {},
   "source": [
    "# Defining LLM Call"
   ]
  },
  {
   "cell_type": "code",
   "execution_count": 87,
   "id": "fd672662",
   "metadata": {},
   "outputs": [],
   "source": [
    "#LLM Call \n",
    "def function_3(state: AgentState):\n",
    "    \n",
    "    #Identifying the node that is executing \n",
    "    print(\"===========> LLM Call <=====================\")\n",
    "    \n",
    "    #Getting the user question \n",
    "    question = state[\"messages\"][0]\n",
    "    \n",
    "    #User question is passed onto the model to get the response \n",
    "    complete_query = \"Answer the following question with your knowledge of the reason world. The question is  \" + question \n",
    "    \n",
    "    #Generating LLM Response \n",
    "    response = model.invoke(complete_query)\n",
    "    \n",
    "    #Result from LLM \n",
    "    return{\"messages\": [response.content]}"
   ]
  },
  {
   "cell_type": "markdown",
   "id": "798b7bfe",
   "metadata": {},
   "source": [
    "# Define WebCrawler "
   ]
  },
  {
   "cell_type": "markdown",
   "id": "66e07d6e",
   "metadata": {},
   "source": [
    "- This module will be triggered if the question is about India. \n",
    "- We use Travly to search and extract the relevant detail."
   ]
  },
  {
   "cell_type": "code",
   "execution_count": 88,
   "id": "31e4beb3",
   "metadata": {},
   "outputs": [],
   "source": [
    "#This function will search and extract details of Topic shared to it  \n",
    "\n",
    "\n",
    "def function_4(state: AgentState):\n",
    "    \n",
    "    #Identify that the node that is performing the operation \n",
    "    print(\"========================> WebCrawling <=============================\")\n",
    "    \n",
    "    #Capturing the user question as it will be the first message \n",
    "    question = state[\"messages\"][0]\n",
    "    \n",
    "    #Perfoming the search in the internet using the user question \n",
    "    tavily_search = TavilySearch(api_key=os.getenv('TAVILY_API_KEY'), max_results=5, topic=\"general\" ) \n",
    "    search_results = tavily_search.invoke(question)\n",
    "    \n",
    "    #Extract the URLs alone from the abvoe search result \n",
    "    urls = [item[\"url\"] for item in search_results[\"results\"]]\n",
    "    \n",
    "    #Share the URLs to extract the relevant information from Websites identified. \n",
    "    tavily_extract = TavilyExtract(api_key=os.getenv('TAVILY_API_KEY'), extract_depth=\"basic\", include_images=False)\n",
    "    result = tavily_extract.invoke({\"urls\" : urls})\n",
    "    raw_context = [item[\"raw_content\"] for item in result[\"results\"]]  \n",
    "\n",
    "\n",
    "    #Defining the prompt template \n",
    "    template = \"\"\" \n",
    "    Your task is to summarise the data provided based on extracted information against user question that is asked. \n",
    "    \n",
    "    \\n\n",
    "    User Question is available here : {question}\n",
    "    \n",
    "    \\n \n",
    "    The context that should be used to summrise for the question above is available here: {raw_context}\n",
    "    \"\"\"\n",
    "    \n",
    "    #Prompt Template \n",
    "    prompt = PromptTemplate(\n",
    "        template=template,\n",
    "        input_variables=[\"raw_context\", \"question\"]\n",
    "    )\n",
    "    \n",
    "    #Define an llm Chain \n",
    "    LLM_Chain = prompt | model | StrOutputParser() \n",
    "    \n",
    "    #Generating result \n",
    "    result = LLM_Chain.invoke({\"question\":question, \"raw_context\": raw_context})\n",
    "    \n",
    "    #Return Message\n",
    "    return {\"messages\" : [result]}\n",
    "    "
   ]
  },
  {
   "cell_type": "code",
   "execution_count": 89,
   "id": "ab2a0626",
   "metadata": {},
   "outputs": [
    {
     "name": "stdout",
     "output_type": "stream",
     "text": [
      "========================> WebCrawling <=============================\n",
      "[\"India, officially the Republic of India, is a South Asian country.  It's the \"\n",
      " \"world's most populous country (as of 2023) and the seventh largest by area.  \"\n",
      " \"Independent since 1947, it's the world's largest democracy.  Its diverse \"\n",
      " 'geography includes the Indian Ocean to the south, the Arabian Sea to the '\n",
      " 'southwest, and the Bay of Bengal to the southeast.  It shares land borders '\n",
      " 'with Pakistan, China, Nepal, Bhutan, Bangladesh, and Myanmar.  \\n'\n",
      " '\\n'\n",
      " \"India's history stretches back to the arrival of modern humans at least \"\n",
      " '55,000 years ago.  Significant periods include the Indus Valley Civilization '\n",
      " '(2500–1900 BCE), the Mauryan and Gupta empires, and the Mughal Empire.  '\n",
      " 'British colonial rule lasted from 1858 until independence in 1947, followed '\n",
      " 'by partition into India and Pakistan.\\n'\n",
      " '\\n'\n",
      " 'Since 1950, India has been a federal parliamentary republic with a '\n",
      " 'multi-party system.  Its economy, while experiencing significant growth, '\n",
      " 'faces challenges such as poverty, inequality, and environmental issues.  The '\n",
      " \"country's population is diverse, with numerous languages and religions, \"\n",
      " 'Hinduism being the most prevalent.  Indian culture is rich, with '\n",
      " 'contributions to art, music, literature, and cuisine.  Cricket is the most '\n",
      " 'popular sport.']\n"
     ]
    }
   ],
   "source": [
    "#Testing the function 4 \n",
    "#Input  \n",
    "state={\"messages\":[\"Can you tell me about India?\"]}\n",
    "result = function_4(state)\n",
    "import pprint\n",
    "pprint.pprint(result[\"messages\"])"
   ]
  },
  {
   "cell_type": "markdown",
   "id": "6f123dcb",
   "metadata": {},
   "source": [
    "# Define Validation"
   ]
  },
  {
   "cell_type": "markdown",
   "id": "473df8c9",
   "metadata": {},
   "source": [
    "- Here i want to perform Validation and if the validation fails i want the control to go back to Supervisor node. \n",
    "- If the Validation is successful then it should go to exit. "
   ]
  },
  {
   "cell_type": "code",
   "execution_count": null,
   "id": "a14b406a",
   "metadata": {},
   "outputs": [],
   "source": [
    "#Building a function that takes the question and the final answer and check their \n",
    "\n",
    "\n",
    "def function_5(state: AgentState): \n",
    "    \n",
    "    #Identify the node that perform the execution \n",
    "    print(\"==================> Validation <===================\")\n",
    "    \n",
    "    #Identify the user question (first message) \n",
    "    question = state[\"messages\"][0]\n",
    "    \n",
    "    #Convert input into Embedding \n",
    "    question_embedding = embeddings.embed_query(question)\n",
    "    \n",
    "    \n",
    "    #Getting the last result generated \n",
    "    result = state[\"messages\"][-1]\n",
    "    \n",
    "    #Convert result into embedding\n",
    "    result_embdding = embeddings.embed_query(result)\n",
    "    \n",
    "    #Reshaping the embeddings for calculating simillarity score\n",
    "    question_embedding = np.array(question_embedding).reshape(1, -1)\n",
    "    result_embdding = np.array(result_embdding).reshape(1, -1)\n",
    "    \n",
    "    #Perform a simillarity score between Question and Result \n",
    "    simillarity_score = cosine_similarity(question_embedding, result_embdding)\n",
    "    \n",
    "    #Reshaping the embeddings for calculating simillarity score\n",
    "    \n",
    "    #Display Simillarity score\n",
    "    print(\"Simillarity Score is \", simillarity_score)\n",
    "    \n",
    "    if simillarity_score > .5 : \n",
    "        print(\"Q&A are highly simillar\")\n",
    "        response_var = \"Successful Validation\"\n",
    "    else: \n",
    "        print(\"Q&A are not simillar\")\n",
    "        response_var = \"Unsuccessful Validation\"\n",
    "    \n",
    "    return{\"messages\":[response_var]}    \n",
    "\n"
   ]
  },
  {
   "cell_type": "code",
   "execution_count": 111,
   "id": "f8f7eef3",
   "metadata": {},
   "outputs": [
    {
     "name": "stdout",
     "output_type": "stream",
     "text": [
      "==================> Validation <===================\n",
      "Simillarity Score is  [[0.93548803]]\n",
      "Q&A are highly simillar\n",
      "['Successful Validation']\n"
     ]
    }
   ],
   "source": [
    "#Validating function \n",
    "#Input  \n",
    "state={\"messages\":[\"Where is Paris located? \", \"Lets speak something else \",\"Paris is in France\"] }\n",
    "\n",
    "result = function_5(state)\n",
    "import pprint\n",
    "pprint.pprint(result[\"messages\"])"
   ]
  },
  {
   "cell_type": "markdown",
   "id": "b2db698b",
   "metadata": {},
   "source": [
    "# Define : Router 1 "
   ]
  },
  {
   "cell_type": "markdown",
   "id": "02015f66",
   "metadata": {},
   "source": [
    "- This will take the output of Supervisor and decide which node to execute. "
   ]
  },
  {
   "cell_type": "code",
   "execution_count": 113,
   "id": "0d2ccf5e",
   "metadata": {},
   "outputs": [],
   "source": [
    "def router1(state: AgentState): \n",
    "    \n",
    "    #Identifying the node where we are in \n",
    "    print(\"==============> Router 1 <======================\")\n",
    "    \n",
    "    #Fetching the output from the supervisor (output  from Supervisor )\n",
    "    last_message = state[\"messages\"][-1]\n",
    "    \n",
    "    #Display the message received \n",
    "    print(\"Message Received by Router 1 \", last_message)\n",
    "    \n",
    "    #Establishing the Routing Rules \n",
    "    if \"usa\" in last_message.lower(): \n",
    "        return \"RAG Call\"\n",
    "    elif \"india\" in last_message.lower(): \n",
    "        return \"Web Call\"\n",
    "    else:\n",
    "        return \"LLM Call\"\n",
    "    "
   ]
  },
  {
   "cell_type": "markdown",
   "id": "2c294c5e",
   "metadata": {},
   "source": [
    "# Define Router 2 "
   ]
  },
  {
   "cell_type": "markdown",
   "id": "5f736f49",
   "metadata": {},
   "source": [
    "- This takes the output of Validation node and decide next steps. "
   ]
  },
  {
   "cell_type": "code",
   "execution_count": 115,
   "id": "a359c908",
   "metadata": {},
   "outputs": [],
   "source": [
    "def router2(state: AgentState): \n",
    "    \n",
    "    #Identifying the node where we are in \n",
    "    print(\"==============> Router 3 <======================\")\n",
    "    \n",
    "    #Fetching the output from the supervisor (output  from Supervisor )\n",
    "    last_message = state[\"messages\"][-1]\n",
    "    \n",
    "    #Display the message received \n",
    "    print(\"Message Received by Router 1 \", last_message)\n",
    "    \n",
    "    #Establishing the Routing Rules \n",
    "    if \"successful validation\" in last_message.lower(): \n",
    "        return \"Success Call\"\n",
    "    else:\n",
    "        return \"Fail Call\""
   ]
  },
  {
   "cell_type": "markdown",
   "id": "1ff6a3c9",
   "metadata": {},
   "source": [
    "# Define the workflow "
   ]
  },
  {
   "cell_type": "code",
   "execution_count": 120,
   "id": "6df399d4",
   "metadata": {},
   "outputs": [],
   "source": [
    "#Importing the required libraries \n",
    "from langgraph.graph import StateGraph, END \n",
    "\n",
    "#Creating the StateGraph as Workflow \n",
    "workflow = StateGraph(AgentState)\n",
    "\n",
    "#Adding nodes \n",
    "workflow.add_node(\"Supervisor\", function_1)\n",
    "workflow.add_node(\"RAG\", function_2)\n",
    "workflow.add_node(\"LLM\", function_3)\n",
    "workflow.add_node(\"WEB\", function_4)\n",
    "workflow.add_node(\"Validation\", function_5)\n",
    "\n",
    "#Define Entry Point\n",
    "workflow.set_entry_point(\"Supervisor\")\n",
    "\n",
    "#Defining Conditional Edges\n",
    "workflow.add_conditional_edges(\n",
    "    \"Supervisor\", \n",
    "    router1,\n",
    "    {\n",
    "        \"RAG Call\" : \"RAG\", \n",
    "        \"LLM Call\" : \"LLM\", \n",
    "        \"Web Call\" : \"WEB\" \n",
    "    }\n",
    ")\n",
    "\n",
    "# After RAG, LLM, or WEB, the flow should go to Validation\n",
    "workflow.add_edge(\"RAG\", \"Validation\")\n",
    "workflow.add_edge(\"LLM\", \"Validation\")\n",
    "workflow.add_edge(\"WEB\", \"Validation\")\n",
    "\n",
    "#Defining Conditional Edges\n",
    "workflow.add_conditional_edges(\n",
    "    \"Validation\", \n",
    "    router2, \n",
    "    {\n",
    "        \"Success Call\" : END, \n",
    "        \"Fail Call\" : \"Supervisor\" \n",
    "        \n",
    "    }\n",
    ")\n",
    "\n",
    "#Compile the workflow to create the app \n",
    "app=workflow.compile()"
   ]
  },
  {
   "cell_type": "code",
   "execution_count": 121,
   "id": "3be41e0c",
   "metadata": {},
   "outputs": [
    {
     "data": {
      "image/png": "[encoded data removed]",
      "text/plain": [
       "<langgraph.graph.state.CompiledStateGraph object at 0x000001F923F41FD0>"
      ]
     },
     "execution_count": 121,
     "metadata": {},
     "output_type": "execute_result"
    }
   ],
   "source": [
    "#Display the workflow \n",
    "workflow.compile()"
   ]
  },
  {
   "cell_type": "markdown",
   "id": "ce27438d",
   "metadata": {},
   "source": [
    "# Testing the output"
   ]
  },
  {
   "cell_type": "code",
   "execution_count": 123,
   "id": "dcd048b6",
   "metadata": {},
   "outputs": [
    {
     "name": "stdout",
     "output_type": "stream",
     "text": [
      "------> Supervisor <-----------\n",
      "Question is :  What is the Population of Singapore? \n",
      "Parsed response from Supervisor :  Topic='Not Related' Reasoning='The question is about the population of Singapore, which is not related to the USA or INDIA.'\n",
      "==============> Router 1 <======================\n",
      "Message Received by Router 1  Not Related\n",
      "===========> LLM Call <=====================\n",
      "==================> Validation <===================\n",
      "Simillarity Score is  [[0.93165067]]\n",
      "Q&A are highly simillar\n",
      "==============> Router 3 <======================\n",
      "Message Received by Router 1  Successful Validation\n"
     ]
    },
    {
     "data": {
      "text/plain": [
       "{'messages': ['What is the Population of Singapore? ',\n",
       "  'Not Related',\n",
       "  'The population of Singapore is not a static number and fluctuates.  However, as of late 2023, the population of Singapore is approximately **5.7 to 5.8 million**.  This figure is an estimate, and precise figures vary slightly depending on the source and the date of the data collection.',\n",
       "  'Successful Validation']}"
      ]
     },
     "execution_count": 123,
     "metadata": {},
     "output_type": "execute_result"
    }
   ],
   "source": [
    "#Creating input \n",
    "state={\"messages\":[\"What is the Population of Singapore? \"]}\n",
    "\n",
    "#Executing the app \n",
    "app.invoke(state)"
   ]
  },
  {
   "cell_type": "code",
   "execution_count": 124,
   "id": "51ac679b",
   "metadata": {},
   "outputs": [
    {
     "name": "stdout",
     "output_type": "stream",
     "text": [
      "------> Supervisor <-----------\n",
      "Question is :  What is the Population of Indian? \n",
      "Parsed response from Supervisor :  Topic='INDIA' Reasoning=\"The user explicitly mentions 'Indian' population, which directly relates to India.\"\n",
      "==============> Router 1 <======================\n",
      "Message Received by Router 1  INDIA\n",
      "========================> WebCrawling <=============================\n",
      "==================> Validation <===================\n",
      "Simillarity Score is  [[0.88647645]]\n",
      "Q&A are highly simillar\n",
      "==============> Router 3 <======================\n",
      "Message Received by Router 1  Successful Validation\n"
     ]
    },
    {
     "data": {
      "text/plain": [
       "{'messages': ['What is the Population of Indian? ',\n",
       "  'INDIA',\n",
       "  'Based on the provided text, the population of India in 2023 is estimated to be 1,438,069,597.  Different sources provide slightly varying figures for 2025, ranging from 1,454,606,724 to 1,463,865,525.  The population is constantly increasing, though the growth rate is slowing.',\n",
       "  'Successful Validation']}"
      ]
     },
     "execution_count": 124,
     "metadata": {},
     "output_type": "execute_result"
    }
   ],
   "source": [
    "#Creating input \n",
    "state={\"messages\":[\"What is the Population of Indian? \"]}\n",
    "\n",
    "#Executing the app \n",
    "app.invoke(state)"
   ]
  },
  {
   "cell_type": "code",
   "execution_count": null,
   "id": "9ea1f18b",
   "metadata": {},
   "outputs": [],
   "source": []
  }
 ],
 "metadata": {
  "kernelspec": {
   "display_name": "agenticenv",
   "language": "python",
   "name": "python3"
  },
  "language_info": {
   "codemirror_mode": {
    "name": "ipython",
    "version": 3
   },
   "file_extension": ".py",
   "mimetype": "text/x-python",
   "name": "python",
   "nbconvert_exporter": "python",
   "pygments_lexer": "ipython3",
   "version": "3.11.9"
  }
 },
 "nbformat": 4,
 "nbformat_minor": 5
}
