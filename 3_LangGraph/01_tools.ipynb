{
 "cells": [
  {
   "cell_type": "markdown",
   "id": "5cef38e3",
   "metadata": {},
   "source": [
    "# Langchain Tools"
   ]
  },
  {
   "cell_type": "markdown",
   "id": "f2edc22c",
   "metadata": {},
   "source": [
    "## WikiPedia"
   ]
  },
  {
   "cell_type": "code",
   "execution_count": 1,
   "id": "57ce803c",
   "metadata": {},
   "outputs": [],
   "source": [
    "#Importing Wikipedia Query run \n",
    "from langchain_community.tools import WikipediaQueryRun\n",
    "from langchain_community.utilities import WikipediaAPIWrapper\n"
   ]
  },
  {
   "cell_type": "code",
   "execution_count": 3,
   "id": "b7802110",
   "metadata": {},
   "outputs": [],
   "source": [
    "#Creating the object of Wiki API Wrapper \n",
    "api_wrapper=WikipediaAPIWrapper(top_k_results=5, doc_content_chars_max=500)\n"
   ]
  },
  {
   "cell_type": "code",
   "execution_count": 5,
   "id": "672c0015",
   "metadata": {},
   "outputs": [],
   "source": [
    "#Creating object of Wikipediaqueryrun \n",
    "wiki_tool = WikipediaQueryRun(api_wrapper=api_wrapper)"
   ]
  },
  {
   "cell_type": "code",
   "execution_count": 6,
   "metadata": {},
   "outputs": [
    {
     "data": {
      "text/plain": [
       "'A wrapper around Wikipedia. Useful for when you need to answer general questions about people, places, companies, facts, historical events, or other subjects. Input should be a search query.'"
      ]
     },
     "execution_count": 6,
     "metadata": {},
     "output_type": "execute_result"
    }
   ],
   "source": [
    "#Description of the tool \n",
    "wiki_tool.description"
   ]
  },
  {
   "cell_type": "code",
   "execution_count": 7,
   "id": "a986b486",
   "metadata": {},
   "outputs": [
    {
     "data": {
      "text/plain": [
       "'wikipedia'"
      ]
     },
     "execution_count": 7,
     "metadata": {},
     "output_type": "execute_result"
    }
   ],
   "source": [
    "#Name of the tool \n",
    "wiki_tool.name"
   ]
  },
  {
   "cell_type": "code",
   "execution_count": 8,
   "id": "8ff36f97",
   "metadata": {},
   "outputs": [
    {
     "data": {
      "text/plain": [
       "{'query': {'description': 'query to look up on wikipedia',\n",
       "  'title': 'Query',\n",
       "  'type': 'string'}}"
      ]
     },
     "execution_count": 8,
     "metadata": {},
     "output_type": "execute_result"
    }
   ],
   "source": [
    "#Arguments\n",
    "wiki_tool.args"
   ]
  },
  {
   "cell_type": "code",
   "execution_count": 9,
   "id": "c6b5bcd1",
   "metadata": {},
   "outputs": [
    {
     "data": {
      "text/plain": [
       "'Page: Narendra Modi\\nSummary: Narendra Damodardas Modi (born 17 September 1950) is an Indian politician who has served as the  prime minister of India since 2014. Modi was the chief minister of Gujarat from 2001 to 2014 and is the member of parliament (MP) for Varanasi. He is a member of the Bharatiya Janata Party (BJP) and of the Rashtriya Swayamsevak Sangh (RSS), a right-wing Hindutva paramilitary volunteer organisation. He is the longest-serving prime minister outside the Indian National Congr'"
      ]
     },
     "execution_count": 9,
     "metadata": {},
     "output_type": "execute_result"
    }
   ],
   "source": [
    "#Tool Execution\n",
    "wiki_tool.run({\n",
    "    \"query\" : \"Narendra Modi\"\n",
    "})"
   ]
  },
  {
   "cell_type": "code",
   "execution_count": 10,
   "id": "597e4d12",
   "metadata": {},
   "outputs": [
    {
     "data": {
      "text/plain": [
       "\"Page: Singapore\\nSummary: Singapore, officially the Republic of Singapore, is an island country and city-state in Southeast Asia. The country's territory comprises one main island, 63 satellite islands and islets, and one outlying islet. It is about one degree of latitude (137 kilometres or 85 miles) north of the equator, off the southern tip of the Malay Peninsula, bordering the Strait of Malacca to the west, the Singapore Strait to the south along with the Riau Islands in Indonesia, the South C\""
      ]
     },
     "execution_count": 10,
     "metadata": {},
     "output_type": "execute_result"
    }
   ],
   "source": [
    "#alternative way to pass the argument\n",
    "wiki_tool.run(\"Singapore\")"
   ]
  },
  {
   "cell_type": "markdown",
   "id": "c664f4d5",
   "metadata": {},
   "source": [
    "## Youtube Search"
   ]
  },
  {
   "cell_type": "code",
   "execution_count": 11,
   "id": "3d42e2bd",
   "metadata": {},
   "outputs": [
    {
     "data": {
      "text/plain": [
       "'youtube_search'"
      ]
     },
     "execution_count": 11,
     "metadata": {},
     "output_type": "execute_result"
    }
   ],
   "source": [
    "#Importing the library\n",
    "from langchain_community.tools import YouTubeSearchTool\n",
    "\n",
    "#Creating the instance of the class\n",
    "tool = YouTubeSearchTool()\n",
    "\n",
    "#Getting the details \n",
    "tool.name"
   ]
  },
  {
   "cell_type": "code",
   "execution_count": 12,
   "id": "bcbdc75c",
   "metadata": {},
   "outputs": [
    {
     "data": {
      "text/plain": [
       "'search for youtube videos associated with a person. the input to this tool should be a comma separated list, the first part contains a person name and the second a number that is the maximum number of video results to return aka num_results. the second part is optional'"
      ]
     },
     "execution_count": 12,
     "metadata": {},
     "output_type": "execute_result"
    }
   ],
   "source": [
    "#Description \n",
    "tool.description"
   ]
  },
  {
   "cell_type": "code",
   "execution_count": 14,
   "id": "26a796a1",
   "metadata": {},
   "outputs": [
    {
     "data": {
      "text/plain": [
       "\"['https://www.youtube.com/watch?v=DNBaUCCST3I&pp=ygULQWdlbnRpYyBBSSA%3D', 'https://www.youtube.com/watch?v=-pqzyvRp3Tc&pp=ygULQWdlbnRpYyBBSSA%3D']\""
      ]
     },
     "execution_count": 14,
     "metadata": {},
     "output_type": "execute_result"
    }
   ],
   "source": [
    "#Tool Execution \n",
    "tool.run(\"Agentic AI \")"
   ]
  },
  {
   "cell_type": "markdown",
   "id": "d297e2a7",
   "metadata": {},
   "source": [
    "## Tavily"
   ]
  },
  {
   "cell_type": "code",
   "execution_count": 9,
   "id": "8f5b360c",
   "metadata": {},
   "outputs": [],
   "source": [
    "#Importing the libraray \n",
    "from langchain_community.tools.tavily_search import TavilySearchResults\n",
    "\n",
    "\n",
    "#Create object of tavily search \n",
    "tool=TavilySearchResults(tavily_api_key=\"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\")"
   ]
  },
  {
   "cell_type": "code",
   "execution_count": 10,
   "id": "b2e74c49",
   "metadata": {},
   "outputs": [
    {
     "data": {
      "text/plain": [
       "[{'title': \"Several Killed as RCB's Victory Celebration Turns Deadly - YouTube\",\n",
       "  'url': 'https://www.youtube.com/watch?v=gz8chxY7elU',\n",
       "  'content': \"At least 11 people were killed and 30 injured in a stampede outside the Chinnaswamy cricket stadium in Bengaluru. The incident happened during the Royal Challengers' victory celebrations after their first IPL triumph in 18 years. Did the state government underestimate the rush? Were crowd control measures not in place? Palki Sharma tells you.\\n\\n--- [...] soon the fan frenzy turned fatal. The exact details are not clear yet but reports say the rush led to a stampede. At least 11 people were killed, including children, and more than 30 were injured. Like I said, the exact sequence of events is unclear, but these pictures give you an idea. Uh you can see fans climbing up fences and trees. In some places, the police pushed back with force. We will show you the pictures, but as always, viewer discretion is advised. [Applause] [Music] [Applause] Such [...] It was supposed to be a day of pure joy, of celebration and pride. Instead, Bengaluru is in shock today. I'm sure you've seen the news and the pictures. Bengaluru was all decked up for a massive celebration today. Their IPL team had finally won the tournament. The Royal Challengers beat Punjab Kings yesterday. It was their first IPL trophy in 18 years. Now the RCB fans are a very passionate lot. Plus they've been waiting for a win since 2008. So they packed the streets of Bengaluru in\",\n",
       "  'score': 0.78650844},\n",
       " {'title': 'From cheers to tears: Stampede at RCB victory celebration kills 11',\n",
       "  'url': 'https://m.economictimes.com/news/bengaluru-news/from-cheers-to-tears-stampede-at-rcb-victory-celebration-kills-11/articleshow/121630702.cms',\n",
       "  'content': \"Image 3: From Cheers to Tears: Stampede at RCB Victory Celebration Kills 11Reuters\\n\\nRoyal Challengers Bangalore's IPL victory celebrations event on Wednesday turned into a tragedy with at least 11 people losing their lives and about 47 others suffering injuries in a stampede outside the Chinnaswamy Stadium in Bengaluru.\\n\\nHundreds of thousands of people gathered outside the stadium as well as near the Vidhana Soudha where Karnataka chief minister Siddaramaiah felicitated the RCB stars. [...] Tragedy struck Bengaluru during Royal Challengers Bangalore's IPL victory celebrations as a stampede outside Chinnaswamy Stadium resulted in 11 fatalities and numerous injuries. Despite precautions, massive crowds overwhelmed the stadium, leading to the unfortunate incident. The Chief Minister has ordered a probe and announced compensation for the victims' families, expressing sorrow over the event. [...] While the event on the steps of Vidhana Soudha, the legislature building, went off peacefully, police could not control the swelling crowds seeking an entry into the stadium, the venue for a public reception for the team organised by the Karnataka State Cricket Association.\\n\\nEyewitnesses said it was free for all as crowds surged in massive numbers on roads leading to the stadium gates, causing stampedes at several places.\",\n",
       "  'score': 0.7663815},\n",
       " {'title': \"How did celebration of RCB's historic win in IPL spiral into chaos ...\",\n",
       "  'url': 'https://www.thehindu.com/news/national/karnataka/how-did-celebration-of-rcbs-historic-win-in-ipl-spiral-into-chaos-and-crisis-explained/article69668074.ece',\n",
       "  'content': 'A stampede during RCB’s victory celebrations in Bengaluru on June 4 claimed 11 lives and left several others with injuries, turning a moment of triumph into tragedy. Facing a backlash for mismanagement and hurried planning, the Congress government in Karnataka suspended top police officials [...] A senior officer told _The Hindu_ that police resources were thinly spread across four major events on the same day: RCB’s arrival at HAL airport, their transfer to the team hotel on Race Course Road, the government’s felicitation at Vidhana Soudha, and finally, the celebration at Chinnaswamy stadium. [...] On June 6, MLC K. Govindaraj, who was serving as the Chief Minister’s Political Secretary, was removed from the post. Additional Director General of Police (Intelligence) Hemant M. Nimbalkar was transferred.\\n\\nBengaluru police registered an FIR charging the RCB franchise, the Karnataka State Cricket Association (KSCA), and event manager DNA Network with culpable homicide, voluntarily causing hurt, and unlawful assembly.',\n",
       "  'score': 0.756376},\n",
       " {'title': \"Bengaluru stampede case: What we know so far on RCB's ...\",\n",
       "  'url': 'https://timesofindia.indiatimes.com/sports/cricket/ipl/top-stories/bengaluru-stampede-case-what-we-know-so-far-on-rcbs-celebrations-that-turned-catastrophic/articleshow/121670873.cms',\n",
       "  'content': 'TOI logo\\n\\n## TOI\\n\\n# Bengaluru stampede case: What we know so far on RCB\\'s celebrations that turned catastrophic [...] RCB Victory Parade: At least 8 Dead, Several Injured In Stampede Outside Bengaluru Stadium\\nThousands of people flooded into the streets near the Chinnaswamy stadium and the team hotel\\nFootwear strewn near one of the gates to Chinnaswamy Stadium Wednesday\\nChild faints outside Bengaluru\\'s Chinnaswamy Stadium as a massive crowd gathers to celebrate Royal Challengers Bengaluru\\'s IPL 2025 victory\\nSiddaramaiah addresses media\")\\nNikhil Sosale\\nauthor\\n\\n##### About the Author',\n",
       "  'score': 0.45420644},\n",
       " {'title': 'Celebrations on the Streets of Bengaluru as the Home Team RCB ...',\n",
       "  'url': 'https://www.youtube.com/watch?v=TC71RUxvtHc',\n",
       "  'content': '### Description\\n121221 views\\nPosted: 3 Jun 2025\\nJoy and celebration were the mood on the streets of Bengaluru as the home team Royal Challengers Bengaluru lifted the IPL trophy for the first time ever. Watch as people join their starts in celebrating the success.\\r\\n\\r\\n#RCBvsPBKS #IPL2025Final #ViratKohli #ShreyasIyer #Hazlewood #IPLFinal2025 #CricketLive #IPLHighlights #PBKSvsRCB #OneindiaEnglish  #OneindiaHindi #RCBWins [...] # Celebrations on the Streets of Bengaluru as the Home Team RCB Wins its 1st IPL Title\\n## Oneindia News\\n2009999 subscribers\\n1038 likes [...] Oneindia News is a youth-driven channel that brings you stories that need your attention, are popular,  informative, and entertaining. Follow and like us for thought-provoking & exclusive content...\\n\\nYoutube: \\n\\nLike us on Facebook: \\n\\nFollow us on Instagram: \\n\\nWe are there on Twitter: \\n\\n~HT.410~ED.420~\\n\\n66 comments\\n### Transcript:',\n",
       "  'score': 0.37993094}]"
      ]
     },
     "execution_count": 10,
     "metadata": {},
     "output_type": "execute_result"
    }
   ],
   "source": [
    "#Invoking the tool \n",
    "#Here i pass whatever i want to search in internet. \n",
    "tool.invoke({\n",
    "    \"query\" : \"What happened during RCB Celebration?\"\n",
    "})"
   ]
  },
  {
   "cell_type": "markdown",
   "id": "b12771c8",
   "metadata": {},
   "source": [
    "## Custom Tool"
   ]
  },
  {
   "cell_type": "code",
   "execution_count": 11,
   "id": "33c27d79",
   "metadata": {},
   "outputs": [],
   "source": [
    "#Creating Custom Function \n",
    "def multiply(a:int, b:int) -> int: \n",
    "    return a*b "
   ]
  },
  {
   "cell_type": "code",
   "execution_count": 12,
   "id": "e46f9600",
   "metadata": {},
   "outputs": [
    {
     "data": {
      "text/plain": [
       "300"
      ]
     },
     "execution_count": 12,
     "metadata": {},
     "output_type": "execute_result"
    }
   ],
   "source": [
    "#Perform function execution\n",
    "multiply(10,30)"
   ]
  },
  {
   "cell_type": "code",
   "execution_count": 13,
   "id": "e42f9adf",
   "metadata": {},
   "outputs": [],
   "source": [
    "#Importing tool decorator\n",
    "from langchain.agents import tool \n",
    "\n",
    "@tool \n",
    "def multiply(a:int, b:int) -> int: \n",
    "    '''This tool is to perform multiplication between two integers'''\n",
    "    return a*b "
   ]
  },
  {
   "cell_type": "code",
   "execution_count": 14,
   "id": "a1a49aaa",
   "metadata": {},
   "outputs": [
    {
     "data": {
      "text/plain": [
       "200"
      ]
     },
     "execution_count": 14,
     "metadata": {},
     "output_type": "execute_result"
    }
   ],
   "source": [
    "#Since this is a tool, we cannot invoke as a function execution\n",
    "multiply.invoke({\n",
    "    \"a\": 10, \n",
    "    \"b\": 20\n",
    "})"
   ]
  },
  {
   "cell_type": "code",
   "execution_count": 15,
   "id": "c57beaad",
   "metadata": {},
   "outputs": [
    {
     "data": {
      "text/plain": [
       "'multiply'"
      ]
     },
     "execution_count": 15,
     "metadata": {},
     "output_type": "execute_result"
    }
   ],
   "source": [
    "#Understanding the details of the tool\n",
    "multiply.name"
   ]
  },
  {
   "cell_type": "code",
   "execution_count": 16,
   "id": "fea830ce",
   "metadata": {},
   "outputs": [
    {
     "data": {
      "text/plain": [
       "'This tool is to perform multiplication between two integers'"
      ]
     },
     "execution_count": 16,
     "metadata": {},
     "output_type": "execute_result"
    }
   ],
   "source": [
    "#Description \n",
    "multiply.description"
   ]
  },
  {
   "cell_type": "code",
   "execution_count": 17,
   "id": "f92e8972",
   "metadata": {},
   "outputs": [
    {
     "data": {
      "text/plain": [
       "{'a': {'title': 'A', 'type': 'integer'},\n",
       " 'b': {'title': 'B', 'type': 'integer'}}"
      ]
     },
     "execution_count": 17,
     "metadata": {},
     "output_type": "execute_result"
    }
   ],
   "source": [
    "#Arguments\n",
    "multiply.args"
   ]
  },
  {
   "cell_type": "markdown",
   "id": "8d5053b1",
   "metadata": {},
   "source": [
    "## Word Length\n"
   ]
  },
  {
   "cell_type": "code",
   "execution_count": 18,
   "id": "60b74587",
   "metadata": {},
   "outputs": [],
   "source": [
    "def get_word_length(word: str) -> int:\n",
    "    return(len(word))"
   ]
  },
  {
   "cell_type": "code",
   "execution_count": 19,
   "id": "f10fad77",
   "metadata": {},
   "outputs": [
    {
     "data": {
      "text/plain": [
       "6"
      ]
     },
     "execution_count": 19,
     "metadata": {},
     "output_type": "execute_result"
    }
   ],
   "source": [
    "#Function execution\n",
    "get_word_length(\"Visakh\")"
   ]
  },
  {
   "cell_type": "code",
   "execution_count": 20,
   "id": "0f63b81b",
   "metadata": {},
   "outputs": [],
   "source": [
    "#Convert the function into a tool \n",
    "\n",
    "@tool \n",
    "def get_word_length(word: str) -> int: \n",
    "    '''This function is used to calculate length of the word'''\n",
    "    return len(word)"
   ]
  },
  {
   "cell_type": "code",
   "execution_count": 21,
   "id": "d4b31537",
   "metadata": {},
   "outputs": [
    {
     "data": {
      "text/plain": [
       "'get_word_length'"
      ]
     },
     "execution_count": 21,
     "metadata": {},
     "output_type": "execute_result"
    }
   ],
   "source": [
    "#Name of the function \n",
    "get_word_length.name"
   ]
  },
  {
   "cell_type": "code",
   "execution_count": 22,
   "id": "0f92c736",
   "metadata": {},
   "outputs": [
    {
     "data": {
      "text/plain": [
       "'This function is used to calculate length of the word'"
      ]
     },
     "execution_count": 22,
     "metadata": {},
     "output_type": "execute_result"
    }
   ],
   "source": [
    "get_word_length.description"
   ]
  },
  {
   "cell_type": "code",
   "execution_count": 23,
   "id": "6460f22a",
   "metadata": {},
   "outputs": [
    {
     "data": {
      "text/plain": [
       "6"
      ]
     },
     "execution_count": 23,
     "metadata": {},
     "output_type": "execute_result"
    }
   ],
   "source": [
    "get_word_length.invoke(\"Visakh\")"
   ]
  },
  {
   "cell_type": "markdown",
   "id": "642a8c7d",
   "metadata": {},
   "source": [
    "## LangGraph "
   ]
  },
  {
   "cell_type": "code",
   "execution_count": 24,
   "id": "76225c04",
   "metadata": {},
   "outputs": [],
   "source": [
    "#Here we create a series of functions \n",
    "\n",
    "def function1(input1):\n",
    "    return input1+\" From Function 1\" \n",
    "\n",
    "def function2(input2):\n",
    "    return input2+\" From Function 2\"\n",
    "\n",
    "def function3(input3):\n",
    "    return input3+\" From Function 3\"\n"
   ]
  },
  {
   "cell_type": "code",
   "execution_count": 25,
   "id": "d38457c3",
   "metadata": {},
   "outputs": [
    {
     "data": {
      "text/plain": [
       "'Visakh From Function 1'"
      ]
     },
     "execution_count": 25,
     "metadata": {},
     "output_type": "execute_result"
    }
   ],
   "source": [
    "#Executing the function \n",
    "function1(\"Visakh\")"
   ]
  },
  {
   "cell_type": "code",
   "execution_count": 28,
   "id": "fd962920",
   "metadata": {},
   "outputs": [
    {
     "data": {
      "text/plain": [
       "'Thanvi From Function 2'"
      ]
     },
     "execution_count": 28,
     "metadata": {},
     "output_type": "execute_result"
    }
   ],
   "source": [
    "#Executing the function \n",
    "function2(\"Thanvi\")"
   ]
  },
  {
   "cell_type": "code",
   "execution_count": 27,
   "id": "6b8c7b1a",
   "metadata": {},
   "outputs": [
    {
     "data": {
      "text/plain": [
       "'Tara From Function 3'"
      ]
     },
     "execution_count": 27,
     "metadata": {},
     "output_type": "execute_result"
    }
   ],
   "source": [
    "#Executing the function \n",
    "function3(\"Tara\")"
   ]
  }
 ],
 "metadata": {
  "kernelspec": {
   "display_name": "agenticenv",
   "language": "python",
   "name": "python3"
  },
  "language_info": {
   "codemirror_mode": {
    "name": "ipython",
    "version": 3
   },
   "file_extension": ".py",
   "mimetype": "text/x-python",
   "name": "python",
   "nbconvert_exporter": "python",
   "pygments_lexer": "ipython3",
   "version": "3.11.9"
  }
 },
 "nbformat": 4,
 "nbformat_minor": 5
}
