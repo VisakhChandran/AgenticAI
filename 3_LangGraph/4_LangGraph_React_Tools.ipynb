{
 "cells": [
  {
   "cell_type": "markdown",
   "id": "ef95f9c1",
   "metadata": {},
   "source": [
    "# React Agent with Tools"
   ]
  },
  {
   "cell_type": "code",
   "execution_count": 2,
   "id": "c7a0c785",
   "metadata": {},
   "outputs": [],
   "source": [
    "#Importing the required library for the setting up of the model \n",
    "from dotenv import load_dotenv\n",
    "load_dotenv(override=True)\n",
    "import os \n",
    "os.environ[\"GROQ_API_KEY\"] = os.getenv(\"GROQ_API_KEY\")"
   ]
  },
  {
   "cell_type": "code",
   "execution_count": 3,
   "id": "63967cd1",
   "metadata": {},
   "outputs": [],
   "source": [
    "#Selecting the model from Groq\n",
    "model = \"deepseek-r1-distill-llama-70b\""
   ]
  },
  {
   "cell_type": "code",
   "execution_count": 92,
   "id": "de2faa82",
   "metadata": {},
   "outputs": [
    {
     "data": {
      "text/plain": [
       "\"<think>\\nOkay, the user is asking for the name of the model. I should let them know it's DeepSeek-R1-Lite-Preview.\\n</think>\\n\\nThe model you are interacting with is named DeepSeek-R1-Lite-Preview.\""
      ]
     },
     "execution_count": 92,
     "metadata": {},
     "output_type": "execute_result"
    }
   ],
   "source": [
    "#Building llm model using groq / deepseek \n",
    "from langchain_groq import ChatGroq\n",
    "llm = ChatGroq(model_name=model)\n",
    "llm.invoke(\"Tell me the name of the model: \").content"
   ]
  },
  {
   "cell_type": "code",
   "execution_count": 7,
   "id": "a575fab1",
   "metadata": {},
   "outputs": [
    {
     "name": "stdout",
     "output_type": "stream",
     "text": [
      "('<think>\\n'\n",
      " \"Okay, the user is asking me to tell them the name of the model. Since I'm an \"\n",
      " 'AI, I should respond in a friendly and helpful manner. I need to let them '\n",
      " \"know that I can't provide internal information about myself, but I'm here to \"\n",
      " 'assist with any other questions or tasks they might have. I should keep it '\n",
      " 'conversational and make sure they feel supported.\\n'\n",
      " '</think>\\n'\n",
      " '\\n'\n",
      " \"I'm here to help with any questions or tasks you have! Let me know how I can \"\n",
      " 'assist you today.')\n"
     ]
    }
   ],
   "source": [
    "#Display the result more readable \n",
    "import pprint\n",
    "pprint.pprint(llm.invoke(\"Tell me the name of the model: \").content)"
   ]
  },
  {
   "cell_type": "markdown",
   "id": "b01f8cfa",
   "metadata": {},
   "source": [
    "# Defining Workflow for ReACT Agent"
   ]
  },
  {
   "cell_type": "code",
   "execution_count": 8,
   "id": "5f2cdf32",
   "metadata": {},
   "outputs": [],
   "source": [
    "#Importing all the required libraries \n",
    "import operator\n",
    "from typing import List\n",
    "from langgraph.graph.message import add_messages\n",
    "from pydantic import BaseModel , Field\n",
    "from typing import TypedDict, Annotated, Sequence\n",
    "from langchain_core.messages import BaseMessage\n",
    "from langchain_core.output_parsers import StrOutputParser\n",
    "from langchain_core.prompts import ChatPromptTemplate, PromptTemplate\n",
    "from langchain_core.tools import tool\n",
    "from langchain_core.messages import HumanMessage, AIMessage\n",
    "from langgraph.graph import StateGraph,MessagesState,START,END\n",
    "from langgraph.prebuilt import ToolNode"
   ]
  },
  {
   "cell_type": "markdown",
   "id": "2afdacd1",
   "metadata": {},
   "source": [
    "MessagesState General"
   ]
  },
  {
   "cell_type": "code",
   "execution_count": 11,
   "id": "511abffe",
   "metadata": {},
   "outputs": [
    {
     "data": {
      "text/plain": [
       "{'messages': [HumanMessage(content='Hello', additional_kwargs={}, response_metadata={}, id='606aa537-15f7-42a6-a7b9-bb272041077d'),\n",
       "  AIMessage(content='Thank You for your interest', additional_kwargs={}, response_metadata={}, id='6c1a95a2-119d-4df0-9fe2-abc963a2291c')]}"
      ]
     },
     "execution_count": 11,
     "metadata": {},
     "output_type": "execute_result"
    }
   ],
   "source": [
    "#Importing the libraray \n",
    "from langgraph.graph import StateGraph, START, END, MessagesState\n",
    "from langchain_core.messages import AIMessage, HumanMessage\n",
    "\n",
    "#Defining initial response \n",
    "def initial_response(state: MessagesState):\n",
    "    return {\"messages\" : [AIMessage(content=\"Thank You for your interest\")]}\n",
    "\n",
    "#DEfine followup message \n",
    "def follow_up(state: MessagesState):\n",
    "    return{\"messages\": [AIMessage(content=\"This is the followup message\")]}\n",
    "\n",
    "#Building the workflow \n",
    "graph = StateGraph(MessagesState)\n",
    "\n",
    "graph.add_node(\"initial_response\", initial_response)\n",
    "graph.add_node(\"follow_up\", follow_up)\n",
    "\n",
    "graph.set_entry_point(\"initial_response\")\n",
    "\n",
    "app = graph.compile()\n",
    "\n",
    "#Executing the app \n",
    "app.invoke({\"messages\" : [HumanMessage(content=\"Hello\")]}) \n",
    "\n"
   ]
  },
  {
   "cell_type": "code",
   "execution_count": null,
   "id": "5decc783",
   "metadata": {},
   "outputs": [],
   "source": [
    "MessagesState"
   ]
  },
  {
   "cell_type": "markdown",
   "id": "a8836c5f",
   "metadata": {},
   "source": [
    "Creating a Function "
   ]
  },
  {
   "cell_type": "code",
   "execution_count": null,
   "id": "0fa96099",
   "metadata": {},
   "outputs": [],
   "source": [
    "def call_model(state: MessagesState):\n",
    "    # The 'messages' in MessagesState will be a list of BaseMessage objects.\n",
    "    # If the input was a string, LangGraph's default reducer for MessagesState\n",
    "    # will try to append it, but we need to ensure it's a HumanMessage\n",
    "    # before the LLM can process it.\n",
    "\n",
    "    # Retrieve the last message from the state\n",
    "    last_message = state['messages'][-1]\n",
    "\n",
    "    human_message_obj = last_message\n",
    "    \n",
    "    # Convert the last message to a HumanMessage if it's a string\n",
    "#    if isinstance(last_message, str):\n",
    "#        print(\"Input is String!!!!\")\n",
    "#        human_message_obj = HumanMessage(content=last_message)\n",
    "#    elif isinstance(last_message, BaseMessage):\n",
    "#        print(\"Input is Human Message!!!!\")\n",
    "#        human_message_obj = last_message\n",
    "#    else:\n",
    "#        # Handle unexpected types if necessary, or raise an error\n",
    "#        raise ValueError(f\"Unexpected message type in state: {type(last_message)}\")\n",
    "\n",
    "    print(\"This is my current message:\", human_message_obj)\n",
    "\n",
    "    # Pass a list containing the HumanMessage object to the LLM\n",
    "    response = llm.invoke([human_message_obj])\n",
    "\n",
    "    # The MessagesState's default reducer will append this AIMessage to the history\n",
    "    return {\"messages\": [response]}"
   ]
  },
  {
   "cell_type": "code",
   "execution_count": 114,
   "id": "8566901b",
   "metadata": {},
   "outputs": [
    {
     "name": "stdout",
     "output_type": "stream",
     "text": [
      "Input is String!!!!\n",
      "This is my current message: content='Hi there!' additional_kwargs={} response_metadata={}\n"
     ]
    }
   ],
   "source": [
    "state = {\n",
    "    \"messages\": [\"Hi there!\"]   # <-- a raw string, not a HumanMessage\n",
    "}\n",
    "result = call_model(state)"
   ]
  },
  {
   "cell_type": "markdown",
   "id": "5d1689c8",
   "metadata": {},
   "source": [
    "Creating a workflow"
   ]
  },
  {
   "cell_type": "code",
   "execution_count": 115,
   "id": "2326c4d3",
   "metadata": {},
   "outputs": [],
   "source": [
    "#Here we design a simple workflow \n",
    "workflow = StateGraph(MessagesState)\n",
    "\n",
    "#Adding nodes \n",
    "workflow.add_node(\"bot\", call_model)\n",
    "\n",
    "#Adding Edges onto the workflow \n",
    "workflow.add_edge(START, \"bot\")\n",
    "workflow.add_edge(\"bot\", END)\n",
    "\n",
    "#Compiling the workflow\n",
    "app=workflow.compile()"
   ]
  },
  {
   "cell_type": "code",
   "execution_count": 116,
   "id": "30bc0887",
   "metadata": {},
   "outputs": [
    {
     "data": {
      "image/png": "[encoded data removed]",
      "text/plain": [
       "<IPython.core.display.Image object>"
      ]
     },
     "metadata": {},
     "output_type": "display_data"
    }
   ],
   "source": [
    "#Displaying the workflow\n",
    "from IPython.display import Image, display \n",
    "display(Image(app.get_graph().draw_mermaid_png()))"
   ]
  },
  {
   "cell_type": "code",
   "execution_count": 117,
   "id": "82547141",
   "metadata": {},
   "outputs": [
    {
     "name": "stdout",
     "output_type": "stream",
     "text": [
      "Input is Human Message!!!!\n",
      "This is my current message: content='hi hello how are you?' additional_kwargs={} response_metadata={} id='2087d102-d1ce-496b-9b65-16adffffee9d'\n"
     ]
    },
    {
     "data": {
      "text/plain": [
       "{'messages': [HumanMessage(content='hi hello how are you?', additional_kwargs={}, response_metadata={}, id='2087d102-d1ce-496b-9b65-16adffffee9d'),\n",
       "  AIMessage(content=\"<think>\\n\\n</think>\\n\\nHello! I'm just a virtual assistant, so I don't have feelings, but I'm here and ready to help you with whatever you need. How are *you* doing? 😊\", additional_kwargs={}, response_metadata={'token_usage': {'completion_tokens': 44, 'prompt_tokens': 9, 'total_tokens': 53, 'completion_time': 0.191474274, 'prompt_time': 0.000204998, 'queue_time': 0.054105372, 'total_time': 0.191679272}, 'model_name': 'deepseek-r1-distill-llama-70b', 'system_fingerprint': 'fp_76307ac09b', 'finish_reason': 'stop', 'logprobs': None}, id='run--017588fc-a652-41d9-8b19-99f3b2e0d89b-0', usage_metadata={'input_tokens': 9, 'output_tokens': 44, 'total_tokens': 53})]}"
      ]
     },
     "execution_count": 117,
     "metadata": {},
     "output_type": "execute_result"
    }
   ],
   "source": [
    "# Define the input\n",
    "input_data = {\"messages\": [\"hi hello how are you?\"]}\n",
    "\n",
    "# Invoke the app\n",
    "app.invoke(input_data)"
   ]
  },
  {
   "cell_type": "code",
   "execution_count": 118,
   "id": "7290a53d",
   "metadata": {},
   "outputs": [
    {
     "name": "stdout",
     "output_type": "stream",
     "text": [
      "Input is Human Message!!!!\n",
      "This is my current message: content='hi hello how are you?' additional_kwargs={} response_metadata={} id='ee3ab383-8ea5-4c80-bc8c-e749828cea04'\n"
     ]
    },
    {
     "data": {
      "text/plain": [
       "{'messages': [HumanMessage(content='hi hello how are you?', additional_kwargs={}, response_metadata={}, id='ee3ab383-8ea5-4c80-bc8c-e749828cea04'),\n",
       "  AIMessage(content=\"<think>\\n\\n</think>\\n\\nHello! I'm just a virtual assistant, so I don't have feelings, but I'm here and ready to help you with whatever you need. How are you doing? 😊\", additional_kwargs={}, response_metadata={'token_usage': {'completion_tokens': 42, 'prompt_tokens': 9, 'total_tokens': 51, 'completion_time': 0.184120666, 'prompt_time': 0.000439195, 'queue_time': 0.053150855, 'total_time': 0.184559861}, 'model_name': 'deepseek-r1-distill-llama-70b', 'system_fingerprint': 'fp_76307ac09b', 'finish_reason': 'stop', 'logprobs': None}, id='run--dcc2367f-4a06-4968-b8ca-45c9fe0a3c0e-0', usage_metadata={'input_tokens': 9, 'output_tokens': 42, 'total_tokens': 51})]}"
      ]
     },
     "execution_count": 118,
     "metadata": {},
     "output_type": "execute_result"
    }
   ],
   "source": [
    "input_data = {\"messages\": [HumanMessage(content=\"hi hello how are you?\")]}\n",
    "# Invoke the app\n",
    "app.invoke(input_data)"
   ]
  },
  {
   "cell_type": "code",
   "execution_count": null,
   "id": "52b52f13",
   "metadata": {},
   "outputs": [],
   "source": [
    "from typing import List, TypedDict\n",
    "from langchain_core.messages import BaseMessage, HumanMessage, AIMessage\n",
    "from langgraph.graph import StateGraph, END, START, MessagesState # Import MessagesState\n",
    "from langchain_openai import ChatOpenAI\n",
    "\n",
    "\n",
    "def call_model(state: MessagesState):\n",
    "    # The 'messages' in MessagesState will be a list of BaseMessage objects.\n",
    "    # If the input was a string, LangGraph's default reducer for MessagesState\n",
    "    # will try to append it, but we need to ensure it's a HumanMessage\n",
    "    # before the LLM can process it.\n",
    "\n",
    "    # Retrieve the last message from the state\n",
    "    last_message = state['messages'][-1]\n",
    "\n",
    "    # Convert the last message to a HumanMessage if it's a string\n",
    "    if isinstance(last_message, str):\n",
    "        human_message_obj = HumanMessage(content=last_message)\n",
    "    elif isinstance(last_message, BaseMessage):\n",
    "        human_message_obj = last_message\n",
    "    else:\n",
    "        # Handle unexpected types if necessary, or raise an error\n",
    "        raise ValueError(f\"Unexpected message type in state: {type(last_message)}\")\n",
    "\n",
    "    print(\"This is my current message:\", human_message_obj)\n",
    "\n",
    "    # Pass a list containing the HumanMessage object to the LLM\n",
    "    response = llm.invoke([human_message_obj])\n",
    "\n",
    "    # The MessagesState's default reducer will append this AIMessage to the history\n",
    "    return {\"messages\": [response]}\n",
    "\n",
    "# Here we design a simple workflow\n",
    "workflow = StateGraph(MessagesState) # Use the pre-built MessagesState\n",
    "\n",
    "# Adding nodes\n",
    "workflow.add_node(\"bot\", call_model)\n",
    "\n",
    "# Adding Edges onto the workflow\n",
    "workflow.add_edge(START, \"bot\")\n",
    "workflow.add_edge(\"bot\", END)\n",
    "\n",
    "# Compiling the workflow\n",
    "app = workflow.compile()\n",
    "\n"
   ]
  },
  {
   "cell_type": "code",
   "execution_count": 101,
   "id": "1578ca04",
   "metadata": {},
   "outputs": [
    {
     "name": "stdout",
     "output_type": "stream",
     "text": [
      "This is my current message: content='hi hello how are you?' additional_kwargs={} response_metadata={} id='9eaaa1b7-c046-41a4-9f26-511b6aff23da'\n",
      "\n",
      "--- Result ---\n",
      "{'messages': [HumanMessage(content='hi hello how are you?', additional_kwargs={}, response_metadata={}, id='9eaaa1b7-c046-41a4-9f26-511b6aff23da'), AIMessage(content=\"<think>\\n\\n</think>\\n\\nHello! I'm just a virtual assistant, so I don't have feelings, but I'm here and ready to help you with whatever you need. How are you doing? 😊\", additional_kwargs={}, response_metadata={'token_usage': {'completion_tokens': 42, 'prompt_tokens': 9, 'total_tokens': 51, 'completion_time': 0.209735931, 'prompt_time': 0.000213248, 'queue_time': 0.054098872, 'total_time': 0.209949179}, 'model_name': 'deepseek-r1-distill-llama-70b', 'system_fingerprint': 'fp_76307ac09b', 'finish_reason': 'stop', 'logprobs': None}, id='run--eb24b16a-b048-4a40-b2ec-f0cbd0ad3e96-0', usage_metadata={'input_tokens': 9, 'output_tokens': 42, 'total_tokens': 51})]}\n",
      "\n",
      "--- Second Invocation ---\n",
      "This is my current message: content='Tell me a joke.' additional_kwargs={} response_metadata={} id='d343b687-5e2e-4f01-9fb6-07c2479d1bc4'\n",
      "{'messages': [HumanMessage(content='Tell me a joke.', additional_kwargs={}, response_metadata={}, id='d343b687-5e2e-4f01-9fb6-07c2479d1bc4'), AIMessage(content=\"<think>\\n\\n</think>\\n\\nSure, here's a light-hearted joke for you:\\n\\nWhy don’t skeletons fight each other?  \\nBecause they don’t have the *guts*! 😄  \\n\\nLet me know if you'd like another!\", additional_kwargs={}, response_metadata={'token_usage': {'completion_tokens': 48, 'prompt_tokens': 8, 'total_tokens': 56, 'completion_time': 0.229299608, 'prompt_time': 0.000184158, 'queue_time': 0.054716557000000006, 'total_time': 0.229483766}, 'model_name': 'deepseek-r1-distill-llama-70b', 'system_fingerprint': 'fp_76307ac09b', 'finish_reason': 'stop', 'logprobs': None}, id='run--45c3bc3a-6c00-4312-8b10-93e3a5de7470-0', usage_metadata={'input_tokens': 8, 'output_tokens': 48, 'total_tokens': 56})]}\n"
     ]
    }
   ],
   "source": [
    "# Define the input as a normal list of strings\n",
    "input_data = {\"messages\": [\"hi hello how are you?\"]}\n",
    "\n",
    "# Invoke the app\n",
    "result = app.invoke(input_data)\n",
    "\n",
    "print(\"\\n--- Result ---\")\n",
    "print(result)\n",
    "\n",
    "# You can now invoke it with another message and see the history grow\n",
    "print(\"\\n--- Second Invocation ---\")\n",
    "second_input_data = {\"messages\": [\"Tell me a joke.\"]}\n",
    "second_result = app.invoke(second_input_data, config={\"configurable\": {\"thread_id\": \"my_thread_1\"}})\n",
    "# Note: For maintaining history across invocations, you typically need to use a checkpointing system (like MemorySaver or a database)\n",
    "# and use a 'thread_id' in the config. Without it, each 'invoke' is a fresh start unless you pass the full history.\n",
    "# For simplicity, this example just shows the first message being a string.\n",
    "print(second_result)"
   ]
  },
  {
   "cell_type": "code",
   "execution_count": 119,
   "id": "e7f4148b",
   "metadata": {},
   "outputs": [
    {
     "name": "stdout",
     "output_type": "stream",
     "text": [
      "Input is Human Message!!!!\n",
      "This is my current message: content='hi hello how are you?' additional_kwargs={} response_metadata={} id='3dcf6295-dad5-4d2a-aa54-96b18c5cf581'\n",
      "Output from {key}\n",
      "==================\n",
      "{'messages': [AIMessage(content=\"<think>\\n\\n</think>\\n\\nHello! I'm just a virtual assistant, so I don't have feelings, but I'm here and ready to help you with whatever you need. How are you doing? 😊\", additional_kwargs={}, response_metadata={'token_usage': {'completion_tokens': 42, 'prompt_tokens': 9, 'total_tokens': 51, 'completion_time': 0.183627166, 'prompt_time': 0.000215177, 'queue_time': 0.055359433000000006, 'total_time': 0.183842343}, 'model_name': 'deepseek-r1-distill-llama-70b', 'system_fingerprint': 'fp_76307ac09b', 'finish_reason': 'stop', 'logprobs': None}, id='run--21a851bb-ddc3-4f6d-8107-561b84eba51b-0', usage_metadata={'input_tokens': 9, 'output_tokens': 42, 'total_tokens': 51})]}\n",
      "\n",
      "\n"
     ]
    }
   ],
   "source": [
    "#Generate output in a streaming manner\n",
    "for output in app.stream(input): \n",
    "    for key, value in output.items():\n",
    "        print(\"Output from {key}\")\n",
    "        print(\"==================\")\n",
    "        print(value)\n",
    "        print(\"\\n\")"
   ]
  },
  {
   "cell_type": "markdown",
   "id": "baef0e04",
   "metadata": {},
   "source": [
    "Tool Calling"
   ]
  },
  {
   "cell_type": "code",
   "execution_count": 120,
   "id": "44db2fec",
   "metadata": {},
   "outputs": [],
   "source": [
    "#Enabling the workflow for tool calling \n",
    "@tool\n",
    "\n",
    "def search(query: str):\n",
    "    \"\"\" This is my custom tool to search weather\"\"\"\n",
    "    \n",
    "    if \"delhi\" in query.lower():\n",
    "        return \"Temperature in 45 Degree and Sunny\"\n",
    "    \n",
    "    return \"Temperature is 25 degree and cloudy\""
   ]
  },
  {
   "cell_type": "code",
   "execution_count": 121,
   "id": "707af412",
   "metadata": {},
   "outputs": [
    {
     "data": {
      "text/plain": [
       "'Temperature is 25 degree and cloudy'"
      ]
     },
     "execution_count": 121,
     "metadata": {},
     "output_type": "execute_result"
    }
   ],
   "source": [
    "#Testing the tool \n",
    "search.invoke(\"What is the temprature in Kashmir?\")"
   ]
  },
  {
   "cell_type": "code",
   "execution_count": 122,
   "id": "9857bed2",
   "metadata": {},
   "outputs": [
    {
     "data": {
      "text/plain": [
       "'Temperature in 45 Degree and Sunny'"
      ]
     },
     "execution_count": 122,
     "metadata": {},
     "output_type": "execute_result"
    }
   ],
   "source": [
    "#Testing the tool \n",
    "search.invoke(\"What is the temprature in Delhi?\")"
   ]
  },
  {
   "cell_type": "code",
   "execution_count": 123,
   "id": "0cc8ca82",
   "metadata": {},
   "outputs": [
    {
     "data": {
      "text/plain": [
       "StructuredTool(name='search', description='This is my custom tool to search weather', args_schema=<class 'langchain_core.utils.pydantic.search'>, func=<function search at 0x0000022D4F733A60>)"
      ]
     },
     "execution_count": 123,
     "metadata": {},
     "output_type": "execute_result"
    }
   ],
   "source": [
    "search"
   ]
  },
  {
   "cell_type": "markdown",
   "id": "d65007b0",
   "metadata": {},
   "source": [
    "Binding the tool onto LLM"
   ]
  },
  {
   "cell_type": "code",
   "execution_count": 125,
   "id": "a0b460d5",
   "metadata": {},
   "outputs": [],
   "source": [
    "#Creating a variable to hold the tool name \n",
    "tools = [search]"
   ]
  },
  {
   "cell_type": "markdown",
   "id": "5a5c30c2",
   "metadata": {},
   "source": [
    "Next we pass the tool onto LLM"
   ]
  },
  {
   "cell_type": "code",
   "execution_count": 128,
   "id": "9397b868",
   "metadata": {},
   "outputs": [],
   "source": [
    "#Binding tools onto LLM + It takes a list of tools\n",
    "llm_with_tools = llm.bind_tools(tools)"
   ]
  },
  {
   "cell_type": "code",
   "execution_count": 130,
   "id": "b7c0f8d4",
   "metadata": {},
   "outputs": [
    {
     "data": {
      "text/plain": [
       "''"
      ]
     },
     "execution_count": 130,
     "metadata": {},
     "output_type": "execute_result"
    }
   ],
   "source": [
    "#Asking question to this model \n",
    "response=llm_with_tools.invoke(\"What is the weather in delhi?\")\n",
    "response.content"
   ]
  },
  {
   "cell_type": "markdown",
   "id": "47d6a3d7",
   "metadata": {},
   "source": [
    "There is no response."
   ]
  },
  {
   "cell_type": "code",
   "execution_count": 131,
   "id": "4949107d",
   "metadata": {},
   "outputs": [
    {
     "data": {
      "text/plain": [
       "[{'name': 'search',\n",
       "  'args': {'query': 'weather in Delhi'},\n",
       "  'id': 'g2q19aa2a',\n",
       "  'type': 'tool_call'}]"
      ]
     },
     "execution_count": 131,
     "metadata": {},
     "output_type": "execute_result"
    }
   ],
   "source": [
    "response.tool_calls"
   ]
  },
  {
   "cell_type": "markdown",
   "id": "844f8856",
   "metadata": {},
   "source": [
    "Here we can see that tool is called."
   ]
  },
  {
   "cell_type": "code",
   "execution_count": 135,
   "id": "7642db43",
   "metadata": {},
   "outputs": [],
   "source": [
    "#Modifing the call_model function to use the LLM_tool_Call functionality \n",
    "def call_model(state: MessagesState):\n",
    "    question = state[\"messages\"] #Getting question from the message \n",
    "    response = llm_with_tools.invoke(question) #Question is passed as an agumrnet for LLM \n",
    "    return { \"messages\" : [response]}"
   ]
  },
  {
   "cell_type": "code",
   "execution_count": 136,
   "id": "cbedb3d7",
   "metadata": {},
   "outputs": [
    {
     "data": {
      "text/plain": [
       "{'messages': [AIMessage(content='Hello! How can I assist you today?', additional_kwargs={'reasoning_content': 'Alright, let\\'s see what the user is asking for here. They provided a message: \"hi hello how are you?\" which seems like a greeting. I need to figure out the best way to respond.\\n\\nFirst, I should consider the context. The user might be testing the system or just starting a conversation. Since the message is a greeting, a friendly and welcoming response would be appropriate.\\n\\nI should make sure the response is polite and acknowledges their greeting. Maybe something like, \"Hello! How can I assist you today?\" This keeps the conversation open and invites them to specify what they need help with.\\n\\nI also need to ensure that the response is clear and concise, without any unnecessary information. Keeping it simple will help the user understand that I\\'m here to help with their queries.\\n'}, response_metadata={'token_usage': {'completion_tokens': 172, 'prompt_tokens': 130, 'total_tokens': 302, 'completion_time': 0.810579773, 'prompt_time': 0.008383226, 'queue_time': 0.20836648100000002, 'total_time': 0.818962999}, 'model_name': 'deepseek-r1-distill-llama-70b', 'system_fingerprint': 'fp_76307ac09b', 'finish_reason': 'stop', 'logprobs': None}, id='run--736d7a00-15d3-472b-8a33-6462d1236ca6-0', usage_metadata={'input_tokens': 130, 'output_tokens': 172, 'total_tokens': 302})]}"
      ]
     },
     "execution_count": 136,
     "metadata": {},
     "output_type": "execute_result"
    }
   ],
   "source": [
    "# Define the input as a normal list of strings\n",
    "input_data = {\"messages\": [\"hi hello how are you?\"]}\n",
    "\n",
    "# Invoke the function \n",
    "call_model(input_data)"
   ]
  },
  {
   "cell_type": "code",
   "execution_count": 138,
   "id": "405b98dc",
   "metadata": {},
   "outputs": [
    {
     "data": {
      "text/plain": [
       "[AIMessage(content='', additional_kwargs={'reasoning_content': 'Alright, the user is asking about the weather in Delhi. They probably need this information to plan their day or maybe for travel. Since I have a tool called \"search\" that\\'s designed for weather queries, I should use that. I\\'ll format the function call with the tool name and the query as \"weather in delhi\". This should give the user the current weather details they\\'re looking for.\\n', 'tool_calls': [{'id': 'zdghsy1cm', 'function': {'arguments': '{\"query\":\"weather in delhi\"}', 'name': 'search'}, 'type': 'function'}]}, response_metadata={'token_usage': {'completion_tokens': 107, 'prompt_tokens': 132, 'total_tokens': 239, 'completion_time': 0.513525749, 'prompt_time': 0.008453004, 'queue_time': 0.054199776000000005, 'total_time': 0.521978753}, 'model_name': 'deepseek-r1-distill-llama-70b', 'system_fingerprint': 'fp_76307ac09b', 'finish_reason': 'tool_calls', 'logprobs': None}, id='run--0f37d03f-756e-4f60-9a8d-13043948067f-0', tool_calls=[{'name': 'search', 'args': {'query': 'weather in delhi'}, 'id': 'zdghsy1cm', 'type': 'tool_call'}], usage_metadata={'input_tokens': 132, 'output_tokens': 107, 'total_tokens': 239})]"
      ]
     },
     "execution_count": 138,
     "metadata": {},
     "output_type": "execute_result"
    }
   ],
   "source": [
    "# Define the input as a normal list of strings\n",
    "input_data = {\"messages\": [\"What is the weather in delhi?\"]}\n",
    "\n",
    "# Invoke the function \n",
    "response=call_model(input_data)\n",
    "\n",
    "#Check the messages from response \n",
    "response[\"messages\"]"
   ]
  },
  {
   "cell_type": "code",
   "execution_count": 141,
   "id": "bc74e598",
   "metadata": {},
   "outputs": [
    {
     "data": {
      "text/plain": [
       "[AIMessage(content='', additional_kwargs={'reasoning_content': 'Alright, the user is asking about the weather in Delhi. They probably need this information to plan their day or maybe for travel. Since I have a tool called \"search\" that\\'s designed for weather queries, I should use that. I\\'ll format the function call with the tool name and the query as \"weather in delhi\". This should give the user the current weather details they\\'re looking for.\\n', 'tool_calls': [{'id': 'zdghsy1cm', 'function': {'arguments': '{\"query\":\"weather in delhi\"}', 'name': 'search'}, 'type': 'function'}]}, response_metadata={'token_usage': {'completion_tokens': 107, 'prompt_tokens': 132, 'total_tokens': 239, 'completion_time': 0.513525749, 'prompt_time': 0.008453004, 'queue_time': 0.054199776000000005, 'total_time': 0.521978753}, 'model_name': 'deepseek-r1-distill-llama-70b', 'system_fingerprint': 'fp_76307ac09b', 'finish_reason': 'tool_calls', 'logprobs': None}, id='run--0f37d03f-756e-4f60-9a8d-13043948067f-0', tool_calls=[{'name': 'search', 'args': {'query': 'weather in delhi'}, 'id': 'zdghsy1cm', 'type': 'tool_call'}], usage_metadata={'input_tokens': 132, 'output_tokens': 107, 'total_tokens': 239})]"
      ]
     },
     "execution_count": 141,
     "metadata": {},
     "output_type": "execute_result"
    }
   ],
   "source": [
    "response[\"messages\"]"
   ]
  },
  {
   "cell_type": "code",
   "execution_count": 143,
   "id": "fe55674e",
   "metadata": {},
   "outputs": [
    {
     "data": {
      "text/plain": [
       "''"
      ]
     },
     "execution_count": 143,
     "metadata": {},
     "output_type": "execute_result"
    }
   ],
   "source": [
    "response[\"messages\"][-1].content"
   ]
  },
  {
   "cell_type": "code",
   "execution_count": 140,
   "id": "a57ffe88",
   "metadata": {},
   "outputs": [
    {
     "data": {
      "text/plain": [
       "[{'name': 'search',\n",
       "  'args': {'query': 'weather in delhi'},\n",
       "  'id': 'zdghsy1cm',\n",
       "  'type': 'tool_call'}]"
      ]
     },
     "execution_count": 140,
     "metadata": {},
     "output_type": "execute_result"
    }
   ],
   "source": [
    "response[\"messages\"][-1].tool_calls"
   ]
  },
  {
   "cell_type": "code",
   "execution_count": 145,
   "id": "0e2569ac",
   "metadata": {},
   "outputs": [
    {
     "data": {
      "text/plain": [
       "[]"
      ]
     },
     "execution_count": 145,
     "metadata": {},
     "output_type": "execute_result"
    }
   ],
   "source": [
    "# Define the input as a normal list of strings\n",
    "input_data = {\"messages\": [\"Where is Kerala?\"]}\n",
    "\n",
    "# Invoke the function \n",
    "response=call_model(input_data)\n",
    "\n",
    "#Check the messages from response \n",
    "response[\"messages\"][-1].tool_calls\n"
   ]
  },
  {
   "cell_type": "code",
   "execution_count": 160,
   "id": "789e8117",
   "metadata": {},
   "outputs": [],
   "source": [
    "#Create a router function \n",
    "#Here we define a logic to end the process or to call the tool. \n",
    "\n",
    "def router_function(state: MessagesState):\n",
    "    message = state[\"messages\"] #Take the  message rececied from MessageSate \n",
    "    last_message = message[-1] #Taking the last message \n",
    "    if last_message.tool_calls: \n",
    "        return \"tools\"\n",
    "    return END "
   ]
  },
  {
   "cell_type": "code",
   "execution_count": 147,
   "id": "d5c8928e",
   "metadata": {},
   "outputs": [
    {
     "data": {
      "text/plain": [
       "[StructuredTool(name='search', description='This is my custom tool to search weather', args_schema=<class 'langchain_core.utils.pydantic.search'>, func=<function search at 0x0000022D4F733A60>)]"
      ]
     },
     "execution_count": 147,
     "metadata": {},
     "output_type": "execute_result"
    }
   ],
   "source": [
    "tools"
   ]
  },
  {
   "cell_type": "code",
   "execution_count": 148,
   "id": "d4235b36",
   "metadata": {},
   "outputs": [
    {
     "data": {
      "text/plain": [
       "tools(tags=None, recurse=True, explode_args=False, func_accepts_config=True, func_accepts={'store': ('__pregel_store', None)}, tools_by_name={'search': StructuredTool(name='search', description='This is my custom tool to search weather', args_schema=<class 'langchain_core.utils.pydantic.search'>, func=<function search at 0x0000022D4F733A60>)}, tool_to_state_args={'search': {}}, tool_to_store_arg={'search': None}, handle_tool_errors=True, messages_key='messages')"
      ]
     },
     "execution_count": 148,
     "metadata": {},
     "output_type": "execute_result"
    }
   ],
   "source": [
    "#Fitting the tool within langgraph workflow \n",
    "tool_node = ToolNode(tools)\n",
    "tool_node"
   ]
  },
  {
   "cell_type": "code",
   "execution_count": 179,
   "id": "6b41c69b",
   "metadata": {},
   "outputs": [
    {
     "data": {
      "text/plain": [
       "<langgraph.graph.state.StateGraph at 0x22d4da98ad0>"
      ]
     },
     "execution_count": 179,
     "metadata": {},
     "output_type": "execute_result"
    }
   ],
   "source": [
    "#Creating a new workflow based on LLM with tools \n",
    "workflow2 = StateGraph(MessagesState)\n",
    "\n",
    "#ADding nodes \n",
    "workflow2.add_node(\"llmwithtool\", call_model)\n",
    "workflow2.add_node(\"mytools\", tool_node)\n",
    "\n",
    "#Adding Edges \n",
    "workflow2.add_edge(START, \"llmwithtool\")\n",
    "\n",
    "workflow2.add_conditional_edges(\n",
    "    \"llmwithtool\", \n",
    "    router_function,\n",
    "    {   \"tools\" :\"mytools\",\n",
    "        END     : END\n",
    "     })\n",
    "\n",
    "#Adding Edges \n",
    "workflow2.add_edge(\"mytools\", END)\n",
    "\n"
   ]
  },
  {
   "cell_type": "code",
   "execution_count": 180,
   "id": "41f7f229",
   "metadata": {},
   "outputs": [],
   "source": [
    "#Compile the workflow \n",
    "app2 = workflow2.compile()"
   ]
  },
  {
   "cell_type": "code",
   "execution_count": 181,
   "id": "7a971f7c",
   "metadata": {},
   "outputs": [
    {
     "data": {
      "image/png": "[encoded data removed]",
      "text/plain": [
       "<IPython.core.display.Image object>"
      ]
     },
     "metadata": {},
     "output_type": "display_data"
    }
   ],
   "source": [
    "#Visualising the workflow\n",
    "from IPython.display import Image, display\n",
    "display(Image(app2.get_graph().draw_mermaid_png()))"
   ]
  },
  {
   "cell_type": "markdown",
   "id": "eb2b8297",
   "metadata": {},
   "source": [
    "Checking the working of the app2"
   ]
  },
  {
   "cell_type": "code",
   "execution_count": 154,
   "id": "c84f2bb1",
   "metadata": {},
   "outputs": [],
   "source": [
    "#Invoking the workflow \n",
    "response = app2.invoke({\"messages\": [\"What is the weather in Kerala?\"]})\n"
   ]
  },
  {
   "cell_type": "code",
   "execution_count": 185,
   "id": "55d354be",
   "metadata": {},
   "outputs": [
    {
     "data": {
      "text/plain": [
       "{'messages': [HumanMessage(content='What is the weather in Kerala?', additional_kwargs={}, response_metadata={}, id='421caf58-5006-4bf7-b17f-0c76728bf00d'),\n",
       "  AIMessage(content='', additional_kwargs={'reasoning_content': 'Okay, the user is asking about the weather in Kerala. I need to figure out the best way to help them. I have a tool called \"search\" that I can use for this purpose. It requires a query parameter, so I should structure the function call with \"Kerala weather\" as the query. That should provide the necessary information the user is looking for.\\n', 'tool_calls': [{'id': 'f7j8thdas', 'function': {'arguments': '{\"query\":\"Kerala weather\"}', 'name': 'search'}, 'type': 'function'}]}, response_metadata={'token_usage': {'completion_tokens': 100, 'prompt_tokens': 132, 'total_tokens': 232, 'completion_time': 0.468973333, 'prompt_time': 0.008455074, 'queue_time': 0.054319496, 'total_time': 0.477428407}, 'model_name': 'deepseek-r1-distill-llama-70b', 'system_fingerprint': 'fp_76307ac09b', 'finish_reason': 'tool_calls', 'logprobs': None}, id='run--c24b4eb3-22cb-4c8b-a553-b165f13edcde-0', tool_calls=[{'name': 'search', 'args': {'query': 'Kerala weather'}, 'id': 'f7j8thdas', 'type': 'tool_call'}], usage_metadata={'input_tokens': 132, 'output_tokens': 100, 'total_tokens': 232}),\n",
       "  ToolMessage(content='Temperature is 25 degree and cloudy', name='search', id='35c70cf9-20cc-445f-a378-db1d8cad512d', tool_call_id='f7j8thdas')]}"
      ]
     },
     "execution_count": 185,
     "metadata": {},
     "output_type": "execute_result"
    }
   ],
   "source": [
    "app2.invoke({\"messages\": [\"What is the weather in Kerala?\"]})"
   ]
  },
  {
   "cell_type": "code",
   "execution_count": 155,
   "id": "390cff77",
   "metadata": {},
   "outputs": [
    {
     "data": {
      "text/plain": [
       "'Temperature is 25 degree and cloudy'"
      ]
     },
     "execution_count": 155,
     "metadata": {},
     "output_type": "execute_result"
    }
   ],
   "source": [
    "response[\"messages\"][-1].content\n"
   ]
  },
  {
   "cell_type": "code",
   "execution_count": 158,
   "id": "f4156abd",
   "metadata": {},
   "outputs": [],
   "source": [
    "#Invoking the workflow \n",
    "response = app2.invoke({\"messages\": [\"Tell me about cricket?\"]})"
   ]
  },
  {
   "cell_type": "code",
   "execution_count": 159,
   "id": "7c65a7d7",
   "metadata": {},
   "outputs": [
    {
     "data": {
      "text/plain": [
       "'Temperature is 25 degree and cloudy'"
      ]
     },
     "execution_count": 159,
     "metadata": {},
     "output_type": "execute_result"
    }
   ],
   "source": [
    "response[\"messages\"][-1].content\n"
   ]
  },
  {
   "cell_type": "code",
   "execution_count": 182,
   "id": "15288def",
   "metadata": {},
   "outputs": [],
   "source": [
    "#Invoking the workflow \n",
    "response = app2.invoke({\"messages\": [\"Hello, How are you?\"]})"
   ]
  },
  {
   "cell_type": "code",
   "execution_count": 184,
   "id": "340971d1",
   "metadata": {},
   "outputs": [
    {
     "data": {
      "text/plain": [
       "{'messages': [HumanMessage(content='Hello, How are you?', additional_kwargs={}, response_metadata={}, id='9a3ee89e-2480-4e4b-9661-69979360a2cb'),\n",
       "  AIMessage(content=\"Hello! I'm just a virtual assistant, so I don't have feelings, but I'm here and ready to help you. How can I assist you today? If you need anything, feel free to ask!\", additional_kwargs={'reasoning_content': 'Alright, the user greeted me with \"Hello, How are you?\" which is a friendly opener. I need to respond politely and offer assistance. Since I have a tool for searching weather, I should mention that I can help with the weather if they need it. I\\'ll keep it simple and open-ended to encourage them to ask for what they need.\\n'}, response_metadata={'token_usage': {'completion_tokens': 119, 'prompt_tokens': 131, 'total_tokens': 250, 'completion_time': 0.573809002, 'prompt_time': 0.009409546, 'queue_time': 0.263239308, 'total_time': 0.583218548}, 'model_name': 'deepseek-r1-distill-llama-70b', 'system_fingerprint': 'fp_76307ac09b', 'finish_reason': 'stop', 'logprobs': None}, id='run--6ffc8157-789f-4c49-94f0-a5c01e03fe0a-0', usage_metadata={'input_tokens': 131, 'output_tokens': 119, 'total_tokens': 250})]}"
      ]
     },
     "execution_count": 184,
     "metadata": {},
     "output_type": "execute_result"
    }
   ],
   "source": [
    "response"
   ]
  },
  {
   "cell_type": "code",
   "execution_count": 183,
   "id": "c41024d5",
   "metadata": {},
   "outputs": [
    {
     "data": {
      "text/plain": [
       "\"Hello! I'm just a virtual assistant, so I don't have feelings, but I'm here and ready to help you. How can I assist you today? If you need anything, feel free to ask!\""
      ]
     },
     "execution_count": 183,
     "metadata": {},
     "output_type": "execute_result"
    }
   ],
   "source": [
    "response[\"messages\"][-1].content\n"
   ]
  },
  {
   "cell_type": "code",
   "execution_count": 187,
   "id": "757b4a74",
   "metadata": {},
   "outputs": [
    {
     "data": {
      "text/plain": [
       "{'messages': [HumanMessage(content='Hello, How are you?', additional_kwargs={}, response_metadata={}, id='9a3ee89e-2480-4e4b-9661-69979360a2cb'),\n",
       "  AIMessage(content=\"Hello! I'm just a virtual assistant, so I don't have feelings, but I'm here and ready to help you. How can I assist you today? If you need anything, feel free to ask!\", additional_kwargs={'reasoning_content': 'Alright, the user greeted me with \"Hello, How are you?\" which is a friendly opener. I need to respond politely and offer assistance. Since I have a tool for searching weather, I should mention that I can help with the weather if they need it. I\\'ll keep it simple and open-ended to encourage them to ask for what they need.\\n'}, response_metadata={'token_usage': {'completion_tokens': 119, 'prompt_tokens': 131, 'total_tokens': 250, 'completion_time': 0.573809002, 'prompt_time': 0.009409546, 'queue_time': 0.263239308, 'total_time': 0.583218548}, 'model_name': 'deepseek-r1-distill-llama-70b', 'system_fingerprint': 'fp_76307ac09b', 'finish_reason': 'stop', 'logprobs': None}, id='run--6ffc8157-789f-4c49-94f0-a5c01e03fe0a-0', usage_metadata={'input_tokens': 131, 'output_tokens': 119, 'total_tokens': 250})]}"
      ]
     },
     "execution_count": 187,
     "metadata": {},
     "output_type": "execute_result"
    }
   ],
   "source": [
    "response"
   ]
  },
  {
   "cell_type": "markdown",
   "id": "cee21a9c",
   "metadata": {},
   "source": [
    "# Building React Agent "
   ]
  },
  {
   "cell_type": "code",
   "execution_count": 188,
   "id": "76c74999",
   "metadata": {},
   "outputs": [],
   "source": [
    "#Importing all the required libraries \n",
    "import operator\n",
    "from typing import List\n",
    "from langgraph.graph.message import add_messages\n",
    "from pydantic import BaseModel , Field\n",
    "from typing import TypedDict, Annotated, Sequence\n",
    "from langchain_core.messages import BaseMessage\n",
    "from langchain_core.output_parsers import StrOutputParser\n",
    "from langchain_core.prompts import ChatPromptTemplate, PromptTemplate\n",
    "from langchain_core.tools import tool\n",
    "from langchain_core.messages import HumanMessage, AIMessage\n",
    "from langgraph.graph import StateGraph,MessagesState,START,END\n",
    "from langgraph.prebuilt import ToolNode"
   ]
  },
  {
   "cell_type": "code",
   "execution_count": 189,
   "id": "50d92c4a",
   "metadata": {},
   "outputs": [],
   "source": [
    "#Importing the required library for the setting up of the model \n",
    "from dotenv import load_dotenv\n",
    "load_dotenv(override=True)\n",
    "import os \n",
    "os.environ[\"GROQ_API_KEY\"] = os.getenv(\"GROQ_API_KEY\")\n",
    "\n",
    "#Selecting the model from Groq\n",
    "model = \"deepseek-r1-distill-llama-70b\""
   ]
  },
  {
   "cell_type": "code",
   "execution_count": 190,
   "id": "f5456db2",
   "metadata": {},
   "outputs": [
    {
     "data": {
      "text/plain": [
       "tools(tags=None, recurse=True, explode_args=False, func_accepts_config=True, func_accepts={'store': ('__pregel_store', None)}, tools_by_name={'search': StructuredTool(name='search', description='this is my custom tool for searching a weather', args_schema=<class 'langchain_core.utils.pydantic.search'>, func=<function search at 0x0000022D510DC900>)}, tool_to_state_args={'search': {}}, tool_to_store_arg={'search': None}, handle_tool_errors=True, messages_key='messages')"
      ]
     },
     "execution_count": 190,
     "metadata": {},
     "output_type": "execute_result"
    }
   ],
   "source": [
    "#Enabling the workflow for tool calling \n",
    "@tool\n",
    "\n",
    "def search(query: str):\n",
    "    \"\"\" This is my custom tool to search weather\"\"\"\n",
    "    \n",
    "    if \"delhi\" in query.lower():\n",
    "        return \"Temperature in 45 Degree and Sunny\"\n",
    "    \n",
    "    return \"Temperature is 25 degree and cloudy\"\n",
    "\n",
    "#Converting the tool onto ToolNode \n",
    "#Fitting the tool within langgraph workflow \n",
    "tool_node = ToolNode(tools)\n",
    "tool_node"
   ]
  },
  {
   "cell_type": "code",
   "execution_count": 191,
   "id": "f6f1fdd4",
   "metadata": {},
   "outputs": [],
   "source": [
    "#Creating a variable to hold the tool name \n",
    "tools = [search]\n",
    "\n",
    "#Binding tools onto LLM + It takes a list of tools\n",
    "llm_with_tools = llm.bind_tools(tools)"
   ]
  },
  {
   "cell_type": "code",
   "execution_count": 192,
   "id": "b9bf4ff2",
   "metadata": {},
   "outputs": [],
   "source": [
    "\n",
    "def router_function(state: MessagesState):\n",
    "    message = state[\"messages\"] #Take the  message rececied from MessageSate \n",
    "    last_message = message[-1] #Taking the last message \n",
    "    if last_message.tool_calls: \n",
    "        return \"tools\"\n",
    "    return END "
   ]
  },
  {
   "cell_type": "code",
   "execution_count": 193,
   "id": "6d6486cf",
   "metadata": {},
   "outputs": [
    {
     "data": {
      "text/plain": [
       "<langgraph.graph.state.StateGraph at 0x22d51146410>"
      ]
     },
     "execution_count": 193,
     "metadata": {},
     "output_type": "execute_result"
    }
   ],
   "source": [
    "#Creating a new workflow based on LLM with tools \n",
    "workflow2 = StateGraph(MessagesState)\n",
    "\n",
    "#ADding nodes \n",
    "workflow2.add_node(\"llmwithtool\", call_model)\n",
    "workflow2.add_node(\"mytools\", tool_node)\n",
    "\n",
    "#Adding Edges \n",
    "workflow2.add_edge(START, \"llmwithtool\")\n",
    "workflow2.add_conditional_edges(\n",
    "    \"llmwithtool\", \n",
    "    router_function,\n",
    "    {\"tools\":\"mytools\",\n",
    "     END: END})\n",
    "#Adding Edges \n",
    "workflow2.add_edge(\"mytools\", END)\n",
    "\n",
    "#Adding the Recurrance loop \n"
   ]
  },
  {
   "cell_type": "code",
   "execution_count": 194,
   "id": "fcb1c66c",
   "metadata": {},
   "outputs": [
    {
     "data": {
      "text/plain": [
       "<langgraph.graph.state.StateGraph at 0x22d51146410>"
      ]
     },
     "execution_count": 194,
     "metadata": {},
     "output_type": "execute_result"
    }
   ],
   "source": [
    "#Adding recurrance loop for REACT Framework \n",
    "workflow2.add_edge(\"mytools\", \"llmwithtool\")"
   ]
  },
  {
   "cell_type": "code",
   "execution_count": 195,
   "id": "32e781eb",
   "metadata": {},
   "outputs": [
    {
     "data": {
      "image/png": "[encoded data removed]",
      "text/plain": [
       "<IPython.core.display.Image object>"
      ]
     },
     "metadata": {},
     "output_type": "display_data"
    }
   ],
   "source": [
    "#Building the app via compiling()\n",
    "app3=workflow2.compile()\n",
    "\n",
    "#Display the result \n",
    "from IPython.display import Image, display\n",
    "display(Image(app3.get_graph().draw_mermaid_png()))\n"
   ]
  },
  {
   "cell_type": "markdown",
   "id": "f4f6dd40",
   "metadata": {},
   "source": [
    "Invoking the workflow using stream"
   ]
  },
  {
   "cell_type": "code",
   "execution_count": 197,
   "id": "b56b9183",
   "metadata": {},
   "outputs": [
    {
     "name": "stdout",
     "output_type": "stream",
     "text": [
      "Here is the output from llmwithtool\n",
      "============================\n",
      "{'messages': [AIMessage(content='', additional_kwargs={'reasoning_content': 'Alright, the user is asking about the weather in Delhi. I need to help them by using the available tool. The tool provided is a function called \"search\" which takes a query as an argument.\\n\\nFirst, I should identify the function to call. Since the tool is named \"search\" and it\\'s used for weather, that\\'s the right choice.\\n\\nNext, I need to construct the arguments. The function requires a \"query\" parameter. The user\\'s question is about Delhi\\'s weather, so the query should be \"weather in Delhi\".\\n\\nPutting it all together, I\\'ll format the tool call with the function name as \"search\" and the arguments as a JSON object containing the query.\\n\\nI should make sure the syntax is correct, using proper JSON formatting within the tool_call tags. That way, the system can process the request accurately and fetch the weather information for Delhi.\\n', 'tool_calls': [{'id': 'm8rx8y0w3', 'function': {'arguments': '{\"query\":\"weather in Delhi\"}', 'name': 'search'}, 'type': 'function'}]}, response_metadata={'token_usage': {'completion_tokens': 206, 'prompt_tokens': 132, 'total_tokens': 338, 'completion_time': 0.899772407, 'prompt_time': 0.008454736, 'queue_time': 0.062305818000000006, 'total_time': 0.908227143}, 'model_name': 'deepseek-r1-distill-llama-70b', 'system_fingerprint': 'fp_76307ac09b', 'finish_reason': 'tool_calls', 'logprobs': None}, id='run--72256fe6-11db-4439-b76c-06f83052743a-0', tool_calls=[{'name': 'search', 'args': {'query': 'weather in Delhi'}, 'id': 'm8rx8y0w3', 'type': 'tool_call'}], usage_metadata={'input_tokens': 132, 'output_tokens': 206, 'total_tokens': 338})]}\n",
      "\n",
      "\n",
      "Here is the output from mytools\n",
      "============================\n",
      "{'messages': [ToolMessage(content='the temp is 45 degree and sunny', name='search', id='7e11c644-abeb-4408-b5f6-c0351a059e32', tool_call_id='m8rx8y0w3')]}\n",
      "\n",
      "\n",
      "Here is the output from llmwithtool\n",
      "============================\n",
      "{'messages': [AIMessage(content='', additional_kwargs={'reasoning_content': 'Okay, the user is asking about the weather in Delhi. I remember from the history that they called the \\'search\\' tool with the query \"weather in Delhi\" and got a response that the temperature is 45 degrees and sunny. \\n\\nNow, the user is asking again, but in a different way. They\\'re saying, \"What is the weather in Delhi?\" So, I need to use the same tool again because it\\'s the same type of query. \\n\\nI should call the \\'search\\' function with the same arguments. I\\'ll structure the tool call with the function name as \"search\" and the query as \"weather in Delhi\". \\n\\nI hope this will provide the updated weather information the user is seeking.\\n', 'tool_calls': [{'id': 'hdqns2w65', 'function': {'arguments': '{\"query\":\"weather in Delhi\"}', 'name': 'search'}, 'type': 'function'}]}, response_metadata={'token_usage': {'completion_tokens': 170, 'prompt_tokens': 192, 'total_tokens': 362, 'completion_time': 0.820124146, 'prompt_time': 0.012888133, 'queue_time': 0.053648317, 'total_time': 0.833012279}, 'model_name': 'deepseek-r1-distill-llama-70b', 'system_fingerprint': 'fp_76307ac09b', 'finish_reason': 'tool_calls', 'logprobs': None}, id='run--af8b919f-725d-4d45-bed7-c6adb1c58e4f-0', tool_calls=[{'name': 'search', 'args': {'query': 'weather in Delhi'}, 'id': 'hdqns2w65', 'type': 'tool_call'}], usage_metadata={'input_tokens': 192, 'output_tokens': 170, 'total_tokens': 362})]}\n",
      "\n",
      "\n",
      "Here is the output from mytools\n",
      "============================\n",
      "{'messages': [ToolMessage(content='the temp is 45 degree and sunny', name='search', id='2db99eeb-2b09-4f34-bb91-8820df3e6315', tool_call_id='hdqns2w65')]}\n",
      "\n",
      "\n",
      "Here is the output from llmwithtool\n",
      "============================\n",
      "{'messages': [AIMessage(content=\"The current weather in Delhi is 45 degrees Celsius with sunny conditions. It's important to stay hydrated and take precautions against the heat. For more detailed and real-time information, consider checking a reliable weather service.\", additional_kwargs={'reasoning_content': \"Okay, so I'm trying to figure out what the weather is like in Delhi. I remember the user mentioned it's 45 degrees and sunny. Hmm, 45 degrees sounds really hot, especially if we're talking Celsius. I wonder if that's accurate for Delhi this time of year. Maybe I should check if there are any weather alerts or heatwaves happening there. Also, I'm curious if it's the temperature during the day or at night. I should probably look up the current weather report to confirm the details and get more information about humidity and wind conditions as well. It might be helpful to use a reliable weather app or website to get the most accurate and up-to-date information.\\n\"}, response_metadata={'token_usage': {'completion_tokens': 187, 'prompt_tokens': 250, 'total_tokens': 437, 'completion_time': 0.931164655, 'prompt_time': 0.016836215, 'queue_time': 0.05406778499999999, 'total_time': 0.94800087}, 'model_name': 'deepseek-r1-distill-llama-70b', 'system_fingerprint': 'fp_76307ac09b', 'finish_reason': 'stop', 'logprobs': None}, id='run--978d0c4e-31a0-49f5-8e94-daa213d92039-0', usage_metadata={'input_tokens': 250, 'output_tokens': 187, 'total_tokens': 437})]}\n",
      "\n",
      "\n"
     ]
    }
   ],
   "source": [
    "for output in app3.stream({\"messages\":[\"What is the weather in Delhi?\"]}):\n",
    "    for key,value in output.items():\n",
    "        print(f\"Here is the output from {key}\")\n",
    "        print(\"============================\")\n",
    "        print(value)\n",
    "        print(\"\\n\")"
   ]
  },
  {
   "cell_type": "code",
   "execution_count": 198,
   "id": "1f1bde02",
   "metadata": {},
   "outputs": [
    {
     "name": "stdout",
     "output_type": "stream",
     "text": [
      "Here is the output from llmwithtool\n",
      "============================\n",
      "{'messages': [AIMessage(content='', additional_kwargs={'reasoning_content': 'Alright, the user is asking about the weather in Delhi and which hotel to book in North Delhi. First, I need to figure out how to get the weather information. I remember I have a tool called \"search\" that can help with that. So I\\'ll use the search tool with the query \"weather in Delhi\" to get the current weather details.\\n\\nOnce I have the weather information, the next part is about booking a hotel in North Delhi. Since the user specifically mentioned North Delhi, I should look for hotels in that area. I don\\'t have a direct tool for hotel bookings mentioned here, but maybe I can suggest using the same search tool to find hotels. Alternatively, I can recommend popular hotel booking platforms like Booking.com or MakeMyTrip where the user can search for options in North Delhi.\\n\\nI should structure the response to first provide the weather information using the search tool and then guide the user on how to find a hotel, possibly using the same tool or other resources. I need to make sure the tool call is correctly formatted with the function name and arguments.\\n', 'tool_calls': [{'id': 'q24cg8yyk', 'function': {'arguments': '{\"query\":\"weather in Delhi\"}', 'name': 'search'}, 'type': 'function'}]}, response_metadata={'token_usage': {'completion_tokens': 272, 'prompt_tokens': 141, 'total_tokens': 413, 'completion_time': 1.070230479, 'prompt_time': 0.010419663, 'queue_time': 0.059062637, 'total_time': 1.080650142}, 'model_name': 'deepseek-r1-distill-llama-70b', 'system_fingerprint': 'fp_76307ac09b', 'finish_reason': 'tool_calls', 'logprobs': None}, id='run--75e7426f-3f35-4407-abaa-05c4e0eabc70-0', tool_calls=[{'name': 'search', 'args': {'query': 'weather in Delhi'}, 'id': 'q24cg8yyk', 'type': 'tool_call'}], usage_metadata={'input_tokens': 141, 'output_tokens': 272, 'total_tokens': 413})]}\n",
      "\n",
      "\n",
      "Here is the output from mytools\n",
      "============================\n",
      "{'messages': [ToolMessage(content='the temp is 45 degree and sunny', name='search', id='7a2e8459-fd1b-4b2f-8e9a-37d829dd1389', tool_call_id='q24cg8yyk')]}\n",
      "\n",
      "\n",
      "Here is the output from llmwithtool\n",
      "============================\n",
      "{'messages': [AIMessage(content='', additional_kwargs={'reasoning_content': 'Alright, the user just asked about the weather in Delhi and which hotel to book in North Delhi. I remember the user provided a tool called \"search\" which can be used for weather-related queries. \\n\\nFirst, I need to call the search function with the query \"weather in Delhi\". That should give me the current weather information. The tool returned that the temperature is 45 degrees and sunny. \\n\\nNow, since the weather is quite hot, the next part of the query is about booking a hotel in North Delhi. I should consider hotels that offer good amenities to cope with the heat, like a swimming pool or air-conditioned rooms. \\n\\nLooking up some options, The Oberoi in North Delhi is a great choice. It\\'s a 5-star hotel with excellent reviews, a pool, and top-notch service. Another option could be the Radisson Blu, which also has a pool and is well-reviewed. \\n\\nI should present these options to the user, mentioning the reasons why they\\'re suitable given the weather. Also, I should offer further assistance in case they need more details or help with the booking.\\n', 'tool_calls': [{'id': 'q24cg8yyk', 'function': {'arguments': '{\"query\":\"weather in Delhi\"}', 'name': 'search'}, 'type': 'function'}]}, response_metadata={'token_usage': {'completion_tokens': 258, 'prompt_tokens': 199, 'total_tokens': 457, 'completion_time': 1.236491558, 'prompt_time': 0.012422159, 'queue_time': 0.060863891, 'total_time': 1.248913717}, 'model_name': 'deepseek-r1-distill-llama-70b', 'system_fingerprint': 'fp_76307ac09b', 'finish_reason': 'tool_calls', 'logprobs': None}, id='run--6c2d3eff-8a67-43a6-968e-9e264d03cfa0-0', tool_calls=[{'name': 'search', 'args': {'query': 'weather in Delhi'}, 'id': 'q24cg8yyk', 'type': 'tool_call'}], usage_metadata={'input_tokens': 199, 'output_tokens': 258, 'total_tokens': 457})]}\n",
      "\n",
      "\n",
      "Here is the output from mytools\n",
      "============================\n",
      "{'messages': [ToolMessage(content='the temp is 45 degree and sunny', name='search', id='c1cc28d7-e12c-4a3b-a77f-d74cf615443c', tool_call_id='q24cg8yyk')]}\n",
      "\n",
      "\n",
      "Here is the output from llmwithtool\n",
      "============================\n",
      "{'messages': [AIMessage(content='', additional_kwargs={'reasoning_content': 'Okay, so the user first asked about the weather in Delhi and which hotel to book in north Delhi. I used the search tool to find the weather, which came back as 45 degrees and sunny. Now, the user is asking for a hotel recommendation. Since I only have the search tool available, I need to frame the query in a way that the tool can help.\\n\\nI should make sure to specify \"north Delhi\" and \"hotel booking\" so the search is precise. Maybe the tool will provide options based on that. I\\'ll call the search function again with the new query.\\n', 'tool_calls': [{'id': 'hq2navngp', 'function': {'arguments': '{\"query\":\"hotel booking in north Delhi\"}', 'name': 'search'}, 'type': 'function'}]}, response_metadata={'token_usage': {'completion_tokens': 142, 'prompt_tokens': 257, 'total_tokens': 399, 'completion_time': 0.787870862, 'prompt_time': 0.016684827, 'queue_time': 0.053361133000000005, 'total_time': 0.804555689}, 'model_name': 'deepseek-r1-distill-llama-70b', 'system_fingerprint': 'fp_76307ac09b', 'finish_reason': 'tool_calls', 'logprobs': None}, id='run--089d9314-447c-4559-b007-f2f06df12c73-0', tool_calls=[{'name': 'search', 'args': {'query': 'hotel booking in north Delhi'}, 'id': 'hq2navngp', 'type': 'tool_call'}], usage_metadata={'input_tokens': 257, 'output_tokens': 142, 'total_tokens': 399})]}\n",
      "\n",
      "\n",
      "Here is the output from mytools\n",
      "============================\n",
      "{'messages': [ToolMessage(content='the temp is 45 degree and sunny', name='search', id='44db94b7-eeab-491d-b14f-5b7b847729f3', tool_call_id='hq2navngp')]}\n",
      "\n",
      "\n",
      "Here is the output from llmwithtool\n",
      "============================\n",
      "{'messages': [AIMessage(content='The weather in Delhi is currently 45 degrees and sunny. For a hotel in North Delhi, I recommend booking the [Hotel Name], which is well-rated and conveniently located.', additional_kwargs={'reasoning_content': \"Alright, the user is asking about the weather in Delhi and for a hotel recommendation in North Delhi. I remember from the previous interactions that the weather is 45 degrees and sunny. I should first confirm that information again to make sure it's up-to-date. \\n\\nNext, I need to find a good hotel in North Delhi. Since the user didn't specify their preferences like budget or specific amenities, I'll assume they're looking for a well-rated and conveniently located option. I'll search for top-rated hotels in that area, maybe look for ones with good reviews and proximity to major attractions or business centers.\\n\\nOnce I have the weather and hotel information, I'll present it clearly, making sure to mention the temperature and suggest booking a hotel that's suitable for their needs. I should keep the response friendly and helpful, ensuring the user feels informed and assisted effectively.\\n\"}, response_metadata={'token_usage': {'completion_tokens': 213, 'prompt_tokens': 316, 'total_tokens': 529, 'completion_time': 1.20016982, 'prompt_time': 0.022504036, 'queue_time': 0.05325725699999999, 'total_time': 1.2226738560000001}, 'model_name': 'deepseek-r1-distill-llama-70b', 'system_fingerprint': 'fp_76307ac09b', 'finish_reason': 'stop', 'logprobs': None}, id='run--61422092-0145-4190-a815-6ed137a00de6-0', usage_metadata={'input_tokens': 316, 'output_tokens': 213, 'total_tokens': 529})]}\n",
      "\n",
      "\n"
     ]
    }
   ],
   "source": [
    "for output in app3.stream({\"messages\":[\"What is the weather in Delhi and which hotel should i book in north Delhi?\"]}):\n",
    "    for key,value in output.items():\n",
    "        print(f\"Here is the output from {key}\")\n",
    "        print(\"============================\")\n",
    "        print(value)\n",
    "        print(\"\\n\")"
   ]
  },
  {
   "cell_type": "markdown",
   "id": "93ebee3d",
   "metadata": {},
   "source": [
    "# LangGraph with Memory"
   ]
  },
  {
   "cell_type": "code",
   "execution_count": 199,
   "id": "2c713316",
   "metadata": {},
   "outputs": [],
   "source": [
    "#To configure memory for Langgraph \n",
    "from langgraph.checkpoint.memory import MemorySaver"
   ]
  },
  {
   "cell_type": "code",
   "execution_count": 200,
   "id": "f827554d",
   "metadata": {},
   "outputs": [],
   "source": [
    "#Create object of MemorySaver\n",
    "memory = MemorySaver()"
   ]
  },
  {
   "cell_type": "code",
   "execution_count": 201,
   "id": "73010211",
   "metadata": {},
   "outputs": [],
   "source": [
    "#Modifing the call_model function to use the LLM_tool_Call functionality \n",
    "def call_model(state: MessagesState):\n",
    "    question = state[\"messages\"] #Getting question from the message \n",
    "    response = llm_with_tools.invoke(question) #Question is passed as an agumrnet for LLM \n",
    "    return { \"messages\" : [response]}"
   ]
  },
  {
   "cell_type": "code",
   "execution_count": 202,
   "id": "4fa12644",
   "metadata": {},
   "outputs": [
    {
     "data": {
      "text/plain": [
       "tools(tags=None, recurse=True, explode_args=False, func_accepts_config=True, func_accepts={'store': ('__pregel_store', None)}, tools_by_name={'search': StructuredTool(name='search', description='This is my custom tool to search weather', args_schema=<class 'langchain_core.utils.pydantic.search'>, func=<function search at 0x0000022D50A9E340>)}, tool_to_state_args={'search': {}}, tool_to_store_arg={'search': None}, handle_tool_errors=True, messages_key='messages')"
      ]
     },
     "execution_count": 202,
     "metadata": {},
     "output_type": "execute_result"
    }
   ],
   "source": [
    "#Enabling the workflow for tool calling \n",
    "@tool\n",
    "\n",
    "def search(query: str):\n",
    "    \"\"\" This is my custom tool to search weather\"\"\"\n",
    "    \n",
    "    if \"delhi\" in query.lower():\n",
    "        return \"Temperature in 45 Degree and Sunny\"\n",
    "    \n",
    "    return \"Temperature is 25 degree and cloudy\"\n",
    "\n",
    "#Converting the tool onto ToolNode \n",
    "#Fitting the tool within langgraph workflow \n",
    "tool_node = ToolNode(tools)\n",
    "tool_node"
   ]
  },
  {
   "cell_type": "code",
   "execution_count": 203,
   "id": "5d04fa99",
   "metadata": {},
   "outputs": [],
   "source": [
    "#Creating a variable to hold the tool name \n",
    "tools = [search]\n",
    "\n",
    "#Binding tools onto LLM + It takes a list of tools\n",
    "llm_with_tools = llm.bind_tools(tools)"
   ]
  },
  {
   "cell_type": "code",
   "execution_count": 204,
   "id": "bc2507b5",
   "metadata": {},
   "outputs": [],
   "source": [
    "\n",
    "def router_function(state: MessagesState):\n",
    "    message = state[\"messages\"] #Take the  message rececied from MessageSate \n",
    "    last_message = message[-1] #Taking the last message \n",
    "    if last_message.tool_calls: \n",
    "        return \"tools\"\n",
    "    return END "
   ]
  },
  {
   "cell_type": "code",
   "execution_count": 206,
   "id": "2b9746b0",
   "metadata": {},
   "outputs": [
    {
     "data": {
      "text/plain": [
       "<langgraph.graph.state.StateGraph at 0x22d511d7910>"
      ]
     },
     "execution_count": 206,
     "metadata": {},
     "output_type": "execute_result"
    }
   ],
   "source": [
    "#Recreating the workflow \n",
    "workflow3 = StateGraph(MessagesState) \n",
    "\n",
    "\n",
    "#adding hte nodes \n",
    "workflow3.add_node(\"llmwithtool\", call_model)\n",
    "workflow3.add_node(\"mytools\", tool_node)\n",
    "\n",
    "#Adding Edges \n",
    "workflow3.add_edge(START, \"llmwithtool\")\n",
    "workflow3.add_conditional_edges(\n",
    "    \"llmwithtool\", \n",
    "    router_function,\n",
    "    {\n",
    "        \"tools\" : \"mytools\",\n",
    "        END : END \n",
    "    }\n",
    "    \n",
    ")\n",
    "workflow3.add_edge(\"mytools\", \"llmwithtool\")"
   ]
  },
  {
   "cell_type": "code",
   "execution_count": 207,
   "id": "05d38a9f",
   "metadata": {},
   "outputs": [],
   "source": [
    "#Compiling workflow + memory \n",
    "app4 = workflow3.compile(checkpointer=memory)"
   ]
  },
  {
   "cell_type": "code",
   "execution_count": 208,
   "id": "56009bbf",
   "metadata": {},
   "outputs": [
    {
     "data": {
      "image/png": "[encoded data removed]",
      "text/plain": [
       "<IPython.core.display.Image object>"
      ]
     },
     "metadata": {},
     "output_type": "display_data"
    }
   ],
   "source": [
    "from IPython.display import Image, display\n",
    "display(Image(app4.get_graph().draw_mermaid_png()))"
   ]
  },
  {
   "cell_type": "code",
   "execution_count": 209,
   "id": "7bc0c785",
   "metadata": {},
   "outputs": [],
   "source": [
    "#Configuring Thread \n",
    "config = {\"configurable\": {\"thread_id\": \"1\"}}\n"
   ]
  },
  {
   "cell_type": "code",
   "execution_count": 226,
   "id": "fef6e440",
   "metadata": {},
   "outputs": [
    {
     "name": "stdout",
     "output_type": "stream",
     "text": [
      "================================\u001b[1m Human Message \u001b[0m=================================\n",
      "\n",
      "What is the weather in Delhi?\n",
      "==================================\u001b[1m Ai Message \u001b[0m==================================\n",
      "Tool Calls:\n",
      "  search (p9s2a7033)\n",
      " Call ID: p9s2a7033\n",
      "  Args:\n",
      "    query: weather in Delhi\n",
      "=================================\u001b[1m Tool Message \u001b[0m=================================\n",
      "Name: search\n",
      "\n",
      "Temperature in 45 Degree and Sunny\n",
      "==================================\u001b[1m Ai Message \u001b[0m==================================\n",
      "\n",
      "The current weather in Delhi is **45 degrees** and **sunny**.\n"
     ]
    }
   ],
   "source": [
    "#Configuring Thread \n",
    "config = {\"configurable\": {\"thread_id\": \"1\"}}\n",
    "\n",
    "#Pass the configuration in stream \n",
    "events = app4.stream(\n",
    "    {\"messages\": [\"What is the weather in Delhi?\"]}, config=config, stream_mode=\"values\"\n",
    ")\n",
    "\n",
    "for event in events:\n",
    "    event[\"messages\"][-1].pretty_print()"
   ]
  },
  {
   "cell_type": "code",
   "execution_count": null,
   "id": "b102b230",
   "metadata": {},
   "outputs": [],
   "source": [
    "for event in events:\n",
    "    event[\"messages\"][-1].pretty_print()\n",
    "    "
   ]
  },
  {
   "cell_type": "code",
   "execution_count": 228,
   "id": "b0430e8d",
   "metadata": {},
   "outputs": [
    {
     "name": "stdout",
     "output_type": "stream",
     "text": [
      "================================\u001b[1m Human Message \u001b[0m=================================\n",
      "\n",
      "what is a weather in indore?\n",
      "==================================\u001b[1m Ai Message \u001b[0m==================================\n",
      "Tool Calls:\n",
      "  search (p9s2a7033)\n",
      " Call ID: p9s2a7033\n",
      "  Args:\n",
      "    query: weather in Indore\n",
      "=================================\u001b[1m Tool Message \u001b[0m=================================\n",
      "Name: search\n",
      "\n",
      "Temperature is 25 degree and cloudy\n",
      "==================================\u001b[1m Ai Message \u001b[0m==================================\n",
      "\n",
      "The current weather in Indore is **25 degrees** and **cloudy**.\n"
     ]
    }
   ],
   "source": [
    "#Asking another question on different city \n",
    "events=app4.stream(\n",
    "    {\"messages\":[\"what is a weather in indore?\"]},config=config,stream_mode=\"values\"\n",
    "    )\n",
    "\n",
    "for event in events:\n",
    "    event[\"messages\"][-1].pretty_print()"
   ]
  },
  {
   "cell_type": "code",
   "execution_count": 229,
   "id": "b35473ca",
   "metadata": {},
   "outputs": [
    {
     "data": {
      "text/plain": [
       "{'v': 2,\n",
       " 'ts': '2025-07-22T15:47:44.425224+00:00',\n",
       " 'id': '1f067133-5453-6258-800d-44e5d93d8513',\n",
       " 'channel_versions': {'__start__': '00000000000000000000000000000012.0.6373896316111395',\n",
       "  'messages': '00000000000000000000000000000015.0.5391983724156162',\n",
       "  'start:llmwithtool': '00000000000000000000000000000013.0.005697998514722524',\n",
       "  'llmwithtool': '00000000000000000000000000000015.0.709050435035296',\n",
       "  'branch:llmwithtool:router_function:mytools': '00000000000000000000000000000014.0.2654792964731961',\n",
       "  'mytools': '00000000000000000000000000000015.0.6607421296627009'},\n",
       " 'versions_seen': {'__input__': {},\n",
       "  '__start__': {'__start__': '00000000000000000000000000000011.0.7152258968401143'},\n",
       "  'llmwithtool': {'start:llmwithtool': '00000000000000000000000000000012.0.5441702963264097',\n",
       "   'mytools': '00000000000000000000000000000014.0.5626713188543259'},\n",
       "  'mytools': {'branch:llmwithtool:router_function:mytools': '00000000000000000000000000000013.0.01246700592429173'}},\n",
       " 'pending_sends': [],\n",
       " 'channel_values': {'messages': [HumanMessage(content='What is the weather in Delhi?', additional_kwargs={}, response_metadata={}, id='2a197055-dfd1-4d64-894e-5fb0c8a5798a'),\n",
       "   AIMessage(content='', additional_kwargs={'reasoning_content': 'Okay, the user is asking about the weather in Delhi. I should use the search tool I have to find this information.\\n\\nFirst, I\\'ll call the search function with \"weather in Delhi\" as the query.\\n\\nThat should give me the current weather details for Delhi.\\n', 'tool_calls': [{'id': 'p9s2a7033', 'function': {'arguments': '{\"query\":\"weather in Delhi\"}', 'name': 'search'}, 'type': 'function'}]}, response_metadata={'token_usage': {'completion_tokens': 79, 'prompt_tokens': 131, 'total_tokens': 210, 'completion_time': 0.836181422, 'prompt_time': 0.008676973, 'queue_time': 0.054452467, 'total_time': 0.844858395}, 'model_name': 'deepseek-r1-distill-llama-70b', 'system_fingerprint': 'fp_76307ac09b', 'finish_reason': 'tool_calls', 'logprobs': None}, id='run--a09c557f-dc8d-4842-9a3b-236b43cc339f-0', tool_calls=[{'name': 'search', 'args': {'query': 'weather in Delhi'}, 'id': 'p9s2a7033', 'type': 'tool_call'}], usage_metadata={'input_tokens': 131, 'output_tokens': 79, 'total_tokens': 210}),\n",
       "   ToolMessage(content='Temperature in 45 Degree and Sunny', name='search', id='c9f4a84e-2cd1-49e8-a22d-a7ff29642895', tool_call_id='p9s2a7033'),\n",
       "   AIMessage(content='The current weather in Delhi is 45 degrees and sunny.', additional_kwargs={'reasoning_content': 'Alright, the user is asking about the weather in Delhi. I should use the provided tool to get the information. I\\'ll call the search function with the query \"weather in Delhi\". Once I have the data, I\\'ll present it clearly to the user.\\n'}, response_metadata={'token_usage': {'completion_tokens': 69, 'prompt_tokens': 189, 'total_tokens': 258, 'completion_time': 0.32545427, 'prompt_time': 0.011811628, 'queue_time': 0.058109522000000004, 'total_time': 0.337265898}, 'model_name': 'deepseek-r1-distill-llama-70b', 'system_fingerprint': 'fp_76307ac09b', 'finish_reason': 'stop', 'logprobs': None}, id='run--b26fc5e5-deb5-4423-aff1-dcde23f95d3b-0', usage_metadata={'input_tokens': 189, 'output_tokens': 69, 'total_tokens': 258}),\n",
       "   HumanMessage(content='What is the weather in Delhi?', additional_kwargs={}, response_metadata={}, id='faac382b-23ff-48f8-bb01-bf86148adaf9'),\n",
       "   AIMessage(content='', additional_kwargs={'reasoning_content': \"Alright, the user is asking about the weather in Delhi again. I remember from the previous conversation that they used the same question, and I provided the temperature and conditions. Maybe they're checking for an update since weather can change.\\n\\nI should respond in the same structured way, using the tool to fetch the latest data. I'll make sure to keep the response clear and concise, just like before. Hopefully, this helps them stay informed.\\n\", 'tool_calls': [{'id': 'p9s2a7033', 'function': {'arguments': '{\"query\":\"weather in Delhi\"}', 'name': 'search'}, 'type': 'function'}]}, response_metadata={'token_usage': {'completion_tokens': 119, 'prompt_tokens': 211, 'total_tokens': 330, 'completion_time': 0.647438586, 'prompt_time': 0.013063785, 'queue_time': 0.074153777, 'total_time': 0.660502371}, 'model_name': 'deepseek-r1-distill-llama-70b', 'system_fingerprint': 'fp_76307ac09b', 'finish_reason': 'tool_calls', 'logprobs': None}, id='run--45f801a7-7b63-46f6-9363-d3101ca678af-0', tool_calls=[{'name': 'search', 'args': {'query': 'weather in Delhi'}, 'id': 'p9s2a7033', 'type': 'tool_call'}], usage_metadata={'input_tokens': 211, 'output_tokens': 119, 'total_tokens': 330}),\n",
       "   ToolMessage(content='Temperature in 45 Degree and Sunny', name='search', id='64aec54b-8ae7-4848-b402-99609d13c3d9', tool_call_id='p9s2a7033'),\n",
       "   AIMessage(content='The current weather in Delhi is **45 degrees** and **sunny**.', additional_kwargs={'reasoning_content': \"Alright, the user is asking about the weather in Delhi again. They've asked this before, so maybe they're checking for updates or just confirming the information. Since the tool provides the same result, I should present it clearly. I'll make sure to format the response to highlight the temperature and weather condition for clarity.\\n\"}, response_metadata={'token_usage': {'completion_tokens': 85, 'prompt_tokens': 269, 'total_tokens': 354, 'completion_time': 0.462696381, 'prompt_time': 0.025087061, 'queue_time': 0.054742012, 'total_time': 0.487783442}, 'model_name': 'deepseek-r1-distill-llama-70b', 'system_fingerprint': 'fp_76307ac09b', 'finish_reason': 'stop', 'logprobs': None}, id='run--362a0ab7-2468-4ee2-a531-6fba3790fa34-0', usage_metadata={'input_tokens': 269, 'output_tokens': 85, 'total_tokens': 354}),\n",
       "   HumanMessage(content='what is a weather in indore?', additional_kwargs={}, response_metadata={}, id='d13e8b4f-8b1e-47ab-8dfc-d8be82293d37'),\n",
       "   AIMessage(content='', additional_kwargs={'reasoning_content': 'Alright, the user is asking about the weather in Indore. I remember from the previous conversation that they were inquiring about Delhi\\'s weather, so I can use the same approach. They might be planning a trip or just curious. I should call the search tool with \"weather in Indore\" as the query. Once I get the data, I\\'ll present it clearly, just like I did for Delhi. Hopefully, the tool returns accurate information so I can provide a helpful response.\\n', 'tool_calls': [{'id': 'p9s2a7033', 'function': {'arguments': '{\"query\":\"weather in Indore\"}', 'name': 'search'}, 'type': 'function'}]}, response_metadata={'token_usage': {'completion_tokens': 130, 'prompt_tokens': 296, 'total_tokens': 426, 'completion_time': 0.586866483, 'prompt_time': 0.02665758, 'queue_time': 0.058440962, 'total_time': 0.613524063}, 'model_name': 'deepseek-r1-distill-llama-70b', 'system_fingerprint': 'fp_76307ac09b', 'finish_reason': 'tool_calls', 'logprobs': None}, id='run--d13be2a4-943b-4739-be8d-0cfaa17e4db6-0', tool_calls=[{'name': 'search', 'args': {'query': 'weather in Indore'}, 'id': 'p9s2a7033', 'type': 'tool_call'}], usage_metadata={'input_tokens': 296, 'output_tokens': 130, 'total_tokens': 426}),\n",
       "   ToolMessage(content='Temperature is 25 degree and cloudy', name='search', id='d02fc0f5-7591-433a-8171-3348c506a89c', tool_call_id='p9s2a7033'),\n",
       "   AIMessage(content='The current weather in Indore is **25 degrees** and **cloudy**.', additional_kwargs={'reasoning_content': 'Alright, the user is asking about the weather in Indore. I remember they previously asked about Delhi, so maybe they\\'re planning a trip or just curious. I\\'ll use the same tool to look up the weather for them. \\n\\nI\\'ll call the search function with \"weather in Indore\" as the query. Once I get the results, I\\'ll present the temperature and conditions clearly. Hopefully, this helps them with their plans.\\n'}, response_metadata={'token_usage': {'completion_tokens': 110, 'prompt_tokens': 355, 'total_tokens': 465, 'completion_time': 0.4878006, 'prompt_time': 0.030125691, 'queue_time': 0.05850790900000001, 'total_time': 0.517926291}, 'model_name': 'deepseek-r1-distill-llama-70b', 'system_fingerprint': 'fp_76307ac09b', 'finish_reason': 'stop', 'logprobs': None}, id='run--d881335c-77ef-4038-834f-b22fd6c525ed-0', usage_metadata={'input_tokens': 355, 'output_tokens': 110, 'total_tokens': 465})],\n",
       "  'llmwithtool': 'llmwithtool'}}"
      ]
     },
     "execution_count": 229,
     "metadata": {},
     "output_type": "execute_result"
    }
   ],
   "source": [
    "memory.get(config)"
   ]
  },
  {
   "cell_type": "code",
   "execution_count": 230,
   "id": "ea8ce158",
   "metadata": {},
   "outputs": [
    {
     "name": "stdout",
     "output_type": "stream",
     "text": [
      "================================\u001b[1m Human Message \u001b[0m=================================\n",
      "\n",
      "in which city the temp was 25 degree?\n",
      "==================================\u001b[1m Ai Message \u001b[0m==================================\n",
      "\n",
      "The temperature in **Indore** was **25 degrees**.\n"
     ]
    }
   ],
   "source": [
    "events=app4.stream(\n",
    "    {\"messages\":[\"in which city the temp was 25 degree?\"]},config=config,stream_mode=\"values\"\n",
    "    )\n",
    "\n",
    "\n",
    "for event in events:\n",
    "    event[\"messages\"][-1].pretty_print()"
   ]
  },
  {
   "cell_type": "code",
   "execution_count": 231,
   "id": "75360afa",
   "metadata": {},
   "outputs": [
    {
     "data": {
      "text/plain": [
       "{'v': 2,\n",
       " 'ts': '2025-07-22T15:54:13.842253+00:00',\n",
       " 'id': '1f067141-d618-6509-8010-6cbb163ff369',\n",
       " 'channel_versions': {'__start__': '00000000000000000000000000000017.0.09979815765688893',\n",
       "  'messages': '00000000000000000000000000000018.0.1536621413491961',\n",
       "  'start:llmwithtool': '00000000000000000000000000000018.0.8374482137213187',\n",
       "  'llmwithtool': '00000000000000000000000000000018.0.3089948711663114',\n",
       "  'branch:llmwithtool:router_function:mytools': '00000000000000000000000000000014.0.2654792964731961',\n",
       "  'mytools': '00000000000000000000000000000015.0.6607421296627009'},\n",
       " 'versions_seen': {'__input__': {},\n",
       "  '__start__': {'__start__': '00000000000000000000000000000016.0.8397968798763659'},\n",
       "  'llmwithtool': {'start:llmwithtool': '00000000000000000000000000000017.0.06938216948270748',\n",
       "   'mytools': '00000000000000000000000000000014.0.5626713188543259'},\n",
       "  'mytools': {'branch:llmwithtool:router_function:mytools': '00000000000000000000000000000013.0.01246700592429173'}},\n",
       " 'pending_sends': [],\n",
       " 'channel_values': {'messages': [HumanMessage(content='What is the weather in Delhi?', additional_kwargs={}, response_metadata={}, id='2a197055-dfd1-4d64-894e-5fb0c8a5798a'),\n",
       "   AIMessage(content='', additional_kwargs={'reasoning_content': 'Okay, the user is asking about the weather in Delhi. I should use the search tool I have to find this information.\\n\\nFirst, I\\'ll call the search function with \"weather in Delhi\" as the query.\\n\\nThat should give me the current weather details for Delhi.\\n', 'tool_calls': [{'id': 'p9s2a7033', 'function': {'arguments': '{\"query\":\"weather in Delhi\"}', 'name': 'search'}, 'type': 'function'}]}, response_metadata={'token_usage': {'completion_tokens': 79, 'prompt_tokens': 131, 'total_tokens': 210, 'completion_time': 0.836181422, 'prompt_time': 0.008676973, 'queue_time': 0.054452467, 'total_time': 0.844858395}, 'model_name': 'deepseek-r1-distill-llama-70b', 'system_fingerprint': 'fp_76307ac09b', 'finish_reason': 'tool_calls', 'logprobs': None}, id='run--a09c557f-dc8d-4842-9a3b-236b43cc339f-0', tool_calls=[{'name': 'search', 'args': {'query': 'weather in Delhi'}, 'id': 'p9s2a7033', 'type': 'tool_call'}], usage_metadata={'input_tokens': 131, 'output_tokens': 79, 'total_tokens': 210}),\n",
       "   ToolMessage(content='Temperature in 45 Degree and Sunny', name='search', id='c9f4a84e-2cd1-49e8-a22d-a7ff29642895', tool_call_id='p9s2a7033'),\n",
       "   AIMessage(content='The current weather in Delhi is 45 degrees and sunny.', additional_kwargs={'reasoning_content': 'Alright, the user is asking about the weather in Delhi. I should use the provided tool to get the information. I\\'ll call the search function with the query \"weather in Delhi\". Once I have the data, I\\'ll present it clearly to the user.\\n'}, response_metadata={'token_usage': {'completion_tokens': 69, 'prompt_tokens': 189, 'total_tokens': 258, 'completion_time': 0.32545427, 'prompt_time': 0.011811628, 'queue_time': 0.058109522000000004, 'total_time': 0.337265898}, 'model_name': 'deepseek-r1-distill-llama-70b', 'system_fingerprint': 'fp_76307ac09b', 'finish_reason': 'stop', 'logprobs': None}, id='run--b26fc5e5-deb5-4423-aff1-dcde23f95d3b-0', usage_metadata={'input_tokens': 189, 'output_tokens': 69, 'total_tokens': 258}),\n",
       "   HumanMessage(content='What is the weather in Delhi?', additional_kwargs={}, response_metadata={}, id='faac382b-23ff-48f8-bb01-bf86148adaf9'),\n",
       "   AIMessage(content='', additional_kwargs={'reasoning_content': \"Alright, the user is asking about the weather in Delhi again. I remember from the previous conversation that they used the same question, and I provided the temperature and conditions. Maybe they're checking for an update since weather can change.\\n\\nI should respond in the same structured way, using the tool to fetch the latest data. I'll make sure to keep the response clear and concise, just like before. Hopefully, this helps them stay informed.\\n\", 'tool_calls': [{'id': 'p9s2a7033', 'function': {'arguments': '{\"query\":\"weather in Delhi\"}', 'name': 'search'}, 'type': 'function'}]}, response_metadata={'token_usage': {'completion_tokens': 119, 'prompt_tokens': 211, 'total_tokens': 330, 'completion_time': 0.647438586, 'prompt_time': 0.013063785, 'queue_time': 0.074153777, 'total_time': 0.660502371}, 'model_name': 'deepseek-r1-distill-llama-70b', 'system_fingerprint': 'fp_76307ac09b', 'finish_reason': 'tool_calls', 'logprobs': None}, id='run--45f801a7-7b63-46f6-9363-d3101ca678af-0', tool_calls=[{'name': 'search', 'args': {'query': 'weather in Delhi'}, 'id': 'p9s2a7033', 'type': 'tool_call'}], usage_metadata={'input_tokens': 211, 'output_tokens': 119, 'total_tokens': 330}),\n",
       "   ToolMessage(content='Temperature in 45 Degree and Sunny', name='search', id='64aec54b-8ae7-4848-b402-99609d13c3d9', tool_call_id='p9s2a7033'),\n",
       "   AIMessage(content='The current weather in Delhi is **45 degrees** and **sunny**.', additional_kwargs={'reasoning_content': \"Alright, the user is asking about the weather in Delhi again. They've asked this before, so maybe they're checking for updates or just confirming the information. Since the tool provides the same result, I should present it clearly. I'll make sure to format the response to highlight the temperature and weather condition for clarity.\\n\"}, response_metadata={'token_usage': {'completion_tokens': 85, 'prompt_tokens': 269, 'total_tokens': 354, 'completion_time': 0.462696381, 'prompt_time': 0.025087061, 'queue_time': 0.054742012, 'total_time': 0.487783442}, 'model_name': 'deepseek-r1-distill-llama-70b', 'system_fingerprint': 'fp_76307ac09b', 'finish_reason': 'stop', 'logprobs': None}, id='run--362a0ab7-2468-4ee2-a531-6fba3790fa34-0', usage_metadata={'input_tokens': 269, 'output_tokens': 85, 'total_tokens': 354}),\n",
       "   HumanMessage(content='what is a weather in indore?', additional_kwargs={}, response_metadata={}, id='d13e8b4f-8b1e-47ab-8dfc-d8be82293d37'),\n",
       "   AIMessage(content='', additional_kwargs={'reasoning_content': 'Alright, the user is asking about the weather in Indore. I remember from the previous conversation that they were inquiring about Delhi\\'s weather, so I can use the same approach. They might be planning a trip or just curious. I should call the search tool with \"weather in Indore\" as the query. Once I get the data, I\\'ll present it clearly, just like I did for Delhi. Hopefully, the tool returns accurate information so I can provide a helpful response.\\n', 'tool_calls': [{'id': 'p9s2a7033', 'function': {'arguments': '{\"query\":\"weather in Indore\"}', 'name': 'search'}, 'type': 'function'}]}, response_metadata={'token_usage': {'completion_tokens': 130, 'prompt_tokens': 296, 'total_tokens': 426, 'completion_time': 0.586866483, 'prompt_time': 0.02665758, 'queue_time': 0.058440962, 'total_time': 0.613524063}, 'model_name': 'deepseek-r1-distill-llama-70b', 'system_fingerprint': 'fp_76307ac09b', 'finish_reason': 'tool_calls', 'logprobs': None}, id='run--d13be2a4-943b-4739-be8d-0cfaa17e4db6-0', tool_calls=[{'name': 'search', 'args': {'query': 'weather in Indore'}, 'id': 'p9s2a7033', 'type': 'tool_call'}], usage_metadata={'input_tokens': 296, 'output_tokens': 130, 'total_tokens': 426}),\n",
       "   ToolMessage(content='Temperature is 25 degree and cloudy', name='search', id='d02fc0f5-7591-433a-8171-3348c506a89c', tool_call_id='p9s2a7033'),\n",
       "   AIMessage(content='The current weather in Indore is **25 degrees** and **cloudy**.', additional_kwargs={'reasoning_content': 'Alright, the user is asking about the weather in Indore. I remember they previously asked about Delhi, so maybe they\\'re planning a trip or just curious. I\\'ll use the same tool to look up the weather for them. \\n\\nI\\'ll call the search function with \"weather in Indore\" as the query. Once I get the results, I\\'ll present the temperature and conditions clearly. Hopefully, this helps them with their plans.\\n'}, response_metadata={'token_usage': {'completion_tokens': 110, 'prompt_tokens': 355, 'total_tokens': 465, 'completion_time': 0.4878006, 'prompt_time': 0.030125691, 'queue_time': 0.05850790900000001, 'total_time': 0.517926291}, 'model_name': 'deepseek-r1-distill-llama-70b', 'system_fingerprint': 'fp_76307ac09b', 'finish_reason': 'stop', 'logprobs': None}, id='run--d881335c-77ef-4038-834f-b22fd6c525ed-0', usage_metadata={'input_tokens': 355, 'output_tokens': 110, 'total_tokens': 465}),\n",
       "   HumanMessage(content='in which city the temp was 25 degree?', additional_kwargs={}, response_metadata={}, id='82064fa9-005c-425d-b23a-6dfb59107993'),\n",
       "   AIMessage(content='The temperature in **Indore** was **25 degrees**.', additional_kwargs={}, response_metadata={'token_usage': {'completion_tokens': 14, 'prompt_tokens': 385, 'total_tokens': 399, 'completion_time': 0.050909091, 'prompt_time': 0.032983107, 'queue_time': 0.058679563000000004, 'total_time': 0.083892198}, 'model_name': 'deepseek-r1-distill-llama-70b', 'system_fingerprint': 'fp_76307ac09b', 'finish_reason': 'stop', 'logprobs': None}, id='run--f40376d8-71b5-47a1-9204-d83e4f1f6a6c-0', usage_metadata={'input_tokens': 385, 'output_tokens': 14, 'total_tokens': 399})],\n",
       "  'llmwithtool': 'llmwithtool'}}"
      ]
     },
     "execution_count": 231,
     "metadata": {},
     "output_type": "execute_result"
    }
   ],
   "source": [
    "memory.get(config)\n"
   ]
  }
 ],
 "metadata": {
  "kernelspec": {
   "display_name": "agenticenv",
   "language": "python",
   "name": "python3"
  },
  "language_info": {
   "codemirror_mode": {
    "name": "ipython",
    "version": 3
   },
   "file_extension": ".py",
   "mimetype": "text/x-python",
   "name": "python",
   "nbconvert_exporter": "python",
   "pygments_lexer": "ipython3",
   "version": "3.11.9"
  }
 },
 "nbformat": 4,
 "nbformat_minor": 5
}
