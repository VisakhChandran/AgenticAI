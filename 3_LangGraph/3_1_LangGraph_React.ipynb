{
 "cells": [
  {
   "cell_type": "markdown",
   "id": "78dcd886",
   "metadata": {},
   "source": [
    "# This code is to setup a React Agent Using LangGraph"
   ]
  },
  {
   "cell_type": "markdown",
   "id": "a0c5d4ff",
   "metadata": {},
   "source": [
    "This code has the following features: \n",
    "- It accepts input / question from the user \n",
    "- Determine if this contain information about a given Topic (US Related Data)\n",
    "- IF the question does contain topic related to US, then it should use the knowledgebase stored within Chroma DB (Vector Store) to answer the question. \n",
    "- If the topic of the question is not related to US, then it should be answered using LLM\n",
    "- LLM Used is Gemini"
   ]
  },
  {
   "cell_type": "markdown",
   "id": "5fae7087",
   "metadata": {},
   "source": [
    "![title](First_Agent.jpg)\n"
   ]
  },
  {
   "cell_type": "markdown",
   "id": "80e295e8",
   "metadata": {},
   "source": [
    "## Importing required library"
   ]
  },
  {
   "cell_type": "code",
   "execution_count": 15,
   "id": "4f49ee53",
   "metadata": {},
   "outputs": [],
   "source": [
    "#Importing libraries\n",
    "import operator\n",
    "from typing import List\n",
    "from pydantic import BaseModel , Field\n",
    "from langchain.prompts import PromptTemplate\n",
    "from typing import TypedDict, Annotated, Sequence\n",
    "from langchain_core.messages import BaseMessage\n",
    "from langchain_core.output_parsers import StrOutputParser\n",
    "from langchain_core.prompts import ChatPromptTemplate, PromptTemplate\n",
    "from langchain_core.runnables import RunnablePassthrough\n",
    "from langchain_core.messages import HumanMessage, AIMessage\n",
    "from langgraph.graph import StateGraph,END\n",
    "from langchain_community.document_loaders import TextLoader, DirectoryLoader\n",
    "from langchain_community.vectorstores import Chroma \n",
    "from langchain.text_splitter import RecursiveCharacterTextSplitter"
   ]
  },
  {
   "cell_type": "markdown",
   "id": "97fefb3c",
   "metadata": {},
   "source": [
    "## Load the user data and create a VectorDB and Retriver Object"
   ]
  },
  {
   "cell_type": "markdown",
   "id": "2ef42ead",
   "metadata": {},
   "source": [
    "There the focus is: \n",
    "- Read the input context file (text)\n",
    "- Load them onto a Vector DB (Chroma)\n",
    "- Build a Retriver Object \n",
    "- Also build a function to collect all the document (retrived) into a unified document "
   ]
  },
  {
   "cell_type": "code",
   "execution_count": 16,
   "id": "f5cd2f4a",
   "metadata": {},
   "outputs": [],
   "source": [
    "#Define the embedding model \n",
    "from langchain_huggingface import HuggingFaceEmbeddings\n",
    "\n",
    "#Creating Embedding object\n",
    "embeddings = HuggingFaceEmbeddings(model_name=\"BAAI/bge-small-en\")"
   ]
  },
  {
   "cell_type": "markdown",
   "id": "76675294",
   "metadata": {},
   "source": [
    "- BAAI/bge-small-en: Its a Sentence embedding  model by Beijing Academy of AI \n",
    "- Embedding size : 384"
   ]
  },
  {
   "cell_type": "code",
   "execution_count": 17,
   "id": "4465cf0c",
   "metadata": {},
   "outputs": [
    {
     "name": "stderr",
     "output_type": "stream",
     "text": [
      "100%|██████████| 1/1 [00:00<00:00, 447.97it/s]\n"
     ]
    }
   ],
   "source": [
    "#Read the input file onto loader object (Directory Loader + Text loader)\n",
    "loader = DirectoryLoader(\"../data\", glob=\"./*.txt\", loader_cls=TextLoader, show_progress=True)\n",
    "\n",
    "#Perform Load operation\n",
    "docs = loader.load()\n"
   ]
  },
  {
   "cell_type": "markdown",
   "id": "9b25019a",
   "metadata": {},
   "source": [
    "Here we used DirectoryLoader to read the text file within the directory. Key arguments in DirectoryLoader are \n",
    "- Path : Path to the directory \n",
    "- glob : What files that we want to read (default all files)\n",
    "- glob : In out case we are only interested in .txt files, therefore \"./.txt\" where ./ indicate current directory. \n",
    "- loader_cls : Specify the loader to be used to read the selected objects within the directory  \n",
    "- Snow_Progress: TO see the data loading progress. "
   ]
  },
  {
   "cell_type": "code",
   "execution_count": 18,
   "id": "f8da3023",
   "metadata": {},
   "outputs": [],
   "source": [
    "#Splitting the document into chunks \n",
    "text_splitter = RecursiveCharacterTextSplitter(\n",
    "    chunk_size=200, \n",
    "    chunk_overlap=50\n",
    ")\n",
    "\n",
    "#Perform Splitting operation \n",
    "new_docs = text_splitter.split_documents(documents=docs)"
   ]
  },
  {
   "cell_type": "code",
   "execution_count": 19,
   "id": "6eb6e41b",
   "metadata": {},
   "outputs": [
    {
     "data": {
      "text/plain": [
       "56"
      ]
     },
     "execution_count": 19,
     "metadata": {},
     "output_type": "execute_result"
    }
   ],
   "source": [
    "#Input is split into 56 chunks \n",
    "len(new_docs)"
   ]
  },
  {
   "cell_type": "code",
   "execution_count": 30,
   "id": "f7e6665e",
   "metadata": {},
   "outputs": [],
   "source": [
    "#Creating DB Instance (Chroma)\n",
    "db = Chroma.from_documents(new_docs, embeddings)\n",
    "\n",
    "#Creating a retriver object\n",
    "retriver = db.as_retriever(search_kwargs={\"k\":3})"
   ]
  },
  {
   "cell_type": "markdown",
   "id": "c1c81c3e",
   "metadata": {},
   "source": [
    "- Retriver object is created from Chroma (Vector DB)\n",
    "- search_kwargs = 3 : We will be getting top 3 values."
   ]
  },
  {
   "cell_type": "code",
   "execution_count": 21,
   "id": "a2d56943",
   "metadata": {},
   "outputs": [],
   "source": [
    "#Function to collect the text from the document retrived from retriver so that \n",
    "def format_docs(docs):\n",
    "    return \"\\n \\n\".join(doc.page_content for doc in docs)"
   ]
  },
  {
   "cell_type": "markdown",
   "id": "ede851d4",
   "metadata": {},
   "source": [
    "- Function is responsible for reading the document retrived by the **retriver** object \n",
    "- Consolidate them into a single textual document. "
   ]
  },
  {
   "cell_type": "markdown",
   "id": "329b5664",
   "metadata": {},
   "source": [
    "## Building Nodes and Edges based on the solution diagram"
   ]
  },
  {
   "cell_type": "markdown",
   "id": "03380488",
   "metadata": {},
   "source": [
    "### Function 1 : Supervisor Node"
   ]
  },
  {
   "cell_type": "markdown",
   "id": "e3128ef2",
   "metadata": {},
   "source": [
    "- Supervisor Node is responsible to receive the user input. \n",
    "- Determine what is the associated **Topic** from the user input \n",
    "- Perform necessary steps so that Router can decide which route to take : **LLM Route** or **RAG Route**\n",
    "- We use an LLM to make the appropriate decision of the topic here. \n",
    "- Therefore need to define a **Pydantic** class to define a data model that we expect LLM to return."
   ]
  },
  {
   "cell_type": "markdown",
   "id": "32608cf9",
   "metadata": {},
   "source": [
    "Before we jump into Supervisor Nodes we need to Define 2 core components \n",
    "1. Pydantic Function\n",
    "2. AgentStates "
   ]
  },
  {
   "cell_type": "markdown",
   "id": "6ed87e4b",
   "metadata": {},
   "source": [
    "#### PyDantic Function"
   ]
  },
  {
   "cell_type": "code",
   "execution_count": 22,
   "id": "d58a7e9f",
   "metadata": {},
   "outputs": [],
   "source": [
    "#Import Pydantic library\n",
    "from pydantic import BaseModel, Field \n",
    "\n",
    "#Defining the Pydantic class \n",
    "class TopicSelectionParser(BaseModel):\n",
    "    Topic : str = Field(description=\"Identified Topic from user input\")\n",
    "    Reasoning : str = Field(description= \"Rationale or Reason for selecting the topic from the user input\")"
   ]
  },
  {
   "cell_type": "code",
   "execution_count": 23,
   "id": "fec14cb0",
   "metadata": {},
   "outputs": [],
   "source": [
    "#Attaching the Pydantic Class to Parser output \n",
    "from langchain.output_parsers import PydanticOutputParser\n",
    "parser = PydanticOutputParser(pydantic_object=TopicSelectionParser)"
   ]
  },
  {
   "cell_type": "markdown",
   "id": "bdb96221",
   "metadata": {},
   "source": [
    "- In the first step we have created a class inherited from **BaseModel** to define the data model that we want to enforce in the output of LLM. \n",
    "- While defining the model, we also explained the **Fields** (Topic & Resoning) that we expect from LLM output and  What is expected to be included in those fields, explained by **Field Description**. \n",
    "- Therefore so far we have only created the **Data Model** \n",
    "- Next we need an enforcer. Something that can take the Data Model defined and then enforce or ask LLM to follow the structure defined. \n",
    "- This is where **PydanticOutputParser** comes in. \n",
    "- **PydanticOutputParser** here act as **Translator** and **Structurer** : It is responsible to read the output of LLM and ensure that it enforces the data model defined (by Pydantic)\n",
    "-- The blueprint in Pydantic Class tell the Parser what kind of data that you expect and what piece of the output data you should be called under the fields  (Topic and Reasoning )\n",
    "-- The description help the parser and the LLM to understand what information to extract for each of the field. \n",
    "-- Eg of Raw Text : \"The user wants to talk about 'AI ethics' because they mentioned 'fairness in algorithms'.\"\n",
    "-- Topic: AI Ethics \n",
    "-- Reasoning : Fairness in algorithms \n",
    "- Among all output Parsers available **PydanticOutputParser** is used here to ensure the Reliability, Robustness and better Error Handling. \n",
    "- Other Output Parsers are: \n",
    "-- StrOutputParser : Simplest of the Parser and it returns the string output from LLM \n",
    "-- JsonOutputParser : This parser is good in getting JSON output. \n",
    "-- Specialised Parsers : CommaSeparatedListOutputParser, DatetimeOutputParser, XMLOutputParser etc. \n",
    " "
   ]
  },
  {
   "cell_type": "markdown",
   "id": "641da342",
   "metadata": {},
   "source": [
    "#### Agent States"
   ]
  },
  {
   "cell_type": "code",
   "execution_count": 24,
   "id": "6b7944f3",
   "metadata": {},
   "outputs": [],
   "source": [
    "#Defining Agent State\n",
    "class AgentState(TypedDict): \n",
    "    messages : Annotated[Sequence[BaseMessage], operator.add]"
   ]
  },
  {
   "cell_type": "markdown",
   "id": "92b5e693",
   "metadata": {},
   "source": [
    "- AgentState act as a NoteBook that the Agent uses to keep track of all the converstions / discussions history. \n",
    "- AgentState is of type TypedDict. This is a dictionary structure object that enforces specific  **Keys** and **Values**\n",
    "- In the class we are defining AgentState to be of type **TypedDict**, therefore this class object will have specific keys and values (Defined Template with **slots** or placeholders for capturing the information). \n",
    "- *messages* in this case is the placeholder to capture the information in this case historical conversations. \n",
    "-- Sequence[BaseMessage] : The message placeholder contain **sequence**  of BaseMessage objects. \n",
    "-- **BaseMessage** indicate an entry of conversation (User Question, AI Message etc)\n",
    "-- operator.add : This implies that we cannot replace and old item in this list, instead we can only **append** the new messages to the end of the existing list.\n",
    "- In simple terms, AgentState is a special type of data container (like a structured dictionary) specifically designed to hold a sequence of conversational messages. The operator.add part tells the system that when you update this AgentState, new messages should always be added to the end of the existing conversation history, preserving the flow of the conversation.  \n"
   ]
  },
  {
   "cell_type": "markdown",
   "id": "e1356a9a",
   "metadata": {},
   "source": [
    "#### Model to be used by LLM"
   ]
  },
  {
   "cell_type": "code",
   "execution_count": 26,
   "id": "8d690231",
   "metadata": {},
   "outputs": [],
   "source": [
    "#Building the model \n",
    "from langchain_google_genai import ChatGoogleGenerativeAI\n",
    "model = ChatGoogleGenerativeAI(model=\"gemini-1.5-flash\")"
   ]
  },
  {
   "cell_type": "markdown",
   "id": "a48e2454",
   "metadata": {},
   "source": [
    "-  Gemini model will be used by the model to infer the user question."
   ]
  },
  {
   "cell_type": "markdown",
   "id": "633727f2",
   "metadata": {},
   "source": [
    "#### Function 1 : Supervisor Functional Node"
   ]
  },
  {
   "cell_type": "markdown",
   "id": "24fd49fc",
   "metadata": {},
   "source": [
    "- Function will take the user input \n",
    "- Identify the topic based on the structure defined in the prompt \n",
    "- Generate output ie Selected Topic and Reasoning. "
   ]
  },
  {
   "cell_type": "code",
   "execution_count": 28,
   "id": "24df7233",
   "metadata": {},
   "outputs": [],
   "source": [
    "#Defining the function (Supervisor) \n",
    "\n",
    "def function_1(state: AgentState):\n",
    "    \n",
    "    #Identify the node that executes the task \n",
    "    print(\"------> Supervisor <-----------\")\n",
    "    \n",
    "    #Capturing the user question \n",
    "    #Taking the last message as the recent user question \n",
    "    question = state[\"messages\"][-1] \n",
    "    \n",
    "    #Display the question \n",
    "    print(\"Question is : \", question)\n",
    "    \n",
    "    #Next is to define the input to the LLM. \n",
    "    template = \"\"\" \n",
    "    Your task is to clarify if the given user query into the following categories : [USA, Not Related].\n",
    "    Only respond with the Category Name and Nothing else. \n",
    "    \n",
    "    User question : {question}\n",
    "    \n",
    "    {format_instructions}\n",
    "     \n",
    "    \"\"\"\n",
    "    \n",
    "    #Creating Prompt for LLM \n",
    "    prompt = PromptTemplate(\n",
    "        template=template, \n",
    "        input_variables=[\"question\"],\n",
    "        partial_variables={\"format_instructions\":parser.get_format_instructions()}\n",
    "    )\n",
    "    \n",
    "    #Creating the chain \n",
    "    chain = prompt | model | parser \n",
    "    \n",
    "    #Executing the Chain \n",
    "    response = chain.invoke({\"question : \", question })\n",
    "    \n",
    "    #Display the response \n",
    "    print(\"Parsed response from Supervisor : \", response)\n",
    "    \n",
    "    #Returning state \n",
    "    return{\"messages\" : [response.Topic]}  \n"
   ]
  },
  {
   "cell_type": "markdown",
   "id": "bccb5815",
   "metadata": {},
   "source": [
    "### Function 2 : RAG "
   ]
  },
  {
   "cell_type": "markdown",
   "id": "e3a07154",
   "metadata": {},
   "source": [
    "- Function will take the user input \n",
    "- Check in the vector DB for relevant answers \n",
    "- Produce output based on the context captured within the vectorDB"
   ]
  },
  {
   "cell_type": "code",
   "execution_count": 33,
   "id": "30e8b57c",
   "metadata": {},
   "outputs": [],
   "source": [
    "#RAG Function : Function 2 \n",
    "def function_2(state: AgentState):\n",
    "    \n",
    "    #Identify the node that performs the execution \n",
    "    print(\"============> RAG Node <======================\")\n",
    "    \n",
    "    #Identifying the user question as the fist message\n",
    "    question = state[\"messages\"][0]\n",
    "    \n",
    "    #Defining the Prompt to execute \n",
    "    prompt = PromptTemplate(\n",
    "        \n",
    "        #Defining a RAG Template\n",
    "        template= \"\"\" \n",
    "        You are an assistant for answering the given question and provide accurate answers. \n",
    "        Use the following pieces retrieved from the context to answer the question. \n",
    "        If you dont know the answer, then you just say that you dont know the answer. \n",
    "        Use a maximum of three sentences to answer the question.\n",
    "        \n",
    "        \\n \n",
    "        Question : {question} \n",
    "        \n",
    "        \\n\n",
    "        Context : {context}\n",
    "        \n",
    "        \\n\n",
    "        Answer : \n",
    "        \"\"\" ,\n",
    "        input_variables=['context', 'question']\n",
    "    )\n",
    "    \n",
    "    #Building the RAG Chain \n",
    "    rag_chain = (\n",
    "        {\"context\": retriver | format_docs, \"question\": RunnablePassthrough()}\n",
    "        |   prompt \n",
    "        |   model \n",
    "        |   StrOutputParser()     \n",
    "    )\n",
    "\n",
    "    #Generating Result \n",
    "    result = rag_chain.invoke(question)\n",
    "\n",
    "    #Return message\n",
    "    return {\"messages\": [result]}\n",
    "    "
   ]
  },
  {
   "cell_type": "markdown",
   "id": "47d3a38c",
   "metadata": {},
   "source": [
    "#### LLM Call : Function 3"
   ]
  },
  {
   "cell_type": "markdown",
   "id": "b189c8a3",
   "metadata": {},
   "source": [
    "- In this function we use the input from the user \n",
    "- Generate output from LLM based on user query."
   ]
  },
  {
   "cell_type": "code",
   "execution_count": 34,
   "id": "ff70f9fa",
   "metadata": {},
   "outputs": [],
   "source": [
    "#LLM Call \n",
    "def function_3(state: AgentState):\n",
    "    \n",
    "    #Identifying the node that is executing \n",
    "    print(\"===========> LLM Call <=====================\")\n",
    "    \n",
    "    #Getting the user question \n",
    "    question = state[\"messages\"][0]\n",
    "    \n",
    "    #User question is passed onto the model to get the response \n",
    "    complete_query = \"Answer the following question with your knowledge of the reason world. The question is  \" + question \n",
    "    \n",
    "    #Generating LLM Response \n",
    "    response = model.invoke(complete_query)\n",
    "    \n",
    "    #Result from LLM \n",
    "    return{\"messages\": [response.content]}"
   ]
  },
  {
   "cell_type": "markdown",
   "id": "0b3d3fc5",
   "metadata": {},
   "source": [
    "#### Building a Router "
   ]
  },
  {
   "cell_type": "markdown",
   "id": "6f324392",
   "metadata": {},
   "source": [
    "- **Router** is responsible to pass the control to RAG or LLM based on the type of Topic. \n",
    "- If the user topic to determined by **Supervisor** to determine if we need to use RAG Path or LLM Path. "
   ]
  },
  {
   "cell_type": "code",
   "execution_count": 36,
   "id": "103d1065",
   "metadata": {},
   "outputs": [],
   "source": [
    "#Here we define the router function \n",
    "def router(state: AgentState):\n",
    "    \n",
    "    #Identifying the node we are in \n",
    "    print(\"====================> Router <================\")\n",
    "    \n",
    "    #Fetching the last message (output from Supervisor )\n",
    "    last_message = state[\"messages\"][-1]\n",
    "    \n",
    "    #Display the last message \n",
    "    print(\"Messaged received to Router \", last_message)\n",
    "    \n",
    "    #Establishing the Routing Rules \n",
    "    if \"usa\" in last_message.lower(): \n",
    "        return \"RAG Call\"\n",
    "    else: \n",
    "        return \"LLM Call\""
   ]
  },
  {
   "cell_type": "markdown",
   "id": "a9cbfb4f",
   "metadata": {},
   "source": [
    "## Building Workflow "
   ]
  },
  {
   "cell_type": "markdown",
   "id": "3efcf4d3",
   "metadata": {},
   "source": [
    "- Here we build orchestration framework for the workflow.  "
   ]
  },
  {
   "cell_type": "code",
   "execution_count": 40,
   "id": "697c4fe4",
   "metadata": {},
   "outputs": [],
   "source": [
    "#We will be building the Orchestration workflow \n",
    "#Importing the required libraries \n",
    "from langgraph.graph import StateGraph, END \n",
    "\n",
    "#Creating the StateGrapth object aka workflow \n",
    "workflow = StateGraph(AgentState)\n",
    "\n",
    "#Adding Nodes \n",
    "workflow.add_node(\"Supervisor\", function_1) #Naming Function 1 as Node Supervisor \n",
    "workflow.add_node(\"RAG\", function_2) #Naming Function 2 as Node RAG \n",
    "workflow.add_node(\"LLM\", function_3) #Naming Function 3 as Node LLM \n",
    "\n",
    "#Specifying the beginning node (to which input will go to)\n",
    "workflow.set_entry_point(\"Supervisor\")\n",
    "\n",
    "#Defining the conditional Edges \n",
    "workflow.add_conditional_edges(\n",
    "    \"Supervisor\", #Intial Node to accept the input \n",
    "    router, #Supervisor output will go to router \n",
    "    {\n",
    "        \"RAG Call\" : \"RAG\", #Deligate to RAG \n",
    "        \"LLM Call\" : \"LLM\" #Deligate to LLM \n",
    "    }\n",
    ")\n",
    "\n",
    "#Adding Nodes Edge \n",
    "workflow.add_edge(\"RAG\", END)\n",
    "workflow.add_edge(\"LLM\", END)\n",
    "\n",
    "#Compile the workflow to create the app \n",
    "app=workflow.compile()"
   ]
  },
  {
   "cell_type": "code",
   "execution_count": 41,
   "id": "9db3185d",
   "metadata": {},
   "outputs": [
    {
     "data": {
      "image/png": "[encoded data removed]",
      "text/plain": [
       "<langgraph.graph.state.CompiledStateGraph object at 0x000002CA541ABE10>"
      ]
     },
     "execution_count": 41,
     "metadata": {},
     "output_type": "execute_result"
    }
   ],
   "source": [
    "#Display the workflow \n",
    "workflow.compile()"
   ]
  },
  {
   "cell_type": "markdown",
   "id": "8480b229",
   "metadata": {},
   "source": [
    "#### Executing the workflow "
   ]
  },
  {
   "cell_type": "code",
   "execution_count": 43,
   "id": "05b7b1dc",
   "metadata": {},
   "outputs": [
    {
     "name": "stdout",
     "output_type": "stream",
     "text": [
      "------> Supervisor <-----------\n",
      "Question is :  What is the Population of Singapore? \n",
      "Parsed response from Supervisor :  Topic='Not Related' Reasoning='The question is about the population of Singapore, which is not related to the USA.'\n",
      "====================> Router <================\n",
      "Messaged received to Router  Not Related\n",
      "===========> LLM Call <=====================\n"
     ]
    },
    {
     "data": {
      "text/plain": [
       "{'messages': ['What is the Population of Singapore? ',\n",
       "  'Not Related',\n",
       "  'The population of Singapore is not a static number and fluctuates.  However, according to the latest readily available data (which can vary slightly depending on the source and the exact date of the data collection), the population of Singapore is approximately **5.7 to 5.9 million people**.  To get the most precise current figure, you should consult official Singaporean government statistics websites.']}"
      ]
     },
     "execution_count": 43,
     "metadata": {},
     "output_type": "execute_result"
    }
   ],
   "source": [
    "#Creating input \n",
    "state={\"messages\":[\"What is the Population of Singapore? \"]}\n",
    "\n",
    "#Executing the app \n",
    "app.invoke(state)"
   ]
  },
  {
   "cell_type": "code",
   "execution_count": null,
   "id": "f6f89997",
   "metadata": {},
   "outputs": [],
   "source": []
  }
 ],
 "metadata": {
  "kernelspec": {
   "display_name": "agenticenv",
   "language": "python",
   "name": "python3"
  },
  "language_info": {
   "codemirror_mode": {
    "name": "ipython",
    "version": 3
   },
   "file_extension": ".py",
   "mimetype": "text/x-python",
   "name": "python",
   "nbconvert_exporter": "python",
   "pygments_lexer": "ipython3",
   "version": "3.11.9"
  }
 },
 "nbformat": 4,
 "nbformat_minor": 5
}
