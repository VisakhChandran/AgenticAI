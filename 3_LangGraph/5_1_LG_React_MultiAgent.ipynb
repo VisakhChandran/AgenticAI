{
 "cells": [
  {
   "cell_type": "markdown",
   "id": "64173ea5",
   "metadata": {},
   "source": [
    "STock Price Agent"
   ]
  },
  {
   "cell_type": "code",
   "execution_count": 1,
   "id": "74e383b5",
   "metadata": {},
   "outputs": [],
   "source": [
    "#Importing required library \n",
    "from langchain_core.tools import tool\n",
    "from langchain_core.messages import HumanMessage, AIMessage\n",
    "from langgraph.graph import StateGraph, MessagesState, START, END\n",
    "from langgraph.prebuilt import ToolNode"
   ]
  },
  {
   "cell_type": "code",
   "execution_count": 2,
   "id": "3237e4be",
   "metadata": {},
   "outputs": [],
   "source": [
    "#Loading the API Key and building base model \n",
    "from dotenv import load_dotenv\n",
    "load_dotenv(override=True)\n",
    "import os \n",
    "os.environ[\"GROQ_API_KEY\"] = os.getenv(\"GROQ_API_KEY\")\n",
    "##Selecting the model \n",
    "model = \"deepseek-r1-distill-llama-70b\"\n",
    "## Building the base model using Gorq\n",
    "from langchain_groq import ChatGroq\n",
    "llm=ChatGroq(model_name=model, temperature=0)"
   ]
  }
 ],
 "metadata": {
  "kernelspec": {
   "display_name": "agenticenv",
   "language": "python",
   "name": "python3"
  },
  "language_info": {
   "codemirror_mode": {
    "name": "ipython",
    "version": 3
   },
   "file_extension": ".py",
   "mimetype": "text/x-python",
   "name": "python",
   "nbconvert_exporter": "python",
   "pygments_lexer": "ipython3",
   "version": "3.11.9"
  }
 },
 "nbformat": 4,
 "nbformat_minor": 5
}
