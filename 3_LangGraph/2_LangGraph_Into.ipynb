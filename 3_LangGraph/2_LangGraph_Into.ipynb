{
 "cells": [
  {
   "cell_type": "markdown",
   "id": "5468f787",
   "metadata": {},
   "source": [
    "# Introduction to LangGraph"
   ]
  },
  {
   "cell_type": "code",
   "execution_count": 1,
   "id": "5c42369b",
   "metadata": {},
   "outputs": [],
   "source": [
    "#Here we create a series of functions \n",
    "\n",
    "def function1(input1):\n",
    "    return input1+\" From Function 1\" \n",
    "\n",
    "def function2(input2):\n",
    "    return input2+\" From Function 2\"\n",
    "\n",
    "def function3(input3):\n",
    "    return input3+\" From Function 3\"\n"
   ]
  },
  {
   "cell_type": "code",
   "execution_count": 2,
   "id": "37b22f47",
   "metadata": {},
   "outputs": [
    {
     "data": {
      "text/plain": [
       "'Visakh From Function 1'"
      ]
     },
     "execution_count": 2,
     "metadata": {},
     "output_type": "execute_result"
    }
   ],
   "source": [
    "#Executing the function \n",
    "function1(\"Visakh\")"
   ]
  },
  {
   "cell_type": "code",
   "execution_count": 3,
   "id": "8c0d4330",
   "metadata": {},
   "outputs": [
    {
     "data": {
      "text/plain": [
       "'Thanvi From Function 2'"
      ]
     },
     "execution_count": 3,
     "metadata": {},
     "output_type": "execute_result"
    }
   ],
   "source": [
    "#Executing the function \n",
    "function2(\"Thanvi\")"
   ]
  },
  {
   "cell_type": "code",
   "execution_count": 4,
   "metadata": {},
   "outputs": [
    {
     "data": {
      "text/plain": [
       "'Tara From Function 3'"
      ]
     },
     "execution_count": 4,
     "metadata": {},
     "output_type": "execute_result"
    }
   ],
   "source": [
    "#Executing the function \n",
    "function3(\"Tara\")"
   ]
  },
  {
   "cell_type": "markdown",
   "id": "3ea40f3e",
   "metadata": {},
   "source": [
    "Performing Orchestration "
   ]
  },
  {
   "cell_type": "code",
   "execution_count": null,
   "id": "cf52c37f",
   "metadata": {},
   "outputs": [
    {
     "data": {
      "text/plain": [
       "<langgraph.graph.graph.Graph at 0x20f6bf1ecd0>"
      ]
     },
     "execution_count": 9,
     "metadata": {},
     "output_type": "execute_result"
    }
   ],
   "source": [
    "#Importing Langgraph\n",
    "from langgraph.graph import Graph\n",
    "\n",
    "#Creating object of langgraph \n",
    "workflow1=Graph()\n",
    "\n",
    "#Next is to add Nodes and Edges \n",
    "workflow1.add_node(\"fun1\", function1)\n",
    "workflow1.add_node(\"fun2\", function2)\n",
    "workflow1.add_node(\"fun3\", function3)\n",
    "\n",
    "#Next we create edges to connect between nodes \n",
    "workflow1.add_edge(\"fun1\", \"fun2\")\n",
    "\n"
   ]
  },
  {
   "cell_type": "markdown",
   "id": "386cff67",
   "metadata": {},
   "source": [
    "We need to specify Entry and End Point"
   ]
  },
  {
   "cell_type": "code",
   "execution_count": 10,
   "id": "62faa6f4",
   "metadata": {},
   "outputs": [
    {
     "data": {
      "text/plain": [
       "<langgraph.graph.graph.Graph at 0x20f6bf1ecd0>"
      ]
     },
     "execution_count": 10,
     "metadata": {},
     "output_type": "execute_result"
    }
   ],
   "source": [
    "#Creating entry point \n",
    "workflow1.set_entry_point(\"fun1\")"
   ]
  },
  {
   "cell_type": "code",
   "execution_count": 11,
   "id": "7e8a3d63",
   "metadata": {},
   "outputs": [
    {
     "data": {
      "text/plain": [
       "<langgraph.graph.graph.Graph at 0x20f6bf1ecd0>"
      ]
     },
     "execution_count": 11,
     "metadata": {},
     "output_type": "execute_result"
    }
   ],
   "source": [
    "#Defining Finish Point\n",
    "workflow1.set_finish_point(\"fun2\")"
   ]
  },
  {
   "cell_type": "code",
   "execution_count": 12,
   "id": "08f7a232",
   "metadata": {},
   "outputs": [],
   "source": [
    "#Next is to compine the workflow\n",
    "app=workflow1.compile()"
   ]
  },
  {
   "cell_type": "code",
   "execution_count": 13,
   "id": "9862406c",
   "metadata": {},
   "outputs": [
    {
     "data": {
      "image/png": "[encoded data removed]",
      "text/plain": [
       "<IPython.core.display.Image object>"
      ]
     },
     "metadata": {},
     "output_type": "display_data"
    }
   ],
   "source": [
    "#Visualise the application \n",
    "from IPython.display import Image, display\n",
    "\n",
    "#Display the app \n",
    "display(Image(app.get_graph().draw_mermaid_png()))"
   ]
  },
  {
   "cell_type": "code",
   "execution_count": 14,
   "id": "a9f8b086",
   "metadata": {},
   "outputs": [
    {
     "data": {
      "text/plain": [
       "'Hi, This is Thanvi From Function 1 From Function 2'"
      ]
     },
     "execution_count": 14,
     "metadata": {},
     "output_type": "execute_result"
    }
   ],
   "source": [
    "#Executig the application \n",
    "app.invoke(\"Hi, This is Thanvi\")"
   ]
  },
  {
   "cell_type": "code",
   "execution_count": 19,
   "id": "cb816a43",
   "metadata": {},
   "outputs": [],
   "source": [
    "output1=app.stream(\"This is Thanvi and Tara\")\n"
   ]
  },
  {
   "cell_type": "code",
   "execution_count": 20,
   "id": "c5e64060",
   "metadata": {},
   "outputs": [
    {
     "name": "stdout",
     "output_type": "stream",
     "text": [
      "{'fun1': 'This is Thanvi and Tara From Function 1'}\n",
      "{'fun2': 'This is Thanvi and Tara From Function 1 From Function 2'}\n"
     ]
    }
   ],
   "source": [
    "# 1️⃣  Watch every step:\n",
    "for event in output1:\n",
    "    print(event)    "
   ]
  },
  {
   "cell_type": "markdown",
   "id": "f2f34278",
   "metadata": {},
   "source": [
    "Visualising the outputs seperately from different nodes."
   ]
  },
  {
   "cell_type": "code",
   "execution_count": 17,
   "id": "85a886b4",
   "metadata": {},
   "outputs": [
    {
     "name": "stdout",
     "output_type": "stream",
     "text": [
      "Here is the output from fun1\n",
      "-------------\n",
      "This is Thanvi and Tara From Function 1\n",
      ".....................\n",
      "Here is the output from fun2\n",
      "-------------\n",
      "This is Thanvi and Tara From Function 1 From Function 2\n",
      ".....................\n"
     ]
    }
   ],
   "source": [
    "for output in app.stream(\"This is Thanvi and Tara\"):\n",
    "    for key, value in output.items():\n",
    "        print(f\"Here is the output from {key}\")\n",
    "        print(\"-------------\")\n",
    "        print(value)\n",
    "        print(\".....................\")"
   ]
  },
  {
   "cell_type": "markdown",
   "id": "0f31c12c",
   "metadata": {},
   "source": [
    "## Integrating LLM call - Dummy"
   ]
  },
  {
   "cell_type": "code",
   "execution_count": 21,
   "id": "9ae4a1ca",
   "metadata": {},
   "outputs": [],
   "source": [
    "#Creating an Dummy LLM call()\n",
    "def llm(input): \n",
    "    pass \n",
    "\n",
    "#Dummy token counter calculation ()  \n",
    "def token_counter(input):\n",
    "    pass "
   ]
  },
  {
   "cell_type": "code",
   "execution_count": null,
   "id": "a3631ade",
   "metadata": {},
   "outputs": [],
   "source": [
    "#Creating a workflo w\n",
    "workflow2=Graph()\n",
    "\n",
    "#Adding nodes \n",
    "workflow2.add_node(\"My_LLM\", llm)\n",
    "workflow2.add_node(\"LLM_Output_Token_Counter\", token_counter)\n",
    "\n",
    "#Adding edges\n",
    "workflow2.add_edge(\"My_LLM\", \"LLM_Output_Token_Counter\")\n",
    "\n",
    "#Defining entry point \n",
    "workflow2.set_entry_point(\"My_LLM\")\n",
    "\n",
    "#Defining Finish Point \n",
    "workflow2.set_finish_point(\"LLM_Output_Token_Counter\")\n",
    "\n",
    "#Compiling and converting it to an app\n",
    "app2=workflow2.compile() \n"
   ]
  },
  {
   "cell_type": "code",
   "execution_count": 23,
   "id": "b178538c",
   "metadata": {},
   "outputs": [
    {
     "data": {
      "image/png": "[encoded data removed]",
      "text/plain": [
       "<IPython.core.display.Image object>"
      ]
     },
     "metadata": {},
     "output_type": "display_data"
    }
   ],
   "source": [
    "#Generating the graph \n",
    "display(Image(app2.get_graph().draw_mermaid_png()))"
   ]
  },
  {
   "cell_type": "code",
   "execution_count": 24,
   "id": "1830745d",
   "metadata": {},
   "outputs": [],
   "source": [
    "#exeucting the app2 \n",
    "app2.invoke(\"Can you tell me about the capital of india? \")"
   ]
  },
  {
   "cell_type": "markdown",
   "id": "cff6df6a",
   "metadata": {},
   "source": [
    "## Integrating LLM calls"
   ]
  },
  {
   "cell_type": "code",
   "execution_count": 41,
   "id": "0857bbae",
   "metadata": {},
   "outputs": [],
   "source": [
    "#Configuring LLM\n",
    "#It will take the input and generte output using LLM \n",
    "def llm(input): \n",
    "    from langchain_google_genai import ChatGoogleGenerativeAI\n",
    "    model = ChatGoogleGenerativeAI(model=\"gemini-1.5-flash\")\n",
    "    output=model.invoke(input)\n",
    "    return output \n",
    "\n",
    "#Token Counter Function \n",
    "#Takes the output of LLM and counts the number of tokens \n",
    "def token_counter(input):\n",
    "    token=input.content.split()\n",
    "    token_number=len(token)\n",
    "    return f\"total token number in the generated answer is {token_number}\"\n"
   ]
  },
  {
   "cell_type": "code",
   "execution_count": 42,
   "id": "b99205ed",
   "metadata": {},
   "outputs": [],
   "source": [
    "#Create the workflow \n",
    "workflow2=Graph()\n",
    "\n",
    "#Add nodes \n",
    "workflow2.add_node(\"My_LLM\", llm)\n",
    "workflow2.add_node(\"LLM_Token_Counter\", token_counter)\n",
    "\n",
    "#Adding Edges \n",
    "workflow2.add_edge(\"My_LLM\", \"LLM_Token_Counter\") \n",
    "\n",
    "#Define the start or entry point\n",
    "workflow2.set_entry_point(\"My_LLM\")\n",
    "\n",
    "#Define the end or finish point\n",
    "workflow2.set_finish_point(\"LLM_Token_Counter\")\n",
    "\n",
    "#Compine and Create the app \n",
    "app2=workflow2.compile()\n",
    "\n",
    "\n"
   ]
  },
  {
   "cell_type": "code",
   "execution_count": 43,
   "id": "2b89ba7f",
   "metadata": {},
   "outputs": [
    {
     "data": {
      "image/png": "[encoded data removed]",
      "text/plain": [
       "<IPython.core.display.Image object>"
      ]
     },
     "metadata": {},
     "output_type": "display_data"
    }
   ],
   "source": [
    "#Display the flow \n",
    "display(Image(app2.get_graph().draw_mermaid_png()))"
   ]
  },
  {
   "cell_type": "code",
   "execution_count": 44,
   "id": "a875174f",
   "metadata": {},
   "outputs": [
    {
     "data": {
      "text/plain": [
       "'total token number in the generated answer is 64'"
      ]
     },
     "execution_count": 44,
     "metadata": {},
     "output_type": "execute_result"
    }
   ],
   "source": [
    "#Run the workflow or app \n",
    "app2.invoke(\"Tell me something about Singapore\")"
   ]
  },
  {
   "cell_type": "code",
   "execution_count": 46,
   "id": "c3d7e103",
   "metadata": {},
   "outputs": [
    {
     "name": "stdout",
     "output_type": "stream",
     "text": [
      "{'My_LLM': AIMessage(content=\"Singapore is a Southeast Asian island country and city-state located off the southern tip of the Malay Peninsula.  It's a remarkably unique place, boasting a fascinating blend of cultures, impressive infrastructure, and a highly developed economy.  Here's a glimpse into what makes Singapore special:\\n\\n**Key Features:**\\n\\n* **Highly Developed Economy:** Singapore is one of the world's wealthiest nations, with a highly competitive economy driven by trade, finance, tourism, and technology.  It's known for its efficient port, robust financial sector, and pro-business environment.\\n* **Multicultural Society:** Despite its small size (728.6 square kilometers), Singapore is incredibly diverse, with significant populations of Chinese, Malay, Indian, and Eurasian people, creating a vibrant tapestry of cultures, languages, and religions.  This diversity is reflected in its food, architecture, and festivals.\\n* **Cleanliness and Efficiency:** Singapore is renowned for its cleanliness and efficient public transportation.  Strict laws maintain order and cleanliness, resulting in a remarkably organized and safe environment.  The Mass Rapid Transit (MRT) system is a highly efficient and reliable way to get around.\\n* **Modern Infrastructure:**  Singapore boasts impressive modern infrastructure, including iconic skyscrapers, well-maintained roads, and advanced technology throughout the city.  Gardens by the Bay is a prime example of its commitment to innovative and sustainable urban design.\\n* **Strict Laws and Regulations:**  To maintain order and cleanliness, Singapore has strict laws regarding littering, chewing gum, and other seemingly minor offenses.  While this can seem stringent to some, it contributes significantly to the city's overall cleanliness and safety.\\n* **Food Paradise:** Singapore's diverse population is reflected in its incredible culinary scene. From hawker centers offering affordable and delicious local dishes to Michelin-starred restaurants, there's something to satisfy every palate.  Hawker culture is a significant part of Singaporean life.\\n* **Natural Beauty:** Despite being a highly urbanized nation, Singapore has made significant efforts to preserve its natural environment.  Parks, nature reserves, and carefully planned green spaces are integrated throughout the city.\\n\\n**Things to Consider:**\\n\\n* **Cost of Living:** Singapore can be expensive, particularly for housing and imported goods.\\n* **Strict Social Norms:**  While generally welcoming to tourists, Singapore has strict social norms and laws.  It's important to be respectful of local customs and regulations.\\n\\n\\nIn short, Singapore is a fascinating blend of modern development and cultural richness, making it a unique and unforgettable destination. It's a place where cutting-edge technology coexists with ancient traditions, and where efficiency and diversity thrive side-by-side.\", additional_kwargs={}, response_metadata={'prompt_feedback': {'block_reason': 0, 'safety_ratings': []}, 'finish_reason': 'STOP', 'model_name': 'gemini-1.5-flash', 'safety_ratings': []}, id='run--57609a35-f570-493a-b985-a1ac9bed04d0-0', usage_metadata={'input_tokens': 4, 'output_tokens': 556, 'total_tokens': 560, 'input_token_details': {'cache_read': 0}})}\n",
      "{'LLM_Token_Counter': 'total token number in the generated answer is 397'}\n"
     ]
    }
   ],
   "source": [
    "#Checking the step wise result in the workflow\n",
    "\n",
    "for output in app2.stream(\"Tell me about Singapore\"):\n",
    "    print(output)"
   ]
  },
  {
   "cell_type": "code",
   "execution_count": 48,
   "id": "edc8a9a3",
   "metadata": {},
   "outputs": [
    {
     "name": "stdout",
     "output_type": "stream",
     "text": [
      "here is output from My_LLM\n",
      "_______\n",
      "content=\"Singapore is a small island nation located off the southern tip of the Malay Peninsula, in Southeast Asia.  It's incredibly diverse and fascinating, boasting a unique blend of cultures, cuisines, and modern infrastructure. Here's a glimpse into what makes Singapore special:\\n\\n**Key Aspects:**\\n\\n* **Highly Developed Economy:** Singapore is one of the world's most prosperous nations, known for its strategic location, highly skilled workforce, and business-friendly environment.  It's a major global hub for finance, trade, and shipping.\\n\\n* **Multicultural Society:**  While officially a multiracial society,  Chinese, Malay, Indian, and Eurasian communities coexist, creating a rich tapestry of traditions, languages, and religions. This is reflected in its food, festivals, and architecture.\\n\\n* **Modern Infrastructure:** Singapore is renowned for its cleanliness, efficiency, and state-of-the-art infrastructure.  Public transportation is excellent, and the city is meticulously planned and maintained.  High-rise buildings are commonplace, showcasing stunning modern architecture.\\n\\n* **Food Paradise:** Singapore's culinary scene is a major draw.  Hawker centers offer incredibly diverse and affordable options, ranging from Michelin-starred hawker food to international cuisines.  This vibrant street food culture is a significant part of Singaporean life.\\n\\n* **Nature and Parks:** Despite its urban landscape, Singapore has dedicated significant effort to preserving its natural environment.  Gardens by the Bay, a futuristic horticultural marvel, is a prime example, along with numerous parks, nature reserves, and islands offering lush greenery and wildlife.\\n\\n* **Strict Laws and Regulations:** Singapore is known for its strict laws and regulations, particularly regarding social conduct and public order.  These contribute to its low crime rate and clean environment, but also mean visitors should be aware of local customs and laws.\\n\\n* **Tourism:** Singapore is a popular tourist destination, offering a blend of cultural experiences, historical sites, shopping malls, theme parks, and natural attractions.\\n\\n**Things to See and Do:**\\n\\n* **Gardens by the Bay:** Stunning futuristic gardens with Supertrees, Cloud Forest, and Flower Dome.\\n* **Marina Bay Sands:** Iconic hotel with a rooftop infinity pool and observation deck.\\n* **Sentosa Island:** Island resort with beaches, theme parks, and attractions.\\n* **Orchard Road:** Famous shopping street with high-end boutiques and department stores.\\n* **Hawker Centers:** Experience the diverse and delicious street food.\\n* **Little India, Chinatown, Kampong Glam:** Explore the vibrant ethnic enclaves.\\n* **National Museum of Singapore:** Learn about Singapore's history and culture.\\n\\n\\nIn short, Singapore is a fascinating blend of old and new, East and West, tradition and modernity.  It's a small country with a big personality, offering a unique and unforgettable experience for visitors.\" additional_kwargs={} response_metadata={'prompt_feedback': {'block_reason': 0, 'safety_ratings': []}, 'finish_reason': 'STOP', 'model_name': 'gemini-1.5-flash', 'safety_ratings': []} id='run--98a9b3b2-5f78-431b-b90f-f2675ec55485-0' usage_metadata={'input_tokens': 4, 'output_tokens': 587, 'total_tokens': 591, 'input_token_details': {'cache_read': 0}}\n",
      "\n",
      "\n",
      "here is output from LLM_Token_Counter\n",
      "_______\n",
      "total token number in the generated answer is 412\n",
      "\n",
      "\n"
     ]
    }
   ],
   "source": [
    "\n",
    "for output in app2.stream(\"Tell me about Singapore\" ):\n",
    "    for key,value in output.items():\n",
    "        print(f\"here is output from {key}\")\n",
    "        print(\"_______\")\n",
    "        print(value)\n",
    "        print(\"\\n\")"
   ]
  }
 ],
 "metadata": {
  "kernelspec": {
   "display_name": "agenticenv",
   "language": "python",
   "name": "python3"
  },
  "language_info": {
   "codemirror_mode": {
    "name": "ipython",
    "version": 3
   },
   "file_extension": ".py",
   "mimetype": "text/x-python",
   "name": "python",
   "nbconvert_exporter": "python",
   "pygments_lexer": "ipython3",
   "version": "3.11.9"
  }
 },
 "nbformat": 4,
 "nbformat_minor": 5
}
