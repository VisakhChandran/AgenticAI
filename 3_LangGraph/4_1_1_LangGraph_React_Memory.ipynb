{
 "cells": [
  {
   "cell_type": "markdown",
   "id": "7885fc01",
   "metadata": {},
   "source": [
    "# Building a REACT Tool Using LangGraph with memory"
   ]
  },
  {
   "cell_type": "code",
   "execution_count": 25,
   "id": "3fddb964",
   "metadata": {},
   "outputs": [
    {
     "name": "stdout",
     "output_type": "stream",
     "text": [
      "================================\u001b[1m Human Message \u001b[0m=================================\n",
      "\n",
      "Where is kerala ?\n",
      "==================================\u001b[1m Ai Message \u001b[0m==================================\n",
      "Tool Calls:\n",
      "  search (tvb9mc9kw)\n",
      " Call ID: tvb9mc9kw\n",
      "  Args:\n",
      "    query: Where is Kerala\n",
      "=================================\u001b[1m Tool Message \u001b[0m=================================\n",
      "Name: search\n",
      "\n",
      "Temperature is 25 Degree and Sunny\n",
      "==================================\u001b[1m Ai Message \u001b[0m==================================\n",
      "\n",
      "Kerala is a state in southern India, located on the southwestern coast along the Arabian Sea. It is known for its beautiful beaches, backwaters, tea plantations, and vibrant culture. The capital of Kerala is Thiruvananthapuram. The current weather in Kerala is 25 degrees Celsius with sunny conditions.\n"
     ]
    }
   ],
   "source": [
    "#Importing required library \n",
    "from langchain_core.tools import tool\n",
    "from langchain_core.messages import HumanMessage, AIMessage\n",
    "from langgraph.graph import StateGraph, MessagesState, START, END\n",
    "from langgraph.prebuilt import ToolNode\n",
    "\n",
    "\n",
    "#Loading the API Key and building base model \n",
    "from dotenv import load_dotenv\n",
    "load_dotenv(override=True)\n",
    "import os \n",
    "os.environ[\"GROQ_API_KEY\"] = os.getenv(\"GROQ_API_KEY\")\n",
    "##Selecting the model \n",
    "model = \"deepseek-r1-distill-llama-70b\"\n",
    "## Building the base model using Gorq\n",
    "from langchain_groq import ChatGroq\n",
    "llm=ChatGroq(model_name=model)\n",
    "\n",
    "\n",
    "#Defining the tool to \"Search\" weather information \n",
    "##Name of the tool is \"search\" with docstring explaining the functionality \n",
    "@tool \n",
    "def search(query: str): \n",
    "    \"\"\" This is a custom tool to search weather information\"\"\"\n",
    "    \n",
    "    if \"delhi\" in query.lower():\n",
    "        return \"Temperature is 45 Degree and Sunny\"\n",
    "    \n",
    "    return \"Temperature is 25 Degree and Sunny\"\n",
    "\n",
    "## Storing the tool name into a tool variable\n",
    "tools = [search]\n",
    "\n",
    "##Converting the tool onto ToolNode \n",
    "tool_node = ToolNode(tools)\n",
    "\n",
    "#Converting the base model into LLM with Tool Calling ability => Tool Binding\n",
    "## Binding LLM with tools \n",
    "llm_with_tools = llm.bind_tools(tools)\n",
    "\n",
    "##Building the base LLM Call function (also act as a Supervisor node for Reasoning)\n",
    "def call_model(state: MessagesState):\n",
    "    question = state[\"messages\"] #Collecting user input \n",
    "    response = llm_with_tools.invoke(question)\n",
    "    return {\"messages\": [response]}\n",
    "\n",
    "#Define Router Function : It will determine what route the control from call_model to next steps \n",
    "\n",
    "def router_function(state: MessagesState):\n",
    "    message = state[\"messages\"]\n",
    "    last_message = message[-1] #Taking last message \n",
    "    if last_message.tool_calls:\n",
    "        return \"tools\"\n",
    "    return END\n",
    "\n",
    "#Building a React Workflow \n",
    "workflow3 = StateGraph(MessagesState)\n",
    "##Adding nodes \n",
    "workflow3.add_node(\"llmwithtools\", call_model)\n",
    "workflow3.add_node(\"mytools\", tool_node) #Node that contain the tools \n",
    "##Add Edges \n",
    "workflow3.add_edge(START, \"llmwithtools\")\n",
    "workflow3.add_conditional_edges(\n",
    "    \"llmwithtools\",\n",
    "    router_function, \n",
    "    {\n",
    "        \"tools\" : \"mytools\",\n",
    "        END : END \n",
    "    }\n",
    ")\n",
    "##Feedback loop \n",
    "workflow3.add_edge(\"mytools\", \"llmwithtools\")\n",
    "\n",
    "#Compiling the workflow by adding memory  \n",
    "## Creating object of Memory Saver \n",
    "from langgraph.checkpoint.memory import MemorySaver\n",
    "memory = MemorySaver() \n",
    "#Creating app \n",
    "app4 = workflow3.compile(checkpointer=memory)\n",
    "\n",
    "#Configuring memory thread by providing Thread ID to be 1 \n",
    "config = { \"configurable\" : {\"thread_id\" : \"1\"}}\n",
    "\n",
    "#Invoking the workflow / app by passing the configuration \n",
    "events = app4.stream(\n",
    "    {\"messages\" : [\"Where is kerala ?\"]}, \n",
    "    config=config, \n",
    "    stream_mode=\"values\"\n",
    ")\n",
    "\n",
    "#Display the output \n",
    "for event in events: \n",
    "    event[\"messages\"][-1].pretty_print()"
   ]
  },
  {
   "cell_type": "code",
   "execution_count": 26,
   "id": "bcb509c3",
   "metadata": {},
   "outputs": [
    {
     "data": {
      "text/plain": [
       "{'v': 2,\n",
       " 'ts': '2025-07-23T02:15:20.646407+00:00',\n",
       " 'id': '1f0676ae-2208-6e4e-8003-4d6e1d5f78ac',\n",
       " 'channel_versions': {'__start__': '00000000000000000000000000000002.0.19881466531781533',\n",
       "  'messages': '00000000000000000000000000000005.0.8765032533939111',\n",
       "  'start:llmwithtools': '00000000000000000000000000000003.0.5830181775984273',\n",
       "  'llmwithtools': '00000000000000000000000000000005.0.86078852429216',\n",
       "  'branch:llmwithtools:router_function:mytools': '00000000000000000000000000000004.0.6308822732257794',\n",
       "  'mytools': '00000000000000000000000000000005.0.19094456776445212'},\n",
       " 'versions_seen': {'__input__': {},\n",
       "  '__start__': {'__start__': '00000000000000000000000000000001.0.7532866299053583'},\n",
       "  'llmwithtools': {'start:llmwithtools': '00000000000000000000000000000002.0.5576256808979654',\n",
       "   'mytools': '00000000000000000000000000000004.0.6956240810761871'},\n",
       "  'mytools': {'branch:llmwithtools:router_function:mytools': '00000000000000000000000000000003.0.1882994866013783'}},\n",
       " 'pending_sends': [],\n",
       " 'channel_values': {'messages': [HumanMessage(content='Where is kerala ?', additional_kwargs={}, response_metadata={}, id='25d27e55-9724-4a9d-81f2-59c3bec48b3d'),\n",
       "   AIMessage(content='', additional_kwargs={'reasoning_content': 'Okay, the user is asking, \"Where is Kerala?\" I need to figure out the best way to answer this. First, I should recognize that Kerala is a place, likely a state in India. Since I have access to a search tool, I can use it to provide accurate information.\\n\\nI\\'ll call the search function with the query \"Where is Kerala\" to get the necessary details. This should give me the location, maybe some key points about it, which I can then present clearly to the user.\\n', 'tool_calls': [{'id': 'tvb9mc9kw', 'function': {'arguments': '{\"query\":\"Where is Kerala\"}', 'name': 'search'}, 'type': 'function'}]}, response_metadata={'token_usage': {'completion_tokens': 128, 'prompt_tokens': 130, 'total_tokens': 258, 'completion_time': 0.660323668, 'prompt_time': 0.008704827, 'queue_time': 0.053267423, 'total_time': 0.669028495}, 'model_name': 'deepseek-r1-distill-llama-70b', 'system_fingerprint': 'fp_76307ac09b', 'finish_reason': 'tool_calls', 'logprobs': None}, id='run--d8862b3d-6fae-4a09-89c8-6d7566f8007b-0', tool_calls=[{'name': 'search', 'args': {'query': 'Where is Kerala'}, 'id': 'tvb9mc9kw', 'type': 'tool_call'}], usage_metadata={'input_tokens': 130, 'output_tokens': 128, 'total_tokens': 258}),\n",
       "   ToolMessage(content='Temperature is 25 Degree and Sunny', name='search', id='df6af774-c403-45b2-87d9-34357847e9a2', tool_call_id='tvb9mc9kw'),\n",
       "   AIMessage(content='Kerala is a state in southern India, located on the southwestern coast along the Arabian Sea. It is known for its beautiful beaches, backwaters, tea plantations, and vibrant culture. The capital of Kerala is Thiruvananthapuram. The current weather in Kerala is 25 degrees Celsius with sunny conditions.', additional_kwargs={'reasoning_content': 'Alright, the user just asked, \"Where is Kerala?\" I remember that Kerala is a state in India, specifically in the southern part. I should probably mention that it\\'s on the southwestern coast along the Arabian Sea. It\\'s known for its beautiful beaches, backwaters, and tea plantations. Maybe I should also highlight its capital, which is Thiruvananthapuram, and some popular attractions like Kochi and Alleppey. Additionally, since I have the weather information from the tool call, I can include the current temperature and conditions to make the response more helpful. I need to keep the explanation clear and concise, making sure to cover the location, key features, and the weather in a friendly manner.\\n'}, response_metadata={'token_usage': {'completion_tokens': 216, 'prompt_tokens': 187, 'total_tokens': 403, 'completion_time': 1.267780791, 'prompt_time': 0.012699433, 'queue_time': 0.05369159100000001, 'total_time': 1.280480224}, 'model_name': 'deepseek-r1-distill-llama-70b', 'system_fingerprint': 'fp_76307ac09b', 'finish_reason': 'stop', 'logprobs': None}, id='run--7fd3b630-1739-4514-9c54-4faff6532c1a-0', usage_metadata={'input_tokens': 187, 'output_tokens': 216, 'total_tokens': 403})],\n",
       "  'llmwithtools': 'llmwithtools'}}"
      ]
     },
     "execution_count": 26,
     "metadata": {},
     "output_type": "execute_result"
    }
   ],
   "source": [
    "memory.get(config)\n"
   ]
  },
  {
   "cell_type": "code",
   "execution_count": 15,
   "id": "e9d7e99c",
   "metadata": {},
   "outputs": [
    {
     "data": {
      "image/png": "[encoded data removed]",
      "text/plain": [
       "<IPython.core.display.Image object>"
      ]
     },
     "metadata": {},
     "output_type": "display_data"
    }
   ],
   "source": [
    "from IPython.display import Image, display\n",
    "display(Image(app4.get_graph().draw_mermaid_png())) \n"
   ]
  },
  {
   "cell_type": "code",
   "execution_count": null,
   "id": "b0688004",
   "metadata": {},
   "outputs": [],
   "source": []
  }
 ],
 "metadata": {
  "kernelspec": {
   "display_name": "agenticenv",
   "language": "python",
   "name": "python3"
  },
  "language_info": {
   "codemirror_mode": {
    "name": "ipython",
    "version": 3
   },
   "file_extension": ".py",
   "mimetype": "text/x-python",
   "name": "python",
   "nbconvert_exporter": "python",
   "pygments_lexer": "ipython3",
   "version": "3.11.9"
  }
 },
 "nbformat": 4,
 "nbformat_minor": 5
}
